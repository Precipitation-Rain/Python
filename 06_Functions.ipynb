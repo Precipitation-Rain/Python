{
  "nbformat": 4,
  "nbformat_minor": 0,
  "metadata": {
    "colab": {
      "provenance": [],
      "collapsed_sections": [
        "jh9-gP_mZHbX",
        "r30z4tL5brOw",
        "WmYV3m1HdkNl",
        "LvGFRLf1hKCt",
        "BZgJpX_xhoHC",
        "xBb-_g1yp7WO",
        "xSC7cT-0-3j1",
        "3t1PDPhoAuQ-",
        "lFucwY_UBrxP",
        "gQVJZMY5Gp6N",
        "09KzBaGGNBTj",
        "M_clsUM5V39f",
        "W5O5QNQxY2eo"
      ],
      "authorship_tag": "ABX9TyOQm+13ntLRKLTBLb7HxD/O",
      "include_colab_link": true
    },
    "kernelspec": {
      "name": "python3",
      "display_name": "Python 3"
    },
    "language_info": {
      "name": "python"
    }
  },
  "cells": [
    {
      "cell_type": "markdown",
      "metadata": {
        "id": "view-in-github",
        "colab_type": "text"
      },
      "source": [
        "<a href=\"https://colab.research.google.com/github/Precipitation-Rain/Python/blob/main/06_Functions.ipynb\" target=\"_parent\"><img src=\"https://colab.research.google.com/assets/colab-badge.svg\" alt=\"Open In Colab\"/></a>"
      ]
    },
    {
      "cell_type": "markdown",
      "source": [
        "#Function:\n",
        "#User defined function"
      ],
      "metadata": {
        "id": "jh9-gP_mZHbX"
      }
    },
    {
      "cell_type": "code",
      "execution_count": null,
      "metadata": {
        "id": "kisyEtG-TVfi"
      },
      "outputs": [],
      "source": [
        "#it is piece of code,jisko hum kuch input dete hain aur vo hame palat ke kuch output deta hain.\n",
        "#it is used to increase code reusability.\n",
        "#two core philosophies : 1]abstraction = Hota hain par dikhta nahi, ex] print function -> hota hain but hame uska code nahi dikhta. 2] decomposition = bahot sare functions ko milakar hi bada app/website banta hain.\n",
        "#function components:\n",
        "# 1] def -> keyword used to define function.\n",
        "# 2] function_name -> try to give meaningful name.\n",
        "# 3] (i) -> input to function\n",
        "# 4] doc string(comment) ->added to explain functionality of code.documentation of string\n",
        "# 5] function ka logic.\n",
        "# 6] return statement/any other statement\n",
        "# 7] function_name(input) -> used to call function\n",
        "#"
      ]
    },
    {
      "cell_type": "code",
      "source": [
        "#how to access documentation of any function:\n",
        "print(print.__doc__)"
      ],
      "metadata": {
        "colab": {
          "base_uri": "https://localhost:8080/"
        },
        "id": "0jW0x3JeQE5c",
        "outputId": "44020f5d-933a-4974-e778-b9581918a772"
      },
      "execution_count": null,
      "outputs": [
        {
          "output_type": "stream",
          "name": "stdout",
          "text": [
            "Prints the values to a stream, or to sys.stdout by default.\n",
            "\n",
            "  sep\n",
            "    string inserted between values, default a space.\n",
            "  end\n",
            "    string appended after the last value, default a newline.\n",
            "  file\n",
            "    a file-like object (stream); defaults to the current sys.stdout.\n",
            "  flush\n",
            "    whether to forcibly flush the stream.\n"
          ]
        }
      ]
    },
    {
      "cell_type": "markdown",
      "source": [
        "## Our first function:"
      ],
      "metadata": {
        "id": "r30z4tL5brOw"
      }
    },
    {
      "cell_type": "code",
      "source": [
        "#fuction ko banane ka code = function decleration\n",
        "def is_even(num):\n",
        "  \"\"\"\n",
        "  function kya karta hain vo batana hain.\n",
        "  This function tell the given number is even or odd.\n",
        "  input - ant valid integer.\n",
        "  output - even or odd.\n",
        "  created on - 13-09-2025.\n",
        "\n",
        "  \"\"\"\n",
        "  if(num % 2 == 0):\n",
        "    return \"even\"\n",
        "  else:\n",
        "    return 'odd'"
      ],
      "metadata": {
        "id": "38ulQ2NgaSHU"
      },
      "execution_count": null,
      "outputs": []
    },
    {
      "cell_type": "code",
      "source": [
        "#function ko use karne ka code = function call\n",
        "for i in range(1,11):\n",
        "  x=is_even(i)\n",
        "  print(x)"
      ],
      "metadata": {
        "colab": {
          "base_uri": "https://localhost:8080/"
        },
        "id": "iDFahGQhcOTI",
        "outputId": "ee629dac-9659-4e4d-f241-92045a8f14c3"
      },
      "execution_count": null,
      "outputs": [
        {
          "output_type": "stream",
          "name": "stdout",
          "text": [
            "odd\n",
            "even\n",
            "odd\n",
            "even\n",
            "odd\n",
            "even\n",
            "odd\n",
            "even\n",
            "odd\n",
            "even\n"
          ]
        }
      ]
    },
    {
      "cell_type": "markdown",
      "source": [
        "## Two point of views:"
      ],
      "metadata": {
        "id": "WmYV3m1HdkNl"
      }
    },
    {
      "cell_type": "code",
      "source": [
        "#code banane wala(mostly senior developer) = agar code me kuch bhi error aaya to aapki galti hain bhaijaan! so try to write such code which will execute in any condition.\n",
        "#code use karne wala(mostly junior developer) = tum kuchh bhi karo bhugtana to likhne wale ko hi hain."
      ],
      "metadata": {
        "id": "TZC8yjpqcme9"
      },
      "execution_count": null,
      "outputs": []
    },
    {
      "cell_type": "code",
      "source": [
        "#ex}\n",
        "#fuction ko banane ka code = function decleration\n",
        "def is_even1(num):\n",
        "  \"\"\"\n",
        "  function kya karta hain vo batana hain.\n",
        "  This function tell the given number is even or odd.\n",
        "  input - ant valid integer.\n",
        "  output - even or odd.\n",
        "  created on - 13-09-2025.\n",
        "\n",
        "  \"\"\"\n",
        "  if(type(num) == int):\n",
        "    if(num % 2 == 0):\n",
        "      return \"even\"\n",
        "    else:\n",
        "      return 'odd'\n",
        "  else:\n",
        "    print(\"Pagal hain kya  !  Sahi input enter kar na\")"
      ],
      "metadata": {
        "id": "46GHWLWLeC4p"
      },
      "execution_count": null,
      "outputs": []
    },
    {
      "cell_type": "code",
      "source": [
        "is_even1('Hello') # this is command from code use karne wala\n",
        "#niche jo error aaya  ye banane wal ki galti hain use karne wale ki nahi.//tume kuch bhi lage banane wale ki hi galti hain.\n",
        "#below command is output after modifying code."
      ],
      "metadata": {
        "colab": {
          "base_uri": "https://localhost:8080/",
          "height": 263
        },
        "id": "Uf2YSf22eH6v",
        "outputId": "e03eeb53-8f06-40f8-87fd-afc49da3b051"
      },
      "execution_count": null,
      "outputs": [
        {
          "output_type": "error",
          "ename": "TypeError",
          "evalue": "not all arguments converted during string formatting",
          "traceback": [
            "\u001b[0;31m---------------------------------------------------------------------------\u001b[0m",
            "\u001b[0;31mTypeError\u001b[0m                                 Traceback (most recent call last)",
            "\u001b[0;32m/tmp/ipython-input-3041690854.py\u001b[0m in \u001b[0;36m<cell line: 0>\u001b[0;34m()\u001b[0m\n\u001b[0;32m----> 1\u001b[0;31m \u001b[0mis_even1\u001b[0m\u001b[0;34m(\u001b[0m\u001b[0;34m'Hello'\u001b[0m\u001b[0;34m)\u001b[0m \u001b[0;31m# this is command from code use karne wala\u001b[0m\u001b[0;34m\u001b[0m\u001b[0;34m\u001b[0m\u001b[0m\n\u001b[0m",
            "\u001b[0;32m/tmp/ipython-input-1575349412.py\u001b[0m in \u001b[0;36mis_even1\u001b[0;34m(num)\u001b[0m\n\u001b[1;32m     10\u001b[0m \u001b[0;34m\u001b[0m\u001b[0m\n\u001b[1;32m     11\u001b[0m   \"\"\"\n\u001b[0;32m---> 12\u001b[0;31m   \u001b[0;32mif\u001b[0m\u001b[0;34m(\u001b[0m\u001b[0mnum\u001b[0m \u001b[0;34m%\u001b[0m \u001b[0;36m2\u001b[0m \u001b[0;34m==\u001b[0m \u001b[0;36m0\u001b[0m\u001b[0;34m)\u001b[0m\u001b[0;34m:\u001b[0m\u001b[0;34m\u001b[0m\u001b[0;34m\u001b[0m\u001b[0m\n\u001b[0m\u001b[1;32m     13\u001b[0m     \u001b[0;32mreturn\u001b[0m \u001b[0;34m\"even\"\u001b[0m\u001b[0;34m\u001b[0m\u001b[0;34m\u001b[0m\u001b[0m\n\u001b[1;32m     14\u001b[0m   \u001b[0;32melse\u001b[0m\u001b[0;34m:\u001b[0m\u001b[0;34m\u001b[0m\u001b[0;34m\u001b[0m\u001b[0m\n",
            "\u001b[0;31mTypeError\u001b[0m: not all arguments converted during string formatting"
          ]
        }
      ]
    },
    {
      "cell_type": "code",
      "source": [
        "is_even1('Hello')"
      ],
      "metadata": {
        "colab": {
          "base_uri": "https://localhost:8080/"
        },
        "id": "pwjdR3vieQIy",
        "outputId": "86e21097-6033-414d-c032-beaa46fceaae"
      },
      "execution_count": null,
      "outputs": [
        {
          "output_type": "stream",
          "name": "stdout",
          "text": [
            "Pagal hain kya  !  Sahi input enter kar na\n"
          ]
        }
      ]
    },
    {
      "cell_type": "markdown",
      "source": [
        "## Argument vs Parameter:"
      ],
      "metadata": {
        "id": "LvGFRLf1hKCt"
      }
    },
    {
      "cell_type": "code",
      "source": [
        "# argument = function use karte time(function call) enter ki gayi value/any other thing\n",
        "# parameter = function bante karte time(function decleration) enter ki gayi value/any other thing\n",
        "\n",
        "#parameter = entity\n",
        "#argument = entity ki value"
      ],
      "metadata": {
        "id": "2q4qLVemerkX"
      },
      "execution_count": null,
      "outputs": []
    },
    {
      "cell_type": "markdown",
      "source": [
        "## Types of argument:"
      ],
      "metadata": {
        "id": "BZgJpX_xhoHC"
      }
    },
    {
      "cell_type": "code",
      "source": [
        "#defalut argument :\n",
        "#jaan bachane wala argument.\n",
        "#agar user ne syantax chhod ke kuch bhi bheja to by default parameter ki value enter ho jayegi."
      ],
      "metadata": {
        "id": "VL-3pB30hmuR"
      },
      "execution_count": null,
      "outputs": []
    },
    {
      "cell_type": "code",
      "source": [
        "def power(a,b): # without default argument.\n",
        "  return a**b"
      ],
      "metadata": {
        "id": "hF6SjezuhmRK"
      },
      "execution_count": null,
      "outputs": []
    },
    {
      "cell_type": "code",
      "source": [
        "power(2,3)"
      ],
      "metadata": {
        "colab": {
          "base_uri": "https://localhost:8080/"
        },
        "id": "y89Mm7TTiCKK",
        "outputId": "a4b75b6b-1397-4d9d-fa21-da7f2a808610"
      },
      "execution_count": null,
      "outputs": [
        {
          "output_type": "execute_result",
          "data": {
            "text/plain": [
              "8"
            ]
          },
          "metadata": {},
          "execution_count": 16
        }
      ]
    },
    {
      "cell_type": "code",
      "source": [
        "power(2)"
      ],
      "metadata": {
        "colab": {
          "base_uri": "https://localhost:8080/",
          "height": 141
        },
        "id": "GoAr9IVXiEYJ",
        "outputId": "56b4a53e-3f1f-41b5-bc99-5d55cbdced76"
      },
      "execution_count": null,
      "outputs": [
        {
          "output_type": "error",
          "ename": "TypeError",
          "evalue": "power() missing 1 required positional argument: 'b'",
          "traceback": [
            "\u001b[0;31m---------------------------------------------------------------------------\u001b[0m",
            "\u001b[0;31mTypeError\u001b[0m                                 Traceback (most recent call last)",
            "\u001b[0;32m/tmp/ipython-input-2828352081.py\u001b[0m in \u001b[0;36m<cell line: 0>\u001b[0;34m()\u001b[0m\n\u001b[0;32m----> 1\u001b[0;31m \u001b[0mpower\u001b[0m\u001b[0;34m(\u001b[0m\u001b[0;36m2\u001b[0m\u001b[0;34m)\u001b[0m\u001b[0;34m\u001b[0m\u001b[0;34m\u001b[0m\u001b[0m\n\u001b[0m",
            "\u001b[0;31mTypeError\u001b[0m: power() missing 1 required positional argument: 'b'"
          ]
        }
      ]
    },
    {
      "cell_type": "code",
      "source": [
        "def power(a=1,b=1): # with default argument.\n",
        "  return a**b"
      ],
      "metadata": {
        "id": "HcXmoOz2iGlo"
      },
      "execution_count": null,
      "outputs": []
    },
    {
      "cell_type": "code",
      "source": [
        "power(1)"
      ],
      "metadata": {
        "colab": {
          "base_uri": "https://localhost:8080/"
        },
        "id": "4eVnT1d3iOdw",
        "outputId": "8d13486c-2b46-4d09-8a8c-c7542ce45c6f"
      },
      "execution_count": null,
      "outputs": [
        {
          "output_type": "execute_result",
          "data": {
            "text/plain": [
              "1"
            ]
          },
          "metadata": {},
          "execution_count": 19
        }
      ]
    },
    {
      "cell_type": "code",
      "source": [
        "power()"
      ],
      "metadata": {
        "colab": {
          "base_uri": "https://localhost:8080/"
        },
        "id": "haVUOoNtiQD6",
        "outputId": "f7c74355-48ef-49a6-ce37-cb7baacd881a"
      },
      "execution_count": null,
      "outputs": [
        {
          "output_type": "execute_result",
          "data": {
            "text/plain": [
              "1"
            ]
          },
          "metadata": {},
          "execution_count": 20
        }
      ]
    },
    {
      "cell_type": "code",
      "source": [
        "power(2,3)"
      ],
      "metadata": {
        "colab": {
          "base_uri": "https://localhost:8080/"
        },
        "id": "uxS1X_V3iRSn",
        "outputId": "4904dd74-a19f-4256-ec06-b1733a80325b"
      },
      "execution_count": null,
      "outputs": [
        {
          "output_type": "execute_result",
          "data": {
            "text/plain": [
              "8"
            ]
          },
          "metadata": {},
          "execution_count": 21
        }
      ]
    },
    {
      "cell_type": "code",
      "source": [],
      "metadata": {
        "id": "0E1duKdpiTAn"
      },
      "execution_count": null,
      "outputs": []
    },
    {
      "cell_type": "code",
      "source": [
        "#positional aegument:\n",
        "#jis order me arguments bheje hain usi order me parameters ko receive honge.\n",
        "#ex] 1 st wala argument jaygea 1 st wale parameter me.\n",
        "#ex] 2 nd wala argument jaygea 2 nd wale parameter me."
      ],
      "metadata": {
        "id": "dv_sBBW1iU3W"
      },
      "execution_count": null,
      "outputs": []
    },
    {
      "cell_type": "code",
      "source": [
        "power(2,3) # 2 jayega a me and 3 jayega b me."
      ],
      "metadata": {
        "colab": {
          "base_uri": "https://localhost:8080/"
        },
        "id": "0V1ieKQuinyZ",
        "outputId": "df21bd84-4c91-4601-93d7-464461139b62"
      },
      "execution_count": null,
      "outputs": [
        {
          "output_type": "execute_result",
          "data": {
            "text/plain": [
              "8"
            ]
          },
          "metadata": {},
          "execution_count": 24
        }
      ]
    },
    {
      "cell_type": "code",
      "source": [],
      "metadata": {
        "id": "3ls98fNWipj7"
      },
      "execution_count": null,
      "outputs": []
    },
    {
      "cell_type": "code",
      "source": [
        "#Keyword argument:"
      ],
      "metadata": {
        "id": "fZkBymsbivGA"
      },
      "execution_count": null,
      "outputs": []
    },
    {
      "cell_type": "code",
      "source": [
        "power(2,3)"
      ],
      "metadata": {
        "colab": {
          "base_uri": "https://localhost:8080/"
        },
        "id": "VAZbOsmXiyI4",
        "outputId": "34765fb5-7bc5-4bfe-fe68-3f007538097c"
      },
      "execution_count": null,
      "outputs": [
        {
          "output_type": "execute_result",
          "data": {
            "text/plain": [
              "8"
            ]
          },
          "metadata": {},
          "execution_count": 26
        }
      ]
    },
    {
      "cell_type": "code",
      "source": [
        "power(3,2)"
      ],
      "metadata": {
        "colab": {
          "base_uri": "https://localhost:8080/"
        },
        "id": "kHUN0rLClKG3",
        "outputId": "bfdec1b3-348b-4c29-aa83-65a1c9a52039"
      },
      "execution_count": null,
      "outputs": [
        {
          "output_type": "execute_result",
          "data": {
            "text/plain": [
              "9"
            ]
          },
          "metadata": {},
          "execution_count": 27
        }
      ]
    },
    {
      "cell_type": "code",
      "source": [
        "power(a=2,b=3)#it has more prcedence than positional argument.\n",
        "#paramter ka naam ek keyword hain!"
      ],
      "metadata": {
        "colab": {
          "base_uri": "https://localhost:8080/"
        },
        "id": "0m2NOMFSlMGD",
        "outputId": "e86577d3-32d9-4e23-c0d9-3470f953fc87"
      },
      "execution_count": null,
      "outputs": [
        {
          "output_type": "execute_result",
          "data": {
            "text/plain": [
              "8"
            ]
          },
          "metadata": {},
          "execution_count": 31
        }
      ]
    },
    {
      "cell_type": "code",
      "source": [
        "power(b=3,a=2)#more useful when your function which has too may parameter like ML ALGOs ex}DecisionTreeClassifier()"
      ],
      "metadata": {
        "colab": {
          "base_uri": "https://localhost:8080/"
        },
        "id": "q3g-ImI7lOxW",
        "outputId": "5fe7dd9e-daba-463f-b2f1-8e0087fcd6b1"
      },
      "execution_count": null,
      "outputs": [
        {
          "output_type": "execute_result",
          "data": {
            "text/plain": [
              "8"
            ]
          },
          "metadata": {},
          "execution_count": 30
        }
      ]
    },
    {
      "cell_type": "code",
      "source": [],
      "metadata": {
        "id": "VOiR1tpSlR3E"
      },
      "execution_count": null,
      "outputs": []
    },
    {
      "cell_type": "markdown",
      "source": [
        "## *args and **kwargs:"
      ],
      "metadata": {
        "id": "xBb-_g1yp7WO"
      }
    },
    {
      "cell_type": "code",
      "source": [
        "# *args and **kwargs are special Python keywords that are used to pass the variable length of arguments to a function"
      ],
      "metadata": {
        "id": "ZGVZoymkA_Tu"
      },
      "execution_count": null,
      "outputs": []
    },
    {
      "cell_type": "code",
      "source": [
        "# *args\n",
        "# allows us to pass a variable number of non-keyword arguments to a function.\n",
        "\n",
        "def multiply(*args):\n",
        "  product = 1\n",
        "\n",
        "  for i in args:\n",
        "    product = product * i\n",
        "\n",
        "  print(args)\n",
        "  return product"
      ],
      "metadata": {
        "id": "CCJtl5G4p8Cr"
      },
      "execution_count": null,
      "outputs": []
    },
    {
      "cell_type": "code",
      "source": [
        "multiply(1,2,3)"
      ],
      "metadata": {
        "colab": {
          "base_uri": "https://localhost:8080/"
        },
        "id": "RgSWo5vvqAWd",
        "outputId": "f3e6cb4a-3230-449b-eaf6-72b1a587cb8f"
      },
      "execution_count": null,
      "outputs": [
        {
          "output_type": "stream",
          "name": "stdout",
          "text": [
            "(1, 2, 3)\n"
          ]
        },
        {
          "output_type": "execute_result",
          "data": {
            "text/plain": [
              "6"
            ]
          },
          "metadata": {},
          "execution_count": 3
        }
      ]
    },
    {
      "cell_type": "code",
      "source": [
        "# **kwargs\n",
        "# **kwargs allows us to pass any number of keyword arguments.\n",
        "# Keyword arguments mean that they contain a key-value pair, like a Python dictionary.\n",
        "\n",
        "def display(**kwargs):\n",
        "\n",
        "  for (key,value) in kwargs.items():\n",
        "    print(key,'->',value)\n"
      ],
      "metadata": {
        "id": "7_ntv3jxqDNG"
      },
      "execution_count": null,
      "outputs": []
    },
    {
      "cell_type": "code",
      "source": [
        "display(india='delhi',srilanka='colombo',nepal='kathmandu',pakistan='islamabad')"
      ],
      "metadata": {
        "colab": {
          "base_uri": "https://localhost:8080/"
        },
        "id": "XNA5S8KPqGuc",
        "outputId": "829a9f84-9bc8-420f-e750-0ad265d0add4"
      },
      "execution_count": null,
      "outputs": [
        {
          "output_type": "stream",
          "name": "stdout",
          "text": [
            "india -> delhi\n",
            "srilanka -> colombo\n",
            "nepal -> kathmandu\n",
            "pakistan -> islamabad\n"
          ]
        }
      ]
    },
    {
      "cell_type": "code",
      "source": [
        "##### Points to remember while using `*args and **kwargs`\n",
        "\n",
        "# - order of the arguments matter(normal -> `*args` -> `**kwargs`)\n",
        "# - The words “args” and “kwargs” are only a convention, you can use any name of your choice"
      ],
      "metadata": {
        "id": "E9meYXb6qJvW"
      },
      "execution_count": null,
      "outputs": []
    },
    {
      "cell_type": "markdown",
      "source": [
        "## How functions executes in memory:"
      ],
      "metadata": {
        "id": "xSC7cT-0-3j1"
      }
    },
    {
      "cell_type": "code",
      "source": [
        "# Lifespan of function(all varaibles in function) is between caling that function and returning the value.\n",
        "#before an after it will not exists in memory."
      ],
      "metadata": {
        "id": "uYGWg-nUqPXI"
      },
      "execution_count": null,
      "outputs": []
    },
    {
      "cell_type": "code",
      "source": [
        "##lifespan of varaible inside function = lifespan of function\n",
        "# function act as independent program inside a program\n",
        "# vo apna alag scope banayega and execute hone ke bad destroy bhi ho jayega."
      ],
      "metadata": {
        "id": "sAt41X1A_LUx"
      },
      "execution_count": null,
      "outputs": []
    },
    {
      "cell_type": "markdown",
      "source": [
        "## Function without return statement:"
      ],
      "metadata": {
        "id": "3t1PDPhoAuQ-"
      }
    },
    {
      "cell_type": "code",
      "source": [
        "def is_even(num):\n",
        "  if(num % 2 == 0):\n",
        "    print(\"Even\")\n",
        "\n",
        "  else:\n",
        "    print(\"odd\")\n",
        "\n",
        "# is_even(7)\n",
        "print(is_even(7))"
      ],
      "metadata": {
        "colab": {
          "base_uri": "https://localhost:8080/"
        },
        "id": "EE1LhmraAtvp",
        "outputId": "402a508e-bf10-435d-ff06-3bab0e365e8b"
      },
      "execution_count": null,
      "outputs": [
        {
          "output_type": "stream",
          "name": "stdout",
          "text": [
            "odd\n",
            "None\n"
          ]
        }
      ]
    },
    {
      "cell_type": "code",
      "source": [
        "# if we dont use return function python by default returns None as return  value.\n",
        "#interviw quetion."
      ],
      "metadata": {
        "id": "t797IYDEBaJi"
      },
      "execution_count": null,
      "outputs": []
    },
    {
      "cell_type": "code",
      "source": [
        "l = [1,2,3,4]\n",
        "print(l.append(5))\n",
        "print(l)"
      ],
      "metadata": {
        "colab": {
          "base_uri": "https://localhost:8080/"
        },
        "id": "JHz5WF4PBlAL",
        "outputId": "55bf15dd-96d8-4129-e82c-8225715c5789"
      },
      "execution_count": null,
      "outputs": [
        {
          "output_type": "stream",
          "name": "stdout",
          "text": [
            "None\n",
            "[1, 2, 3, 4, 5]\n"
          ]
        }
      ]
    },
    {
      "cell_type": "code",
      "source": [],
      "metadata": {
        "id": "WZqQvOrTBqsJ"
      },
      "execution_count": null,
      "outputs": []
    },
    {
      "cell_type": "markdown",
      "source": [
        "## Varible Scoping:"
      ],
      "metadata": {
        "id": "lFucwY_UBrxP"
      }
    },
    {
      "cell_type": "code",
      "source": [
        "#global varible = varaible used or delcread in program.(jo program ke andar hain but kisi function ke andar nahi hain)\n",
        "#local varible = Varible used in function.(jo program ke andar hain and kisi function ke andar hain)\n",
        "\n",
        "# function can use global varaible but main program can't use local varible\n",
        "#you can make varible in both local global with same name.\n",
        "\n",
        "#function can use global varible but can't change it.\n",
        "#agar change karana hain to global varaible_name ye syntax hain but it is bad practice.\n",
        "\n",
        "#interview me puch sakte hain."
      ],
      "metadata": {
        "id": "s3CcxcyWBuDz"
      },
      "execution_count": null,
      "outputs": []
    },
    {
      "cell_type": "code",
      "source": [
        "def g(y):\n",
        "    print(x)\n",
        "    print(x+1)\n",
        "x = 5\n",
        "g(x)\n",
        "print(x)"
      ],
      "metadata": {
        "colab": {
          "base_uri": "https://localhost:8080/"
        },
        "id": "9_PG6-F8GAFX",
        "outputId": "8b9683f3-7992-422c-bb63-595289d70843"
      },
      "execution_count": null,
      "outputs": [
        {
          "output_type": "stream",
          "name": "stdout",
          "text": [
            "5\n",
            "6\n",
            "5\n"
          ]
        }
      ]
    },
    {
      "cell_type": "code",
      "source": [
        "def f(y):\n",
        "    x = 1\n",
        "    x += 1\n",
        "    print(x)\n",
        "x = 5\n",
        "f(x)\n",
        "print(x)"
      ],
      "metadata": {
        "colab": {
          "base_uri": "https://localhost:8080/"
        },
        "id": "8TYHf2pVGHVP",
        "outputId": "17bf3d60-d4a9-4a33-fc8f-0f8eb9eefd6a"
      },
      "execution_count": null,
      "outputs": [
        {
          "output_type": "stream",
          "name": "stdout",
          "text": [
            "2\n",
            "5\n"
          ]
        }
      ]
    },
    {
      "cell_type": "code",
      "source": [
        "def h(y):\n",
        "    x += 1\n",
        "x = 5\n",
        "h(x)\n",
        "print(x)"
      ],
      "metadata": {
        "colab": {
          "base_uri": "https://localhost:8080/",
          "height": 315
        },
        "id": "_J_b4XvNGNNA",
        "outputId": "d49d172e-4f9f-4055-bcc1-72c49f3f5942"
      },
      "execution_count": null,
      "outputs": [
        {
          "output_type": "error",
          "ename": "UnboundLocalError",
          "evalue": "cannot access local variable 'x' where it is not associated with a value",
          "traceback": [
            "\u001b[0;31m---------------------------------------------------------------------------\u001b[0m",
            "\u001b[0;31mUnboundLocalError\u001b[0m                         Traceback (most recent call last)",
            "\u001b[0;32m/tmp/ipython-input-1829714546.py\u001b[0m in \u001b[0;36m<cell line: 0>\u001b[0;34m()\u001b[0m\n\u001b[1;32m      2\u001b[0m     \u001b[0mx\u001b[0m \u001b[0;34m+=\u001b[0m \u001b[0;36m1\u001b[0m\u001b[0;34m\u001b[0m\u001b[0;34m\u001b[0m\u001b[0m\n\u001b[1;32m      3\u001b[0m \u001b[0mx\u001b[0m \u001b[0;34m=\u001b[0m \u001b[0;36m5\u001b[0m\u001b[0;34m\u001b[0m\u001b[0;34m\u001b[0m\u001b[0m\n\u001b[0;32m----> 4\u001b[0;31m \u001b[0mh\u001b[0m\u001b[0;34m(\u001b[0m\u001b[0mx\u001b[0m\u001b[0;34m)\u001b[0m\u001b[0;34m\u001b[0m\u001b[0;34m\u001b[0m\u001b[0m\n\u001b[0m\u001b[1;32m      5\u001b[0m \u001b[0mprint\u001b[0m\u001b[0;34m(\u001b[0m\u001b[0mx\u001b[0m\u001b[0;34m)\u001b[0m\u001b[0;34m\u001b[0m\u001b[0;34m\u001b[0m\u001b[0m\n",
            "\u001b[0;32m/tmp/ipython-input-1829714546.py\u001b[0m in \u001b[0;36mh\u001b[0;34m(y)\u001b[0m\n\u001b[1;32m      1\u001b[0m \u001b[0;32mdef\u001b[0m \u001b[0mh\u001b[0m\u001b[0;34m(\u001b[0m\u001b[0my\u001b[0m\u001b[0;34m)\u001b[0m\u001b[0;34m:\u001b[0m\u001b[0;34m\u001b[0m\u001b[0;34m\u001b[0m\u001b[0m\n\u001b[0;32m----> 2\u001b[0;31m     \u001b[0mx\u001b[0m \u001b[0;34m+=\u001b[0m \u001b[0;36m1\u001b[0m\u001b[0;34m\u001b[0m\u001b[0;34m\u001b[0m\u001b[0m\n\u001b[0m\u001b[1;32m      3\u001b[0m \u001b[0mx\u001b[0m \u001b[0;34m=\u001b[0m \u001b[0;36m5\u001b[0m\u001b[0;34m\u001b[0m\u001b[0;34m\u001b[0m\u001b[0m\n\u001b[1;32m      4\u001b[0m \u001b[0mh\u001b[0m\u001b[0;34m(\u001b[0m\u001b[0mx\u001b[0m\u001b[0;34m)\u001b[0m\u001b[0;34m\u001b[0m\u001b[0;34m\u001b[0m\u001b[0m\n\u001b[1;32m      5\u001b[0m \u001b[0mprint\u001b[0m\u001b[0;34m(\u001b[0m\u001b[0mx\u001b[0m\u001b[0;34m)\u001b[0m\u001b[0;34m\u001b[0m\u001b[0;34m\u001b[0m\u001b[0m\n",
            "\u001b[0;31mUnboundLocalError\u001b[0m: cannot access local variable 'x' where it is not associated with a value"
          ]
        }
      ]
    },
    {
      "cell_type": "code",
      "source": [
        "#to deal with above problem\n",
        "def h(y):\n",
        "  global x\n",
        "  x += 1\n",
        "x = 5\n",
        "h(x)\n",
        "print(x)"
      ],
      "metadata": {
        "colab": {
          "base_uri": "https://localhost:8080/"
        },
        "id": "IkJlXiXOGUTO",
        "outputId": "ba002cbf-76c5-4c8f-aba0-40a5e3926c41"
      },
      "execution_count": null,
      "outputs": [
        {
          "output_type": "stream",
          "name": "stdout",
          "text": [
            "6\n"
          ]
        }
      ]
    },
    {
      "cell_type": "code",
      "source": [
        "def f(x):\n",
        "   x = x + 1\n",
        "   print('in f(x): x =', x)\n",
        "   return x\n",
        "\n",
        "x = 3\n",
        "z = f(x)\n",
        "print('in main program scope: z =', z)\n",
        "print('in main program scope: x =', x)"
      ],
      "metadata": {
        "colab": {
          "base_uri": "https://localhost:8080/"
        },
        "id": "hbVsYKqlGcQM",
        "outputId": "cb9dd28e-8dc3-4d9e-e6d8-c26f98841afd"
      },
      "execution_count": null,
      "outputs": [
        {
          "output_type": "stream",
          "name": "stdout",
          "text": [
            "in f(x): x = 4\n",
            "in main program scope: z = 4\n",
            "in main program scope: x = 3\n"
          ]
        }
      ]
    },
    {
      "cell_type": "code",
      "source": [
        "#infinite loop\n",
        "def f():\n",
        "  def g():\n",
        "    print('inside function g')\n",
        "    f()\n",
        "  g()\n",
        "  print('inside function f')"
      ],
      "metadata": {
        "id": "6oEPZ6FCGhoW"
      },
      "execution_count": null,
      "outputs": []
    },
    {
      "cell_type": "markdown",
      "source": [
        "## Nested functions:"
      ],
      "metadata": {
        "id": "gQVJZMY5Gp6N"
      }
    },
    {
      "cell_type": "code",
      "source": [
        "#you can't acces nested function from main program .\n",
        "#you can use nested function to hide logic(secret code)\n",
        "#use python tutor for visualisation."
      ],
      "metadata": {
        "id": "awZT8ZFTGr9G"
      },
      "execution_count": null,
      "outputs": []
    },
    {
      "cell_type": "code",
      "source": [
        "def g(x):\n",
        "    def h():\n",
        "        x = 'abc'\n",
        "    x = x + 1\n",
        "    print('in g(x): x =', x)\n",
        "    h()\n",
        "    return x\n",
        "\n",
        "x = 3\n",
        "z = g(x)"
      ],
      "metadata": {
        "id": "AH-hf_siGs-w"
      },
      "execution_count": null,
      "outputs": []
    },
    {
      "cell_type": "code",
      "source": [
        "def g(x):\n",
        "    def h():\n",
        "        x = 'abc'\n",
        "    x = x + 1\n",
        "    print('in g(x): x =', x)\n",
        "    h()\n",
        "    return x\n",
        "\n",
        "x = 3\n",
        "z = g(x)"
      ],
      "metadata": {
        "id": "y3atDIRuGs7t",
        "colab": {
          "base_uri": "https://localhost:8080/"
        },
        "outputId": "46c661cd-06cc-4f38-f0db-7527d9e04f08"
      },
      "execution_count": null,
      "outputs": [
        {
          "output_type": "stream",
          "name": "stdout",
          "text": [
            "in g(x): x = 4\n"
          ]
        }
      ]
    },
    {
      "cell_type": "code",
      "source": [
        "def g(x):\n",
        "    def h(x):\n",
        "        x = x+1\n",
        "        print(\"in h(x): x = \", x)\n",
        "    x = x + 1\n",
        "    print('in g(x): x = ', x)\n",
        "    h(x)\n",
        "    return x\n",
        "\n",
        "x = 3\n",
        "z = g(x)\n",
        "print('in main program scope: x = ', x)\n",
        "print('in main program scope: z = ', z)"
      ],
      "metadata": {
        "id": "WUh1wKbZGs5W",
        "colab": {
          "base_uri": "https://localhost:8080/"
        },
        "outputId": "44d967a4-3483-47a3-d613-b8ceed3f4b44"
      },
      "execution_count": null,
      "outputs": [
        {
          "output_type": "stream",
          "name": "stdout",
          "text": [
            "in g(x): x =  4\n",
            "in h(x): x =  5\n",
            "in main program scope: x =  3\n",
            "in main program scope: z =  4\n"
          ]
        }
      ]
    },
    {
      "cell_type": "markdown",
      "source": [
        "## Functions are the first class citizen:"
      ],
      "metadata": {
        "id": "09KzBaGGNBTj"
      }
    },
    {
      "cell_type": "code",
      "source": [
        "# first class citizen = mainly all data types\n",
        "# but in python function is also first class citizen\n",
        "#it can act like data type\n",
        "#agar integer kar sakta hain to function bhi kar sakta hain.\n",
        "# function vo sabkuch kar sakta hain jo ek datatype kar sakta hain.\n",
        "# first class citizen = jispar sare operatons perform ho sakte hain.like delete,add,store."
      ],
      "metadata": {
        "id": "_mw4CkYCNB-d"
      },
      "execution_count": null,
      "outputs": []
    },
    {
      "cell_type": "code",
      "source": [
        "def square(num):\n",
        "  return num**2"
      ],
      "metadata": {
        "id": "HKkK0iW9NCpv"
      },
      "execution_count": null,
      "outputs": []
    },
    {
      "cell_type": "code",
      "source": [
        "# type and id\n",
        "\n",
        "print(type(square))\n",
        "\n",
        "id(square)"
      ],
      "metadata": {
        "colab": {
          "base_uri": "https://localhost:8080/"
        },
        "id": "0HkCbIEKNCmM",
        "outputId": "eb0987b5-f6e8-4f99-e92e-9ef3d0a7d0b8"
      },
      "execution_count": null,
      "outputs": [
        {
          "output_type": "stream",
          "name": "stdout",
          "text": [
            "<class 'function'>\n"
          ]
        },
        {
          "output_type": "execute_result",
          "data": {
            "text/plain": [
              "136034628903424"
            ]
          },
          "metadata": {},
          "execution_count": 14
        }
      ]
    },
    {
      "cell_type": "code",
      "source": [
        "# reassign\n",
        "x = square\n",
        "id(x)\n",
        "x(3)"
      ],
      "metadata": {
        "colab": {
          "base_uri": "https://localhost:8080/"
        },
        "id": "7y-ALwMXNCjn",
        "outputId": "3572b62f-d503-49ef-95e6-6b0ee39d4072"
      },
      "execution_count": null,
      "outputs": [
        {
          "output_type": "execute_result",
          "data": {
            "text/plain": [
              "9"
            ]
          },
          "metadata": {},
          "execution_count": 15
        }
      ]
    },
    {
      "cell_type": "code",
      "source": [
        "a = 2\n",
        "b = a\n",
        "b"
      ],
      "metadata": {
        "colab": {
          "base_uri": "https://localhost:8080/"
        },
        "id": "HiNW3zdsNCg0",
        "outputId": "c914306a-6193-4021-84fa-f87fcc973396"
      },
      "execution_count": null,
      "outputs": [
        {
          "output_type": "execute_result",
          "data": {
            "text/plain": [
              "2"
            ]
          },
          "metadata": {},
          "execution_count": 16
        }
      ]
    },
    {
      "cell_type": "code",
      "source": [
        "# deleting a function\n",
        "del square"
      ],
      "metadata": {
        "id": "gXVR6qNDNCeQ"
      },
      "execution_count": null,
      "outputs": []
    },
    {
      "cell_type": "code",
      "source": [
        "square(3)"
      ],
      "metadata": {
        "colab": {
          "base_uri": "https://localhost:8080/",
          "height": 141
        },
        "id": "mQUsxS7FNCbr",
        "outputId": "9b276274-275f-4c10-e64c-764e9693027c"
      },
      "execution_count": null,
      "outputs": [
        {
          "output_type": "error",
          "ename": "NameError",
          "evalue": "name 'square' is not defined",
          "traceback": [
            "\u001b[0;31m---------------------------------------------------------------------------\u001b[0m",
            "\u001b[0;31mNameError\u001b[0m                                 Traceback (most recent call last)",
            "\u001b[0;32m/tmp/ipython-input-1056684087.py\u001b[0m in \u001b[0;36m<cell line: 0>\u001b[0;34m()\u001b[0m\n\u001b[0;32m----> 1\u001b[0;31m \u001b[0msquare\u001b[0m\u001b[0;34m(\u001b[0m\u001b[0;36m3\u001b[0m\u001b[0;34m)\u001b[0m\u001b[0;34m\u001b[0m\u001b[0;34m\u001b[0m\u001b[0m\n\u001b[0m",
            "\u001b[0;31mNameError\u001b[0m: name 'square' is not defined"
          ]
        }
      ]
    },
    {
      "cell_type": "code",
      "source": [
        "# storing\n",
        "L = [1,2,3,4,square]\n",
        "print(L)"
      ],
      "metadata": {
        "colab": {
          "base_uri": "https://localhost:8080/"
        },
        "id": "moCIObKONCZS",
        "outputId": "0c690959-409b-40bd-89a0-e36715cccb3e"
      },
      "execution_count": null,
      "outputs": [
        {
          "output_type": "stream",
          "name": "stdout",
          "text": [
            "[1, 2, 3, 4, <function square at 0x7bb9045053a0>]\n"
          ]
        }
      ]
    },
    {
      "cell_type": "code",
      "source": [
        "L[-1](3)"
      ],
      "metadata": {
        "colab": {
          "base_uri": "https://localhost:8080/"
        },
        "id": "XMD8vMw0NCWu",
        "outputId": "1e92cacf-b552-421d-af2f-015ca3f5088d"
      },
      "execution_count": null,
      "outputs": [
        {
          "output_type": "execute_result",
          "data": {
            "text/plain": [
              "9"
            ]
          },
          "metadata": {},
          "execution_count": 22
        }
      ]
    },
    {
      "cell_type": "code",
      "source": [
        "#immutable\n",
        "s = {square}\n",
        "s"
      ],
      "metadata": {
        "colab": {
          "base_uri": "https://localhost:8080/"
        },
        "id": "90mAImYVNCUG",
        "outputId": "794fdfda-39b4-4818-caec-49ad3e6a950a"
      },
      "execution_count": null,
      "outputs": [
        {
          "output_type": "execute_result",
          "data": {
            "text/plain": [
              "{<function __main__.square(num)>}"
            ]
          },
          "metadata": {},
          "execution_count": 23
        }
      ]
    },
    {
      "cell_type": "code",
      "source": [
        "#returning a function\n",
        "def f():\n",
        "    def x(a, b):\n",
        "        return a+b\n",
        "    return x\n",
        "\n",
        "val = f()(3,4)\n",
        "print(val)"
      ],
      "metadata": {
        "colab": {
          "base_uri": "https://localhost:8080/"
        },
        "id": "TA-eHsypS3OI",
        "outputId": "a293e726-7fa7-462b-ac09-c637c406ffdc"
      },
      "execution_count": null,
      "outputs": [
        {
          "output_type": "stream",
          "name": "stdout",
          "text": [
            "7\n"
          ]
        }
      ]
    },
    {
      "cell_type": "code",
      "source": [
        "#you can acess nested function from main program if main function returns nested function.\n",
        "#as we get in return list,tuple,string,int same like that we get function."
      ],
      "metadata": {
        "id": "1G8ynPELUTIM"
      },
      "execution_count": null,
      "outputs": []
    },
    {
      "cell_type": "code",
      "source": [
        "# function as argument\n",
        "def func_a():\n",
        "    print('inside func_a')\n",
        "\n",
        "def func_b(z):\n",
        "    print('inside func_c')\n",
        "    return z()\n",
        "\n",
        "print(func_b(func_a))"
      ],
      "metadata": {
        "colab": {
          "base_uri": "https://localhost:8080/"
        },
        "id": "cjp5DD2PUieL",
        "outputId": "6f3954b9-a69e-4537-b124-b8356bb5abbb"
      },
      "execution_count": null,
      "outputs": [
        {
          "output_type": "stream",
          "name": "stdout",
          "text": [
            "inside func_c\n",
            "inside func_a\n",
            "None\n"
          ]
        }
      ]
    },
    {
      "cell_type": "markdown",
      "source": [
        "## benefits of using function:"
      ],
      "metadata": {
        "id": "M_clsUM5V39f"
      }
    },
    {
      "cell_type": "code",
      "source": [
        "# - Code Modularity -> divide whole code in different module. ex] login ka alag code,search ka alag code.\n",
        "# - Code Readibility -> agar team me kaam kar arhe ho to sabke pass ek copy ho sakti hain.readbility badhegi.\n",
        "# - Code Reusability -> aapko to pata hi hain."
      ],
      "metadata": {
        "id": "9b1XKR2NV3IG"
      },
      "execution_count": null,
      "outputs": []
    },
    {
      "cell_type": "markdown",
      "source": [
        "## lambda function:"
      ],
      "metadata": {
        "id": "W5O5QNQxY2eo"
      }
    },
    {
      "cell_type": "code",
      "source": [
        "# A lambda function is a small anonymous(jiska nam nahi hota) function.\n",
        "# A lambda function can take any number of arguments, but can only have one expression."
      ],
      "metadata": {
        "id": "8oIGqAsyYyx0"
      },
      "execution_count": null,
      "outputs": []
    },
    {
      "cell_type": "code",
      "source": [
        "# x -> x^2\n",
        "lambda x:x**2"
      ],
      "metadata": {
        "colab": {
          "base_uri": "https://localhost:8080/"
        },
        "id": "FLs7vG83Y7qb",
        "outputId": "46426767-d6a7-4ea0-d8f2-31f7a851141d"
      },
      "execution_count": null,
      "outputs": [
        {
          "output_type": "execute_result",
          "data": {
            "text/plain": [
              "<function __main__.<lambda>(x)>"
            ]
          },
          "metadata": {},
          "execution_count": 31
        }
      ]
    },
    {
      "cell_type": "code",
      "source": [
        "# x -> x^2\n",
        "a = lambda x:x**2\n",
        "a(3)"
      ],
      "metadata": {
        "colab": {
          "base_uri": "https://localhost:8080/"
        },
        "id": "YT7N0oOZZBtI",
        "outputId": "736ecfd9-a8f1-46c0-e5e3-33550637a5c0"
      },
      "execution_count": null,
      "outputs": [
        {
          "output_type": "execute_result",
          "data": {
            "text/plain": [
              "9"
            ]
          },
          "metadata": {},
          "execution_count": 33
        }
      ]
    },
    {
      "cell_type": "code",
      "source": [
        "# x,y -> x+y\n",
        "a = lambda x,y:x+y\n",
        "a(5,2)"
      ],
      "metadata": {
        "colab": {
          "base_uri": "https://localhost:8080/"
        },
        "id": "Ks24a-oPZDi3",
        "outputId": "51b5de1a-6add-43a8-a000-b7be6af05359"
      },
      "execution_count": null,
      "outputs": [
        {
          "output_type": "execute_result",
          "data": {
            "text/plain": [
              "7"
            ]
          },
          "metadata": {},
          "execution_count": 34
        }
      ]
    },
    {
      "cell_type": "code",
      "source": [
        "# #### Diff between lambda vs Normal Function\n",
        "\n",
        "# - No name\n",
        "# - lambda has no return value(infact,returns a function)\n",
        "# - lambda is written in 1 line\n",
        "# - not reusable\n",
        "\n",
        "# Then why use lambda functions?\n",
        "# **They are used with HOF**"
      ],
      "metadata": {
        "id": "HJyppTwxZHCL"
      },
      "execution_count": null,
      "outputs": []
    },
    {
      "cell_type": "code",
      "source": [
        "# check if a string has 'a'\n",
        "a = lambda s:'a' in s\n",
        "a('hello')"
      ],
      "metadata": {
        "colab": {
          "base_uri": "https://localhost:8080/"
        },
        "id": "cInlwVxfZNj7",
        "outputId": "0beeba4a-5194-4674-9f02-3c099d2acd53"
      },
      "execution_count": null,
      "outputs": [
        {
          "output_type": "execute_result",
          "data": {
            "text/plain": [
              "False"
            ]
          },
          "metadata": {},
          "execution_count": 36
        }
      ]
    },
    {
      "cell_type": "code",
      "source": [
        "# odd or even\n",
        "a = lambda x:'even' if x%2 == 0 else 'odd'\n",
        "a(6)"
      ],
      "metadata": {
        "colab": {
          "base_uri": "https://localhost:8080/",
          "height": 36
        },
        "id": "_EUVSaMTZPrp",
        "outputId": "ce8a6ab6-d689-4ec0-c51a-b5c47ca65960"
      },
      "execution_count": null,
      "outputs": [
        {
          "output_type": "execute_result",
          "data": {
            "text/plain": [
              "'even'"
            ],
            "application/vnd.google.colaboratory.intrinsic+json": {
              "type": "string"
            }
          },
          "metadata": {},
          "execution_count": 37
        }
      ]
    },
    {
      "cell_type": "code",
      "source": [],
      "metadata": {
        "id": "t1xOq5-fZR0T"
      },
      "execution_count": null,
      "outputs": []
    },
    {
      "cell_type": "markdown",
      "source": [
        "## Higher order functions:"
      ],
      "metadata": {
        "id": "qGBV3cV9ZhUF"
      }
    },
    {
      "cell_type": "code",
      "source": [
        "#the function which take another function as input or return a function as output."
      ],
      "metadata": {
        "id": "N6K0wl0sZf6R"
      },
      "execution_count": null,
      "outputs": []
    },
    {
      "cell_type": "code",
      "source": [
        "def square(x):\n",
        "  return x**2\n",
        "\n",
        "def cube(x):\n",
        "  return x**3\n",
        "\n",
        "# HOF\n",
        "def transform(f,L):\n",
        "  output = []\n",
        "  for i in L:\n",
        "    output.append(f(i))\n",
        "\n",
        "  print(output)\n",
        "\n",
        "L = [1,2,3,4,5]\n",
        "\n",
        "transform(lambda x:x**3,L)"
      ],
      "metadata": {
        "colab": {
          "base_uri": "https://localhost:8080/"
        },
        "id": "mdqJE1Jus_bl",
        "outputId": "3dffcfc7-f008-44bc-ac32-600ba5f07ed0"
      },
      "execution_count": null,
      "outputs": [
        {
          "output_type": "stream",
          "name": "stdout",
          "text": [
            "[1, 8, 27, 64, 125]\n"
          ]
        }
      ]
    },
    {
      "cell_type": "code",
      "source": [
        "# map ()"
      ],
      "metadata": {
        "id": "3D5Q8xdMsqPm"
      },
      "execution_count": null,
      "outputs": []
    },
    {
      "cell_type": "code",
      "source": [
        "# square the items of a list\n",
        "list(map(lambda x:x**2,[1,2,3,4,5]))"
      ],
      "metadata": {
        "colab": {
          "base_uri": "https://localhost:8080/"
        },
        "id": "A-vrt1LvsseU",
        "outputId": "8583f42d-bbcd-43b2-857c-4e8ea27332db"
      },
      "execution_count": null,
      "outputs": [
        {
          "output_type": "execute_result",
          "data": {
            "text/plain": [
              "[1, 4, 9, 16, 25]"
            ]
          },
          "metadata": {},
          "execution_count": 2
        }
      ]
    },
    {
      "cell_type": "code",
      "source": [
        "# odd/even labelling of list items\n",
        "L = [1,2,3,4,5]\n",
        "list(map(lambda x:'even' if x%2 == 0 else 'odd',L))"
      ],
      "metadata": {
        "colab": {
          "base_uri": "https://localhost:8080/"
        },
        "id": "d7uzRPSAtDfE",
        "outputId": "9ff58a29-7be2-4a71-d428-6859770864f3"
      },
      "execution_count": null,
      "outputs": [
        {
          "output_type": "execute_result",
          "data": {
            "text/plain": [
              "['odd', 'even', 'odd', 'even', 'odd']"
            ]
          },
          "metadata": {},
          "execution_count": 3
        }
      ]
    },
    {
      "cell_type": "code",
      "source": [
        "# fetch names from a list of dict\n",
        "\n",
        "users = [\n",
        "    {\n",
        "        'name':'Rahul',\n",
        "        'age':45,\n",
        "        'gender':'male'\n",
        "    },\n",
        "    {\n",
        "        'name':'Nitish',\n",
        "        'age':33,\n",
        "        'gender':'male'\n",
        "    },\n",
        "    {\n",
        "        'name':'Ankita',\n",
        "        'age':50,\n",
        "        'gender':'female'\n",
        "    }\n",
        "]\n",
        "\n",
        "list(map(lambda users:users['gender'],users))"
      ],
      "metadata": {
        "colab": {
          "base_uri": "https://localhost:8080/"
        },
        "id": "Wb6bxSvytHgM",
        "outputId": "26e38996-8be0-4b7b-dc4b-fe03d801aa92"
      },
      "execution_count": null,
      "outputs": [
        {
          "output_type": "execute_result",
          "data": {
            "text/plain": [
              "['male', 'male', 'female']"
            ]
          },
          "metadata": {},
          "execution_count": 4
        }
      ]
    },
    {
      "cell_type": "code",
      "source": [],
      "metadata": {
        "id": "47RH3wdpvUrl"
      },
      "execution_count": null,
      "outputs": []
    },
    {
      "cell_type": "code",
      "source": [
        "#filter:"
      ],
      "metadata": {
        "id": "YWVTwztrvUdw"
      },
      "execution_count": null,
      "outputs": []
    },
    {
      "cell_type": "code",
      "source": [
        "# numbers greater than 5\n",
        "L = [3,4,5,6,7]\n",
        "\n",
        "list(filter(lambda x:x>5,L))"
      ],
      "metadata": {
        "colab": {
          "base_uri": "https://localhost:8080/"
        },
        "id": "LDIwMsC5tKR7",
        "outputId": "beabbbf5-cc04-4783-e9c3-ff656fd7fcd6"
      },
      "execution_count": null,
      "outputs": [
        {
          "output_type": "execute_result",
          "data": {
            "text/plain": [
              "[6, 7]"
            ]
          },
          "metadata": {},
          "execution_count": 6
        }
      ]
    },
    {
      "cell_type": "code",
      "source": [
        "# fetch fruits starting with 'a'\n",
        "fruits = ['apple','guava','cherry']\n",
        "\n",
        "list(filter(lambda x:x.startswith('a'),fruits))"
      ],
      "metadata": {
        "colab": {
          "base_uri": "https://localhost:8080/"
        },
        "id": "sUBj-vlxvWwC",
        "outputId": "11b80af4-b435-4cdd-e3b1-6209dee36c2c"
      },
      "execution_count": null,
      "outputs": [
        {
          "output_type": "execute_result",
          "data": {
            "text/plain": [
              "['apple']"
            ]
          },
          "metadata": {},
          "execution_count": 7
        }
      ]
    },
    {
      "cell_type": "code",
      "source": [],
      "metadata": {
        "id": "QcnuNI0uvZED"
      },
      "execution_count": null,
      "outputs": []
    },
    {
      "cell_type": "code",
      "source": [
        "#reduce:"
      ],
      "metadata": {
        "id": "OIw9PlJ_vZxm"
      },
      "execution_count": null,
      "outputs": []
    },
    {
      "cell_type": "code",
      "source": [
        "# sum of all item\n",
        "import functools\n",
        "\n",
        "functools.reduce(lambda x,y:x+y,[1,2,3,4,5])"
      ],
      "metadata": {
        "colab": {
          "base_uri": "https://localhost:8080/"
        },
        "id": "S88MRNCGvfmo",
        "outputId": "9625a23b-0f28-4c56-aad0-bf5d1c50cc39"
      },
      "execution_count": null,
      "outputs": [
        {
          "output_type": "execute_result",
          "data": {
            "text/plain": [
              "15"
            ]
          },
          "metadata": {},
          "execution_count": 9
        }
      ]
    },
    {
      "cell_type": "code",
      "source": [
        "# find min\n",
        "functools.reduce(lambda x,y:x if x>y else y,[23,11,45,10,1])"
      ],
      "metadata": {
        "colab": {
          "base_uri": "https://localhost:8080/"
        },
        "id": "w2BpReJMvh6c",
        "outputId": "78b5bfbf-8ca5-4c75-cd15-948ef6a9c419"
      },
      "execution_count": null,
      "outputs": [
        {
          "output_type": "execute_result",
          "data": {
            "text/plain": [
              "45"
            ]
          },
          "metadata": {},
          "execution_count": 10
        }
      ]
    },
    {
      "cell_type": "code",
      "source": [],
      "metadata": {
        "id": "g1j3Ro46vki2"
      },
      "execution_count": null,
      "outputs": []
    }
  ]
}