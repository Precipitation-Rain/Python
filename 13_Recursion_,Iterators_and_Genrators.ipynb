{
  "nbformat": 4,
  "nbformat_minor": 0,
  "metadata": {
    "colab": {
      "provenance": [],
      "authorship_tag": "ABX9TyO7dvv/sb6Ltxnni57F/s7I",
      "include_colab_link": true
    },
    "kernelspec": {
      "name": "python3",
      "display_name": "Python 3"
    },
    "language_info": {
      "name": "python"
    }
  },
  "cells": [
    {
      "cell_type": "markdown",
      "metadata": {
        "id": "view-in-github",
        "colab_type": "text"
      },
      "source": [
        "<a href=\"https://colab.research.google.com/github/Precipitation-Rain/Python/blob/main/13_Recursion_%2CIterators_and_Genrators.ipynb\" target=\"_parent\"><img src=\"https://colab.research.google.com/assets/colab-badge.svg\" alt=\"Open In Colab\"/></a>"
      ]
    },
    {
      "cell_type": "markdown",
      "source": [
        "## Recursion:"
      ],
      "metadata": {
        "id": "LvwhkdI2lcMl"
      }
    },
    {
      "cell_type": "code",
      "execution_count": null,
      "metadata": {
        "id": "DtH0vIeblOzV"
      },
      "outputs": [],
      "source": [
        "#functions call itself\n",
        "#don't need loop -> looked as replacement of loop\n",
        "#famous in industry for good and bad reasond:\n",
        "# 1.Good = people feel proud beacuse they know and use recursion -> recursion is bit a difficult topic\n",
        "# 2.Bad -> frequently use nahi karte ho -> inefficient code hota hain rcursion ka\n",
        "\n",
        "# recursion may be implemented using stack\n",
        "#python tutor\n",
        "#niche jata hain fir niche se upar aata hain ->python tutor"
      ]
    },
    {
      "cell_type": "code",
      "source": [
        "#Ex]\n",
        "#using iterative(loop)"
      ],
      "metadata": {
        "id": "QQKbJwlbn6cw"
      },
      "execution_count": null,
      "outputs": []
    },
    {
      "cell_type": "code",
      "source": [
        "def multiply(a, b):\n",
        "    result = 0\n",
        "\n",
        "    for i in range(b):\n",
        "        result = result + a\n",
        "\n",
        "    print(result)\n",
        "\n",
        "multiply(4, 4)\n"
      ],
      "metadata": {
        "colab": {
          "base_uri": "https://localhost:8080/"
        },
        "id": "iNMCGJaAme2b",
        "outputId": "f4b70c37-98e5-4744-ddac-b749697a629e"
      },
      "execution_count": null,
      "outputs": [
        {
          "output_type": "stream",
          "name": "stdout",
          "text": [
            "16\n"
          ]
        }
      ]
    },
    {
      "cell_type": "code",
      "source": [
        "# recursive solution\n",
        "\n",
        "# Need two things\n",
        "# 1.Base condition(can say aisi condition jiska ans aapko pehle se pata hain(must))\n",
        "# 2.Decompose the problem into small problem"
      ],
      "metadata": {
        "id": "QVvmHTUfn-fR"
      },
      "execution_count": null,
      "outputs": []
    },
    {
      "cell_type": "code",
      "source": [
        "def mul(a, b):\n",
        "    if b == 1:\n",
        "        return a\n",
        "    else:\n",
        "        return a + mul(a, b - 1)\n",
        "\n",
        "print(mul(5, 8))\n"
      ],
      "metadata": {
        "colab": {
          "base_uri": "https://localhost:8080/"
        },
        "id": "g25Em6Mpppxc",
        "outputId": "406992a6-9844-4ec5-f57c-ffde593a165c"
      },
      "execution_count": null,
      "outputs": [
        {
          "output_type": "stream",
          "name": "stdout",
          "text": [
            "40\n"
          ]
        }
      ]
    },
    {
      "cell_type": "code",
      "source": [
        "# factorial\n",
        "\n",
        "def fact(number):\n",
        "    if number == 1:\n",
        "        return 1\n",
        "    else:\n",
        "        # 5! = 5 * 4!\n",
        "        return number * fact(number - 1)\n",
        "\n",
        "print(fact(4))\n"
      ],
      "metadata": {
        "colab": {
          "base_uri": "https://localhost:8080/"
        },
        "id": "yWNZS7R7p4FI",
        "outputId": "b6dc8b62-d049-4404-8ca6-05ed2947e592"
      },
      "execution_count": null,
      "outputs": [
        {
          "output_type": "stream",
          "name": "stdout",
          "text": [
            "24\n"
          ]
        }
      ]
    },
    {
      "cell_type": "code",
      "source": [
        "import math\n",
        "fact(5)"
      ],
      "metadata": {
        "colab": {
          "base_uri": "https://localhost:8080/"
        },
        "id": "VnIskSKfrByQ",
        "outputId": "d0b37c88-344c-4013-ca0a-0f1e810d2608"
      },
      "execution_count": null,
      "outputs": [
        {
          "output_type": "execute_result",
          "data": {
            "text/plain": [
              "120"
            ]
          },
          "metadata": {},
          "execution_count": 18
        }
      ]
    },
    {
      "cell_type": "code",
      "source": [
        "# palindrome\n",
        "\n",
        "def palin(text):\n",
        "    if len(text) <= 1:\n",
        "        print(\"palindrome\")\n",
        "    else:\n",
        "        if text[0] == text[-1]:\n",
        "            palin(text[1:-1])\n",
        "        else:\n",
        "            print(\"Not a palin\")\n",
        "\n",
        "a = input(\"Enter string\")\n",
        "palin(a)\n"
      ],
      "metadata": {
        "colab": {
          "base_uri": "https://localhost:8080/"
        },
        "id": "CzmsvduzrTNu",
        "outputId": "92273c36-e1cf-4d64-de21-ca913c0c474c"
      },
      "execution_count": null,
      "outputs": [
        {
          "output_type": "stream",
          "name": "stdout",
          "text": [
            "Enter stringadbda\n",
            "palindrome\n"
          ]
        }
      ]
    },
    {
      "cell_type": "code",
      "source": [
        "# rabbits problem = fibonacci series"
      ],
      "metadata": {
        "id": "7ZptPzsCtUx5"
      },
      "execution_count": null,
      "outputs": []
    },
    {
      "cell_type": "code",
      "source": [
        "def fib(mon):\n",
        "  if mon == 0 or mon == 1:\n",
        "    return 1\n",
        "\n",
        "  else :\n",
        "    return fib(mon-1) + fib(mon-2)\n",
        "\n",
        "print(fib(10))"
      ],
      "metadata": {
        "id": "Dl52amkDumw2",
        "colab": {
          "base_uri": "https://localhost:8080/"
        },
        "outputId": "a3f05bc8-4029-4afe-b1c7-0c1474a74de8"
      },
      "execution_count": null,
      "outputs": [
        {
          "output_type": "stream",
          "name": "stdout",
          "text": [
            "89\n"
          ]
        }
      ]
    },
    {
      "cell_type": "code",
      "source": [
        "# problem inefficient code\n",
        "# exponential curve\n",
        "\n",
        "# solution: dp ko use karo\n",
        "# momoization(dp) -> har bar us particular number ka fibonacci kyu nikalna ,ek bar nikalo use store karo and badme use karo!\n",
        "# time ghatata hain but spce badhta hain!\n",
        "# dp = time and space tradeoff"
      ],
      "metadata": {
        "id": "cbsWlCYvxplC"
      },
      "execution_count": null,
      "outputs": []
    },
    {
      "cell_type": "code",
      "source": [
        "# efficient solution:\n",
        "\n",
        "import time\n",
        "def memo(m, d):\n",
        "\n",
        "    if m in d:\n",
        "        return d[m]\n",
        "    else:\n",
        "        d[m] = memo(m-1, d) + memo(m-2, d)\n",
        "        return d[m]\n",
        "\n",
        "start = time.time()\n",
        "d = {0: 1, 1: 1}\n",
        "print(memo(12, d))\n",
        "print(time.time() - start)\n",
        "print(d)\n"
      ],
      "metadata": {
        "id": "lz1WKorJxphg",
        "colab": {
          "base_uri": "https://localhost:8080/"
        },
        "outputId": "5b51df4c-d7fa-4f68-ef3c-e555bf401e9b"
      },
      "execution_count": null,
      "outputs": [
        {
          "output_type": "stream",
          "name": "stdout",
          "text": [
            "233\n",
            "0.0001430511474609375\n",
            "{0: 1, 1: 1, 2: 2, 3: 3, 4: 5, 5: 8, 6: 13, 7: 21, 8: 34, 9: 55, 10: 89, 11: 144, 12: 233}\n"
          ]
        }
      ]
    },
    {
      "cell_type": "code",
      "source": [
        "# generate poer set"
      ],
      "metadata": {
        "id": "PxGaRKu2xpe7"
      },
      "execution_count": null,
      "outputs": []
    },
    {
      "cell_type": "code",
      "source": [],
      "metadata": {
        "id": "o4GvxWBcxpMC"
      },
      "execution_count": null,
      "outputs": []
    },
    {
      "cell_type": "markdown",
      "source": [
        "## Iterator:"
      ],
      "metadata": {
        "id": "XnsS75Lu3_9Y"
      }
    },
    {
      "cell_type": "code",
      "source": [
        "# What is an Iteration\n",
        "\n",
        "# Iteration is a general term for taking each item of something, one after another.\n",
        "# Any time you use a loop, explicit or implicit, to go over a group of items, that is iteration.\n",
        "\n",
        "# The process of traversing items in iterable\n",
        "# traverse -> har ek item ko fetxh karke uske upar kuch operation karna."
      ],
      "metadata": {
        "id": "i2sjWfcJ4ChR"
      },
      "execution_count": null,
      "outputs": []
    },
    {
      "cell_type": "code",
      "source": [
        "# Example\n",
        "num = [1,2,3]\n",
        "\n",
        "for i in num:\n",
        "    print(i)"
      ],
      "metadata": {
        "colab": {
          "base_uri": "https://localhost:8080/"
        },
        "id": "en2O_emb7k9W",
        "outputId": "8e327e02-26c7-4c5b-c715-338c859b306b"
      },
      "execution_count": null,
      "outputs": [
        {
          "output_type": "stream",
          "name": "stdout",
          "text": [
            "1\n",
            "2\n",
            "3\n"
          ]
        }
      ]
    },
    {
      "cell_type": "code",
      "source": [
        "# What is Iterator\n",
        "\n",
        "# An Iterator is an object that allows the programmer to traverse through a sequence of data without having to store the entire data in the memory"
      ],
      "metadata": {
        "id": "Bqt2M4Rq7tpH"
      },
      "execution_count": null,
      "outputs": []
    },
    {
      "cell_type": "code",
      "source": [
        "# which iterates on iterable and perform iteration process.\n",
        "# ye vahi hain jo har ek item ko fethc karta hain and uske upar kuch operation perform karta hain."
      ],
      "metadata": {
        "id": "g8WZVvKz7zP9"
      },
      "execution_count": null,
      "outputs": []
    },
    {
      "cell_type": "code",
      "source": [
        "# Example\n",
        "L = [x for x in range(1,10000)]\n",
        "\n",
        "#for i in L:\n",
        "    #print(i*2)\n",
        "\n",
        "import sys\n",
        "\n",
        "print(sys.getsizeof(L)/64)\n",
        "\n",
        "x = range(1,10000000000)\n",
        "\n",
        "#for i in x:\n",
        "    #print(i*2)\n",
        "\n",
        "print(sys.getsizeof(x)/64)\n",
        "\n"
      ],
      "metadata": {
        "colab": {
          "base_uri": "https://localhost:8080/"
        },
        "id": "_a1YTHAX8GJO",
        "outputId": "a3b1107b-ecaf-4a61-a7e3-23e2eb444a3e"
      },
      "execution_count": null,
      "outputs": [
        {
          "output_type": "stream",
          "name": "stdout",
          "text": [
            "1330.875\n",
            "0.75\n"
          ]
        }
      ]
    },
    {
      "cell_type": "code",
      "source": [
        "# What is Iterable\n",
        "# Iterable is an object, which one can iterate over\n",
        "#  It generates an Iterator when passed to iter() method.\n",
        "\n",
        "# jiske upar iterator iterate karta hain!"
      ],
      "metadata": {
        "id": "nZq_UB7q8GnT"
      },
      "execution_count": null,
      "outputs": []
    },
    {
      "cell_type": "code",
      "source": [
        "# iteration = process\n",
        "# iterator = jo kam(iteration ka) karata hain\n",
        "# iterable = jiske upar kam hota hain"
      ],
      "metadata": {
        "id": "N-U0JPqd8J3o"
      },
      "execution_count": null,
      "outputs": []
    },
    {
      "cell_type": "code",
      "source": [
        "# Example\n",
        "\n",
        "L = [1,2,3]\n",
        "print(type(L))\n",
        "\n",
        "\n",
        "# L is an iterable\n",
        "type(iter(L))\n",
        "\n",
        "# iter(L) --> iterator"
      ],
      "metadata": {
        "colab": {
          "base_uri": "https://localhost:8080/"
        },
        "id": "SBLnmobp8jaG",
        "outputId": "404f4465-3f4d-4aea-c30d-d343723c6920"
      },
      "execution_count": null,
      "outputs": [
        {
          "output_type": "stream",
          "name": "stdout",
          "text": [
            "<class 'list'>\n"
          ]
        },
        {
          "output_type": "execute_result",
          "data": {
            "text/plain": [
              "list_iterator"
            ]
          },
          "metadata": {},
          "execution_count": 7
        }
      ]
    },
    {
      "cell_type": "code",
      "source": [],
      "metadata": {
        "id": "HjUAR4K_978R"
      },
      "execution_count": null,
      "outputs": []
    },
    {
      "cell_type": "code",
      "source": [
        "## Point to remember\n",
        "\n",
        "# - Every **Iterator** is also and **Iterable**\n",
        "# - Not all **Iterables** are **Iterators**"
      ],
      "metadata": {
        "id": "p_IisLAV8vJy"
      },
      "execution_count": null,
      "outputs": []
    },
    {
      "cell_type": "code",
      "source": [],
      "metadata": {
        "id": "U47SSIxy993h"
      },
      "execution_count": null,
      "outputs": []
    },
    {
      "cell_type": "code",
      "source": [
        "# ## Trick\n",
        "# - Every Iterable has an **iter function**\n",
        "# - Every Iterator has both **iter function** as well as a **next function**"
      ],
      "metadata": {
        "id": "X3Rx5xYv_Wg8"
      },
      "execution_count": null,
      "outputs": []
    },
    {
      "cell_type": "code",
      "source": [
        "a = 2\n",
        "a\n",
        "\n",
        "#for i in a:\n",
        "    #print(i)\n",
        "\n",
        "dir(a)\n",
        "#not an iterable"
      ],
      "metadata": {
        "colab": {
          "base_uri": "https://localhost:8080/"
        },
        "id": "puamI6zW_YM9",
        "outputId": "339b4a9b-66e4-42d1-8435-81600d1a7a7f"
      },
      "execution_count": null,
      "outputs": [
        {
          "output_type": "execute_result",
          "data": {
            "text/plain": [
              "['__abs__',\n",
              " '__add__',\n",
              " '__and__',\n",
              " '__bool__',\n",
              " '__ceil__',\n",
              " '__class__',\n",
              " '__delattr__',\n",
              " '__dir__',\n",
              " '__divmod__',\n",
              " '__doc__',\n",
              " '__eq__',\n",
              " '__float__',\n",
              " '__floor__',\n",
              " '__floordiv__',\n",
              " '__format__',\n",
              " '__ge__',\n",
              " '__getattribute__',\n",
              " '__getnewargs__',\n",
              " '__getstate__',\n",
              " '__gt__',\n",
              " '__hash__',\n",
              " '__index__',\n",
              " '__init__',\n",
              " '__init_subclass__',\n",
              " '__int__',\n",
              " '__invert__',\n",
              " '__le__',\n",
              " '__lshift__',\n",
              " '__lt__',\n",
              " '__mod__',\n",
              " '__mul__',\n",
              " '__ne__',\n",
              " '__neg__',\n",
              " '__new__',\n",
              " '__or__',\n",
              " '__pos__',\n",
              " '__pow__',\n",
              " '__radd__',\n",
              " '__rand__',\n",
              " '__rdivmod__',\n",
              " '__reduce__',\n",
              " '__reduce_ex__',\n",
              " '__repr__',\n",
              " '__rfloordiv__',\n",
              " '__rlshift__',\n",
              " '__rmod__',\n",
              " '__rmul__',\n",
              " '__ror__',\n",
              " '__round__',\n",
              " '__rpow__',\n",
              " '__rrshift__',\n",
              " '__rshift__',\n",
              " '__rsub__',\n",
              " '__rtruediv__',\n",
              " '__rxor__',\n",
              " '__setattr__',\n",
              " '__sizeof__',\n",
              " '__str__',\n",
              " '__sub__',\n",
              " '__subclasshook__',\n",
              " '__truediv__',\n",
              " '__trunc__',\n",
              " '__xor__',\n",
              " 'as_integer_ratio',\n",
              " 'bit_count',\n",
              " 'bit_length',\n",
              " 'conjugate',\n",
              " 'denominator',\n",
              " 'from_bytes',\n",
              " 'imag',\n",
              " 'is_integer',\n",
              " 'numerator',\n",
              " 'real',\n",
              " 'to_bytes']"
            ]
          },
          "metadata": {},
          "execution_count": 10
        }
      ]
    },
    {
      "cell_type": "code",
      "source": [
        "# iterable\n",
        "T = {1:2,3:4}\n",
        "dir(T)"
      ],
      "metadata": {
        "colab": {
          "base_uri": "https://localhost:8080/"
        },
        "id": "fdit4kUE_a_S",
        "outputId": "1df2dddb-75b5-447f-a4a0-854480c638f5"
      },
      "execution_count": null,
      "outputs": [
        {
          "output_type": "execute_result",
          "data": {
            "text/plain": [
              "['__class__',\n",
              " '__class_getitem__',\n",
              " '__contains__',\n",
              " '__delattr__',\n",
              " '__delitem__',\n",
              " '__dir__',\n",
              " '__doc__',\n",
              " '__eq__',\n",
              " '__format__',\n",
              " '__ge__',\n",
              " '__getattribute__',\n",
              " '__getitem__',\n",
              " '__getstate__',\n",
              " '__gt__',\n",
              " '__hash__',\n",
              " '__init__',\n",
              " '__init_subclass__',\n",
              " '__ior__',\n",
              " '__iter__',\n",
              " '__le__',\n",
              " '__len__',\n",
              " '__lt__',\n",
              " '__ne__',\n",
              " '__new__',\n",
              " '__or__',\n",
              " '__reduce__',\n",
              " '__reduce_ex__',\n",
              " '__repr__',\n",
              " '__reversed__',\n",
              " '__ror__',\n",
              " '__setattr__',\n",
              " '__setitem__',\n",
              " '__sizeof__',\n",
              " '__str__',\n",
              " '__subclasshook__',\n",
              " 'clear',\n",
              " 'copy',\n",
              " 'fromkeys',\n",
              " 'get',\n",
              " 'items',\n",
              " 'keys',\n",
              " 'pop',\n",
              " 'popitem',\n",
              " 'setdefault',\n",
              " 'update',\n",
              " 'values']"
            ]
          },
          "metadata": {},
          "execution_count": 11
        }
      ]
    },
    {
      "cell_type": "code",
      "source": [
        "# iterable\n",
        "\n",
        "# iterable hain ya nahi ?\n",
        "#-->\n",
        "#1.agar uspe loop chala skate ho ,to vo iterable hain else nahi hain\n",
        "#2.uske pass sirf iter method hoga"
      ],
      "metadata": {
        "id": "tQD0ckCq_jJD"
      },
      "execution_count": null,
      "outputs": []
    },
    {
      "cell_type": "code",
      "source": [
        "L = [1,2,3]\n",
        "\n",
        "# L is not an iterator\n",
        "iter_L = iter(L)\n",
        "\n",
        "# iter_L is an iterator"
      ],
      "metadata": {
        "id": "EOug8Fq2_0Ku"
      },
      "execution_count": null,
      "outputs": []
    },
    {
      "cell_type": "code",
      "source": [
        "# iterator\n",
        "\n",
        "# iterator hain ya nahi ?\n",
        "#-->\n",
        "#1.uske pass  iter and next  method hoga"
      ],
      "metadata": {
        "id": "h4K2nuE__3pv"
      },
      "execution_count": null,
      "outputs": []
    },
    {
      "cell_type": "code",
      "source": [],
      "metadata": {
        "id": "PM5w5sUWAHO5"
      },
      "execution_count": null,
      "outputs": []
    },
    {
      "cell_type": "code",
      "source": [
        "# how loop works\n",
        "\n",
        "num = [1,2,3]\n",
        "\n",
        "for i in num:\n",
        "    print(i)"
      ],
      "metadata": {
        "colab": {
          "base_uri": "https://localhost:8080/"
        },
        "id": "Q-Gs0Dg2B8Cm",
        "outputId": "633fe34b-c7e0-4143-c847-d552eb9a3ebf"
      },
      "execution_count": null,
      "outputs": [
        {
          "output_type": "stream",
          "name": "stdout",
          "text": [
            "1\n",
            "2\n",
            "3\n"
          ]
        }
      ]
    },
    {
      "cell_type": "code",
      "source": [
        "#real me ye hota hain\n",
        "num = [1,2,3]\n",
        "\n",
        "# fetch the iterator\n",
        "iter_num = iter(num)\n",
        "\n",
        "# step2 --> next\n",
        "next(iter_num)\n",
        "next(iter_num)\n",
        "next(iter_num)\n",
        "# next(iter_num)"
      ],
      "metadata": {
        "colab": {
          "base_uri": "https://localhost:8080/"
        },
        "id": "K7Pp5o7DB-mo",
        "outputId": "521490a9-93cb-4e26-a4ab-ab3e90d290d8"
      },
      "execution_count": null,
      "outputs": [
        {
          "output_type": "execute_result",
          "data": {
            "text/plain": [
              "3"
            ]
          },
          "metadata": {},
          "execution_count": 18
        }
      ]
    },
    {
      "cell_type": "code",
      "source": [
        "# making our own for loop\n",
        "\n",
        "def mera_khudka_for_loop(iterable):\n",
        "\n",
        "    iterator = iter(iterable)\n",
        "\n",
        "    while True:\n",
        "\n",
        "        try:\n",
        "            print(next(iterator))\n",
        "        except StopIteration:\n",
        "            break"
      ],
      "metadata": {
        "id": "hYuKrOfKCFGv"
      },
      "execution_count": null,
      "outputs": []
    },
    {
      "cell_type": "code",
      "source": [
        "a = [1,2,3]\n",
        "b = range(1,11)\n",
        "c = (1,2,3)\n",
        "d = {1,2,3}\n",
        "e = {0:1,1:1}\n",
        "\n",
        "mera_khudka_for_loop(e)"
      ],
      "metadata": {
        "colab": {
          "base_uri": "https://localhost:8080/"
        },
        "id": "0VLHojK8COtW",
        "outputId": "234b29d6-e472-4dee-8a11-4024c7204573"
      },
      "execution_count": null,
      "outputs": [
        {
          "output_type": "stream",
          "name": "stdout",
          "text": [
            "0\n",
            "1\n"
          ]
        }
      ]
    },
    {
      "cell_type": "code",
      "source": [],
      "metadata": {
        "id": "8ox6-GBqCR4z"
      },
      "execution_count": null,
      "outputs": []
    },
    {
      "cell_type": "code",
      "source": [
        "# Confusing Point\n",
        "\n",
        "num = [1,2,3]\n",
        "iter_obj = iter(num)\n",
        "\n",
        "print(id(iter_obj),'Address of iterator 1')\n",
        "\n",
        "iter_obj2 = iter(iter_obj)\n",
        "print(id(iter_obj2),'Address of iterator 2')"
      ],
      "metadata": {
        "colab": {
          "base_uri": "https://localhost:8080/"
        },
        "id": "nAbaaXqKQQDB",
        "outputId": "45b17291-85a9-4509-e307-bfeeb3d3960e"
      },
      "execution_count": null,
      "outputs": [
        {
          "output_type": "stream",
          "name": "stdout",
          "text": [
            "138485637129520 Address of iterator 1\n",
            "138485637129520 Address of iterator 2\n"
          ]
        }
      ]
    },
    {
      "cell_type": "code",
      "source": [
        "# jab ek itearble ke iterator pe iter chalta hain tab vo palat ek ek naya iterator deta hain jo ki vo prana iterator khud hi hota hain.\n",
        "# gangadhar hi shaktiman hain.\n",
        "# iterable(obj) ke upar loop chalne me use kiya jata hain"
      ],
      "metadata": {
        "id": "olc3X4dGQVMZ"
      },
      "execution_count": null,
      "outputs": []
    },
    {
      "cell_type": "code",
      "source": [],
      "metadata": {
        "id": "usIGP5LfQjjs"
      },
      "execution_count": null,
      "outputs": []
    },
    {
      "cell_type": "code",
      "source": [
        "# our own range function\n",
        "\n"
      ],
      "metadata": {
        "id": "wly9E-IpQtIn"
      },
      "execution_count": null,
      "outputs": []
    },
    {
      "cell_type": "code",
      "source": [
        "class mera_range:\n",
        "\n",
        "    def __init__(self,start,end):\n",
        "        self.start = start\n",
        "        self.end = end\n",
        "\n",
        "    def __iter__(self):\n",
        "        return mera_range_iterator(self)\n",
        "\n",
        "class mera_range_iterator:\n",
        "\n",
        "    def __init__(self,iterable_obj):\n",
        "        self.iterable = iterable_obj\n",
        "\n",
        "    def __iter__(self):\n",
        "        return self\n",
        "\n",
        "    def __next__(self):\n",
        "\n",
        "        if self.iterable.start >= self.iterable.end:\n",
        "            raise StopIteration\n",
        "\n",
        "        current = self.iterable.start\n",
        "        self.iterable.start+=1\n",
        "        return current\n",
        "\n",
        "for i in mera_range(1,11):\n",
        "  print(i)"
      ],
      "metadata": {
        "colab": {
          "base_uri": "https://localhost:8080/"
        },
        "id": "Hatb06qTSZ4A",
        "outputId": "80344cc6-7dea-44db-da03-7358cdf4e574"
      },
      "execution_count": null,
      "outputs": [
        {
          "output_type": "stream",
          "name": "stdout",
          "text": [
            "1\n",
            "2\n",
            "3\n",
            "4\n",
            "5\n",
            "6\n",
            "7\n",
            "8\n",
            "9\n",
            "10\n"
          ]
        }
      ]
    },
    {
      "cell_type": "code",
      "source": [],
      "metadata": {
        "colab": {
          "base_uri": "https://localhost:8080/"
        },
        "id": "hGBFP_jHSffp",
        "outputId": "94642158-ba94-4921-c837-cc78dd2b0ecf"
      },
      "execution_count": null,
      "outputs": [
        {
          "output_type": "execute_result",
          "data": {
            "text/plain": [
              "<__main__.mera_range_iterator at 0x7df3b3353f50>"
            ]
          },
          "metadata": {},
          "execution_count": 28
        }
      ]
    },
    {
      "cell_type": "code",
      "source": [
        "#  iterator eb bar ek hi item ko load karta hain , vo pure data ko load nahi karta yahi uska sabse bada poere hain"
      ],
      "metadata": {
        "id": "sOQMVuihSlEd"
      },
      "execution_count": null,
      "outputs": []
    },
    {
      "cell_type": "code",
      "source": [],
      "metadata": {
        "id": "mUq4-1qkc7Wz"
      },
      "execution_count": null,
      "outputs": []
    },
    {
      "cell_type": "markdown",
      "source": [
        "## Genrators"
      ],
      "metadata": {
        "id": "ApGrzkU7c9ak"
      }
    },
    {
      "cell_type": "code",
      "source": [
        "# ## What is a Generator\n",
        "\n",
        "#Python generators are a simple way of creating iterators."
      ],
      "metadata": {
        "id": "_ZRMK79CdAeK"
      },
      "execution_count": null,
      "outputs": []
    },
    {
      "cell_type": "code",
      "source": [
        "# why\n",
        "\n",
        "L = [x for x in range(100000)]\n",
        "\n",
        "#for i in L:\n",
        "    #print(i**2)\n",
        "\n",
        "import sys\n",
        "sys.getsizeof(L)\n",
        "\n",
        "x = range(10000000)\n",
        "\n",
        "#for i in x:\n",
        "    #print(i**2)\n",
        "sys.getsizeof(x)"
      ],
      "metadata": {
        "colab": {
          "base_uri": "https://localhost:8080/"
        },
        "id": "SrszPUVxdFxm",
        "outputId": "97869e1b-afe4-4c91-d064-ea942bdc576e"
      },
      "execution_count": null,
      "outputs": [
        {
          "output_type": "execute_result",
          "data": {
            "text/plain": [
              "48"
            ]
          },
          "metadata": {},
          "execution_count": 31
        }
      ]
    },
    {
      "cell_type": "code",
      "source": [
        "# simple example\n",
        "\n",
        "def gen_demo():\n",
        "\n",
        "    yield \"first statement\"\n",
        "    yield \"second statement\"\n",
        "    yield \"third statement\"\n",
        "\n",
        "gen = gen_demo()\n",
        "\n",
        "for i in gen:\n",
        "    print(i)"
      ],
      "metadata": {
        "colab": {
          "base_uri": "https://localhost:8080/"
        },
        "id": "SNNUkZhQdK_-",
        "outputId": "8a37e642-2b70-45d1-c707-8e9afb259356"
      },
      "execution_count": null,
      "outputs": [
        {
          "output_type": "stream",
          "name": "stdout",
          "text": [
            "first statement\n",
            "second statement\n",
            "third statement\n"
          ]
        }
      ]
    },
    {
      "cell_type": "code",
      "source": [
        "# diff b/w return and yield"
      ],
      "metadata": {
        "id": "QONDvFHudRuk"
      },
      "execution_count": null,
      "outputs": []
    },
    {
      "cell_type": "code",
      "source": [
        "def square(num):\n",
        "    for i in range(1,num+1):\n",
        "        yield i**2\n",
        "\n",
        "gen = square(10)\n",
        "\n",
        "print(next(gen))\n",
        "print(next(gen))\n",
        "print(next(gen))\n",
        "\n",
        "for i in gen:\n",
        "    print(i)"
      ],
      "metadata": {
        "colab": {
          "base_uri": "https://localhost:8080/"
        },
        "id": "7JYmR27JdccG",
        "outputId": "8808e8ee-97f4-4ada-ec9e-69e602573e79"
      },
      "execution_count": null,
      "outputs": [
        {
          "output_type": "stream",
          "name": "stdout",
          "text": [
            "1\n",
            "4\n",
            "9\n",
            "16\n",
            "25\n",
            "36\n",
            "49\n",
            "64\n",
            "81\n",
            "100\n"
          ]
        }
      ]
    },
    {
      "cell_type": "code",
      "source": [
        "# rabge using generator\n",
        "def mera_range(start,end):\n",
        "\n",
        "    for i in range(start,end):\n",
        "        yield i\n",
        "\n",
        "for i in mera_range(15,26):\n",
        "    print(i)"
      ],
      "metadata": {
        "colab": {
          "base_uri": "https://localhost:8080/"
        },
        "id": "bY0d2WpfdpB4",
        "outputId": "3a2e1b45-ee26-4995-87ce-e030bb327d42"
      },
      "execution_count": null,
      "outputs": [
        {
          "output_type": "stream",
          "name": "stdout",
          "text": [
            "15\n",
            "16\n",
            "17\n",
            "18\n",
            "19\n",
            "20\n",
            "21\n",
            "22\n",
            "23\n",
            "24\n",
            "25\n"
          ]
        }
      ]
    },
    {
      "cell_type": "code",
      "source": [
        "# generator expression\n",
        "# same as list comprehension\n",
        "\n",
        "gen = (i**2 for i in range(1,101))\n",
        "\n",
        "for i in gen:\n",
        "    print(i)"
      ],
      "metadata": {
        "colab": {
          "base_uri": "https://localhost:8080/"
        },
        "id": "Myw3tJXMgz4Z",
        "outputId": "d24c940c-588b-4d64-b561-8942200d7f73"
      },
      "execution_count": null,
      "outputs": [
        {
          "output_type": "stream",
          "name": "stdout",
          "text": [
            "1\n",
            "4\n",
            "9\n",
            "16\n",
            "25\n",
            "36\n",
            "49\n",
            "64\n",
            "81\n",
            "100\n",
            "121\n",
            "144\n",
            "169\n",
            "196\n",
            "225\n",
            "256\n",
            "289\n",
            "324\n",
            "361\n",
            "400\n",
            "441\n",
            "484\n",
            "529\n",
            "576\n",
            "625\n",
            "676\n",
            "729\n",
            "784\n",
            "841\n",
            "900\n",
            "961\n",
            "1024\n",
            "1089\n",
            "1156\n",
            "1225\n",
            "1296\n",
            "1369\n",
            "1444\n",
            "1521\n",
            "1600\n",
            "1681\n",
            "1764\n",
            "1849\n",
            "1936\n",
            "2025\n",
            "2116\n",
            "2209\n",
            "2304\n",
            "2401\n",
            "2500\n",
            "2601\n",
            "2704\n",
            "2809\n",
            "2916\n",
            "3025\n",
            "3136\n",
            "3249\n",
            "3364\n",
            "3481\n",
            "3600\n",
            "3721\n",
            "3844\n",
            "3969\n",
            "4096\n",
            "4225\n",
            "4356\n",
            "4489\n",
            "4624\n",
            "4761\n",
            "4900\n",
            "5041\n",
            "5184\n",
            "5329\n",
            "5476\n",
            "5625\n",
            "5776\n",
            "5929\n",
            "6084\n",
            "6241\n",
            "6400\n",
            "6561\n",
            "6724\n",
            "6889\n",
            "7056\n",
            "7225\n",
            "7396\n",
            "7569\n",
            "7744\n",
            "7921\n",
            "8100\n",
            "8281\n",
            "8464\n",
            "8649\n",
            "8836\n",
            "9025\n",
            "9216\n",
            "9409\n",
            "9604\n",
            "9801\n",
            "10000\n"
          ]
        }
      ]
    },
    {
      "cell_type": "code",
      "source": [
        "# practical example\n",
        "\n",
        "import os\n",
        "import cv2\n",
        "\n",
        "def image_data_reader(folder_path):\n",
        "\n",
        "    for file in os.listdir(folder_path):\n",
        "        f_array = cv2.imread(os.path.join(folder_path,file))\n",
        "        yield f_array\n",
        "\n",
        "\n",
        "gen = image_data_reader('C:/Users/91842/emotion-detector/train/Sad')\n",
        "\n",
        "next(gen)\n",
        "next(gen)\n",
        "\n",
        "next(gen)"
      ],
      "metadata": {
        "colab": {
          "base_uri": "https://localhost:8080/",
          "height": 332
        },
        "id": "_CZ3RSEXhAzA",
        "outputId": "e141710c-90b1-4814-d91d-0582ddbdca53"
      },
      "execution_count": null,
      "outputs": [
        {
          "output_type": "error",
          "ename": "FileNotFoundError",
          "evalue": "[Errno 2] No such file or directory: 'C:/Users/91842/emotion-detector/train/Sad'",
          "traceback": [
            "\u001b[0;31m---------------------------------------------------------------------------\u001b[0m",
            "\u001b[0;31mFileNotFoundError\u001b[0m                         Traceback (most recent call last)",
            "\u001b[0;32m/tmp/ipython-input-2707860037.py\u001b[0m in \u001b[0;36m<cell line: 0>\u001b[0;34m()\u001b[0m\n\u001b[1;32m     13\u001b[0m \u001b[0mgen\u001b[0m \u001b[0;34m=\u001b[0m \u001b[0mimage_data_reader\u001b[0m\u001b[0;34m(\u001b[0m\u001b[0;34m'C:/Users/91842/emotion-detector/train/Sad'\u001b[0m\u001b[0;34m)\u001b[0m\u001b[0;34m\u001b[0m\u001b[0;34m\u001b[0m\u001b[0m\n\u001b[1;32m     14\u001b[0m \u001b[0;34m\u001b[0m\u001b[0m\n\u001b[0;32m---> 15\u001b[0;31m \u001b[0mnext\u001b[0m\u001b[0;34m(\u001b[0m\u001b[0mgen\u001b[0m\u001b[0;34m)\u001b[0m\u001b[0;34m\u001b[0m\u001b[0;34m\u001b[0m\u001b[0m\n\u001b[0m\u001b[1;32m     16\u001b[0m \u001b[0mnext\u001b[0m\u001b[0;34m(\u001b[0m\u001b[0mgen\u001b[0m\u001b[0;34m)\u001b[0m\u001b[0;34m\u001b[0m\u001b[0;34m\u001b[0m\u001b[0m\n\u001b[1;32m     17\u001b[0m \u001b[0;34m\u001b[0m\u001b[0m\n",
            "\u001b[0;32m/tmp/ipython-input-2707860037.py\u001b[0m in \u001b[0;36mimage_data_reader\u001b[0;34m(folder_path)\u001b[0m\n\u001b[1;32m      6\u001b[0m \u001b[0;32mdef\u001b[0m \u001b[0mimage_data_reader\u001b[0m\u001b[0;34m(\u001b[0m\u001b[0mfolder_path\u001b[0m\u001b[0;34m)\u001b[0m\u001b[0;34m:\u001b[0m\u001b[0;34m\u001b[0m\u001b[0;34m\u001b[0m\u001b[0m\n\u001b[1;32m      7\u001b[0m \u001b[0;34m\u001b[0m\u001b[0m\n\u001b[0;32m----> 8\u001b[0;31m     \u001b[0;32mfor\u001b[0m \u001b[0mfile\u001b[0m \u001b[0;32min\u001b[0m \u001b[0mos\u001b[0m\u001b[0;34m.\u001b[0m\u001b[0mlistdir\u001b[0m\u001b[0;34m(\u001b[0m\u001b[0mfolder_path\u001b[0m\u001b[0;34m)\u001b[0m\u001b[0;34m:\u001b[0m\u001b[0;34m\u001b[0m\u001b[0;34m\u001b[0m\u001b[0m\n\u001b[0m\u001b[1;32m      9\u001b[0m         \u001b[0mf_array\u001b[0m \u001b[0;34m=\u001b[0m \u001b[0mcv2\u001b[0m\u001b[0;34m.\u001b[0m\u001b[0mimread\u001b[0m\u001b[0;34m(\u001b[0m\u001b[0mos\u001b[0m\u001b[0;34m.\u001b[0m\u001b[0mpath\u001b[0m\u001b[0;34m.\u001b[0m\u001b[0mjoin\u001b[0m\u001b[0;34m(\u001b[0m\u001b[0mfolder_path\u001b[0m\u001b[0;34m,\u001b[0m\u001b[0mfile\u001b[0m\u001b[0;34m)\u001b[0m\u001b[0;34m)\u001b[0m\u001b[0;34m\u001b[0m\u001b[0;34m\u001b[0m\u001b[0m\n\u001b[1;32m     10\u001b[0m         \u001b[0;32myield\u001b[0m \u001b[0mf_array\u001b[0m\u001b[0;34m\u001b[0m\u001b[0;34m\u001b[0m\u001b[0m\n",
            "\u001b[0;31mFileNotFoundError\u001b[0m: [Errno 2] No such file or directory: 'C:/Users/91842/emotion-detector/train/Sad'"
          ]
        }
      ]
    },
    {
      "cell_type": "code",
      "source": [
        "# genrator -> easy way to create iterator\n",
        "# why use iterator -> memory reason\n",
        "# return -> kam khatam hone ke bad chala jata hain . yield -> kam hone ke bad bhi rehta hain\n",
        "# to eecute genator eithe use loop or next method"
      ],
      "metadata": {
        "id": "3ne2vW9thH8f"
      },
      "execution_count": null,
      "outputs": []
    },
    {
      "cell_type": "code",
      "source": [
        "# benifits\n",
        "# 1. Ease of Implementation\n",
        "# before\n",
        "class mera_range:\n",
        "\n",
        "    def __init__(self,start,end):\n",
        "        self.start = start\n",
        "        self.end = end\n",
        "\n",
        "    def __iter__(self):\n",
        "        return mera_range_iterator(self)\n",
        "\n",
        "class mera_range_iterator:\n",
        "\n",
        "    def __init__(self,iterable_obj):\n",
        "        self.iterable = iterable_obj\n",
        "\n",
        "    def __iter__(self):\n",
        "        return self\n",
        "\n",
        "    def __next__(self):\n",
        "\n",
        "        if self.iterable.start >= self.iterable.end:\n",
        "            raise StopIteration\n",
        "\n",
        "        current = self.iterable.start\n",
        "        self.iterable.start+=1\n",
        "        return current\n",
        "\n",
        "for i in mera_range(1,11):\n",
        "  print(i)\n",
        "\n",
        "  #after\n",
        " def mera_range(start,end):\n",
        "\n",
        "    for i in range(start,end):\n",
        "        yield i\n",
        "\n",
        "\n",
        "# 2. Memory Efficient\n",
        "L = [x for x in range(100000)]\n",
        "gen = (x for x in range(100000))\n",
        "\n",
        "import sys\n",
        "\n",
        "print('Size of L in memory',sys.getsizeof(L))\n",
        "print('Size of gen in memory',sys.getsizeof(gen))\n",
        "\n",
        "\n",
        "# 3. Representing Infinite Streams\n",
        "def all_even():\n",
        "    n = 0\n",
        "    while True:\n",
        "        yield n\n",
        "        n += 2\n",
        "even_num_gen = all_even()\n",
        "next(even_num_gen)\n",
        "next(even_num_gen)\n",
        "\n",
        "\n",
        "# 4. Chaining Generators\n",
        "\n",
        "def fibonacci_numbers(nums):\n",
        "    x, y = 0, 1\n",
        "    for _ in range(nums):\n",
        "        x, y = y, x+y\n",
        "        yield x\n",
        "\n",
        "def square(nums):\n",
        "    for num in nums:\n",
        "        yield num**2\n",
        "\n",
        "print(sum(square(fibonacci_numbers(10))))"
      ],
      "metadata": {
        "id": "O5yHx7fNhclE"
      },
      "execution_count": null,
      "outputs": []
    }
  ]
}