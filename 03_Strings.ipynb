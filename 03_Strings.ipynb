{
  "cells": [
    {
      "cell_type": "markdown",
      "metadata": {
        "id": "view-in-github",
        "colab_type": "text"
      },
      "source": [
        "<a href=\"https://colab.research.google.com/github/Precipitation-Rain/Python/blob/main/03_Strings.ipynb\" target=\"_parent\"><img src=\"https://colab.research.google.com/assets/colab-badge.svg\" alt=\"Open In Colab\"/></a>"
      ]
    },
    {
      "cell_type": "markdown",
      "source": [
        "# Remaining loops\n"
      ],
      "metadata": {
        "id": "ZfcuET-bpJ0J"
      }
    },
    {
      "cell_type": "code",
      "execution_count": null,
      "metadata": {
        "colab": {
          "base_uri": "https://localhost:8080/"
        },
        "id": "UjoBMSEyeg-f",
        "outputId": "652000f5-5acd-498a-c658-48340b6065a6"
      },
      "outputs": [
        {
          "output_type": "stream",
          "name": "stdout",
          "text": [
            "10 10000\n",
            "9 9090.90909090909\n",
            "8 8264.462809917353\n",
            "7 7513.148009015775\n",
            "6 6830.134553650703\n",
            "5 6209.213230591548\n",
            "4 5644.739300537771\n",
            "3 5131.5811823070635\n",
            "2 4665.07380209733\n",
            "1 4240.976183724845\n"
          ]
        }
      ],
      "source": [
        "# population wala wuetion\n",
        "curr_pop = 10000\n",
        "i = 1\n",
        "\n",
        "for i in range(10,0,-1):\n",
        "  print(i,curr_pop)\n",
        "  curr_pop=curr_pop/1.1\n",
        "  #logic\n",
        "  # 9th year = x , to 10 th year me means current year me population 10000 chahiye aur population har saal 10% se badhta hain.To 9th year uskar 10 % jod dnege to 10000 aana chahiye\n",
        "  #mathematically x + 10%x = 10000 -> x + 0.1x = 10000 -> 1.1x = 10000 -> x = 10000/1.1\n",
        "  # galati kaha huyi = hame current year me se uska 10% minus kiya (hame 10 se 1 tak gaye ) par hame (1 se 10 tak aana tha)"
      ]
    },
    {
      "cell_type": "code",
      "execution_count": null,
      "metadata": {
        "colab": {
          "base_uri": "https://localhost:8080/"
        },
        "id": "BS9xfTwvwSjC",
        "outputId": "fd3137ca-5a04-498f-8577-30a0d61a9a70"
      },
      "outputs": [
        {
          "output_type": "stream",
          "name": "stdout",
          "text": [
            "Enter the number 4\n",
            "2.6666666666666665\n"
          ]
        }
      ],
      "source": [
        "# Q] 1/1! + 2/2! + 3/3!....n\n",
        "# sirji ka logic\n",
        "num = int(input(\"Enter the number \"))\n",
        "fact = 1\n",
        "result = 0\n",
        "for i in range(1,num+1): # (first , last) first wala include hota hain , last wala excluded hota hain\n",
        "  fact = fact*i\n",
        "  result = result + i/fact\n",
        "\n",
        "print(result)\n"
      ]
    },
    {
      "cell_type": "code",
      "execution_count": null,
      "metadata": {
        "colab": {
          "base_uri": "https://localhost:8080/"
        },
        "id": "8HoSXLYo0KGZ",
        "outputId": "38513381-e158-4278-cadd-e1759ae27d2b"
      },
      "outputs": [
        {
          "output_type": "stream",
          "name": "stdout",
          "text": [
            "Enter the number 5\n",
            "2.708333333333333\n"
          ]
        }
      ],
      "source": [
        "# Q] 1/1! + 2/2! + 3/3!....n\n",
        "# my own logic\n",
        "\n",
        "num = int(input(\"Enter the number \"))\n",
        "\n",
        "import math\n",
        "result = 0\n",
        "for i in range(1,num+1): # (first , last) first wala include hota hain , last wala excluded hota hain\n",
        "\n",
        "  result = result + i/math.factorial(i)\n",
        "\n",
        "print(result)\n"
      ]
    },
    {
      "cell_type": "code",
      "execution_count": null,
      "metadata": {
        "id": "g5wZJ6Vo0XUh"
      },
      "outputs": [],
      "source": []
    },
    {
      "cell_type": "code",
      "execution_count": null,
      "metadata": {
        "id": "okbJ08sf3KKR"
      },
      "outputs": [],
      "source": [
        "# Netsed Loops"
      ]
    },
    {
      "cell_type": "code",
      "execution_count": null,
      "metadata": {
        "id": "zyOIuiYy3VB1",
        "colab": {
          "base_uri": "https://localhost:8080/"
        },
        "outputId": "99ed9d1a-e9ed-434d-db9f-cb4e0b724985"
      },
      "outputs": [
        {
          "output_type": "stream",
          "name": "stdout",
          "text": [
            "1 2\n",
            "1 3\n",
            "1 4\n",
            "2 1\n",
            "2 3\n",
            "2 4\n",
            "3 1\n",
            "3 2\n",
            "3 4\n",
            "4 1\n",
            "4 2\n",
            "4 3\n"
          ]
        }
      ],
      "source": [
        "for i in range(1,5):\n",
        "  for j in range(1,5):\n",
        "    if(i!=j): # to make oly unique pairs like (a,b) avoid (a,a)\n",
        "      print(i,j)\n"
      ]
    },
    {
      "cell_type": "code",
      "source": [
        "# Q]   *        print this pattern\n",
        "    #  **\n",
        "    #  ***\n",
        "    #  ****\n",
        "    #  *****\n",
        "\n",
        "\n",
        "row = int(input(\"enter rows \"))\n",
        "\n",
        "for i in range(1,row+1):\n",
        "  for j in range(1,i+1):\n",
        "    print(\"*\",end='')\n",
        "  print()\n"
      ],
      "metadata": {
        "colab": {
          "base_uri": "https://localhost:8080/"
        },
        "id": "_qk2Hpip4r-s",
        "outputId": "d64a8aff-9ead-4cd0-c9b5-d1683df437e4"
      },
      "execution_count": null,
      "outputs": [
        {
          "output_type": "stream",
          "name": "stdout",
          "text": [
            "enter rows 5\n",
            "*\n",
            "**\n",
            "***\n",
            "****\n",
            "*****\n"
          ]
        }
      ]
    },
    {
      "cell_type": "code",
      "source": [
        "# Q] 1    print this pattern\n",
        "#    121\n",
        "#    12321\n",
        "#    1234321\n",
        "\n",
        "\n",
        "row = int(input(\"Enter rows \"))\n",
        "\n",
        "for i in range(1,row+1):\n",
        "  for j in range(1,i+1):\n",
        "    print(j,end='')\n",
        "  for k in range(i-1,0,-1):\n",
        "    print(k,end='')\n",
        "  print()\n"
      ],
      "metadata": {
        "colab": {
          "base_uri": "https://localhost:8080/"
        },
        "id": "8av0sk0Z9Juk",
        "outputId": "38c4785a-c65e-4a3e-9faf-757dba1e34dc"
      },
      "execution_count": null,
      "outputs": [
        {
          "output_type": "stream",
          "name": "stdout",
          "text": [
            "Enter rows 6\n",
            "1\n",
            "121\n",
            "12321\n",
            "1234321\n",
            "123454321\n",
            "12345654321\n"
          ]
        }
      ]
    },
    {
      "cell_type": "code",
      "source": [],
      "metadata": {
        "id": "be7MKMa6CFfC"
      },
      "execution_count": null,
      "outputs": []
    },
    {
      "cell_type": "markdown",
      "source": [
        "## Loop control statements"
      ],
      "metadata": {
        "id": "M659eXDXdQet"
      }
    },
    {
      "cell_type": "code",
      "source": [
        "#1]break\n",
        "#it is used to break the flow of loop as per written condition -> uske baad ka sara code execute hi nahi hoga -> loop me se bahar chale jaoge\n",
        "# real life example -> you are searching for your prn in merit list through loop when you get it you dont check further"
      ],
      "metadata": {
        "id": "8oENnsjwdQF7"
      },
      "execution_count": null,
      "outputs": []
    },
    {
      "cell_type": "code",
      "source": [
        "for i in range(1,11):\n",
        "  if i == 15:\n",
        "    break\n",
        "  print(i)"
      ],
      "metadata": {
        "colab": {
          "base_uri": "https://localhost:8080/"
        },
        "id": "gbekTxQ6dopw",
        "outputId": "7b4b21c8-d341-4fac-b275-5a49bf7a2761"
      },
      "execution_count": null,
      "outputs": [
        {
          "output_type": "stream",
          "name": "stdout",
          "text": [
            "1\n",
            "2\n",
            "3\n",
            "4\n",
            "5\n",
            "6\n",
            "7\n",
            "8\n",
            "9\n",
            "10\n"
          ]
        }
      ]
    },
    {
      "cell_type": "code",
      "source": [
        "from typing import Counter\n",
        "# Q] Find numbers between range given by user\n",
        "\n",
        "low_range = int(input(\"Enter lower range \"))\n",
        "upper_range = int(input(\"Enter upper range \"))\n",
        "count = 0\n",
        "\n",
        "for i in range(low_range,upper_range+1):\n",
        "  if i==1:\n",
        "    continue\n",
        "\n",
        "  for j in range(2,i):\n",
        "    if i%j == 0:\n",
        "      break\n",
        "  else:\n",
        "    count+=1\n",
        "    print(i)\n",
        "\n",
        "print(\"Count of rime no's between\",low_range,\"and\",upper_range,\"is\",count)"
      ],
      "metadata": {
        "colab": {
          "base_uri": "https://localhost:8080/"
        },
        "id": "WOfGzcWddyoS",
        "outputId": "7e5afe2c-a805-4535-9c94-99800a09a204"
      },
      "execution_count": null,
      "outputs": [
        {
          "output_type": "stream",
          "name": "stdout",
          "text": [
            "Enter lower range 10\n",
            "Enter upper range 100\n",
            "11\n",
            "13\n",
            "17\n",
            "19\n",
            "23\n",
            "29\n",
            "31\n",
            "37\n",
            "41\n",
            "43\n",
            "47\n",
            "53\n",
            "59\n",
            "61\n",
            "67\n",
            "71\n",
            "73\n",
            "79\n",
            "83\n",
            "89\n",
            "97\n",
            "Count of rime no's between 10 and 100 is 21\n"
          ]
        }
      ]
    },
    {
      "cell_type": "code",
      "source": [
        "#2]continue\n",
        "# us particular iteratio ke liye niche ka code skip karat hain\n",
        "\n",
        "#ex]\n",
        "\n",
        "for i in range(1,11):\n",
        "  if i == 6:\n",
        "    break\n",
        "  else:\n",
        "    print(i)"
      ],
      "metadata": {
        "colab": {
          "base_uri": "https://localhost:8080/"
        },
        "id": "lskCGFS8jgJC",
        "outputId": "b1a4e7f6-9ab6-453e-d16b-9a2cc7ceb995"
      },
      "execution_count": null,
      "outputs": [
        {
          "output_type": "stream",
          "name": "stdout",
          "text": [
            "1\n",
            "2\n",
            "3\n",
            "4\n",
            "5\n"
          ]
        }
      ]
    },
    {
      "cell_type": "code",
      "source": [
        "#3]pass\n",
        "#used to save from error\n",
        "# aap ek piece of code ko include karna chahte ho but aapko logic pata nahi hain ya yaad nahi aa raha to aap interpreter ko bata rahe ho ki bas is code ko enecute karo\n",
        "#\n",
        "\n",
        "for i in range(1,100):\n",
        "  pass"
      ],
      "metadata": {
        "id": "sbbyaBi9j9U7"
      },
      "execution_count": null,
      "outputs": []
    },
    {
      "cell_type": "code",
      "source": [],
      "metadata": {
        "id": "mhLELXaJlUMd"
      },
      "execution_count": null,
      "outputs": []
    },
    {
      "cell_type": "markdown",
      "source": [
        "# Strings"
      ],
      "metadata": {
        "id": "1V2wDqaXmhjo"
      }
    },
    {
      "cell_type": "code",
      "source": [
        "# strings = collection of characters\n",
        "# official defination : Sequence of unicode characters\n",
        "# kisi bhi text ko programming me strings bola jata hain"
      ],
      "metadata": {
        "id": "DxZpcyV0mhCj"
      },
      "execution_count": null,
      "outputs": []
    },
    {
      "cell_type": "markdown",
      "source": [
        "### Creating strings:"
      ],
      "metadata": {
        "id": "72TuhP_81UYl"
      }
    },
    {
      "cell_type": "code",
      "source": [
        "#]\n",
        "\n",
        "\n",
        "s = 'Hello'       # used when there is double inverted comma in string then we include that all string in single inverted so interpreter do not get confused ex] s = 'Hii,\"I am raj\"'\n",
        "                    #s = 'Heelo,\"I am cr7\"'\n",
        "s=\"Hello\"            # when we have to use single inverted comma in string then we include that whole string in double inverted comma. ex] s = \" helo I'm rajvardhan\"\n",
        "                       # s = \" helo I'm rajvardhan\"\n",
        "s = '''hello'''\n",
        "s = \"\"\"Helo\"\"\"\n",
        "s = str('abc')\n",
        "print(s)"
      ],
      "metadata": {
        "colab": {
          "base_uri": "https://localhost:8080/"
        },
        "id": "pPBBLTdNnCW2",
        "outputId": "0d44551b-5e9b-4a18-a963-cbe5126f1abe"
      },
      "execution_count": null,
      "outputs": [
        {
          "output_type": "stream",
          "name": "stdout",
          "text": [
            "abc\n"
          ]
        }
      ]
    },
    {
      "cell_type": "markdown",
      "source": [
        "### indexing:"
      ],
      "metadata": {
        "id": "RFIPLu2H1XZL"
      }
    },
    {
      "cell_type": "code",
      "source": [
        "#]\n",
        "\n",
        "\n",
        "# extracting any character grom string known as indexing\n",
        "\n",
        "#Positive indexing:\n",
        "s = \"Rajraj chola 1\"\n",
        "s[5]\n",
        "\n",
        "#Negative Indexing:\n",
        "s1 = \"rajendra Chola\"\n",
        "s1[-1]\n",
        "# it is used when we don't know about len of string in that case we use it"
      ],
      "metadata": {
        "colab": {
          "base_uri": "https://localhost:8080/",
          "height": 36
        },
        "id": "GwGXOhKHqdFl",
        "outputId": "60982fc7-c958-4651-92c8-4e20761c7601"
      },
      "execution_count": null,
      "outputs": [
        {
          "output_type": "execute_result",
          "data": {
            "text/plain": [
              "'a'"
            ],
            "application/vnd.google.colaboratory.intrinsic+json": {
              "type": "string"
            }
          },
          "metadata": {},
          "execution_count": 26
        }
      ]
    },
    {
      "cell_type": "markdown",
      "source": [
        "### Slicing"
      ],
      "metadata": {
        "id": "i9UFXQxS1dLu"
      }
    },
    {
      "cell_type": "code",
      "source": [
        "#]\n",
        "\n",
        "\n",
        "# extracting one character = indexing\n",
        "# extracting more than oe character(substring) = slicing\n",
        "\n",
        "#Positive Slicicng\n",
        "s = \"Hello World\"\n",
        "s[0:6]\n",
        "s[4:5]\n",
        "s[0:]\n",
        "s[:6]\n",
        "s[:]\n",
        "s[0:4:2]\n",
        "\n",
        "#Negative Slicing: always remeber Larger number at starting\n",
        "s[-6:]\n",
        "s[-1:]\n",
        "s[:-9]\n",
        "\n"
      ],
      "metadata": {
        "colab": {
          "base_uri": "https://localhost:8080/",
          "height": 36
        },
        "id": "0xpJ0j6rsIue",
        "outputId": "2f74c2dc-1ea3-45a0-c4b7-de710da57269"
      },
      "execution_count": null,
      "outputs": [
        {
          "output_type": "execute_result",
          "data": {
            "text/plain": [
              "'He'"
            ],
            "application/vnd.google.colaboratory.intrinsic+json": {
              "type": "string"
            }
          },
          "metadata": {},
          "execution_count": 27
        }
      ]
    },
    {
      "cell_type": "code",
      "source": [
        "#code to reverse string\n",
        "s= \"bavuma\"\n",
        "s[::-1]"
      ],
      "metadata": {
        "colab": {
          "base_uri": "https://localhost:8080/",
          "height": 36
        },
        "id": "IszpxXqns2Xp",
        "outputId": "2df086e6-5bfb-40cd-eca6-9e57de1dc358"
      },
      "execution_count": null,
      "outputs": [
        {
          "output_type": "execute_result",
          "data": {
            "text/plain": [
              "'amuvab'"
            ],
            "application/vnd.google.colaboratory.intrinsic+json": {
              "type": "string"
            }
          },
          "metadata": {},
          "execution_count": 28
        }
      ]
    },
    {
      "cell_type": "markdown",
      "source": [
        "### Editing and Deleting:"
      ],
      "metadata": {
        "id": "jNsMsQTh1iH2"
      }
    },
    {
      "cell_type": "code",
      "source": [
        "#]\n",
        "\n",
        "#Python strings are immutable(You can't change the string sfter it's creation)\n",
        "\n",
        "s = 'Kaise ho'\n",
        "s[1]='A'"
      ],
      "metadata": {
        "colab": {
          "base_uri": "https://localhost:8080/",
          "height": 176
        },
        "id": "X3nWXWYOzj_o",
        "outputId": "583e5003-a8b4-4356-9d2d-e4fb9419e661"
      },
      "execution_count": null,
      "outputs": [
        {
          "output_type": "error",
          "ename": "TypeError",
          "evalue": "'str' object does not support item assignment",
          "traceback": [
            "\u001b[0;31m---------------------------------------------------------------------------\u001b[0m",
            "\u001b[0;31mTypeError\u001b[0m                                 Traceback (most recent call last)",
            "\u001b[0;32m/tmp/ipython-input-1219071913.py\u001b[0m in \u001b[0;36m<cell line: 0>\u001b[0;34m()\u001b[0m\n\u001b[1;32m      4\u001b[0m \u001b[0;34m\u001b[0m\u001b[0m\n\u001b[1;32m      5\u001b[0m \u001b[0ms\u001b[0m \u001b[0;34m=\u001b[0m \u001b[0;34m'Kaise ho'\u001b[0m\u001b[0;34m\u001b[0m\u001b[0;34m\u001b[0m\u001b[0m\n\u001b[0;32m----> 6\u001b[0;31m \u001b[0ms\u001b[0m\u001b[0;34m[\u001b[0m\u001b[0;36m1\u001b[0m\u001b[0;34m]\u001b[0m\u001b[0;34m=\u001b[0m\u001b[0;34m'A'\u001b[0m\u001b[0;34m\u001b[0m\u001b[0;34m\u001b[0m\u001b[0m\n\u001b[0m",
            "\u001b[0;31mTypeError\u001b[0m: 'str' object does not support item assignment"
          ]
        }
      ]
    },
    {
      "cell_type": "code",
      "source": [
        "#you can delete string\n",
        "s=\"kingmen\"\n",
        "del s\n",
        "print(s)"
      ],
      "metadata": {
        "colab": {
          "base_uri": "https://localhost:8080/",
          "height": 176
        },
        "id": "mKQ1Ic2H1dIu",
        "outputId": "4f56b3b4-65b0-4504-c262-799bf0bd90d4"
      },
      "execution_count": null,
      "outputs": [
        {
          "output_type": "error",
          "ename": "NameError",
          "evalue": "name 's' is not defined",
          "traceback": [
            "\u001b[0;31m---------------------------------------------------------------------------\u001b[0m",
            "\u001b[0;31mNameError\u001b[0m                                 Traceback (most recent call last)",
            "\u001b[0;32m/tmp/ipython-input-3017299127.py\u001b[0m in \u001b[0;36m<cell line: 0>\u001b[0;34m()\u001b[0m\n\u001b[1;32m      2\u001b[0m \u001b[0ms\u001b[0m\u001b[0;34m=\u001b[0m\u001b[0;34m\"kingmen\"\u001b[0m\u001b[0;34m\u001b[0m\u001b[0;34m\u001b[0m\u001b[0m\n\u001b[1;32m      3\u001b[0m \u001b[0;32mdel\u001b[0m \u001b[0ms\u001b[0m\u001b[0;34m\u001b[0m\u001b[0;34m\u001b[0m\u001b[0m\n\u001b[0;32m----> 4\u001b[0;31m \u001b[0mprint\u001b[0m\u001b[0;34m(\u001b[0m\u001b[0ms\u001b[0m\u001b[0;34m)\u001b[0m\u001b[0;34m\u001b[0m\u001b[0;34m\u001b[0m\u001b[0m\n\u001b[0m",
            "\u001b[0;31mNameError\u001b[0m: name 's' is not defined"
          ]
        }
      ]
    },
    {
      "cell_type": "markdown",
      "source": [
        "### Operations:"
      ],
      "metadata": {
        "id": "Bl9dhSha1ofR"
      }
    },
    {
      "cell_type": "code",
      "source": [
        "\n",
        "#1]Arithematic Operator:\n",
        "print('Raj'+'vardhan')\n",
        "\n",
        "print('Rajvardhan '*10)"
      ],
      "metadata": {
        "colab": {
          "base_uri": "https://localhost:8080/"
        },
        "id": "v4Pa7syr1jQY",
        "outputId": "4caf0b06-d147-42c9-c6c7-1a20ba8256e5"
      },
      "execution_count": null,
      "outputs": [
        {
          "output_type": "stream",
          "name": "stdout",
          "text": [
            "Rajvardhan\n",
            "Rajvardhan Rajvardhan Rajvardhan Rajvardhan Rajvardhan Rajvardhan Rajvardhan Rajvardhan Rajvardhan Rajvardhan \n"
          ]
        }
      ]
    },
    {
      "cell_type": "code",
      "source": [
        "#2]Relational"
      ],
      "metadata": {
        "id": "IH1ZzMNV5tAP"
      },
      "execution_count": null,
      "outputs": []
    },
    {
      "cell_type": "code",
      "source": [
        "'Delhi' == 'Delhi'"
      ],
      "metadata": {
        "colab": {
          "base_uri": "https://localhost:8080/"
        },
        "id": "U5E442__59T1",
        "outputId": "b3d806b3-4d4e-4039-87f4-9b66c0db9e50"
      },
      "execution_count": null,
      "outputs": [
        {
          "output_type": "execute_result",
          "data": {
            "text/plain": [
              "True"
            ]
          },
          "metadata": {},
          "execution_count": 33
        }
      ]
    },
    {
      "cell_type": "code",
      "source": [
        "'Delhi' == 'Munbai'"
      ],
      "metadata": {
        "colab": {
          "base_uri": "https://localhost:8080/"
        },
        "id": "B_vusM3q5_xt",
        "outputId": "c598a2f5-4c16-41f9-c9ec-a5a5fb0ef61d"
      },
      "execution_count": null,
      "outputs": [
        {
          "output_type": "execute_result",
          "data": {
            "text/plain": [
              "False"
            ]
          },
          "metadata": {},
          "execution_count": 34
        }
      ]
    },
    {
      "cell_type": "code",
      "source": [
        "'Delhi' != 'Delhi'"
      ],
      "metadata": {
        "colab": {
          "base_uri": "https://localhost:8080/"
        },
        "id": "jWdjm0In6CNX",
        "outputId": "666942c5-577b-4cbd-b8aa-282a251a0e98"
      },
      "execution_count": null,
      "outputs": [
        {
          "output_type": "execute_result",
          "data": {
            "text/plain": [
              "False"
            ]
          },
          "metadata": {},
          "execution_count": 35
        }
      ]
    },
    {
      "cell_type": "code",
      "source": [
        "'pune' >= 'Delhi' # Baes on ascii value (Lexiograhically)"
      ],
      "metadata": {
        "colab": {
          "base_uri": "https://localhost:8080/"
        },
        "id": "NY_VG1t-6Eoi",
        "outputId": "0b8300a5-8c63-42a4-aa79-8db7741bf336"
      },
      "execution_count": null,
      "outputs": [
        {
          "output_type": "execute_result",
          "data": {
            "text/plain": [
              "True"
            ]
          },
          "metadata": {},
          "execution_count": 36
        }
      ]
    },
    {
      "cell_type": "code",
      "source": [
        "'pune' <= 'Delhi'"
      ],
      "metadata": {
        "colab": {
          "base_uri": "https://localhost:8080/"
        },
        "id": "lWJBvgDY6HdG",
        "outputId": "b10c517f-d213-4ebb-aaa7-c911db86f8ea"
      },
      "execution_count": null,
      "outputs": [
        {
          "output_type": "execute_result",
          "data": {
            "text/plain": [
              "False"
            ]
          },
          "metadata": {},
          "execution_count": 37
        }
      ]
    },
    {
      "cell_type": "code",
      "source": [
        "'pune' > 'mumbai'"
      ],
      "metadata": {
        "colab": {
          "base_uri": "https://localhost:8080/"
        },
        "id": "Duq_nYtq6Q5W",
        "outputId": "0eb24d22-4a18-4ac0-a3ea-abf324258995"
      },
      "execution_count": null,
      "outputs": [
        {
          "output_type": "execute_result",
          "data": {
            "text/plain": [
              "True"
            ]
          },
          "metadata": {},
          "execution_count": 38
        }
      ]
    },
    {
      "cell_type": "code",
      "source": [
        "'pune' < 'mumbai'"
      ],
      "metadata": {
        "colab": {
          "base_uri": "https://localhost:8080/"
        },
        "id": "HLlGJFkO6SeA",
        "outputId": "5033deee-8612-4fda-d36c-6ddd8ae97347"
      },
      "execution_count": null,
      "outputs": [
        {
          "output_type": "execute_result",
          "data": {
            "text/plain": [
              "False"
            ]
          },
          "metadata": {},
          "execution_count": 39
        }
      ]
    },
    {
      "cell_type": "code",
      "source": [],
      "metadata": {
        "id": "jUhR0R386VlS"
      },
      "execution_count": null,
      "outputs": []
    },
    {
      "cell_type": "code",
      "source": [],
      "metadata": {
        "id": "z67tfCIF6XxC"
      },
      "execution_count": null,
      "outputs": []
    },
    {
      "cell_type": "code",
      "source": [
        "#3]Logical Operators"
      ],
      "metadata": {
        "id": "_1FnVHG66X-K"
      },
      "execution_count": null,
      "outputs": []
    },
    {
      "cell_type": "code",
      "source": [
        "'delhi' and 'mumbai'"
      ],
      "metadata": {
        "colab": {
          "base_uri": "https://localhost:8080/",
          "height": 36
        },
        "id": "z1CDikQH6cfl",
        "outputId": "c5046fe4-98aa-421a-f1c0-c187d4fa4e59"
      },
      "execution_count": null,
      "outputs": [
        {
          "output_type": "execute_result",
          "data": {
            "text/plain": [
              "'mumbai'"
            ],
            "application/vnd.google.colaboratory.intrinsic+json": {
              "type": "string"
            }
          },
          "metadata": {},
          "execution_count": 41
        }
      ]
    },
    {
      "cell_type": "code",
      "source": [
        "'delhi' or 'mumbai'"
      ],
      "metadata": {
        "colab": {
          "base_uri": "https://localhost:8080/",
          "height": 36
        },
        "id": "32rZDsqe6e5K",
        "outputId": "3d2f8e46-cb9e-46ff-9cce-0c347f6b0cd1"
      },
      "execution_count": null,
      "outputs": [
        {
          "output_type": "execute_result",
          "data": {
            "text/plain": [
              "'delhi'"
            ],
            "application/vnd.google.colaboratory.intrinsic+json": {
              "type": "string"
            }
          },
          "metadata": {},
          "execution_count": 42
        }
      ]
    },
    {
      "cell_type": "code",
      "source": [
        "'' and 'king' # empty string = false, # filled string = True\n",
        "              # in case of or as we enter first string it gets true thats why it print first string\n",
        "              #in case of and, as we enter second string it checks it is  true or not  thats why it print second string"
      ],
      "metadata": {
        "colab": {
          "base_uri": "https://localhost:8080/",
          "height": 36
        },
        "id": "3KtmxN4d6iK2",
        "outputId": "98cf8bd7-ade8-431b-a907-9a4787d29acb"
      },
      "execution_count": null,
      "outputs": [
        {
          "output_type": "execute_result",
          "data": {
            "text/plain": [
              "''"
            ],
            "application/vnd.google.colaboratory.intrinsic+json": {
              "type": "string"
            }
          },
          "metadata": {},
          "execution_count": 43
        }
      ]
    },
    {
      "cell_type": "code",
      "source": [
        "'' or 'king'"
      ],
      "metadata": {
        "colab": {
          "base_uri": "https://localhost:8080/",
          "height": 36
        },
        "id": "SAdTzdar6kdJ",
        "outputId": "c78fcaa8-4b6b-492f-ec34-d6298556d5cb"
      },
      "execution_count": null,
      "outputs": [
        {
          "output_type": "execute_result",
          "data": {
            "text/plain": [
              "'king'"
            ],
            "application/vnd.google.colaboratory.intrinsic+json": {
              "type": "string"
            }
          },
          "metadata": {},
          "execution_count": 44
        }
      ]
    },
    {
      "cell_type": "code",
      "source": [],
      "metadata": {
        "id": "1UUZfwN96n8y"
      },
      "execution_count": null,
      "outputs": []
    },
    {
      "cell_type": "code",
      "source": [],
      "metadata": {
        "id": "81_9VA_T7D6g"
      },
      "execution_count": null,
      "outputs": []
    },
    {
      "cell_type": "code",
      "source": [
        "#4]Loops in string"
      ],
      "metadata": {
        "id": "IeWwCzyQ7ECW"
      },
      "execution_count": null,
      "outputs": []
    },
    {
      "cell_type": "code",
      "source": [
        "for i in 'Kolkata':\n",
        "  print(i)"
      ],
      "metadata": {
        "colab": {
          "base_uri": "https://localhost:8080/"
        },
        "id": "r5N0j42E7Jkw",
        "outputId": "ba22c60b-0680-4288-c93f-f770635fe2b0"
      },
      "execution_count": null,
      "outputs": [
        {
          "output_type": "stream",
          "name": "stdout",
          "text": [
            "K\n",
            "o\n",
            "l\n",
            "k\n",
            "a\n",
            "t\n",
            "a\n"
          ]
        }
      ]
    },
    {
      "cell_type": "code",
      "source": [
        "for i in 'Chandigrah':\n",
        "  print('Pune')"
      ],
      "metadata": {
        "colab": {
          "base_uri": "https://localhost:8080/"
        },
        "id": "iinKBuz47M86",
        "outputId": "92292b20-5183-4498-e4f5-a6e66c805878"
      },
      "execution_count": null,
      "outputs": [
        {
          "output_type": "stream",
          "name": "stdout",
          "text": [
            "Pune\n",
            "Pune\n",
            "Pune\n",
            "Pune\n",
            "Pune\n",
            "Pune\n",
            "Pune\n",
            "Pune\n",
            "Pune\n",
            "Pune\n"
          ]
        }
      ]
    },
    {
      "cell_type": "code",
      "source": [],
      "metadata": {
        "id": "lNePmRX57RAr"
      },
      "execution_count": null,
      "outputs": []
    },
    {
      "cell_type": "code",
      "source": [],
      "metadata": {
        "id": "dlS91cD17StY"
      },
      "execution_count": null,
      "outputs": []
    },
    {
      "cell_type": "code",
      "source": [
        "#5]membership operator\n",
        "\n",
        "'d' in 'delhi'"
      ],
      "metadata": {
        "colab": {
          "base_uri": "https://localhost:8080/"
        },
        "id": "lrTbcT427TGN",
        "outputId": "4cbeb92a-1367-42a9-c9b8-ee7c69aa1374"
      },
      "execution_count": null,
      "outputs": [
        {
          "output_type": "execute_result",
          "data": {
            "text/plain": [
              "True"
            ]
          },
          "metadata": {},
          "execution_count": 48
        }
      ]
    },
    {
      "cell_type": "code",
      "source": [
        "'m' not in 'katak'"
      ],
      "metadata": {
        "colab": {
          "base_uri": "https://localhost:8080/"
        },
        "id": "QnsFwY_K7YOM",
        "outputId": "2886a94c-bfd9-456b-afa7-1640c69f2b15"
      },
      "execution_count": null,
      "outputs": [
        {
          "output_type": "execute_result",
          "data": {
            "text/plain": [
              "True"
            ]
          },
          "metadata": {},
          "execution_count": 49
        }
      ]
    },
    {
      "cell_type": "code",
      "source": [],
      "metadata": {
        "id": "7V0qWa3p7bNc"
      },
      "execution_count": null,
      "outputs": []
    },
    {
      "cell_type": "markdown",
      "source": [
        "### List Functions"
      ],
      "metadata": {
        "id": "gFsZTSLe9llR"
      }
    },
    {
      "cell_type": "code",
      "source": [
        "# Coomon Functions : applicable on all data types -> string,list,tuple,set,dictionary\n",
        "# special functions : individually different"
      ],
      "metadata": {
        "id": "GJIos31k9nxk"
      },
      "execution_count": null,
      "outputs": []
    },
    {
      "cell_type": "code",
      "source": [
        "len('Rajvardhan')"
      ],
      "metadata": {
        "colab": {
          "base_uri": "https://localhost:8080/"
        },
        "id": "f0mQAv3197pC",
        "outputId": "aade3f31-2c60-415c-c082-94545fc9edee"
      },
      "execution_count": null,
      "outputs": [
        {
          "output_type": "execute_result",
          "data": {
            "text/plain": [
              "10"
            ]
          },
          "metadata": {},
          "execution_count": 51
        }
      ]
    },
    {
      "cell_type": "code",
      "source": [
        "max('rajvardhan') # based  on ascii value"
      ],
      "metadata": {
        "colab": {
          "base_uri": "https://localhost:8080/",
          "height": 36
        },
        "id": "kngt0dSN9-i0",
        "outputId": "8f8330e6-6e2e-47a6-e597-6de9b955570b"
      },
      "execution_count": null,
      "outputs": [
        {
          "output_type": "execute_result",
          "data": {
            "text/plain": [
              "'v'"
            ],
            "application/vnd.google.colaboratory.intrinsic+json": {
              "type": "string"
            }
          },
          "metadata": {},
          "execution_count": 52
        }
      ]
    },
    {
      "cell_type": "code",
      "source": [
        "min('Rajvardhan')"
      ],
      "metadata": {
        "colab": {
          "base_uri": "https://localhost:8080/",
          "height": 36
        },
        "id": "VGhvloT0-BNJ",
        "outputId": "4f51b3b8-dc17-437c-a0a6-d784552d1806"
      },
      "execution_count": null,
      "outputs": [
        {
          "output_type": "execute_result",
          "data": {
            "text/plain": [
              "'R'"
            ],
            "application/vnd.google.colaboratory.intrinsic+json": {
              "type": "string"
            }
          },
          "metadata": {},
          "execution_count": 53
        }
      ]
    },
    {
      "cell_type": "code",
      "source": [
        "sorted('Rajvardhan')  # Ascending order"
      ],
      "metadata": {
        "colab": {
          "base_uri": "https://localhost:8080/"
        },
        "id": "RL_b-Mfh-DkM",
        "outputId": "bbc4b98f-659b-4850-fb87-ada5b57941f6"
      },
      "execution_count": null,
      "outputs": [
        {
          "output_type": "execute_result",
          "data": {
            "text/plain": [
              "['R', 'a', 'a', 'a', 'd', 'h', 'j', 'n', 'r', 'v']"
            ]
          },
          "metadata": {},
          "execution_count": 54
        }
      ]
    },
    {
      "cell_type": "code",
      "source": [
        "sorted('Rajvardhan',reverse=True)  # Descending order"
      ],
      "metadata": {
        "colab": {
          "base_uri": "https://localhost:8080/"
        },
        "id": "4m86Qn26-GWi",
        "outputId": "14c1c36f-c301-46ec-b356-7ce64125d7a6"
      },
      "execution_count": null,
      "outputs": [
        {
          "output_type": "execute_result",
          "data": {
            "text/plain": [
              "['v', 'r', 'n', 'j', 'h', 'd', 'a', 'a', 'a', 'R']"
            ]
          },
          "metadata": {},
          "execution_count": 55
        }
      ]
    },
    {
      "cell_type": "code",
      "source": [],
      "metadata": {
        "id": "wLvJ_djs-Q3y"
      },
      "execution_count": null,
      "outputs": []
    },
    {
      "cell_type": "code",
      "source": [
        "# Special Functions\n",
        "# Group 1"
      ],
      "metadata": {
        "id": "9fgiZsvB_xRx"
      },
      "execution_count": null,
      "outputs": []
    },
    {
      "cell_type": "code",
      "source": [
        "s = 'rajvardhan Shewale'"
      ],
      "metadata": {
        "id": "sGMS0NOY_2uh"
      },
      "execution_count": null,
      "outputs": []
    },
    {
      "cell_type": "code",
      "source": [
        "s.capitalize() # Makes first letter of sentence capital"
      ],
      "metadata": {
        "colab": {
          "base_uri": "https://localhost:8080/",
          "height": 36
        },
        "id": "Zx3M_ebT_6ak",
        "outputId": "6d6ff6c9-802f-45a9-dd17-c0ed107a5f1c"
      },
      "execution_count": null,
      "outputs": [
        {
          "output_type": "execute_result",
          "data": {
            "text/plain": [
              "'Rajvardhan shewale'"
            ],
            "application/vnd.google.colaboratory.intrinsic+json": {
              "type": "string"
            }
          },
          "metadata": {},
          "execution_count": 58
        }
      ]
    },
    {
      "cell_type": "code",
      "source": [
        "s.title() # Makes first letter of each word of sentence capital"
      ],
      "metadata": {
        "colab": {
          "base_uri": "https://localhost:8080/",
          "height": 36
        },
        "id": "CMnzkRR5_-kB",
        "outputId": "02c66586-29e7-47aa-e5d4-77f7e140edd1"
      },
      "execution_count": null,
      "outputs": [
        {
          "output_type": "execute_result",
          "data": {
            "text/plain": [
              "'Rajvardhan Shewale'"
            ],
            "application/vnd.google.colaboratory.intrinsic+json": {
              "type": "string"
            }
          },
          "metadata": {},
          "execution_count": 59
        }
      ]
    },
    {
      "cell_type": "code",
      "source": [
        "s.upper() # make all lates uppecase"
      ],
      "metadata": {
        "colab": {
          "base_uri": "https://localhost:8080/",
          "height": 36
        },
        "id": "vnw96L9oAKS1",
        "outputId": "d508f24c-a23f-45e0-e40f-33065338ff70"
      },
      "execution_count": null,
      "outputs": [
        {
          "output_type": "execute_result",
          "data": {
            "text/plain": [
              "'RAJVARDHAN SHEWALE'"
            ],
            "application/vnd.google.colaboratory.intrinsic+json": {
              "type": "string"
            }
          },
          "metadata": {},
          "execution_count": 60
        }
      ]
    },
    {
      "cell_type": "code",
      "source": [
        "s.lower() # makes all letters lowecase"
      ],
      "metadata": {
        "colab": {
          "base_uri": "https://localhost:8080/",
          "height": 36
        },
        "id": "lEaeX9J_AnqS",
        "outputId": "2f01bcbf-f839-4dc9-cee4-20b706088f1b"
      },
      "execution_count": null,
      "outputs": [
        {
          "output_type": "execute_result",
          "data": {
            "text/plain": [
              "'rajvardhan shewale'"
            ],
            "application/vnd.google.colaboratory.intrinsic+json": {
              "type": "string"
            }
          },
          "metadata": {},
          "execution_count": 61
        }
      ]
    },
    {
      "cell_type": "code",
      "source": [
        "s.swapcase() # make all captital letters to small and all small to capital"
      ],
      "metadata": {
        "colab": {
          "base_uri": "https://localhost:8080/",
          "height": 36
        },
        "id": "6e_uMJluAubZ",
        "outputId": "82ab4ec5-dfa1-4ebe-aa78-ead33e35ce6c"
      },
      "execution_count": null,
      "outputs": [
        {
          "output_type": "execute_result",
          "data": {
            "text/plain": [
              "'RAJVARDHAN sHEWALE'"
            ],
            "application/vnd.google.colaboratory.intrinsic+json": {
              "type": "string"
            }
          },
          "metadata": {},
          "execution_count": 62
        }
      ]
    },
    {
      "cell_type": "code",
      "source": [],
      "metadata": {
        "id": "bQaTyJEsA1TL"
      },
      "execution_count": null,
      "outputs": []
    },
    {
      "cell_type": "code",
      "source": [],
      "metadata": {
        "id": "WQMenrG0uIns"
      },
      "execution_count": null,
      "outputs": []
    },
    {
      "cell_type": "code",
      "source": [
        "# Group 2"
      ],
      "metadata": {
        "id": "cpAKXvRFuIZh"
      },
      "execution_count": null,
      "outputs": []
    },
    {
      "cell_type": "code",
      "source": [
        "s.count('a') # particular letter us string me kitni bar aaya hain ye count karta hain"
      ],
      "metadata": {
        "colab": {
          "base_uri": "https://localhost:8080/"
        },
        "id": "t48UufGJBEu0",
        "outputId": "e09b19a4-1183-4317-e2b5-ca92f0b25eec"
      },
      "execution_count": null,
      "outputs": [
        {
          "output_type": "execute_result",
          "data": {
            "text/plain": [
              "4"
            ]
          },
          "metadata": {},
          "execution_count": 64
        }
      ]
    },
    {
      "cell_type": "code",
      "source": [
        "s.find('var') # Finds index of substring in that main string"
      ],
      "metadata": {
        "colab": {
          "base_uri": "https://localhost:8080/"
        },
        "id": "Ux9B6XZBBX_J",
        "outputId": "5431963c-e925-40dc-c5c0-e97067b221aa"
      },
      "execution_count": null,
      "outputs": [
        {
          "output_type": "execute_result",
          "data": {
            "text/plain": [
              "3"
            ]
          },
          "metadata": {},
          "execution_count": 65
        }
      ]
    },
    {
      "cell_type": "code",
      "source": [
        "s.find('x')"
      ],
      "metadata": {
        "colab": {
          "base_uri": "https://localhost:8080/"
        },
        "id": "xmUoxb96Ba8r",
        "outputId": "f7032927-c836-469d-b01e-95b7423dea0c"
      },
      "execution_count": null,
      "outputs": [
        {
          "output_type": "execute_result",
          "data": {
            "text/plain": [
              "-1"
            ]
          },
          "metadata": {},
          "execution_count": 66
        }
      ]
    },
    {
      "cell_type": "code",
      "source": [
        "s.index('var') # same function as find() , but when we search for a substring that does not exist it gives error while find() print -1"
      ],
      "metadata": {
        "colab": {
          "base_uri": "https://localhost:8080/"
        },
        "id": "DGrKgRzZBjQQ",
        "outputId": "e1f73ef9-da46-4aa9-8a4c-75be83a994e1"
      },
      "execution_count": null,
      "outputs": [
        {
          "output_type": "execute_result",
          "data": {
            "text/plain": [
              "3"
            ]
          },
          "metadata": {},
          "execution_count": 67
        }
      ]
    },
    {
      "cell_type": "code",
      "source": [],
      "metadata": {
        "id": "5JltcBsABlG8"
      },
      "execution_count": null,
      "outputs": []
    },
    {
      "cell_type": "code",
      "source": [],
      "metadata": {
        "id": "39rt5dgruLE7"
      },
      "execution_count": null,
      "outputs": []
    },
    {
      "cell_type": "code",
      "source": [
        "# Group 3"
      ],
      "metadata": {
        "id": "0-mx_jyyuLm4"
      },
      "execution_count": null,
      "outputs": []
    },
    {
      "cell_type": "code",
      "source": [
        "sr = 'Kingsmen2345'"
      ],
      "metadata": {
        "id": "6nT2noSSw833"
      },
      "execution_count": null,
      "outputs": []
    },
    {
      "cell_type": "code",
      "source": [
        "sr.endswith('le')"
      ],
      "metadata": {
        "colab": {
          "base_uri": "https://localhost:8080/"
        },
        "id": "9akeuyeFuNRh",
        "outputId": "68f92380-90a4-46af-dab9-b43d7859bbb3"
      },
      "execution_count": null,
      "outputs": [
        {
          "output_type": "execute_result",
          "data": {
            "text/plain": [
              "False"
            ]
          },
          "metadata": {},
          "execution_count": 70
        }
      ]
    },
    {
      "cell_type": "code",
      "source": [
        "sr.startswith('K') # asks does string ennds with given/passed substring"
      ],
      "metadata": {
        "colab": {
          "base_uri": "https://localhost:8080/"
        },
        "id": "ILck63-guSKI",
        "outputId": "eebcec0a-8991-4a77-bcda-5711081086f5"
      },
      "execution_count": null,
      "outputs": [
        {
          "output_type": "execute_result",
          "data": {
            "text/plain": [
              "True"
            ]
          },
          "metadata": {},
          "execution_count": 74
        }
      ]
    },
    {
      "cell_type": "code",
      "source": [
        "sr.startswith('kin')  # asks does string starts with given/passed substring"
      ],
      "metadata": {
        "colab": {
          "base_uri": "https://localhost:8080/"
        },
        "id": "cts8cQvwugMt",
        "outputId": "477ffc2d-ba09-41eb-b448-6eb5c314cc8a"
      },
      "execution_count": null,
      "outputs": [
        {
          "output_type": "execute_result",
          "data": {
            "text/plain": [
              "False"
            ]
          },
          "metadata": {},
          "execution_count": 76
        }
      ]
    },
    {
      "cell_type": "code",
      "source": [],
      "metadata": {
        "id": "l6hfpsBIukAg"
      },
      "execution_count": null,
      "outputs": []
    },
    {
      "cell_type": "code",
      "source": [],
      "metadata": {
        "id": "SEacJGCHukpa"
      },
      "execution_count": null,
      "outputs": []
    },
    {
      "cell_type": "code",
      "source": [
        "# Group 4"
      ],
      "metadata": {
        "id": "Q4OxtINrukxh"
      },
      "execution_count": null,
      "outputs": []
    },
    {
      "cell_type": "code",
      "source": [
        "sr.isalnum() # checks is string contain alphabates or numbers if yes ans is true and other than aplhabates or numbers ans is no"
      ],
      "metadata": {
        "colab": {
          "base_uri": "https://localhost:8080/"
        },
        "id": "9jz6nHy6um7F",
        "outputId": "dea74bb2-1ab6-44b2-d0d5-664848b1c1ab"
      },
      "execution_count": null,
      "outputs": [
        {
          "output_type": "execute_result",
          "data": {
            "text/plain": [
              "True"
            ]
          },
          "metadata": {},
          "execution_count": 78
        }
      ]
    },
    {
      "cell_type": "code",
      "source": [
        "sr.isalpha() # checks is string contain only alphabates .if yes ans is true and other than aplhabates ans is no"
      ],
      "metadata": {
        "colab": {
          "base_uri": "https://localhost:8080/"
        },
        "id": "myP_jLYvuqBT",
        "outputId": "d27a5928-6ddd-449d-8533-d23f47f05507"
      },
      "execution_count": null,
      "outputs": [
        {
          "output_type": "execute_result",
          "data": {
            "text/plain": [
              "False"
            ]
          },
          "metadata": {},
          "execution_count": 81
        }
      ]
    },
    {
      "cell_type": "code",
      "source": [
        "srp= '123a'"
      ],
      "metadata": {
        "id": "fZFZawWoxS3a"
      },
      "execution_count": null,
      "outputs": []
    },
    {
      "cell_type": "code",
      "source": [
        "srp.isnumeric() # checks is string contain only numbers .if yes ans is true and other than numbers ans is no"
      ],
      "metadata": {
        "colab": {
          "base_uri": "https://localhost:8080/"
        },
        "id": "-gDvRis1utOy",
        "outputId": "88fd264e-a1b8-4915-c82c-f6556538c1de"
      },
      "execution_count": null,
      "outputs": [
        {
          "output_type": "execute_result",
          "data": {
            "text/plain": [
              "False"
            ]
          },
          "metadata": {},
          "execution_count": 85
        }
      ]
    },
    {
      "cell_type": "code",
      "source": [
        "srp.isdigit() # Same working as isnumeric()"
      ],
      "metadata": {
        "colab": {
          "base_uri": "https://localhost:8080/"
        },
        "id": "k7Dbxbw4vphh",
        "outputId": "e7a22c13-34f9-4b5b-8daa-3f741754d429"
      },
      "execution_count": null,
      "outputs": [
        {
          "output_type": "execute_result",
          "data": {
            "text/plain": [
              "False"
            ]
          },
          "metadata": {},
          "execution_count": 86
        }
      ]
    },
    {
      "cell_type": "code",
      "source": [
        "srp.isidentifier() # checks for is it valid for identifier"
      ],
      "metadata": {
        "colab": {
          "base_uri": "https://localhost:8080/"
        },
        "id": "xsIsBWSPxk_O",
        "outputId": "81babf49-64d6-474c-faed-c83ea62bea85"
      },
      "execution_count": null,
      "outputs": [
        {
          "output_type": "execute_result",
          "data": {
            "text/plain": [
              "False"
            ]
          },
          "metadata": {},
          "execution_count": 87
        }
      ]
    },
    {
      "cell_type": "code",
      "source": [],
      "metadata": {
        "id": "0F_vtjCJxtKh"
      },
      "execution_count": null,
      "outputs": []
    },
    {
      "cell_type": "code",
      "source": [],
      "metadata": {
        "id": "88lzAmJFx2Xz"
      },
      "execution_count": null,
      "outputs": []
    },
    {
      "cell_type": "code",
      "source": [
        "# Group 4"
      ],
      "metadata": {
        "id": "9NLb5cyox3SI"
      },
      "execution_count": null,
      "outputs": []
    },
    {
      "cell_type": "code",
      "source": [
        "a = 'Raj'\n",
        "b = 'Male'\n",
        "\n",
        "'Hello,my name is {} and i am {}'.format('Raj','Male') # format() is used to insert substring in defined string"
      ],
      "metadata": {
        "colab": {
          "base_uri": "https://localhost:8080/",
          "height": 36
        },
        "id": "2PmxD7bgx4_4",
        "outputId": "addd814b-598b-4208-cdf2-050ffe6e9832"
      },
      "execution_count": null,
      "outputs": [
        {
          "output_type": "execute_result",
          "data": {
            "text/plain": [
              "'Hello,my name is Raj and i am Male'"
            ],
            "application/vnd.google.colaboratory.intrinsic+json": {
              "type": "string"
            }
          },
          "metadata": {},
          "execution_count": 90
        }
      ]
    },
    {
      "cell_type": "code",
      "source": [
        "'Hello,my name is {0} and i am {1}'.format('Raj','Male')"
      ],
      "metadata": {
        "colab": {
          "base_uri": "https://localhost:8080/",
          "height": 36
        },
        "id": "jsz2XusuyGBE",
        "outputId": "5ebc56a7-58e1-46fd-f3d1-fe32885929bc"
      },
      "execution_count": null,
      "outputs": [
        {
          "output_type": "execute_result",
          "data": {
            "text/plain": [
              "'Hello,my name is Raj and i am Male'"
            ],
            "application/vnd.google.colaboratory.intrinsic+json": {
              "type": "string"
            }
          },
          "metadata": {},
          "execution_count": 89
        }
      ]
    },
    {
      "cell_type": "code",
      "source": [
        "'Hello,my name is {1} and i am {0}'.format('Male','Raj')"
      ],
      "metadata": {
        "colab": {
          "base_uri": "https://localhost:8080/",
          "height": 36
        },
        "id": "Gbti0ezRyLxU",
        "outputId": "fa25dda9-18b6-4cba-b7df-13a97de115ba"
      },
      "execution_count": null,
      "outputs": [
        {
          "output_type": "execute_result",
          "data": {
            "text/plain": [
              "'Hello,my name is Raj and i am Male'"
            ],
            "application/vnd.google.colaboratory.intrinsic+json": {
              "type": "string"
            }
          },
          "metadata": {},
          "execution_count": 92
        }
      ]
    },
    {
      "cell_type": "code",
      "source": [],
      "metadata": {
        "id": "4Vs0RmOPyl6N"
      },
      "execution_count": null,
      "outputs": []
    },
    {
      "cell_type": "code",
      "source": [],
      "metadata": {
        "id": "ODpy1R1pypKq"
      },
      "execution_count": null,
      "outputs": []
    },
    {
      "cell_type": "code",
      "source": [
        "# Group 5"
      ],
      "metadata": {
        "id": "kb3Uw-rhypmn"
      },
      "execution_count": null,
      "outputs": []
    },
    {
      "cell_type": "code",
      "source": [
        "\"Hi I am Rajvardhan Shewale \".split() # Break sentence into words using sep = ' '. You can change it"
      ],
      "metadata": {
        "colab": {
          "base_uri": "https://localhost:8080/"
        },
        "id": "Q3JEj6ccyrSk",
        "outputId": "00296a2e-edce-4c96-d7e2-e09d4dfbf610"
      },
      "execution_count": null,
      "outputs": [
        {
          "output_type": "execute_result",
          "data": {
            "text/plain": [
              "['Hi', 'I', 'am', 'Rajvardhan', 'Shewale']"
            ]
          },
          "metadata": {},
          "execution_count": 94
        }
      ]
    },
    {
      "cell_type": "code",
      "source": [
        "\"Hi I am Rajvardhan Shewale \".split('a')"
      ],
      "metadata": {
        "colab": {
          "base_uri": "https://localhost:8080/"
        },
        "id": "rSixN4_gytBs",
        "outputId": "7660805c-c572-46e2-8db2-3a7f2024a550"
      },
      "execution_count": null,
      "outputs": [
        {
          "output_type": "execute_result",
          "data": {
            "text/plain": [
              "['Hi I ', 'm R', 'jv', 'rdh', 'n Shew', 'le ']"
            ]
          },
          "metadata": {},
          "execution_count": 95
        }
      ]
    },
    {
      "cell_type": "code",
      "source": [
        "\" \".join(['Hi', 'I', 'am', 'Rajvardhan', 'Shewale']) # joins words in list by using ' ' by default.Exact opposite of split().You can change it."
      ],
      "metadata": {
        "colab": {
          "base_uri": "https://localhost:8080/",
          "height": 36
        },
        "id": "vmfgMajLytEl",
        "outputId": "5a33e5ed-bc3d-462c-b2e8-cdeb55dbfecf"
      },
      "execution_count": null,
      "outputs": [
        {
          "output_type": "execute_result",
          "data": {
            "text/plain": [
              "'Hi I am Rajvardhan Shewale'"
            ],
            "application/vnd.google.colaboratory.intrinsic+json": {
              "type": "string"
            }
          },
          "metadata": {},
          "execution_count": 96
        }
      ]
    },
    {
      "cell_type": "code",
      "source": [
        "\"-\".join(['Hi', 'I', 'am', 'Rajvardhan', 'Shewale'])"
      ],
      "metadata": {
        "colab": {
          "base_uri": "https://localhost:8080/",
          "height": 36
        },
        "id": "-UtucMncytJy",
        "outputId": "cb980605-19e9-4a13-b681-226816da7668"
      },
      "execution_count": null,
      "outputs": [
        {
          "output_type": "execute_result",
          "data": {
            "text/plain": [
              "'Hi-I-am-Rajvardhan-Shewale'"
            ],
            "application/vnd.google.colaboratory.intrinsic+json": {
              "type": "string"
            }
          },
          "metadata": {},
          "execution_count": 97
        }
      ]
    },
    {
      "cell_type": "code",
      "source": [],
      "metadata": {
        "id": "ffx20jnaytQi"
      },
      "execution_count": null,
      "outputs": []
    },
    {
      "cell_type": "code",
      "source": [],
      "metadata": {
        "id": "QexMeHOdytTr"
      },
      "execution_count": null,
      "outputs": []
    },
    {
      "cell_type": "code",
      "source": [
        "# Group 6"
      ],
      "metadata": {
        "id": "bQS8R4vWytWU"
      },
      "execution_count": null,
      "outputs": []
    },
    {
      "cell_type": "code",
      "source": [
        "'Hi I am Rajvardhan Shewale'.replace('Rajvardhan','Ranveer') # replace thar sustring with new word.If that substring is wrong retain original string"
      ],
      "metadata": {
        "colab": {
          "base_uri": "https://localhost:8080/",
          "height": 36
        },
        "id": "LU_CczGBytYu",
        "outputId": "e2b63d7f-4503-4ced-9730-72ed70b9a673"
      },
      "execution_count": null,
      "outputs": [
        {
          "output_type": "execute_result",
          "data": {
            "text/plain": [
              "'Hi I am Ranveer Shewale'"
            ],
            "application/vnd.google.colaboratory.intrinsic+json": {
              "type": "string"
            }
          },
          "metadata": {},
          "execution_count": 99
        }
      ]
    },
    {
      "cell_type": "code",
      "source": [
        "'Hi I am Rajvardhan Shewale'.replace('Rajvardhan1','Ranveer')"
      ],
      "metadata": {
        "colab": {
          "base_uri": "https://localhost:8080/",
          "height": 36
        },
        "id": "8rpGz_Ehyta-",
        "outputId": "b61c7829-c8ec-40a9-d6d3-366d09aee5af"
      },
      "execution_count": null,
      "outputs": [
        {
          "output_type": "execute_result",
          "data": {
            "text/plain": [
              "'Hi I am Rajvardhan Shewale'"
            ],
            "application/vnd.google.colaboratory.intrinsic+json": {
              "type": "string"
            }
          },
          "metadata": {},
          "execution_count": 101
        }
      ]
    },
    {
      "cell_type": "code",
      "source": [
        "\"        Raj              \".strip() # removes extra spaces before and after string.Do not removes spcaes in between words.used in databases"
      ],
      "metadata": {
        "colab": {
          "base_uri": "https://localhost:8080/",
          "height": 36
        },
        "id": "YzfTkMiwytd5",
        "outputId": "693c6f4d-cede-41a1-d52f-91f69450d2f2"
      },
      "execution_count": null,
      "outputs": [
        {
          "output_type": "execute_result",
          "data": {
            "text/plain": [
              "'Raj'"
            ],
            "application/vnd.google.colaboratory.intrinsic+json": {
              "type": "string"
            }
          },
          "metadata": {},
          "execution_count": 106
        }
      ]
    },
    {
      "cell_type": "code",
      "source": [
        "\"Raj shewale\""
      ],
      "metadata": {
        "colab": {
          "base_uri": "https://localhost:8080/",
          "height": 36
        },
        "id": "I1o_z1550z3n",
        "outputId": "101e305b-a6d8-43d5-f10e-1b181941f27b"
      },
      "execution_count": null,
      "outputs": [
        {
          "output_type": "execute_result",
          "data": {
            "text/plain": [
              "'Raj shewale'"
            ],
            "application/vnd.google.colaboratory.intrinsic+json": {
              "type": "string"
            }
          },
          "metadata": {},
          "execution_count": 105
        }
      ]
    },
    {
      "cell_type": "code",
      "source": [],
      "metadata": {
        "id": "ATHcbTV11B4w"
      },
      "execution_count": null,
      "outputs": []
    }
  ],
  "metadata": {
    "colab": {
      "provenance": [],
      "authorship_tag": "ABX9TyN5kPvTpJ/TaEVBkSYYVhih",
      "include_colab_link": true
    },
    "kernelspec": {
      "display_name": "Python 3",
      "name": "python3"
    },
    "language_info": {
      "name": "python"
    }
  },
  "nbformat": 4,
  "nbformat_minor": 0
}