{
  "nbformat": 4,
  "nbformat_minor": 0,
  "metadata": {
    "colab": {
      "provenance": [],
      "collapsed_sections": [
        "SZoRbCJzGykA",
        "25cOFs5BG25x",
        "ysA4AMHLIMtO",
        "-m-kPMRXMozs",
        "XPREhslTMsKN",
        "Z0J8rmZ_ILN7",
        "QW-KQUREfSzM",
        "em--EAi5jqoy",
        "lU1aw1Cbkiu5",
        "87a2bD-Htzbd",
        "-odh2DdlvRM5",
        "zmXDXy8tyDpB",
        "1_LhVLsf9lby"
      ],
      "authorship_tag": "ABX9TyPqcM7HdUrRtJ0oXO/nAgec",
      "include_colab_link": true
    },
    "kernelspec": {
      "name": "python3",
      "display_name": "Python 3"
    },
    "language_info": {
      "name": "python"
    }
  },
  "cells": [
    {
      "cell_type": "markdown",
      "metadata": {
        "id": "view-in-github",
        "colab_type": "text"
      },
      "source": [
        "<a href=\"https://colab.research.google.com/github/Precipitation-Rain/Python/blob/main/04_List.ipynb\" target=\"_parent\"><img src=\"https://colab.research.google.com/assets/colab-badge.svg\" alt=\"Open In Colab\"/></a>"
      ]
    },
    {
      "cell_type": "markdown",
      "source": [
        "# List"
      ],
      "metadata": {
        "id": "QbczCuco_vx0"
      }
    },
    {
      "cell_type": "markdown",
      "source": [
        "## Basic"
      ],
      "metadata": {
        "id": "SZoRbCJzGykA"
      }
    },
    {
      "cell_type": "code",
      "execution_count": null,
      "metadata": {
        "id": "FQQ7a6yT11Vl"
      },
      "outputs": [],
      "source": [
        "# lists are dynamic array.ex ] l1 = [1 , [2,3] , 3+6j , 4.4 , 'Raj']\n",
        "# when you have so many things and you want to store it , insted of asaign each to each varaible you use list in which you put all them together\n",
        "# why list are used or required:\n",
        "# store multiple things in one place.\n",
        "# ex] you have to perform some operation on all things in list ,you can easily do through loop.But if each thing is seprate varaible then you have to do it for each one whch is hectic\n"
      ]
    },
    {
      "cell_type": "code",
      "source": [
        "# Array  vs List\n",
        "#1.fixed size vs dynamic size\n",
        "#2.homogenuous(only 1 datatype) vs hetrigenous (store all data types)\n",
        "#3.speed(array) > speed(list)\n",
        "#4.memory(array) > memory(list) -> memory me space"
      ],
      "metadata": {
        "id": "fWOkF8wFAod9"
      },
      "execution_count": null,
      "outputs": []
    },
    {
      "cell_type": "code",
      "source": [
        "#\n",
        "l = [1,2,3]\n",
        "print(id(l))"
      ],
      "metadata": {
        "colab": {
          "base_uri": "https://localhost:8080/"
        },
        "id": "iYuxxgR_BYrb",
        "outputId": "3e7ccc7e-8ce3-4f51-be44-eb20ad21e9dd"
      },
      "execution_count": null,
      "outputs": [
        {
          "output_type": "stream",
          "name": "stdout",
          "text": [
            "138018754907008\n"
          ]
        }
      ]
    },
    {
      "cell_type": "code",
      "source": [
        "print(id(l[0])),print(id(1))"
      ],
      "metadata": {
        "colab": {
          "base_uri": "https://localhost:8080/"
        },
        "id": "WhAIt_sfFivx",
        "outputId": "ff75fd38-8f46-4085-db3f-a8ef66cff4e8"
      },
      "execution_count": null,
      "outputs": [
        {
          "output_type": "stream",
          "name": "stdout",
          "text": [
            "11642088\n",
            "11642088\n"
          ]
        },
        {
          "output_type": "execute_result",
          "data": {
            "text/plain": [
              "(None, None)"
            ]
          },
          "metadata": {},
          "execution_count": 9
        }
      ]
    },
    {
      "cell_type": "code",
      "source": [
        "print(id(l[1])),print(id(2))"
      ],
      "metadata": {
        "colab": {
          "base_uri": "https://localhost:8080/"
        },
        "id": "PA1xUzszFmBk",
        "outputId": "092780dc-d7ee-414e-e0aa-772e94c7727a"
      },
      "execution_count": null,
      "outputs": [
        {
          "output_type": "stream",
          "name": "stdout",
          "text": [
            "11642120\n",
            "11642120\n"
          ]
        },
        {
          "output_type": "execute_result",
          "data": {
            "text/plain": [
              "(None, None)"
            ]
          },
          "metadata": {},
          "execution_count": 10
        }
      ]
    },
    {
      "cell_type": "code",
      "source": [
        "print(id(l[2]))"
      ],
      "metadata": {
        "colab": {
          "base_uri": "https://localhost:8080/"
        },
        "id": "T5kRgWSSFr7d",
        "outputId": "3d737b84-de86-4022-cd49-a3ca8e321a15"
      },
      "execution_count": null,
      "outputs": [
        {
          "output_type": "stream",
          "name": "stdout",
          "text": [
            "11642152\n"
          ]
        }
      ]
    },
    {
      "cell_type": "code",
      "source": [],
      "metadata": {
        "id": "449IWZutFuvi"
      },
      "execution_count": null,
      "outputs": []
    },
    {
      "cell_type": "markdown",
      "source": [
        "## Charecteristics"
      ],
      "metadata": {
        "id": "25cOFs5BG25x"
      }
    },
    {
      "cell_type": "code",
      "source": [
        "#1 ]Ordered : Order of items matter.\n",
        "l = [1,2,3]\n",
        "l2 = [3,2,1]\n",
        "l == l2"
      ],
      "metadata": {
        "colab": {
          "base_uri": "https://localhost:8080/"
        },
        "id": "D2zqxkwZG5F4",
        "outputId": "fa43262d-bff9-4b4d-a038-43f8f9c7a64a"
      },
      "execution_count": null,
      "outputs": [
        {
          "output_type": "execute_result",
          "data": {
            "text/plain": [
              "False"
            ]
          },
          "metadata": {},
          "execution_count": 11
        }
      ]
    },
    {
      "cell_type": "code",
      "source": [
        "#2] Hetrogenous : Store multiple types of object\n",
        "l3 = [1,2.2,'ram']"
      ],
      "metadata": {
        "id": "75NnvXw_HFXp"
      },
      "execution_count": null,
      "outputs": []
    },
    {
      "cell_type": "code",
      "source": [
        "#3] Dynamic : Size is not fixed,you can add multiple item as you want"
      ],
      "metadata": {
        "id": "NMch-wEBHTQh"
      },
      "execution_count": null,
      "outputs": []
    },
    {
      "cell_type": "code",
      "source": [
        "#4] Mutable/Changable : You can edit or change the list unlike String which is immutable"
      ],
      "metadata": {
        "id": "bUKjgDhZHdSU"
      },
      "execution_count": null,
      "outputs": []
    },
    {
      "cell_type": "code",
      "source": [
        "#5] Duplicated allowed :\n",
        "l4 = [1,2,3,2,1,]"
      ],
      "metadata": {
        "id": "cG4Wkk8uHnsk"
      },
      "execution_count": null,
      "outputs": []
    },
    {
      "cell_type": "code",
      "source": [
        "#6] Can be nested:\n",
        "l5 = [1,2,[3,'king',[4,5]]]"
      ],
      "metadata": {
        "id": "mUprvWXYHoPs"
      },
      "execution_count": null,
      "outputs": []
    },
    {
      "cell_type": "code",
      "source": [
        "#7] Items can be accesed\n",
        "l5 = [1,2,3]\n",
        "l5[0]"
      ],
      "metadata": {
        "colab": {
          "base_uri": "https://localhost:8080/"
        },
        "id": "wmotpxrBHoTM",
        "outputId": "22103142-92ac-445b-bdab-0fa592df57ef"
      },
      "execution_count": null,
      "outputs": [
        {
          "output_type": "execute_result",
          "data": {
            "text/plain": [
              "1"
            ]
          },
          "metadata": {},
          "execution_count": 15
        }
      ]
    },
    {
      "cell_type": "code",
      "source": [
        "#8] Can store any kind of object in python\n",
        "print([1,2,3,print,input,list])"
      ],
      "metadata": {
        "id": "Y629K-CyHoXA",
        "colab": {
          "base_uri": "https://localhost:8080/"
        },
        "outputId": "d24e40ba-6946-492b-f3bf-81a6a149202c"
      },
      "execution_count": null,
      "outputs": [
        {
          "output_type": "stream",
          "name": "stdout",
          "text": [
            "[1, 2, 3, <built-in function print>, <bound method Kernel.raw_input of <google.colab._kernel.Kernel object at 0x7d8718e85550>>, <class 'list'>]\n"
          ]
        }
      ]
    },
    {
      "cell_type": "markdown",
      "source": [
        "## Creating List"
      ],
      "metadata": {
        "id": "ysA4AMHLIMtO"
      }
    },
    {
      "cell_type": "code",
      "source": [
        "#Empty\n",
        "print([])"
      ],
      "metadata": {
        "colab": {
          "base_uri": "https://localhost:8080/"
        },
        "id": "kEgZ7CKRHoZj",
        "outputId": "4afca850-12e0-48d9-ea9f-fde6a2f77b84"
      },
      "execution_count": null,
      "outputs": [
        {
          "output_type": "stream",
          "name": "stdout",
          "text": [
            "[]\n"
          ]
        }
      ]
    },
    {
      "cell_type": "code",
      "source": [
        "#1D\n",
        "print([1,2,3])"
      ],
      "metadata": {
        "colab": {
          "base_uri": "https://localhost:8080/"
        },
        "id": "sLbDm5YxHocH",
        "outputId": "a81f930d-0e42-4b65-b2ca-8117431763b8"
      },
      "execution_count": null,
      "outputs": [
        {
          "output_type": "stream",
          "name": "stdout",
          "text": [
            "[1, 2, 3]\n"
          ]
        }
      ]
    },
    {
      "cell_type": "code",
      "source": [
        "#2D  -> list inside list\n",
        "print([1,2,3,[1,2,3]])"
      ],
      "metadata": {
        "colab": {
          "base_uri": "https://localhost:8080/"
        },
        "id": "fKZasdrZHoeR",
        "outputId": "0182edf2-1ea6-415a-9723-c7beb224b682"
      },
      "execution_count": null,
      "outputs": [
        {
          "output_type": "stream",
          "name": "stdout",
          "text": [
            "[1, 2, 3, [1, 2, 3]]\n"
          ]
        }
      ]
    },
    {
      "cell_type": "code",
      "source": [
        "#3D -> list inside list which is inside another list.Jitne brackets (left side) khule utne dimension ka list\n",
        "print([[[1,2,3],[2.3,3.4,5.4]],[[1,2,3],[4,5,6]]])"
      ],
      "metadata": {
        "colab": {
          "base_uri": "https://localhost:8080/"
        },
        "id": "1Cb0gGPrHoh8",
        "outputId": "8f1edbac-905d-4e41-e5ac-f513d815a5c9"
      },
      "execution_count": null,
      "outputs": [
        {
          "output_type": "stream",
          "name": "stdout",
          "text": [
            "[[[1, 2, 3], [2.3, 3.4, 5.4]], [[1, 2, 3], [4, 5, 6]]]\n"
          ]
        }
      ]
    },
    {
      "cell_type": "code",
      "source": [
        "#type conversion\n",
        "print(list('Hello'))"
      ],
      "metadata": {
        "colab": {
          "base_uri": "https://localhost:8080/"
        },
        "id": "z8wzBw2BHowE",
        "outputId": "71b09207-aaf2-44d5-b677-0b16f581dd43"
      },
      "execution_count": null,
      "outputs": [
        {
          "output_type": "stream",
          "name": "stdout",
          "text": [
            "['H', 'e', 'l', 'l', 'o']\n"
          ]
        }
      ]
    },
    {
      "cell_type": "code",
      "source": [
        "#hetrogenous\n",
        "print([1,2.2,3+4j,True,'list',[1,2,3]])"
      ],
      "metadata": {
        "colab": {
          "base_uri": "https://localhost:8080/"
        },
        "id": "ZY8JjWmxHo1j",
        "outputId": "aa5c586f-868d-41c7-fb85-7ffa01181c14"
      },
      "execution_count": null,
      "outputs": [
        {
          "output_type": "stream",
          "name": "stdout",
          "text": [
            "[1, 2.2, (3+4j), True, 'list', [1, 2, 3]]\n"
          ]
        }
      ]
    },
    {
      "cell_type": "markdown",
      "source": [
        "## Accesing items from list"
      ],
      "metadata": {
        "id": "-m-kPMRXMozs"
      }
    },
    {
      "cell_type": "markdown",
      "source": [
        "### Indexing"
      ],
      "metadata": {
        "id": "XPREhslTMsKN"
      }
    },
    {
      "cell_type": "code",
      "source": [
        "#Positive   -> left to right,strats from 0\n",
        "l = [1,2,3,4]\n",
        "print(l[0])\n",
        "print(l[2])\n",
        "# print(l[23])"
      ],
      "metadata": {
        "colab": {
          "base_uri": "https://localhost:8080/"
        },
        "id": "og1knoGrHo4t",
        "outputId": "de3c64a3-1a3b-4200-aae0-f13da281317e"
      },
      "execution_count": null,
      "outputs": [
        {
          "output_type": "stream",
          "name": "stdout",
          "text": [
            "1\n",
            "3\n"
          ]
        }
      ]
    },
    {
      "cell_type": "code",
      "source": [
        "#Negative  -> right to left,starts from -1\n",
        "l=[1,2,3,4,5]\n",
        "print(l[-1])\n",
        "print(l[-4])"
      ],
      "metadata": {
        "colab": {
          "base_uri": "https://localhost:8080/"
        },
        "id": "ChfwGxjiHo7s",
        "outputId": "2ed608ec-d567-4c4f-f350-44c1825e5d8e"
      },
      "execution_count": null,
      "outputs": [
        {
          "output_type": "stream",
          "name": "stdout",
          "text": [
            "5\n",
            "2\n"
          ]
        }
      ]
    },
    {
      "cell_type": "code",
      "source": [
        "#Nested indexixng -> jitne dimension utne sqare brackets -> can do using negative indexing also\n",
        "l = [1 , 2 , 3 , [1 , 2 , 3]]"
      ],
      "metadata": {
        "id": "mely2fN4Ho-o"
      },
      "execution_count": null,
      "outputs": []
    },
    {
      "cell_type": "code",
      "source": [
        "print(l[3][1])"
      ],
      "metadata": {
        "colab": {
          "base_uri": "https://localhost:8080/"
        },
        "id": "_f0F80adHpBa",
        "outputId": "acc5cc29-16e6-45d1-bb2d-05d09cf19904"
      },
      "execution_count": null,
      "outputs": [
        {
          "output_type": "stream",
          "name": "stdout",
          "text": [
            "2\n"
          ]
        }
      ]
    },
    {
      "cell_type": "code",
      "source": [
        "l1=[1,2,3,[1,2,4,[1,2,3,4,[3,4,5,[5,6,7,8,9]]]]]"
      ],
      "metadata": {
        "id": "YK9d7uppHpEc"
      },
      "execution_count": null,
      "outputs": []
    },
    {
      "cell_type": "code",
      "source": [
        "l1[3]"
      ],
      "metadata": {
        "colab": {
          "base_uri": "https://localhost:8080/"
        },
        "id": "db2C3aZPHpG1",
        "outputId": "2ddd024c-bef0-4b9d-ba4b-5cef4f952aae"
      },
      "execution_count": null,
      "outputs": [
        {
          "output_type": "execute_result",
          "data": {
            "text/plain": [
              "[1, 2, 4, [1, 2, 3, 4, [3, 4, 5, [5, 6, 7, 8, 9]]]]"
            ]
          },
          "metadata": {},
          "execution_count": 53
        }
      ]
    },
    {
      "cell_type": "code",
      "source": [
        "l1[3][3]"
      ],
      "metadata": {
        "colab": {
          "base_uri": "https://localhost:8080/"
        },
        "id": "cQMUE6yhHpJ8",
        "outputId": "df3ad295-80df-4232-c3f4-bdb6fc9896e6"
      },
      "execution_count": null,
      "outputs": [
        {
          "output_type": "execute_result",
          "data": {
            "text/plain": [
              "[1, 2, 3, 4, [3, 4, 5, [5, 6, 7, 8, 9]]]"
            ]
          },
          "metadata": {},
          "execution_count": 54
        }
      ]
    },
    {
      "cell_type": "code",
      "source": [
        "l1[3][3][4]"
      ],
      "metadata": {
        "colab": {
          "base_uri": "https://localhost:8080/"
        },
        "id": "asZlI7BQHpMm",
        "outputId": "644d8adc-5685-4576-f113-854755118de2"
      },
      "execution_count": null,
      "outputs": [
        {
          "output_type": "execute_result",
          "data": {
            "text/plain": [
              "[3, 4, 5, [5, 6, 7, 8, 9]]"
            ]
          },
          "metadata": {},
          "execution_count": 55
        }
      ]
    },
    {
      "cell_type": "code",
      "source": [
        "l1[3][3][4][3]"
      ],
      "metadata": {
        "colab": {
          "base_uri": "https://localhost:8080/"
        },
        "id": "Gcsqw0HSHpPb",
        "outputId": "1d6536b3-3f6b-4eb2-ac99-329ff782829e"
      },
      "execution_count": null,
      "outputs": [
        {
          "output_type": "execute_result",
          "data": {
            "text/plain": [
              "[5, 6, 7, 8, 9]"
            ]
          },
          "metadata": {},
          "execution_count": 56
        }
      ]
    },
    {
      "cell_type": "code",
      "source": [
        "l1[3][3][4][3][1]"
      ],
      "metadata": {
        "colab": {
          "base_uri": "https://localhost:8080/"
        },
        "id": "dv46-563HpSJ",
        "outputId": "1f70f3ea-78b6-4a3b-9cb3-cf3cac7fe424"
      },
      "execution_count": null,
      "outputs": [
        {
          "output_type": "execute_result",
          "data": {
            "text/plain": [
              "6"
            ]
          },
          "metadata": {},
          "execution_count": 57
        }
      ]
    },
    {
      "cell_type": "code",
      "source": [],
      "metadata": {
        "id": "vqJbgAhzHpUr"
      },
      "execution_count": null,
      "outputs": []
    },
    {
      "cell_type": "code",
      "source": [],
      "metadata": {
        "id": "du9MyCRlHpX9"
      },
      "execution_count": null,
      "outputs": []
    },
    {
      "cell_type": "markdown",
      "source": [
        "### Slicing"
      ],
      "metadata": {
        "id": "Z0J8rmZ_ILN7"
      }
    },
    {
      "cell_type": "code",
      "source": [
        "l = [1,2,3,4,5,6,7,8,9] # same as string slicing"
      ],
      "metadata": {
        "id": "ZhxGTN1PORfz"
      },
      "execution_count": null,
      "outputs": []
    },
    {
      "cell_type": "code",
      "source": [
        "print(l[0:4])"
      ],
      "metadata": {
        "id": "ZRt-AQAKOT-L",
        "colab": {
          "base_uri": "https://localhost:8080/"
        },
        "outputId": "cf62410a-0a3f-4969-d14d-f158b24de434"
      },
      "execution_count": null,
      "outputs": [
        {
          "output_type": "stream",
          "name": "stdout",
          "text": [
            "[1, 2, 3, 4]\n"
          ]
        }
      ]
    },
    {
      "cell_type": "code",
      "source": [
        "print(l[0:])"
      ],
      "metadata": {
        "id": "xG-bWYorOUA1",
        "colab": {
          "base_uri": "https://localhost:8080/"
        },
        "outputId": "068e0be5-4809-4dce-8dc9-2321efe30383"
      },
      "execution_count": null,
      "outputs": [
        {
          "output_type": "stream",
          "name": "stdout",
          "text": [
            "[1, 2, 3, 4, 5, 6, 7, 8, 9]\n"
          ]
        }
      ]
    },
    {
      "cell_type": "code",
      "source": [
        "print(l[:7])"
      ],
      "metadata": {
        "id": "avPRsn_DOUDM",
        "colab": {
          "base_uri": "https://localhost:8080/"
        },
        "outputId": "d4f529f3-60c3-4a00-e7e8-3031f43faf89"
      },
      "execution_count": null,
      "outputs": [
        {
          "output_type": "stream",
          "name": "stdout",
          "text": [
            "[1, 2, 3, 4, 5, 6, 7]\n"
          ]
        }
      ]
    },
    {
      "cell_type": "code",
      "source": [
        "print(l[:])"
      ],
      "metadata": {
        "id": "wTJ6g0VFOUGM",
        "colab": {
          "base_uri": "https://localhost:8080/"
        },
        "outputId": "26696095-7e82-4c0d-8015-7da4f123d869"
      },
      "execution_count": null,
      "outputs": [
        {
          "output_type": "stream",
          "name": "stdout",
          "text": [
            "[1, 2, 3, 4, 5, 6, 7, 8, 9]\n"
          ]
        }
      ]
    },
    {
      "cell_type": "code",
      "source": [
        "print(l[1:8:2])"
      ],
      "metadata": {
        "id": "Mbp4_4aAOUI6",
        "colab": {
          "base_uri": "https://localhost:8080/"
        },
        "outputId": "0a864ea2-b9ab-4e06-9a22-a7ab217ee899"
      },
      "execution_count": null,
      "outputs": [
        {
          "output_type": "stream",
          "name": "stdout",
          "text": [
            "[2, 4, 6, 8]\n"
          ]
        }
      ]
    },
    {
      "cell_type": "code",
      "source": [
        "print(l[::-2])"
      ],
      "metadata": {
        "id": "zWmRdIafOULp",
        "colab": {
          "base_uri": "https://localhost:8080/"
        },
        "outputId": "71aa9085-280a-4256-ccbc-92cde0ef4d94"
      },
      "execution_count": null,
      "outputs": [
        {
          "output_type": "stream",
          "name": "stdout",
          "text": [
            "[9, 7, 5, 3, 1]\n"
          ]
        }
      ]
    },
    {
      "cell_type": "code",
      "source": [
        "print(l[-7:-1])"
      ],
      "metadata": {
        "id": "1-5ZUei-OUOY",
        "colab": {
          "base_uri": "https://localhost:8080/"
        },
        "outputId": "0f9dfe1d-7feb-458d-d0a6-57fefb1b647e"
      },
      "execution_count": null,
      "outputs": [
        {
          "output_type": "stream",
          "name": "stdout",
          "text": [
            "[3, 4, 5, 6, 7, 8]\n"
          ]
        }
      ]
    },
    {
      "cell_type": "code",
      "source": [
        "print(l[-7:-1:2])# in negative jump should be positive"
      ],
      "metadata": {
        "id": "pYV7s77pOUR-",
        "colab": {
          "base_uri": "https://localhost:8080/"
        },
        "outputId": "5958be56-ff90-424f-afbc-0fcd02e3ef3b"
      },
      "execution_count": null,
      "outputs": [
        {
          "output_type": "stream",
          "name": "stdout",
          "text": [
            "[3, 5, 7]\n"
          ]
        }
      ]
    },
    {
      "cell_type": "code",
      "source": [
        "print(l[::-1])"
      ],
      "metadata": {
        "colab": {
          "base_uri": "https://localhost:8080/"
        },
        "id": "28FdpQflehoG",
        "outputId": "61a9fcfc-ce8c-47eb-f795-6976a88b3796"
      },
      "execution_count": null,
      "outputs": [
        {
          "output_type": "stream",
          "name": "stdout",
          "text": [
            "[9, 8, 7, 6, 5, 4, 3, 2, 1]\n"
          ]
        }
      ]
    },
    {
      "cell_type": "code",
      "source": [
        "print(l[-2:-6])"
      ],
      "metadata": {
        "colab": {
          "base_uri": "https://localhost:8080/"
        },
        "id": "vIoFsAnheySx",
        "outputId": "c8d608cc-c0e6-4609-adef-a3463c64cfe5"
      },
      "execution_count": null,
      "outputs": [
        {
          "output_type": "stream",
          "name": "stdout",
          "text": [
            "[]\n"
          ]
        }
      ]
    },
    {
      "cell_type": "markdown",
      "source": [
        "## Adding items to a list"
      ],
      "metadata": {
        "id": "QW-KQUREfSzM"
      }
    },
    {
      "cell_type": "code",
      "source": [
        "#append() :add only one item at last. it Trys to add single item\n",
        "l = [1,2,3,4,5]\n",
        "l.append(7)\n",
        "print(l)"
      ],
      "metadata": {
        "colab": {
          "base_uri": "https://localhost:8080/"
        },
        "id": "pXqeF8EJe3bs",
        "outputId": "19a37d4b-ef3a-4266-d328-71c0242d441b"
      },
      "execution_count": null,
      "outputs": [
        {
          "output_type": "stream",
          "name": "stdout",
          "text": [
            "[1, 2, 3, 4, 5, 7]\n"
          ]
        }
      ]
    },
    {
      "cell_type": "code",
      "source": [
        "l = [1,2,3,4,5]\n",
        "l.append([8,9,6])\n",
        "print(l)"
      ],
      "metadata": {
        "colab": {
          "base_uri": "https://localhost:8080/"
        },
        "id": "_oC5mxdTfPVL",
        "outputId": "4bf46278-1cd6-4e43-8ade-826488b07ea6"
      },
      "execution_count": null,
      "outputs": [
        {
          "output_type": "stream",
          "name": "stdout",
          "text": [
            "[1, 2, 3, 4, 5, [8, 9, 6]]\n"
          ]
        }
      ]
    },
    {
      "cell_type": "code",
      "source": [
        "l = [1,2,3,4,5]\n",
        "l.append('raj')\n",
        "print(l)"
      ],
      "metadata": {
        "colab": {
          "base_uri": "https://localhost:8080/"
        },
        "id": "OnAdx48OfPX0",
        "outputId": "5d195a3b-3cbb-4a47-fd3b-5db97cb786e5"
      },
      "execution_count": null,
      "outputs": [
        {
          "output_type": "stream",
          "name": "stdout",
          "text": [
            "[1, 2, 3, 4, 5, 'raj']\n"
          ]
        }
      ]
    },
    {
      "cell_type": "code",
      "source": [],
      "metadata": {
        "id": "vp1kHacjfPZ2"
      },
      "execution_count": null,
      "outputs": []
    },
    {
      "cell_type": "code",
      "source": [
        "#extend() : add multiple items at last .it Trys to add multiple items"
      ],
      "metadata": {
        "id": "fWi4Y-pufPdM"
      },
      "execution_count": null,
      "outputs": []
    },
    {
      "cell_type": "code",
      "source": [
        "l = [1,2,3,4,5]\n",
        "l.extend([6,7,8])\n",
        "print(l)"
      ],
      "metadata": {
        "colab": {
          "base_uri": "https://localhost:8080/"
        },
        "id": "Tqgzwm2dfPfy",
        "outputId": "3c37da63-c66d-49c3-86ac-96bbfb625669"
      },
      "execution_count": null,
      "outputs": [
        {
          "output_type": "stream",
          "name": "stdout",
          "text": [
            "[1, 2, 3, 4, 5, 6, 7, 8]\n"
          ]
        }
      ]
    },
    {
      "cell_type": "code",
      "source": [
        "l = [1,2,3,4,5]\n",
        "l.extend([1,2,3,[4,5,6]])\n",
        "print(l)"
      ],
      "metadata": {
        "colab": {
          "base_uri": "https://localhost:8080/"
        },
        "id": "XrOHWXULfPic",
        "outputId": "d2d37893-5272-441f-a2ea-4b445cc1fbc0"
      },
      "execution_count": null,
      "outputs": [
        {
          "output_type": "stream",
          "name": "stdout",
          "text": [
            "[1, 2, 3, 4, 5, 1, 2, 3, [4, 5, 6]]\n"
          ]
        }
      ]
    },
    {
      "cell_type": "code",
      "source": [
        "l = [1,2,3,4,5]\n",
        "l.extend('delhi')\n",
        "print(l)"
      ],
      "metadata": {
        "colab": {
          "base_uri": "https://localhost:8080/"
        },
        "id": "EKwlasM2fPlT",
        "outputId": "9119131b-cf30-4f10-e87e-6f0a8478a42d"
      },
      "execution_count": null,
      "outputs": [
        {
          "output_type": "stream",
          "name": "stdout",
          "text": [
            "[1, 2, 3, 4, 5, 'd', 'e', 'l', 'h', 'i']\n"
          ]
        }
      ]
    },
    {
      "cell_type": "code",
      "source": [],
      "metadata": {
        "id": "ovVmK1DxfPn2"
      },
      "execution_count": null,
      "outputs": []
    },
    {
      "cell_type": "code",
      "source": [
        "#insert() : add one item at any place.insert(a,b) -> a = index at which you want to add items,b = the item which you want to add"
      ],
      "metadata": {
        "id": "msiKzi9BfPqm"
      },
      "execution_count": null,
      "outputs": []
    },
    {
      "cell_type": "code",
      "source": [
        "l = [1,2,3,4]\n",
        "l.insert(2,'raj')\n",
        "print(l)"
      ],
      "metadata": {
        "colab": {
          "base_uri": "https://localhost:8080/"
        },
        "id": "fUdIAdKGfPtT",
        "outputId": "60b446a0-9a86-499b-92e4-21886db57cdc"
      },
      "execution_count": null,
      "outputs": [
        {
          "output_type": "stream",
          "name": "stdout",
          "text": [
            "[1, 2, 'raj', 3, 4]\n"
          ]
        }
      ]
    },
    {
      "cell_type": "code",
      "source": [
        "l = [1,2,3,4]\n",
        "l.insert(2,100)\n",
        "print(l)"
      ],
      "metadata": {
        "colab": {
          "base_uri": "https://localhost:8080/"
        },
        "id": "aKqSrOhdfPwd",
        "outputId": "cab93318-e5b2-406c-f606-935ce7aa1f2d"
      },
      "execution_count": null,
      "outputs": [
        {
          "output_type": "stream",
          "name": "stdout",
          "text": [
            "[1, 2, 100, 3, 4]\n"
          ]
        }
      ]
    },
    {
      "cell_type": "markdown",
      "source": [
        "## ## Editing a List"
      ],
      "metadata": {
        "id": "em--EAi5jqoy"
      }
    },
    {
      "cell_type": "code",
      "source": [
        "l = [1,2,3,4,5]\n",
        "\n",
        "#editing with indexing\n",
        "l[1] = 200\n",
        "print(l)\n",
        "\n",
        "l[-1] = 500\n",
        "print(l)\n",
        "\n",
        "# editing with slicing\n",
        "\n",
        "l[2:4] = [300,400]\n",
        "print(l)"
      ],
      "metadata": {
        "colab": {
          "base_uri": "https://localhost:8080/"
        },
        "id": "R-vEWcFKfPyx",
        "outputId": "03978080-08be-4801-e24c-d355cb264ca8"
      },
      "execution_count": null,
      "outputs": [
        {
          "output_type": "stream",
          "name": "stdout",
          "text": [
            "[1, 200, 3, 4, 5]\n",
            "[1, 200, 3, 4, 500]\n",
            "[1, 200, 300, 400, 500]\n"
          ]
        }
      ]
    },
    {
      "cell_type": "code",
      "source": [
        "l[l[0],l[2]] = [1000,2000]\n",
        "print(l)"
      ],
      "metadata": {
        "colab": {
          "base_uri": "https://localhost:8080/",
          "height": 158
        },
        "id": "h30MV_P4fP1v",
        "outputId": "3f36e073-697a-432f-99ee-48582f0c9821"
      },
      "execution_count": null,
      "outputs": [
        {
          "output_type": "error",
          "ename": "TypeError",
          "evalue": "list indices must be integers or slices, not tuple",
          "traceback": [
            "\u001b[0;31m---------------------------------------------------------------------------\u001b[0m",
            "\u001b[0;31mTypeError\u001b[0m                                 Traceback (most recent call last)",
            "\u001b[0;32m/tmp/ipython-input-3317568054.py\u001b[0m in \u001b[0;36m<cell line: 0>\u001b[0;34m()\u001b[0m\n\u001b[0;32m----> 1\u001b[0;31m \u001b[0ml\u001b[0m\u001b[0;34m[\u001b[0m\u001b[0ml\u001b[0m\u001b[0;34m[\u001b[0m\u001b[0;36m0\u001b[0m\u001b[0;34m]\u001b[0m\u001b[0;34m,\u001b[0m\u001b[0ml\u001b[0m\u001b[0;34m[\u001b[0m\u001b[0;36m2\u001b[0m\u001b[0;34m]\u001b[0m\u001b[0;34m]\u001b[0m \u001b[0;34m=\u001b[0m \u001b[0;34m[\u001b[0m\u001b[0;36m1000\u001b[0m\u001b[0;34m,\u001b[0m\u001b[0;36m2000\u001b[0m\u001b[0;34m]\u001b[0m\u001b[0;34m\u001b[0m\u001b[0;34m\u001b[0m\u001b[0m\n\u001b[0m\u001b[1;32m      2\u001b[0m \u001b[0mprint\u001b[0m\u001b[0;34m(\u001b[0m\u001b[0ml\u001b[0m\u001b[0;34m)\u001b[0m\u001b[0;34m\u001b[0m\u001b[0;34m\u001b[0m\u001b[0m\n",
            "\u001b[0;31mTypeError\u001b[0m: list indices must be integers or slices, not tuple"
          ]
        }
      ]
    },
    {
      "cell_type": "markdown",
      "source": [
        "## Deleing items from List"
      ],
      "metadata": {
        "id": "lU1aw1Cbkiu5"
      }
    },
    {
      "cell_type": "code",
      "source": [
        "#del\n",
        "l=[1,2,3,4,5]\n",
        "print(l)\n",
        "\n",
        "del l\n",
        "print(l)"
      ],
      "metadata": {
        "colab": {
          "base_uri": "https://localhost:8080/",
          "height": 193
        },
        "id": "K-6nOoqjfP3-",
        "outputId": "dde166e5-7314-4fa7-c8d8-f6527fe10c56"
      },
      "execution_count": null,
      "outputs": [
        {
          "output_type": "stream",
          "name": "stdout",
          "text": [
            "[1, 2, 3, 4, 5]\n"
          ]
        },
        {
          "output_type": "error",
          "ename": "NameError",
          "evalue": "name 'l' is not defined",
          "traceback": [
            "\u001b[0;31m---------------------------------------------------------------------------\u001b[0m",
            "\u001b[0;31mNameError\u001b[0m                                 Traceback (most recent call last)",
            "\u001b[0;32m/tmp/ipython-input-280491128.py\u001b[0m in \u001b[0;36m<cell line: 0>\u001b[0;34m()\u001b[0m\n\u001b[1;32m      4\u001b[0m \u001b[0;34m\u001b[0m\u001b[0m\n\u001b[1;32m      5\u001b[0m \u001b[0;32mdel\u001b[0m \u001b[0ml\u001b[0m\u001b[0;34m\u001b[0m\u001b[0;34m\u001b[0m\u001b[0m\n\u001b[0;32m----> 6\u001b[0;31m \u001b[0mprint\u001b[0m\u001b[0;34m(\u001b[0m\u001b[0ml\u001b[0m\u001b[0;34m)\u001b[0m\u001b[0;34m\u001b[0m\u001b[0;34m\u001b[0m\u001b[0m\n\u001b[0m",
            "\u001b[0;31mNameError\u001b[0m: name 'l' is not defined"
          ]
        }
      ]
    },
    {
      "cell_type": "code",
      "source": [
        "l=[1,2,3,4,5]\n",
        "\n",
        "# through indexing\n",
        "del l[0]\n",
        "print(l)\n",
        "\n",
        "# through slicing\n",
        "del l[0:3]\n",
        "print(l)"
      ],
      "metadata": {
        "colab": {
          "base_uri": "https://localhost:8080/"
        },
        "id": "Tivz_F01kmMk",
        "outputId": "e14d9e8b-9392-4067-c161-6e20237930c5"
      },
      "execution_count": null,
      "outputs": [
        {
          "output_type": "stream",
          "name": "stdout",
          "text": [
            "[2, 3, 4, 5]\n",
            "[5]\n"
          ]
        }
      ]
    },
    {
      "cell_type": "code",
      "source": [
        "# remove() : delete item based on value means dont need index only give item value\n",
        "l=[1,2,3,4,5,6]\n",
        "l.remove(4)\n",
        "print(l)"
      ],
      "metadata": {
        "colab": {
          "base_uri": "https://localhost:8080/"
        },
        "id": "JEN32llDkmPE",
        "outputId": "9652c64c-c37c-4bc5-c6f7-c01131c4fec4"
      },
      "execution_count": null,
      "outputs": [
        {
          "output_type": "stream",
          "name": "stdout",
          "text": [
            "[1, 2, 3, 5, 6]\n"
          ]
        }
      ]
    },
    {
      "cell_type": "code",
      "source": [
        "# pop() : delete item based on index(if index is provided) and if index is not provided delete last item\n",
        "l=[1,2,3,4,5,6]\n",
        "print(l)\n",
        "\n",
        "l.pop()\n",
        "print(l)\n",
        "\n",
        "l.pop(2)\n",
        "print(l)\n",
        "\n",
        "l.pop(l[1]) # delete item after the item whcih index we provide\n",
        "print(l)"
      ],
      "metadata": {
        "colab": {
          "base_uri": "https://localhost:8080/"
        },
        "id": "mP7SZpGSkmRg",
        "outputId": "f28072d2-6e27-4b9e-b497-804773d92d4a"
      },
      "execution_count": null,
      "outputs": [
        {
          "output_type": "stream",
          "name": "stdout",
          "text": [
            "[1, 2, 3, 4, 5, 6]\n",
            "[1, 2, 3, 4, 5]\n",
            "[1, 2, 4, 5]\n",
            "[1, 2, 5]\n"
          ]
        }
      ]
    },
    {
      "cell_type": "code",
      "source": [
        "#clear() : delete all items from list but don't delete list\n",
        "l=[1,2,3,4,5,6]\n",
        "l.clear()\n",
        "print(l)"
      ],
      "metadata": {
        "colab": {
          "base_uri": "https://localhost:8080/"
        },
        "id": "HXoV4pyxkmUM",
        "outputId": "20f86fd2-a0b1-4f0e-e505-3b43901de280"
      },
      "execution_count": null,
      "outputs": [
        {
          "output_type": "stream",
          "name": "stdout",
          "text": [
            "[]\n"
          ]
        }
      ]
    },
    {
      "cell_type": "markdown",
      "source": [
        "## Operations on list"
      ],
      "metadata": {
        "id": "87a2bD-Htzbd"
      }
    },
    {
      "cell_type": "code",
      "source": [
        "# arithemetic"
      ],
      "metadata": {
        "id": "mjcUftPYkmWl"
      },
      "execution_count": null,
      "outputs": []
    },
    {
      "cell_type": "code",
      "source": [
        "# addition : merges the list\n",
        "l1 =[1,2,3]\n",
        "l2 = [4,5,6]\n",
        "print(l1+l2)"
      ],
      "metadata": {
        "colab": {
          "base_uri": "https://localhost:8080/"
        },
        "id": "z7IS0tqNkmZp",
        "outputId": "c711e45b-0b54-4838-fc36-08f889161107"
      },
      "execution_count": null,
      "outputs": [
        {
          "output_type": "stream",
          "name": "stdout",
          "text": [
            "[1, 2, 3, 4, 5, 6]\n"
          ]
        }
      ]
    },
    {
      "cell_type": "code",
      "source": [
        "#multiplication:\n",
        "l1 =[1,2,3]\n",
        "print(l1*5)"
      ],
      "metadata": {
        "colab": {
          "base_uri": "https://localhost:8080/"
        },
        "id": "v-HQ8P16kmb-",
        "outputId": "7371f6e5-f207-453c-8387-5ad3ab04eee7"
      },
      "execution_count": null,
      "outputs": [
        {
          "output_type": "stream",
          "name": "stdout",
          "text": [
            "[1, 2, 3, 1, 2, 3, 1, 2, 3, 1, 2, 3, 1, 2, 3]\n"
          ]
        }
      ]
    },
    {
      "cell_type": "code",
      "source": [],
      "metadata": {
        "id": "7qslcvK2kme6"
      },
      "execution_count": null,
      "outputs": []
    },
    {
      "cell_type": "code",
      "source": [
        "# membership"
      ],
      "metadata": {
        "id": "6VEDhn4BkmiA"
      },
      "execution_count": null,
      "outputs": []
    },
    {
      "cell_type": "code",
      "source": [
        "l1 =[1,2,3]\n",
        "print(3 in l1)\n",
        "print(33 in l1)\n",
        "print(33 not in l1)"
      ],
      "metadata": {
        "colab": {
          "base_uri": "https://localhost:8080/"
        },
        "id": "MiMTdK8rkmkh",
        "outputId": "6a26de4e-ed75-4435-b80f-b4ccf1f95fef"
      },
      "execution_count": null,
      "outputs": [
        {
          "output_type": "stream",
          "name": "stdout",
          "text": [
            "True\n",
            "False\n",
            "True\n"
          ]
        }
      ]
    },
    {
      "cell_type": "code",
      "source": [
        "#loop"
      ],
      "metadata": {
        "id": "gaui_7MukmnG"
      },
      "execution_count": null,
      "outputs": []
    },
    {
      "cell_type": "code",
      "source": [
        "for i in l1:\n",
        "  for j in l2:\n",
        "    print(i,j)"
      ],
      "metadata": {
        "colab": {
          "base_uri": "https://localhost:8080/"
        },
        "id": "_t_si244kmqY",
        "outputId": "94e87338-7c57-4eef-9949-ebae46a67e8e"
      },
      "execution_count": null,
      "outputs": [
        {
          "output_type": "stream",
          "name": "stdout",
          "text": [
            "1 4\n",
            "1 5\n",
            "1 6\n",
            "2 4\n",
            "2 5\n",
            "2 6\n",
            "3 4\n",
            "3 5\n",
            "3 6\n"
          ]
        }
      ]
    },
    {
      "cell_type": "markdown",
      "source": [
        "## List Functions"
      ],
      "metadata": {
        "id": "-odh2DdlvRM5"
      }
    },
    {
      "cell_type": "code",
      "source": [
        "l = [1,2,3,4,5,9,6,4,0,2,7]"
      ],
      "metadata": {
        "id": "1S9fBkYdfP6o"
      },
      "execution_count": null,
      "outputs": []
    },
    {
      "cell_type": "code",
      "source": [
        "print(len(l))"
      ],
      "metadata": {
        "colab": {
          "base_uri": "https://localhost:8080/"
        },
        "id": "HVK7cTJEviul",
        "outputId": "30a366be-539b-4982-eb25-ab4eac28de63"
      },
      "execution_count": null,
      "outputs": [
        {
          "output_type": "stream",
          "name": "stdout",
          "text": [
            "11\n"
          ]
        }
      ]
    },
    {
      "cell_type": "code",
      "source": [
        "print(min(l))"
      ],
      "metadata": {
        "colab": {
          "base_uri": "https://localhost:8080/"
        },
        "id": "4qazPfCgvixa",
        "outputId": "d78f4594-3f6e-4fe6-b8e2-ecd06682fa48"
      },
      "execution_count": null,
      "outputs": [
        {
          "output_type": "stream",
          "name": "stdout",
          "text": [
            "0\n"
          ]
        }
      ]
    },
    {
      "cell_type": "code",
      "source": [
        "print(max(l))"
      ],
      "metadata": {
        "colab": {
          "base_uri": "https://localhost:8080/"
        },
        "id": "W0YkejmAvi0A",
        "outputId": "25a79870-243a-408c-9f1a-836924fed7d0"
      },
      "execution_count": null,
      "outputs": [
        {
          "output_type": "stream",
          "name": "stdout",
          "text": [
            "9\n"
          ]
        }
      ]
    },
    {
      "cell_type": "code",
      "source": [
        "print(sorted(l))"
      ],
      "metadata": {
        "colab": {
          "base_uri": "https://localhost:8080/"
        },
        "id": "kGDWZ-o_vi3G",
        "outputId": "8bb03f00-b20f-45ac-c1cb-f1a0e457a5e2"
      },
      "execution_count": null,
      "outputs": [
        {
          "output_type": "stream",
          "name": "stdout",
          "text": [
            "[0, 1, 2, 2, 3, 4, 4, 5, 6, 7, 9]\n"
          ]
        }
      ]
    },
    {
      "cell_type": "code",
      "source": [],
      "metadata": {
        "id": "TiHEj9qtwI_z"
      },
      "execution_count": null,
      "outputs": []
    },
    {
      "cell_type": "code",
      "source": [
        "#count() : count the frequency of that number\n",
        "l = [1,2,3,4,5,9,6,4,0,2,7]\n",
        "l.count(2)"
      ],
      "metadata": {
        "colab": {
          "base_uri": "https://localhost:8080/"
        },
        "id": "yGO0-eJCvi5v",
        "outputId": "7e5d4a26-eb0c-4673-ef27-b01026a782da"
      },
      "execution_count": null,
      "outputs": [
        {
          "output_type": "execute_result",
          "data": {
            "text/plain": [
              "2"
            ]
          },
          "metadata": {},
          "execution_count": 150
        }
      ]
    },
    {
      "cell_type": "code",
      "source": [
        "l.count(4)"
      ],
      "metadata": {
        "colab": {
          "base_uri": "https://localhost:8080/"
        },
        "id": "UEDKe8z1vi8E",
        "outputId": "94ca30e9-970c-4fb3-afa3-282d730315c1"
      },
      "execution_count": null,
      "outputs": [
        {
          "output_type": "execute_result",
          "data": {
            "text/plain": [
              "2"
            ]
          },
          "metadata": {},
          "execution_count": 151
        }
      ]
    },
    {
      "cell_type": "code",
      "source": [],
      "metadata": {
        "id": "pRTpZX7Jvi-_"
      },
      "execution_count": null,
      "outputs": []
    },
    {
      "cell_type": "code",
      "source": [
        "#index() : Tells index of that item\n",
        "l = [1,2,3,4,5,9,6,4,0,2,7]\n",
        "l.index(5)"
      ],
      "metadata": {
        "colab": {
          "base_uri": "https://localhost:8080/"
        },
        "id": "c9y2W7hQvjB0",
        "outputId": "12ae7857-e9c0-4f0b-e750-c9ae86983b3e"
      },
      "execution_count": null,
      "outputs": [
        {
          "output_type": "execute_result",
          "data": {
            "text/plain": [
              "4"
            ]
          },
          "metadata": {},
          "execution_count": 152
        }
      ]
    },
    {
      "cell_type": "code",
      "source": [],
      "metadata": {
        "id": "lUcuK6XIvjHo"
      },
      "execution_count": null,
      "outputs": []
    },
    {
      "cell_type": "code",
      "source": [
        "#reverse() : reverse the list permanatly\n",
        "l = [1,2,3,4,5,9,6,4,0,2,7]\n",
        "print(l)\n",
        "l.reverse()\n",
        "print(l)"
      ],
      "metadata": {
        "colab": {
          "base_uri": "https://localhost:8080/"
        },
        "id": "Na7Kz_8fvjK6",
        "outputId": "f73c4c65-47c4-4bb9-9fb9-33e640c01078"
      },
      "execution_count": null,
      "outputs": [
        {
          "output_type": "stream",
          "name": "stdout",
          "text": [
            "[1, 2, 3, 4, 5, 9, 6, 4, 0, 2, 7]\n",
            "[7, 2, 0, 4, 6, 9, 5, 4, 3, 2, 1]\n"
          ]
        }
      ]
    },
    {
      "cell_type": "code",
      "source": [
        "print(l)"
      ],
      "metadata": {
        "colab": {
          "base_uri": "https://localhost:8080/"
        },
        "id": "T9oSln7zvjNW",
        "outputId": "ce888f9c-d8ed-4101-e026-e0eb2c201410"
      },
      "execution_count": null,
      "outputs": [
        {
          "output_type": "stream",
          "name": "stdout",
          "text": [
            "[7, 2, 0, 4, 6, 9, 5, 4, 3, 2, 1]\n"
          ]
        }
      ]
    },
    {
      "cell_type": "code",
      "source": [],
      "metadata": {
        "id": "HyZV6WkUvjQG"
      },
      "execution_count": null,
      "outputs": []
    },
    {
      "cell_type": "code",
      "source": [
        "#sort() : sort the list permanatly\n",
        "l = [1,2,3,4,5,9,6,4,0,2,7]\n",
        "print(l)\n",
        "l.sort()\n",
        "print(l)"
      ],
      "metadata": {
        "colab": {
          "base_uri": "https://localhost:8080/"
        },
        "id": "Np_O7QNsvjSl",
        "outputId": "f5c75e78-c166-444e-c9f6-6b435c819387"
      },
      "execution_count": null,
      "outputs": [
        {
          "output_type": "stream",
          "name": "stdout",
          "text": [
            "[1, 2, 3, 4, 5, 9, 6, 4, 0, 2, 7]\n",
            "[0, 1, 2, 2, 3, 4, 4, 5, 6, 7, 9]\n"
          ]
        }
      ]
    },
    {
      "cell_type": "code",
      "source": [
        "l.sort(reverse=True)\n",
        "print(l)"
      ],
      "metadata": {
        "colab": {
          "base_uri": "https://localhost:8080/"
        },
        "id": "2X0lG3jqxywJ",
        "outputId": "482839bb-df71-487d-a53a-4d7710665f5f"
      },
      "execution_count": null,
      "outputs": [
        {
          "output_type": "stream",
          "name": "stdout",
          "text": [
            "[9, 7, 6, 5, 4, 4, 3, 2, 2, 1, 0]\n"
          ]
        }
      ]
    },
    {
      "cell_type": "code",
      "source": [
        "print(l)"
      ],
      "metadata": {
        "colab": {
          "base_uri": "https://localhost:8080/"
        },
        "id": "lgtRB0UmvjVV",
        "outputId": "cfe6219f-f6da-41e4-ce66-3c3dd1907851"
      },
      "execution_count": null,
      "outputs": [
        {
          "output_type": "stream",
          "name": "stdout",
          "text": [
            "[9, 7, 6, 5, 4, 4, 3, 2, 2, 1, 0]\n"
          ]
        }
      ]
    },
    {
      "cell_type": "code",
      "source": [],
      "metadata": {
        "id": "3JjwZ5zyvjYV"
      },
      "execution_count": null,
      "outputs": []
    },
    {
      "cell_type": "code",
      "source": [
        "#copy() : create c copy of exixting list\n",
        "l = [1,2,3,4,5,9,6,4,0,2,7]\n",
        "print(l)\n",
        "print(id(l))\n",
        "l1 =l.copy()\n",
        "print(l1)\n",
        "print(id(l1))"
      ],
      "metadata": {
        "colab": {
          "base_uri": "https://localhost:8080/"
        },
        "id": "-G2QOkYNvjay",
        "outputId": "03679e74-83aa-4a5e-ab4f-5a612e9eaeaa"
      },
      "execution_count": null,
      "outputs": [
        {
          "output_type": "stream",
          "name": "stdout",
          "text": [
            "[1, 2, 3, 4, 5, 9, 6, 4, 0, 2, 7]\n",
            "138018353884096\n",
            "[1, 2, 3, 4, 5, 9, 6, 4, 0, 2, 7]\n",
            "138018352390016\n"
          ]
        }
      ]
    },
    {
      "cell_type": "code",
      "source": [],
      "metadata": {
        "id": "ERmu3tWkvjfe"
      },
      "execution_count": null,
      "outputs": []
    },
    {
      "cell_type": "markdown",
      "source": [
        "## List comprehension"
      ],
      "metadata": {
        "id": "zmXDXy8tyDpB"
      }
    },
    {
      "cell_type": "code",
      "source": [],
      "metadata": {
        "id": "a-jQoRbkvjlL"
      },
      "execution_count": null,
      "outputs": []
    },
    {
      "cell_type": "code",
      "source": [],
      "metadata": {
        "id": "roAbpYpNvjoo"
      },
      "execution_count": null,
      "outputs": []
    },
    {
      "cell_type": "code",
      "source": [],
      "metadata": {
        "id": "mclhnjWUfP9q"
      },
      "execution_count": null,
      "outputs": []
    },
    {
      "cell_type": "code",
      "source": [],
      "metadata": {
        "id": "4J2Ox_-6fQCw"
      },
      "execution_count": null,
      "outputs": []
    },
    {
      "cell_type": "code",
      "source": [],
      "metadata": {
        "id": "CPjtCKS29kLu"
      },
      "execution_count": null,
      "outputs": []
    },
    {
      "cell_type": "code",
      "source": [],
      "metadata": {
        "id": "RpC6lMl39kOm"
      },
      "execution_count": null,
      "outputs": []
    },
    {
      "cell_type": "code",
      "source": [],
      "metadata": {
        "id": "kjlzM2Zb9kRh"
      },
      "execution_count": null,
      "outputs": []
    },
    {
      "cell_type": "code",
      "source": [],
      "metadata": {
        "id": "gabn8IIb9kUh"
      },
      "execution_count": null,
      "outputs": []
    },
    {
      "cell_type": "code",
      "source": [],
      "metadata": {
        "id": "K78tT_dT9kXe"
      },
      "execution_count": null,
      "outputs": []
    },
    {
      "cell_type": "code",
      "source": [],
      "metadata": {
        "id": "O6UHP5pr9kaN"
      },
      "execution_count": null,
      "outputs": []
    },
    {
      "cell_type": "code",
      "source": [],
      "metadata": {
        "id": "WLEeakXj9kc_"
      },
      "execution_count": null,
      "outputs": []
    },
    {
      "cell_type": "code",
      "source": [],
      "metadata": {
        "id": "6tQ_87059kf9"
      },
      "execution_count": null,
      "outputs": []
    },
    {
      "cell_type": "code",
      "source": [],
      "metadata": {
        "id": "gtZ7tqye9kjN"
      },
      "execution_count": null,
      "outputs": []
    },
    {
      "cell_type": "markdown",
      "source": [
        "## Traversing in list"
      ],
      "metadata": {
        "id": "1_LhVLsf9lby"
      }
    },
    {
      "cell_type": "code",
      "source": [
        "# itemwise: avilable in only python\n",
        "\n",
        "L = [1,2,3,4,5]\n",
        "\n",
        "for i in L:\n",
        "  print(i)"
      ],
      "metadata": {
        "colab": {
          "base_uri": "https://localhost:8080/"
        },
        "id": "GQ6YUAYc9oqV",
        "outputId": "d6c47581-32ac-4ba8-f00b-c4729c224d4f"
      },
      "execution_count": null,
      "outputs": [
        {
          "output_type": "stream",
          "name": "stdout",
          "text": [
            "1\n",
            "2\n",
            "3\n",
            "4\n",
            "5\n"
          ]
        }
      ]
    },
    {
      "cell_type": "code",
      "source": [
        "#indexwise : avilable on all languages\n",
        "\n",
        "for i in range(0,len(L)):\n",
        "  #print(i) # these are indexes\n",
        "  print(L[i]) # this print items in list"
      ],
      "metadata": {
        "colab": {
          "base_uri": "https://localhost:8080/"
        },
        "id": "NUTKJuz69uSu",
        "outputId": "70c7e573-a357-448c-f655-051dffe12dfc"
      },
      "execution_count": null,
      "outputs": [
        {
          "output_type": "stream",
          "name": "stdout",
          "text": [
            "1\n",
            "2\n",
            "3\n",
            "4\n",
            "5\n"
          ]
        }
      ]
    },
    {
      "cell_type": "markdown",
      "source": [
        "## Zip() function"
      ],
      "metadata": {
        "id": "YfA7atT8-Qrg"
      }
    },
    {
      "cell_type": "code",
      "source": [
        "#"
      ],
      "metadata": {
        "id": "mKT4M8yl9-UN"
      },
      "execution_count": null,
      "outputs": []
    },
    {
      "cell_type": "code",
      "source": [
        "# write program to add items of two list based on index\n",
        "\n",
        "l1 = [1,2,3,4]\n",
        "l2 = [-1,-2,-3,-4]\n",
        "\n",
        "list(zip(l1,l2))\n",
        "\n",
        "[i+j for i,j in zip(l1,l2)]"
      ],
      "metadata": {
        "colab": {
          "base_uri": "https://localhost:8080/"
        },
        "id": "EeLeNonY-OWG",
        "outputId": "79cb2986-851c-46bd-a7aa-f0c2817e3a02"
      },
      "execution_count": null,
      "outputs": [
        {
          "output_type": "execute_result",
          "data": {
            "text/plain": [
              "[0, 0, 0, 0]"
            ]
          },
          "metadata": {},
          "execution_count": 174
        }
      ]
    },
    {
      "cell_type": "code",
      "source": [
        "print([1,2,3,print,type,input])"
      ],
      "metadata": {
        "colab": {
          "base_uri": "https://localhost:8080/"
        },
        "id": "wD37qKJ--OSv",
        "outputId": "9629523c-42b4-40cb-8ab4-1204dadcb219"
      },
      "execution_count": null,
      "outputs": [
        {
          "output_type": "stream",
          "name": "stdout",
          "text": [
            "[1, 2, 3, <built-in function print>, <class 'type'>, <bound method Kernel.raw_input of <google.colab._kernel.Kernel object at 0x7d8718e85550>>]\n"
          ]
        }
      ]
    },
    {
      "cell_type": "code",
      "source": [
        "#everything in python is object and you can store any object in list"
      ],
      "metadata": {
        "id": "DgzR-6m_-OPV"
      },
      "execution_count": null,
      "outputs": []
    },
    {
      "cell_type": "markdown",
      "source": [
        "## Disadvantages"
      ],
      "metadata": {
        "id": "Sw8C9DQ-Bd-L"
      }
    },
    {
      "cell_type": "code",
      "source": [
        "a = [1,2,3,4]\n",
        "b=a.copy()\n",
        "print(a)\n",
        "print(b)\n",
        "\n",
        "a.append(5)\n",
        "print(a)\n",
        "print(b)\n",
        "\n",
        "print(id(a))\n",
        "print(id(b))"
      ],
      "metadata": {
        "colab": {
          "base_uri": "https://localhost:8080/"
        },
        "id": "461yplkx-ONj",
        "outputId": "be5a672c-9338-4e32-ffea-1b4375cb08a4"
      },
      "execution_count": null,
      "outputs": [
        {
          "output_type": "stream",
          "name": "stdout",
          "text": [
            "[1, 2, 3, 4]\n",
            "[1, 2, 3, 4]\n",
            "[1, 2, 3, 4, 5]\n",
            "[1, 2, 3, 4]\n",
            "138018355103232\n",
            "138018353885312\n"
          ]
        }
      ]
    },
    {
      "cell_type": "code",
      "source": [],
      "metadata": {
        "id": "XrSB_FmQ-OLP"
      },
      "execution_count": null,
      "outputs": []
    },
    {
      "cell_type": "code",
      "source": [],
      "metadata": {
        "id": "kq9cwSLS-OIT"
      },
      "execution_count": null,
      "outputs": []
    },
    {
      "cell_type": "code",
      "source": [],
      "metadata": {
        "id": "9ZnYhvRR-OFd"
      },
      "execution_count": null,
      "outputs": []
    },
    {
      "cell_type": "code",
      "source": [],
      "metadata": {
        "id": "6VQxNHS3-ODA"
      },
      "execution_count": null,
      "outputs": []
    },
    {
      "cell_type": "code",
      "source": [],
      "metadata": {
        "id": "7jwd5VoF-OAU"
      },
      "execution_count": null,
      "outputs": []
    }
  ]
}