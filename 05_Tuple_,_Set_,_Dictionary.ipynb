{
  "nbformat": 4,
  "nbformat_minor": 0,
  "metadata": {
    "colab": {
      "provenance": [],
      "collapsed_sections": [
        "JiCDSsc6I6G0",
        "Rsw8m36rL7ml",
        "Nsz47BlYNiNp",
        "FiHP49dgQAFe",
        "D1g711RnQRPb",
        "tTEu36EUREmO",
        "Xc0FyyW1UoaI",
        "No7kfQIkVFrU",
        "Ht0-rc-kVl8G",
        "33V2Ei-HFYXh",
        "LmcdG5TfF3fZ",
        "qB3tGSTsJDk1",
        "fiGC1jyBJB5L",
        "556PIiuvKSIf",
        "ezOADwDUMuKM",
        "Fex5YoZWM5C-",
        "8xoCMkFANcI4",
        "vZoiv3fqVto0",
        "oBQJ81QQWii9",
        "Ku9T16g5YW2t",
        "avtxY6NjYtXb",
        "xhk0XZWce3_w",
        "rZWmQz7bf-_3",
        "dr8wbaWFgSz0",
        "jrQVyvx3goyj",
        "3AR6wF7gh8kW",
        "HJtCeJOBiSW9",
        "hAckko-pX6cb",
        "aiudY9QndEn7",
        "aLWf_ZBedHg7",
        "MR0HvIIHdKbr"
      ],
      "authorship_tag": "ABX9TyMp4lEBWaK5iMwLNxcKZfmp",
      "include_colab_link": true
    },
    "kernelspec": {
      "name": "python3",
      "display_name": "Python 3"
    },
    "language_info": {
      "name": "python"
    }
  },
  "cells": [
    {
      "cell_type": "markdown",
      "metadata": {
        "id": "view-in-github",
        "colab_type": "text"
      },
      "source": [
        "<a href=\"https://colab.research.google.com/github/Precipitation-Rain/Python/blob/main/05_Tuple_%2C_Set_%2C_Dictionary.ipynb\" target=\"_parent\"><img src=\"https://colab.research.google.com/assets/colab-badge.svg\" alt=\"Open In Colab\"/></a>"
      ]
    },
    {
      "cell_type": "markdown",
      "source": [
        "# Tuple"
      ],
      "metadata": {
        "id": "JiCDSsc6I6G0"
      }
    },
    {
      "cell_type": "code",
      "source": [
        "# List ka bhai\n",
        "# 2 big diff:\n",
        "  # 1.immutable\n",
        "  # 2.closed inside ()\n",
        "#almost similar"
      ],
      "metadata": {
        "id": "E8aT4nR7I6sS"
      },
      "execution_count": null,
      "outputs": []
    },
    {
      "cell_type": "markdown",
      "source": [
        "## Creating a tuple"
      ],
      "metadata": {
        "id": "Rsw8m36rL7ml"
      }
    },
    {
      "cell_type": "code",
      "source": [
        "#empty\n",
        "t=()\n",
        "print(t)"
      ],
      "metadata": {
        "colab": {
          "base_uri": "https://localhost:8080/"
        },
        "id": "3KMCpZJLI7T3",
        "outputId": "8dc64477-1e93-4964-8909-21f2d6f8a8b7"
      },
      "execution_count": null,
      "outputs": [
        {
          "output_type": "stream",
          "name": "stdout",
          "text": [
            "()\n"
          ]
        }
      ]
    },
    {
      "cell_type": "code",
      "source": [
        "#tuple wiht one elment : special case\n",
        "# t1 =(1) # this will create an integer.\n",
        "# print(t1)\n",
        "# print(type(t1))\n",
        "\n",
        "t1 =(1,) # this is right syntax\n",
        "print(t1)\n",
        "print(type(t1))"
      ],
      "metadata": {
        "colab": {
          "base_uri": "https://localhost:8080/"
        },
        "id": "DQGEMTjPI7W4",
        "outputId": "cfbc037f-3c42-4c6a-87e2-ad342a17c4aa"
      },
      "execution_count": null,
      "outputs": [
        {
          "output_type": "stream",
          "name": "stdout",
          "text": [
            "1\n",
            "<class 'int'>\n",
            "(1,)\n",
            "<class 'tuple'>\n"
          ]
        }
      ]
    },
    {
      "cell_type": "code",
      "source": [
        "#homogenous\n",
        "t3 = (1,2,3,4)\n",
        "print(t3)"
      ],
      "metadata": {
        "colab": {
          "base_uri": "https://localhost:8080/"
        },
        "id": "cX1P0MhhI7Zq",
        "outputId": "8eb3a1f4-cf35-4703-fa2b-3120fa9025e8"
      },
      "execution_count": null,
      "outputs": [
        {
          "output_type": "stream",
          "name": "stdout",
          "text": [
            "(1, 2, 3, 4)\n"
          ]
        }
      ]
    },
    {
      "cell_type": "code",
      "source": [
        "#hetrogenous\n",
        "t4 = (1,2.2,'Hello',True,[1,2,3])\n",
        "print(t4)"
      ],
      "metadata": {
        "colab": {
          "base_uri": "https://localhost:8080/"
        },
        "id": "3kLgYGf5I7b9",
        "outputId": "a4d211e2-d92c-4544-d79f-5b6abdaa3537"
      },
      "execution_count": null,
      "outputs": [
        {
          "output_type": "stream",
          "name": "stdout",
          "text": [
            "(1, 2.2, 'Hello', True, [1, 2, 3])\n"
          ]
        }
      ]
    },
    {
      "cell_type": "code",
      "source": [
        "#2d\n",
        "t5 = (1,2,True,(4,5))\n",
        "print(t5)"
      ],
      "metadata": {
        "colab": {
          "base_uri": "https://localhost:8080/"
        },
        "id": "EWvGZOHCI7eY",
        "outputId": "df24f9ae-9556-43b8-e206-ea9bf57bf240"
      },
      "execution_count": null,
      "outputs": [
        {
          "output_type": "stream",
          "name": "stdout",
          "text": [
            "(1, 2, True, (4, 5))\n"
          ]
        }
      ]
    },
    {
      "cell_type": "code",
      "source": [
        "#3d : bahar se andar brackets gino .jitne bracket (((( )))) utne dimension ka tuple\n",
        "t6 = (1,2,True,(4,5,(7,8,'king',4+3j)))\n",
        "print(t6)"
      ],
      "metadata": {
        "colab": {
          "base_uri": "https://localhost:8080/"
        },
        "id": "ULN4rAj2I7gb",
        "outputId": "eaa88c41-65d3-4528-d60d-2d69c563a6a2"
      },
      "execution_count": null,
      "outputs": [
        {
          "output_type": "stream",
          "name": "stdout",
          "text": [
            "(1, 2, True, (4, 5, (7, 8, 'king', (4+3j))))\n"
          ]
        }
      ]
    },
    {
      "cell_type": "code",
      "source": [
        "#type conversio\n",
        "t7 = tuple('king')\n",
        "print(t7)"
      ],
      "metadata": {
        "colab": {
          "base_uri": "https://localhost:8080/"
        },
        "id": "vBbxNESfI7jL",
        "outputId": "e8712367-2ea0-4a6a-8a5a-339fa5e4059c"
      },
      "execution_count": null,
      "outputs": [
        {
          "output_type": "stream",
          "name": "stdout",
          "text": [
            "('k', 'i', 'n', 'g')\n"
          ]
        }
      ]
    },
    {
      "cell_type": "markdown",
      "source": [
        "## Access items from tuple"
      ],
      "metadata": {
        "id": "Nsz47BlYNiNp"
      }
    },
    {
      "cell_type": "code",
      "source": [
        "# all is same like list\n",
        "#agar mujhe list me aata hain to me yaha bhi kar lunga"
      ],
      "metadata": {
        "id": "hPjAF0DsI7l0"
      },
      "execution_count": null,
      "outputs": []
    },
    {
      "cell_type": "code",
      "source": [
        "#indexing\n",
        "print(t3)\n",
        "t3[1]\n",
        "t3[-1]"
      ],
      "metadata": {
        "colab": {
          "base_uri": "https://localhost:8080/"
        },
        "id": "B0vY3phwI7oc",
        "outputId": "0ce9eff1-3ccf-4a22-eb11-d6fbe8497e90"
      },
      "execution_count": null,
      "outputs": [
        {
          "output_type": "stream",
          "name": "stdout",
          "text": [
            "(1, 2, 3, 4)\n"
          ]
        },
        {
          "output_type": "execute_result",
          "data": {
            "text/plain": [
              "4"
            ]
          },
          "metadata": {},
          "execution_count": 16
        }
      ]
    },
    {
      "cell_type": "code",
      "source": [
        "#slicing\n",
        "print(t3)\n",
        "print(t3[0:3])\n",
        "print(t3[0:])\n",
        "print(t3[-3:])\n",
        "print(t3[0:4:2])\n",
        "\n",
        "# to reverse tuple\n",
        "t3[::-1]"
      ],
      "metadata": {
        "colab": {
          "base_uri": "https://localhost:8080/"
        },
        "id": "FRqC8EFgI7rB",
        "outputId": "984dc18c-96d3-4d49-9dfe-5b58b1588950"
      },
      "execution_count": null,
      "outputs": [
        {
          "output_type": "stream",
          "name": "stdout",
          "text": [
            "(1, 2, 3, 4)\n",
            "(1, 2, 3)\n",
            "(1, 2, 3, 4)\n",
            "(2, 3, 4)\n",
            "(1, 3)\n"
          ]
        },
        {
          "output_type": "execute_result",
          "data": {
            "text/plain": [
              "(4, 3, 2, 1)"
            ]
          },
          "metadata": {},
          "execution_count": 24
        }
      ]
    },
    {
      "cell_type": "code",
      "source": [
        "t6"
      ],
      "metadata": {
        "colab": {
          "base_uri": "https://localhost:8080/"
        },
        "id": "ZzI3tg6HSD0B",
        "outputId": "55fb39a6-58ed-4ddd-c33d-20730f659a86"
      },
      "execution_count": null,
      "outputs": [
        {
          "output_type": "execute_result",
          "data": {
            "text/plain": [
              "(1, 2, True, (4, 5, (7, 8, 'king', (4+3j))))"
            ]
          },
          "metadata": {},
          "execution_count": 37
        }
      ]
    },
    {
      "cell_type": "code",
      "source": [
        "print(t6[3][2][2])"
      ],
      "metadata": {
        "colab": {
          "base_uri": "https://localhost:8080/"
        },
        "id": "yoGlWd-LSJU1",
        "outputId": "5e2e65ec-87ce-4a44-eea2-2c8af2f09783"
      },
      "execution_count": null,
      "outputs": [
        {
          "output_type": "stream",
          "name": "stdout",
          "text": [
            "king\n"
          ]
        }
      ]
    },
    {
      "cell_type": "markdown",
      "source": [
        "## Editing items in tuple"
      ],
      "metadata": {
        "id": "FiHP49dgQAFe"
      }
    },
    {
      "cell_type": "code",
      "source": [
        "print(t3)\n",
        "t3[0] = 1000\n",
        "#tuple is immutable.Ek bar ban gaya to usme change nahi kar sakte"
      ],
      "metadata": {
        "colab": {
          "base_uri": "https://localhost:8080/",
          "height": 193
        },
        "id": "YI-y-65KI7tk",
        "outputId": "df90390c-0cb1-4148-aab4-e794ee5e1246"
      },
      "execution_count": null,
      "outputs": [
        {
          "output_type": "stream",
          "name": "stdout",
          "text": [
            "(1, 2, 3, 4)\n"
          ]
        },
        {
          "output_type": "error",
          "ename": "TypeError",
          "evalue": "'tuple' object does not support item assignment",
          "traceback": [
            "\u001b[0;31m---------------------------------------------------------------------------\u001b[0m",
            "\u001b[0;31mTypeError\u001b[0m                                 Traceback (most recent call last)",
            "\u001b[0;32m/tmp/ipython-input-3174616645.py\u001b[0m in \u001b[0;36m<cell line: 0>\u001b[0;34m()\u001b[0m\n\u001b[1;32m      1\u001b[0m \u001b[0mprint\u001b[0m\u001b[0;34m(\u001b[0m\u001b[0mt3\u001b[0m\u001b[0;34m)\u001b[0m\u001b[0;34m\u001b[0m\u001b[0;34m\u001b[0m\u001b[0m\n\u001b[0;32m----> 2\u001b[0;31m \u001b[0mt3\u001b[0m\u001b[0;34m[\u001b[0m\u001b[0;36m0\u001b[0m\u001b[0;34m]\u001b[0m \u001b[0;34m=\u001b[0m \u001b[0;36m1000\u001b[0m\u001b[0;34m\u001b[0m\u001b[0;34m\u001b[0m\u001b[0m\n\u001b[0m\u001b[1;32m      3\u001b[0m \u001b[0;31m#tuple is immutable.Ek bar ban gaya to usme change nahi kar sakte\u001b[0m\u001b[0;34m\u001b[0m\u001b[0;34m\u001b[0m\u001b[0m\n",
            "\u001b[0;31mTypeError\u001b[0m: 'tuple' object does not support item assignment"
          ]
        }
      ]
    },
    {
      "cell_type": "markdown",
      "source": [
        "## Adding items in tuple"
      ],
      "metadata": {
        "id": "D1g711RnQRPb"
      }
    },
    {
      "cell_type": "code",
      "source": [
        "#not possible"
      ],
      "metadata": {
        "id": "RXT-TWXpI7wS"
      },
      "execution_count": null,
      "outputs": []
    },
    {
      "cell_type": "markdown",
      "source": [
        "## Deleting items from tuple"
      ],
      "metadata": {
        "id": "tTEu36EUREmO"
      }
    },
    {
      "cell_type": "code",
      "source": [
        "#you can delete whole tuple but can delete single/muliple items"
      ],
      "metadata": {
        "id": "TsKvvrlXI7zH"
      },
      "execution_count": null,
      "outputs": []
    },
    {
      "cell_type": "code",
      "source": [
        "print(t3)"
      ],
      "metadata": {
        "colab": {
          "base_uri": "https://localhost:8080/"
        },
        "id": "XkKb20CyI719",
        "outputId": "9e3b3f37-f331-4c3d-ebcd-d87e741049cf"
      },
      "execution_count": null,
      "outputs": [
        {
          "output_type": "stream",
          "name": "stdout",
          "text": [
            "(1, 2, 3, 4)\n"
          ]
        }
      ]
    },
    {
      "cell_type": "code",
      "source": [
        "del t3\n",
        "print(t3)"
      ],
      "metadata": {
        "colab": {
          "base_uri": "https://localhost:8080/",
          "height": 158
        },
        "id": "AxCIivvDI74f",
        "outputId": "2dc12b6f-0be4-459e-cbda-ba9931b4350f"
      },
      "execution_count": null,
      "outputs": [
        {
          "output_type": "error",
          "ename": "NameError",
          "evalue": "name 't3' is not defined",
          "traceback": [
            "\u001b[0;31m---------------------------------------------------------------------------\u001b[0m",
            "\u001b[0;31mNameError\u001b[0m                                 Traceback (most recent call last)",
            "\u001b[0;32m/tmp/ipython-input-3711359676.py\u001b[0m in \u001b[0;36m<cell line: 0>\u001b[0;34m()\u001b[0m\n\u001b[0;32m----> 1\u001b[0;31m \u001b[0;32mdel\u001b[0m \u001b[0mt3\u001b[0m\u001b[0;34m\u001b[0m\u001b[0;34m\u001b[0m\u001b[0m\n\u001b[0m\u001b[1;32m      2\u001b[0m \u001b[0mprint\u001b[0m\u001b[0;34m(\u001b[0m\u001b[0mt3\u001b[0m\u001b[0;34m)\u001b[0m\u001b[0;34m\u001b[0m\u001b[0;34m\u001b[0m\u001b[0m\n",
            "\u001b[0;31mNameError\u001b[0m: name 't3' is not defined"
          ]
        }
      ]
    },
    {
      "cell_type": "code",
      "source": [
        "print(t3)\n",
        "del t3[3]"
      ],
      "metadata": {
        "colab": {
          "base_uri": "https://localhost:8080/",
          "height": 176
        },
        "id": "jgz-fFkvI775",
        "outputId": "001830f3-1724-45fc-ca92-493ffda8c222"
      },
      "execution_count": null,
      "outputs": [
        {
          "output_type": "stream",
          "name": "stdout",
          "text": [
            "(1, 2, 3, 4)\n"
          ]
        },
        {
          "output_type": "error",
          "ename": "TypeError",
          "evalue": "'tuple' object doesn't support item deletion",
          "traceback": [
            "\u001b[0;31m---------------------------------------------------------------------------\u001b[0m",
            "\u001b[0;31mTypeError\u001b[0m                                 Traceback (most recent call last)",
            "\u001b[0;32m/tmp/ipython-input-2573417275.py\u001b[0m in \u001b[0;36m<cell line: 0>\u001b[0;34m()\u001b[0m\n\u001b[1;32m      1\u001b[0m \u001b[0mprint\u001b[0m\u001b[0;34m(\u001b[0m\u001b[0mt3\u001b[0m\u001b[0;34m)\u001b[0m\u001b[0;34m\u001b[0m\u001b[0;34m\u001b[0m\u001b[0m\n\u001b[0;32m----> 2\u001b[0;31m \u001b[0;32mdel\u001b[0m \u001b[0mt3\u001b[0m\u001b[0;34m[\u001b[0m\u001b[0;36m3\u001b[0m\u001b[0;34m]\u001b[0m\u001b[0;34m\u001b[0m\u001b[0;34m\u001b[0m\u001b[0m\n\u001b[0m",
            "\u001b[0;31mTypeError\u001b[0m: 'tuple' object doesn't support item deletion"
          ]
        }
      ]
    },
    {
      "cell_type": "markdown",
      "source": [
        "## Operations on tuple"
      ],
      "metadata": {
        "id": "Xc0FyyW1UoaI"
      }
    },
    {
      "cell_type": "code",
      "source": [
        "#Arithemetic\n",
        "t1 = (1,2,3,4)\n",
        "t2 = (5,6,7,8)\n",
        "\n",
        "t1+t2"
      ],
      "metadata": {
        "colab": {
          "base_uri": "https://localhost:8080/"
        },
        "id": "neKQEKthSW5b",
        "outputId": "7eeea940-4819-4417-d85b-be549034eba3"
      },
      "execution_count": null,
      "outputs": [
        {
          "output_type": "execute_result",
          "data": {
            "text/plain": [
              "(1, 2, 3, 4, 5, 6, 7, 8)"
            ]
          },
          "metadata": {},
          "execution_count": 41
        }
      ]
    },
    {
      "cell_type": "code",
      "source": [
        "t1*2"
      ],
      "metadata": {
        "colab": {
          "base_uri": "https://localhost:8080/"
        },
        "id": "SG1MyqSfSX9d",
        "outputId": "57eda327-b785-4318-9aed-acb5f860bf75"
      },
      "execution_count": null,
      "outputs": [
        {
          "output_type": "execute_result",
          "data": {
            "text/plain": [
              "(1, 2, 3, 4, 1, 2, 3, 4)"
            ]
          },
          "metadata": {},
          "execution_count": 42
        }
      ]
    },
    {
      "cell_type": "code",
      "source": [],
      "metadata": {
        "id": "zpKS5Hk-U-Zo"
      },
      "execution_count": null,
      "outputs": []
    },
    {
      "cell_type": "code",
      "source": [
        "#membership\n",
        "1 in t1"
      ],
      "metadata": {
        "colab": {
          "base_uri": "https://localhost:8080/"
        },
        "id": "Rn0v3da5SX52",
        "outputId": "be1a284d-d9e2-41dc-e092-c7fd968c8237"
      },
      "execution_count": null,
      "outputs": [
        {
          "output_type": "execute_result",
          "data": {
            "text/plain": [
              "True"
            ]
          },
          "metadata": {},
          "execution_count": 43
        }
      ]
    },
    {
      "cell_type": "code",
      "source": [
        "4 not in t2"
      ],
      "metadata": {
        "colab": {
          "base_uri": "https://localhost:8080/"
        },
        "id": "tZAFrLt9SX3J",
        "outputId": "602f883d-d72d-4a2a-8867-2af9b0b84c75"
      },
      "execution_count": null,
      "outputs": [
        {
          "output_type": "execute_result",
          "data": {
            "text/plain": [
              "True"
            ]
          },
          "metadata": {},
          "execution_count": 44
        }
      ]
    },
    {
      "cell_type": "code",
      "source": [],
      "metadata": {
        "id": "I_KWIY1USX0L"
      },
      "execution_count": null,
      "outputs": []
    },
    {
      "cell_type": "code",
      "source": [
        "#loops"
      ],
      "metadata": {
        "id": "bypzd0fjSXxg"
      },
      "execution_count": null,
      "outputs": []
    },
    {
      "cell_type": "code",
      "source": [
        "for i in t1:\n",
        "  print(i)"
      ],
      "metadata": {
        "colab": {
          "base_uri": "https://localhost:8080/"
        },
        "id": "1e3Pf5DASXuR",
        "outputId": "ee1bac3c-2805-411e-8b2d-eeacf1e591c5"
      },
      "execution_count": null,
      "outputs": [
        {
          "output_type": "stream",
          "name": "stdout",
          "text": [
            "1\n",
            "2\n",
            "3\n",
            "4\n"
          ]
        }
      ]
    },
    {
      "cell_type": "markdown",
      "source": [
        "##Functions of tuple"
      ],
      "metadata": {
        "id": "No7kfQIkVFrU"
      }
    },
    {
      "cell_type": "code",
      "source": [
        "t = (1 , 2 , 3 , 4 , 5)"
      ],
      "metadata": {
        "id": "PLdfnj4tSXq3"
      },
      "execution_count": null,
      "outputs": []
    },
    {
      "cell_type": "code",
      "source": [
        "len(t)"
      ],
      "metadata": {
        "colab": {
          "base_uri": "https://localhost:8080/"
        },
        "id": "PHVWXPU0UOiF",
        "outputId": "f6469cc5-d585-4055-f894-285f1d0917f2"
      },
      "execution_count": null,
      "outputs": [
        {
          "output_type": "execute_result",
          "data": {
            "text/plain": [
              "5"
            ]
          },
          "metadata": {},
          "execution_count": 47
        }
      ]
    },
    {
      "cell_type": "code",
      "source": [
        "min(t)"
      ],
      "metadata": {
        "colab": {
          "base_uri": "https://localhost:8080/"
        },
        "id": "mEkJLVUmVOmB",
        "outputId": "3cb451aa-3942-45b5-9933-472af71068e8"
      },
      "execution_count": null,
      "outputs": [
        {
          "output_type": "execute_result",
          "data": {
            "text/plain": [
              "1"
            ]
          },
          "metadata": {},
          "execution_count": 48
        }
      ]
    },
    {
      "cell_type": "code",
      "source": [
        "max(t)"
      ],
      "metadata": {
        "colab": {
          "base_uri": "https://localhost:8080/"
        },
        "id": "ps9iVt58VQE7",
        "outputId": "c47c7355-34e5-4847-f3c3-405e54695240"
      },
      "execution_count": null,
      "outputs": [
        {
          "output_type": "execute_result",
          "data": {
            "text/plain": [
              "5"
            ]
          },
          "metadata": {},
          "execution_count": 49
        }
      ]
    },
    {
      "cell_type": "code",
      "source": [
        "sum(t)"
      ],
      "metadata": {
        "colab": {
          "base_uri": "https://localhost:8080/"
        },
        "id": "MysQplO-VSBU",
        "outputId": "89c3ae15-7bc7-4074-e928-b3425f15a5ec"
      },
      "execution_count": null,
      "outputs": [
        {
          "output_type": "execute_result",
          "data": {
            "text/plain": [
              "15"
            ]
          },
          "metadata": {},
          "execution_count": 50
        }
      ]
    },
    {
      "cell_type": "code",
      "source": [
        "sorted(t) # always return a list .In also case of string"
      ],
      "metadata": {
        "colab": {
          "base_uri": "https://localhost:8080/"
        },
        "id": "8RMNHyZGVb69",
        "outputId": "9bba663a-dbdc-4a60-dd6b-0c20a9566b5d"
      },
      "execution_count": null,
      "outputs": [
        {
          "output_type": "execute_result",
          "data": {
            "text/plain": [
              "[1, 2, 3, 4, 5]"
            ]
          },
          "metadata": {},
          "execution_count": 52
        }
      ]
    },
    {
      "cell_type": "markdown",
      "source": [
        "##Difference between List and Tuple:"
      ],
      "metadata": {
        "id": "Ht0-rc-kVl8G"
      }
    },
    {
      "cell_type": "code",
      "source": [
        "#Syntax:\n",
        "# list = [1,2,3,4,5]\n",
        "# tuple = (1,2,3,4,5)\n",
        "\n",
        "#Mutatability:\n",
        "#list = mutable\n",
        "#tuple = immutable\n",
        "\n",
        "#speed:\n",
        "#list = slow\n",
        "#tuple = fast\n",
        "\n",
        "#memoty:\n",
        "#list = more memory\n",
        "#tuple = less memory\n",
        "\n",
        "#built in functionality:\n",
        "#list = more\n",
        "#tuple = less\n",
        "\n",
        "#Error prone\n",
        "#list = more\n",
        "#tuple = less\n",
        "\n",
        "#usability\n",
        "#list = more\n",
        "#tule = less"
      ],
      "metadata": {
        "id": "8QtTaTcUVlLo"
      },
      "execution_count": null,
      "outputs": []
    },
    {
      "cell_type": "markdown",
      "source": [
        "## Special syntax:"
      ],
      "metadata": {
        "id": "33V2Ei-HFYXh"
      }
    },
    {
      "cell_type": "code",
      "source": [
        "#tuple unpacking:\n",
        "a,b,c,= (1,2,3)\n",
        "print(a,b,c)"
      ],
      "metadata": {
        "id": "vFi8fak8ZU6M",
        "colab": {
          "base_uri": "https://localhost:8080/"
        },
        "outputId": "5e32d56f-ce45-4641-deb0-a16bdd0fb15a"
      },
      "execution_count": null,
      "outputs": [
        {
          "output_type": "stream",
          "name": "stdout",
          "text": [
            "1 2 3\n"
          ]
        }
      ]
    },
    {
      "cell_type": "code",
      "source": [
        "a,b,c = (1,2,3,4)\n",
        "print(a,b,c)"
      ],
      "metadata": {
        "id": "i8b6b3_SZU20",
        "colab": {
          "base_uri": "https://localhost:8080/",
          "height": 158
        },
        "outputId": "1489e04d-510c-457f-e7bb-67a791b86893"
      },
      "execution_count": null,
      "outputs": [
        {
          "output_type": "error",
          "ename": "ValueError",
          "evalue": "too many values to unpack (expected 3)",
          "traceback": [
            "\u001b[0;31m---------------------------------------------------------------------------\u001b[0m",
            "\u001b[0;31mValueError\u001b[0m                                Traceback (most recent call last)",
            "\u001b[0;32m/tmp/ipython-input-413584868.py\u001b[0m in \u001b[0;36m<cell line: 0>\u001b[0;34m()\u001b[0m\n\u001b[0;32m----> 1\u001b[0;31m \u001b[0ma\u001b[0m\u001b[0;34m,\u001b[0m\u001b[0mb\u001b[0m\u001b[0;34m,\u001b[0m\u001b[0mc\u001b[0m \u001b[0;34m=\u001b[0m \u001b[0;34m(\u001b[0m\u001b[0;36m1\u001b[0m\u001b[0;34m,\u001b[0m\u001b[0;36m2\u001b[0m\u001b[0;34m,\u001b[0m\u001b[0;36m3\u001b[0m\u001b[0;34m,\u001b[0m\u001b[0;36m4\u001b[0m\u001b[0;34m)\u001b[0m\u001b[0;34m\u001b[0m\u001b[0;34m\u001b[0m\u001b[0m\n\u001b[0m\u001b[1;32m      2\u001b[0m \u001b[0mprint\u001b[0m\u001b[0;34m(\u001b[0m\u001b[0ma\u001b[0m\u001b[0;34m,\u001b[0m\u001b[0mb\u001b[0m\u001b[0;34m,\u001b[0m\u001b[0mc\u001b[0m\u001b[0;34m)\u001b[0m\u001b[0;34m\u001b[0m\u001b[0;34m\u001b[0m\u001b[0m\n",
            "\u001b[0;31mValueError\u001b[0m: too many values to unpack (expected 3)"
          ]
        }
      ]
    },
    {
      "cell_type": "code",
      "source": [
        "a,b = 1,2\n",
        "print(a,b)\n",
        "a,b = b,a\n",
        "print(a,b)"
      ],
      "metadata": {
        "id": "WA9fwRHMZU0U",
        "colab": {
          "base_uri": "https://localhost:8080/"
        },
        "outputId": "313fab63-e981-4d39-d4c3-7b068de0ff33"
      },
      "execution_count": null,
      "outputs": [
        {
          "output_type": "stream",
          "name": "stdout",
          "text": [
            "1 2\n",
            "2 1\n"
          ]
        }
      ]
    },
    {
      "cell_type": "code",
      "source": [
        "a,b,*others = (1,2,3,4,5)\n",
        "print(a,b,others)"
      ],
      "metadata": {
        "id": "WTvf6FI2ZUxr",
        "colab": {
          "base_uri": "https://localhost:8080/"
        },
        "outputId": "765560b2-c9ca-4fa2-af15-73cc63fd2c7d"
      },
      "execution_count": null,
      "outputs": [
        {
          "output_type": "stream",
          "name": "stdout",
          "text": [
            "1 2 [3, 4, 5]\n"
          ]
        }
      ]
    },
    {
      "cell_type": "markdown",
      "source": [
        "## zip function:"
      ],
      "metadata": {
        "id": "LmcdG5TfF3fZ"
      }
    },
    {
      "cell_type": "code",
      "source": [
        "a = (1,2,3)\n",
        "b = (4,5,6)\n",
        "\n",
        "tuple(zip(a,b))"
      ],
      "metadata": {
        "id": "Q2Z05rKqZUvT",
        "colab": {
          "base_uri": "https://localhost:8080/"
        },
        "outputId": "bf6e12c0-0033-4ee6-eb78-508fa9ebb25a"
      },
      "execution_count": null,
      "outputs": [
        {
          "output_type": "execute_result",
          "data": {
            "text/plain": [
              "((1, 4), (2, 5), (3, 6))"
            ]
          },
          "metadata": {},
          "execution_count": 6
        }
      ]
    },
    {
      "cell_type": "code",
      "source": [],
      "metadata": {
        "id": "_dnLhEHEZUsd"
      },
      "execution_count": null,
      "outputs": []
    },
    {
      "cell_type": "code",
      "source": [],
      "metadata": {
        "id": "MC4mA6khZUmi"
      },
      "execution_count": null,
      "outputs": []
    },
    {
      "cell_type": "code",
      "source": [],
      "metadata": {
        "id": "Yi_ijn5ZZUi9"
      },
      "execution_count": null,
      "outputs": []
    },
    {
      "cell_type": "code",
      "source": [],
      "metadata": {
        "id": "G9U5GPBdZUgM"
      },
      "execution_count": null,
      "outputs": []
    },
    {
      "cell_type": "code",
      "source": [],
      "metadata": {
        "id": "BOA92dMqZULd"
      },
      "execution_count": null,
      "outputs": []
    },
    {
      "cell_type": "markdown",
      "source": [
        "# Set"
      ],
      "metadata": {
        "id": "qB3tGSTsJDk1"
      }
    },
    {
      "cell_type": "code",
      "source": [
        "#unordered\n",
        "#mutable\n",
        "#no duplicates\n",
        "# items must be immutable"
      ],
      "metadata": {
        "id": "b3Zq0zWBI8U-"
      },
      "execution_count": null,
      "outputs": []
    },
    {
      "cell_type": "markdown",
      "source": [
        "## Creating a set:"
      ],
      "metadata": {
        "id": "fiGC1jyBJB5L"
      }
    },
    {
      "cell_type": "code",
      "source": [
        "#empty:\n",
        "s = {} # this will create empty dictionary\n",
        "print(type(s))\n",
        "\n",
        "s1 = set() # this will create empty set\n",
        "print(type(s1))"
      ],
      "metadata": {
        "id": "JOOV9DeXI8Xx",
        "colab": {
          "base_uri": "https://localhost:8080/"
        },
        "outputId": "c3f5a08c-3e5a-47f9-875d-b57dfd0e8e1c"
      },
      "execution_count": null,
      "outputs": [
        {
          "output_type": "stream",
          "name": "stdout",
          "text": [
            "<class 'dict'>\n",
            "<class 'set'>\n"
          ]
        }
      ]
    },
    {
      "cell_type": "code",
      "source": [
        "#no 2d or nd sets allowed only 1d allowed\n",
        "# 1d\n",
        "s = {1,2,3,4}\n",
        "print(s)"
      ],
      "metadata": {
        "id": "ex7DxW_LI8ae",
        "colab": {
          "base_uri": "https://localhost:8080/"
        },
        "outputId": "19f5997e-c43d-47bb-a6b2-b5f1926674f5"
      },
      "execution_count": null,
      "outputs": [
        {
          "output_type": "stream",
          "name": "stdout",
          "text": [
            "{1, 2, 3, 4}\n"
          ]
        }
      ]
    },
    {
      "cell_type": "code",
      "source": [
        "# 2d/nd:\n",
        "s={1,2,3,{1,2,3}}\n",
        "print(s)"
      ],
      "metadata": {
        "id": "4ybTXBd0I8dW",
        "colab": {
          "base_uri": "https://localhost:8080/",
          "height": 176
        },
        "outputId": "7c5ee0a7-e2df-428b-a059-6ff36669ccb9"
      },
      "execution_count": null,
      "outputs": [
        {
          "output_type": "error",
          "ename": "TypeError",
          "evalue": "unhashable type: 'set'",
          "traceback": [
            "\u001b[0;31m---------------------------------------------------------------------------\u001b[0m",
            "\u001b[0;31mTypeError\u001b[0m                                 Traceback (most recent call last)",
            "\u001b[0;32m/tmp/ipython-input-744665099.py\u001b[0m in \u001b[0;36m<cell line: 0>\u001b[0;34m()\u001b[0m\n\u001b[1;32m      1\u001b[0m \u001b[0;31m# 2d/nd:\u001b[0m\u001b[0;34m\u001b[0m\u001b[0;34m\u001b[0m\u001b[0m\n\u001b[0;32m----> 2\u001b[0;31m \u001b[0ms\u001b[0m\u001b[0;34m=\u001b[0m\u001b[0;34m{\u001b[0m\u001b[0;36m1\u001b[0m\u001b[0;34m,\u001b[0m\u001b[0;36m2\u001b[0m\u001b[0;34m,\u001b[0m\u001b[0;36m3\u001b[0m\u001b[0;34m,\u001b[0m\u001b[0;34m{\u001b[0m\u001b[0;36m1\u001b[0m\u001b[0;34m,\u001b[0m\u001b[0;36m2\u001b[0m\u001b[0;34m,\u001b[0m\u001b[0;36m3\u001b[0m\u001b[0;34m}\u001b[0m\u001b[0;34m}\u001b[0m\u001b[0;34m\u001b[0m\u001b[0;34m\u001b[0m\u001b[0m\n\u001b[0m\u001b[1;32m      3\u001b[0m \u001b[0mprint\u001b[0m\u001b[0;34m(\u001b[0m\u001b[0ms\u001b[0m\u001b[0;34m)\u001b[0m\u001b[0;34m\u001b[0m\u001b[0;34m\u001b[0m\u001b[0m\n",
            "\u001b[0;31mTypeError\u001b[0m: unhashable type: 'set'"
          ]
        }
      ]
    },
    {
      "cell_type": "code",
      "source": [
        "# duplicated not aloowed:\n",
        "s = {1,2,3,3,2,1}\n",
        "print(s)"
      ],
      "metadata": {
        "id": "gHxI98gWI8gY",
        "colab": {
          "base_uri": "https://localhost:8080/"
        },
        "outputId": "8913be58-b917-43cf-dc9c-1ef2b7aeb7a3"
      },
      "execution_count": null,
      "outputs": [
        {
          "output_type": "stream",
          "name": "stdout",
          "text": [
            "{1, 2, 3}\n"
          ]
        }
      ]
    },
    {
      "cell_type": "code",
      "source": [
        "#homogenouse:\n",
        "s={1,2.2,'hello',True,(2,3,4)}\n",
        "print(s)"
      ],
      "metadata": {
        "id": "1KayUVgII8jN",
        "colab": {
          "base_uri": "https://localhost:8080/"
        },
        "outputId": "3cc15a14-aaca-4f04-bdaa-d37ca1432766"
      },
      "execution_count": null,
      "outputs": [
        {
          "output_type": "stream",
          "name": "stdout",
          "text": [
            "{1, 2.2, 'hello', (2, 3, 4)}\n"
          ]
        }
      ]
    },
    {
      "cell_type": "code",
      "source": [
        "# using type conversion:\n",
        "s = set([1,2,3])\n",
        "print(s)"
      ],
      "metadata": {
        "id": "b61efCHPI8l4",
        "colab": {
          "base_uri": "https://localhost:8080/"
        },
        "outputId": "470fcd7c-625b-4eb2-d7fb-4184a3dada94"
      },
      "execution_count": null,
      "outputs": [
        {
          "output_type": "stream",
          "name": "stdout",
          "text": [
            "{1, 2, 3}\n"
          ]
        }
      ]
    },
    {
      "cell_type": "code",
      "source": [
        "#set can't have mutable items:\n",
        "m={1,2,3,{4,5,6}}\n",
        "print(m)"
      ],
      "metadata": {
        "id": "iAkfC9fFI8oZ",
        "colab": {
          "base_uri": "https://localhost:8080/",
          "height": 176
        },
        "outputId": "e94c92c0-57ef-4126-c522-aa44a189bb0d"
      },
      "execution_count": null,
      "outputs": [
        {
          "output_type": "error",
          "ename": "TypeError",
          "evalue": "unhashable type: 'set'",
          "traceback": [
            "\u001b[0;31m---------------------------------------------------------------------------\u001b[0m",
            "\u001b[0;31mTypeError\u001b[0m                                 Traceback (most recent call last)",
            "\u001b[0;32m/tmp/ipython-input-41696578.py\u001b[0m in \u001b[0;36m<cell line: 0>\u001b[0;34m()\u001b[0m\n\u001b[1;32m      1\u001b[0m \u001b[0;31m#set can't have mutable items:\u001b[0m\u001b[0;34m\u001b[0m\u001b[0;34m\u001b[0m\u001b[0m\n\u001b[0;32m----> 2\u001b[0;31m \u001b[0mm\u001b[0m\u001b[0;34m=\u001b[0m\u001b[0;34m{\u001b[0m\u001b[0;36m1\u001b[0m\u001b[0;34m,\u001b[0m\u001b[0;36m2\u001b[0m\u001b[0;34m,\u001b[0m\u001b[0;36m3\u001b[0m\u001b[0;34m,\u001b[0m\u001b[0;34m{\u001b[0m\u001b[0;36m4\u001b[0m\u001b[0;34m,\u001b[0m\u001b[0;36m5\u001b[0m\u001b[0;34m,\u001b[0m\u001b[0;36m6\u001b[0m\u001b[0;34m}\u001b[0m\u001b[0;34m}\u001b[0m\u001b[0;34m\u001b[0m\u001b[0;34m\u001b[0m\u001b[0m\n\u001b[0m\u001b[1;32m      3\u001b[0m \u001b[0mprint\u001b[0m\u001b[0;34m(\u001b[0m\u001b[0mm\u001b[0m\u001b[0;34m)\u001b[0m\u001b[0;34m\u001b[0m\u001b[0;34m\u001b[0m\u001b[0m\n",
            "\u001b[0;31mTypeError\u001b[0m: unhashable type: 'set'"
          ]
        }
      ]
    },
    {
      "cell_type": "code",
      "source": [
        "#order does not matter:\n",
        "#who decides order -> internal algorithm hashing\n",
        "a = {1,2,3}\n",
        "b = {3,2,1}\n",
        "a == b"
      ],
      "metadata": {
        "colab": {
          "base_uri": "https://localhost:8080/"
        },
        "id": "Ghoi0RYwLFHK",
        "outputId": "5c00ae6c-0cae-4332-a959-7fcfa044a74c"
      },
      "execution_count": null,
      "outputs": [
        {
          "output_type": "execute_result",
          "data": {
            "text/plain": [
              "True"
            ]
          },
          "metadata": {},
          "execution_count": 17
        }
      ]
    },
    {
      "cell_type": "markdown",
      "source": [
        "## Accesing items:"
      ],
      "metadata": {
        "id": "556PIiuvKSIf"
      }
    },
    {
      "cell_type": "code",
      "source": [
        "# you can't access items,becaz it is unordered"
      ],
      "metadata": {
        "id": "k9H_5TBLI8q9"
      },
      "execution_count": null,
      "outputs": []
    },
    {
      "cell_type": "code",
      "source": [],
      "metadata": {
        "id": "3IU6X_S7I8tj"
      },
      "execution_count": null,
      "outputs": []
    },
    {
      "cell_type": "markdown",
      "source": [
        "## Editing item:"
      ],
      "metadata": {
        "id": "ezOADwDUMuKM"
      }
    },
    {
      "cell_type": "code",
      "source": [
        "#if you dont access item then you dont edit items"
      ],
      "metadata": {
        "id": "uzomCcENI8wT"
      },
      "execution_count": null,
      "outputs": []
    },
    {
      "cell_type": "code",
      "source": [],
      "metadata": {
        "id": "IE6fHC3_I8y2"
      },
      "execution_count": null,
      "outputs": []
    },
    {
      "cell_type": "markdown",
      "source": [
        "## Adding items:"
      ],
      "metadata": {
        "id": "Fex5YoZWM5C-"
      }
    },
    {
      "cell_type": "code",
      "source": [
        "s = {1,2,3,4,5}\n",
        "\n",
        "# add() : add only one item to position which is decided by hashing algo\n",
        "s.add(6)\n",
        "print(s)"
      ],
      "metadata": {
        "id": "XzMRz6-YI813",
        "colab": {
          "base_uri": "https://localhost:8080/"
        },
        "outputId": "482c043d-223f-49b5-d08d-bc8d93272305"
      },
      "execution_count": null,
      "outputs": [
        {
          "output_type": "stream",
          "name": "stdout",
          "text": [
            "{1, 2, 3, 4, 5, 6}\n"
          ]
        }
      ]
    },
    {
      "cell_type": "code",
      "source": [
        "#update : add multiple items to position which is decided by hashing algo\n",
        "s.update([4,7,8,9])\n",
        "print(s)"
      ],
      "metadata": {
        "id": "Yi7uwfWNI84T",
        "colab": {
          "base_uri": "https://localhost:8080/"
        },
        "outputId": "471141dc-7c0b-4d9c-b9f5-59832d49d004"
      },
      "execution_count": null,
      "outputs": [
        {
          "output_type": "stream",
          "name": "stdout",
          "text": [
            "{1, 2, 3, 4, 5, 6, 7, 8, 9}\n"
          ]
        }
      ]
    },
    {
      "cell_type": "markdown",
      "source": [
        "## Deleting items:"
      ],
      "metadata": {
        "id": "8xoCMkFANcI4"
      }
    },
    {
      "cell_type": "code",
      "source": [
        "#del\n",
        "s = {1,2,3}\n",
        "del s"
      ],
      "metadata": {
        "id": "mSkyQI1YVoLU"
      },
      "execution_count": null,
      "outputs": []
    },
    {
      "cell_type": "code",
      "source": [
        "print(s)"
      ],
      "metadata": {
        "id": "ibhJKf56I87e",
        "colab": {
          "base_uri": "https://localhost:8080/"
        },
        "outputId": "aa1c3c77-a621-4ff6-ae61-de8b3040429d"
      },
      "execution_count": null,
      "outputs": [
        {
          "output_type": "stream",
          "name": "stdout",
          "text": [
            "{1, 2, 3, 4, 5, 6, 7, 8, 9}\n"
          ]
        }
      ]
    },
    {
      "cell_type": "code",
      "source": [
        "#discard():\n",
        "s.discard(5) # delete item that we give\n",
        "print(s)"
      ],
      "metadata": {
        "id": "rcmGS7XzI89x",
        "colab": {
          "base_uri": "https://localhost:8080/"
        },
        "outputId": "21d745cf-58d6-4d91-ea17-20e20701036e"
      },
      "execution_count": null,
      "outputs": [
        {
          "output_type": "stream",
          "name": "stdout",
          "text": [
            "{1, 2, 3, 4, 6, 7, 8, 9}\n"
          ]
        }
      ]
    },
    {
      "cell_type": "code",
      "source": [
        "s.discard(50) # if we delete such an item which not exist in set then it will don't give any error\n",
        "print(s)"
      ],
      "metadata": {
        "id": "u-zPaJ5TI9AZ",
        "colab": {
          "base_uri": "https://localhost:8080/"
        },
        "outputId": "0c3f8f80-b0ca-4374-d3f2-b3b3859ee143"
      },
      "execution_count": null,
      "outputs": [
        {
          "output_type": "stream",
          "name": "stdout",
          "text": [
            "{1, 2, 3, 4, 6, 7, 8, 9}\n"
          ]
        }
      ]
    },
    {
      "cell_type": "code",
      "source": [
        "#remove():delete item that we give\n",
        "print(s)\n",
        "s.remove(4)\n",
        "print(s)"
      ],
      "metadata": {
        "id": "tW5JfGPXI9DQ",
        "colab": {
          "base_uri": "https://localhost:8080/"
        },
        "outputId": "928bcda0-7377-41c6-ee05-f2d45bbf5e4d"
      },
      "execution_count": null,
      "outputs": [
        {
          "output_type": "stream",
          "name": "stdout",
          "text": [
            "{1, 4, 6, 7, 8, 9}\n",
            "{1, 6, 7, 8, 9}\n"
          ]
        }
      ]
    },
    {
      "cell_type": "code",
      "source": [
        "#pop() : randomly delete ant item:\n",
        "s = {1,2,3,4,5,6,7,8,9,0}\n",
        "print(s) # generally remove first item\n",
        "s.pop()\n",
        "print(s)\n",
        "a =s.pop()\n",
        "print(s,a)\n"
      ],
      "metadata": {
        "id": "R_DgXlVhI9GH",
        "colab": {
          "base_uri": "https://localhost:8080/"
        },
        "outputId": "822669fd-0258-4c98-b480-b040441c299e"
      },
      "execution_count": null,
      "outputs": [
        {
          "output_type": "stream",
          "name": "stdout",
          "text": [
            "{0, 1, 2, 3, 4, 5, 6, 7, 8, 9}\n",
            "{1, 2, 3, 4, 5, 6, 7, 8, 9}\n",
            "{2, 3, 4, 5, 6, 7, 8, 9} 1\n"
          ]
        }
      ]
    },
    {
      "cell_type": "code",
      "source": [
        "#clear:delete all elements of set but not set\n",
        "print(s)\n",
        "s.clear()\n",
        "print(s)"
      ],
      "metadata": {
        "id": "dSOeoLK0I9Id",
        "colab": {
          "base_uri": "https://localhost:8080/"
        },
        "outputId": "9d592b24-082d-4daf-f685-69105520a8c0"
      },
      "execution_count": null,
      "outputs": [
        {
          "output_type": "stream",
          "name": "stdout",
          "text": [
            "{2, 3, 4, 5, 6, 7, 8, 9}\n",
            "set()\n"
          ]
        }
      ]
    },
    {
      "cell_type": "markdown",
      "source": [
        "## Operations on set:"
      ],
      "metadata": {
        "id": "vZoiv3fqVto0"
      }
    },
    {
      "cell_type": "code",
      "source": [
        "s1 = {1,2,3,4,5}\n",
        "s2 = {3,4,5,6,7}\n",
        "\n",
        "#unioun:\n",
        "print(s1 | s2)"
      ],
      "metadata": {
        "id": "O9Oa2w6BI9LJ",
        "colab": {
          "base_uri": "https://localhost:8080/"
        },
        "outputId": "5832d236-8396-406b-fae9-5cf2a3f882e6"
      },
      "execution_count": null,
      "outputs": [
        {
          "output_type": "stream",
          "name": "stdout",
          "text": [
            "{1, 2, 3, 4, 5, 6, 7}\n"
          ]
        }
      ]
    },
    {
      "cell_type": "code",
      "source": [
        "#intersection:\n",
        "print(s1 & s2)"
      ],
      "metadata": {
        "id": "oQE8nYD1I9Ny",
        "colab": {
          "base_uri": "https://localhost:8080/"
        },
        "outputId": "20da65bc-992a-437a-8c55-382a28f5906a"
      },
      "execution_count": null,
      "outputs": [
        {
          "output_type": "stream",
          "name": "stdout",
          "text": [
            "{3, 4, 5}\n"
          ]
        }
      ]
    },
    {
      "cell_type": "code",
      "source": [
        "#difference:\n",
        "print(s1 - s2)\n",
        "print(s2 - s1)"
      ],
      "metadata": {
        "id": "zskYgc8bI9Q2",
        "colab": {
          "base_uri": "https://localhost:8080/"
        },
        "outputId": "7c2cd5fe-b5c4-4cea-a435-e6f916c3705f"
      },
      "execution_count": null,
      "outputs": [
        {
          "output_type": "stream",
          "name": "stdout",
          "text": [
            "{1, 2}\n",
            "{6, 7}\n"
          ]
        }
      ]
    },
    {
      "cell_type": "code",
      "source": [
        "#symmetric difference:\n",
        "print(s1 ^ s2)"
      ],
      "metadata": {
        "id": "vI_0nIMSI9TG",
        "colab": {
          "base_uri": "https://localhost:8080/"
        },
        "outputId": "c32b76b6-3ca9-47e7-c65d-3a077a3f7024"
      },
      "execution_count": null,
      "outputs": [
        {
          "output_type": "stream",
          "name": "stdout",
          "text": [
            "{1, 2, 6, 7}\n"
          ]
        }
      ]
    },
    {
      "cell_type": "code",
      "source": [
        "#membership:\n",
        "s2 = {3,4,5,6,7}\n",
        "3 in s2\n",
        "4 not in s2"
      ],
      "metadata": {
        "colab": {
          "base_uri": "https://localhost:8080/"
        },
        "id": "-Vzd9RNwWR-V",
        "outputId": "1f2c8ac1-b01d-40d7-de57-e8634577350d"
      },
      "execution_count": null,
      "outputs": [
        {
          "output_type": "execute_result",
          "data": {
            "text/plain": [
              "False"
            ]
          },
          "metadata": {},
          "execution_count": 51
        }
      ]
    },
    {
      "cell_type": "code",
      "source": [
        "#loops\n",
        "for i in s2:\n",
        "  print(i)"
      ],
      "metadata": {
        "colab": {
          "base_uri": "https://localhost:8080/"
        },
        "id": "WWfFgubkWbCL",
        "outputId": "6ea116b2-b8a8-472f-8bd0-782586e1dc59"
      },
      "execution_count": null,
      "outputs": [
        {
          "output_type": "stream",
          "name": "stdout",
          "text": [
            "3\n",
            "4\n",
            "5\n",
            "6\n",
            "7\n"
          ]
        }
      ]
    },
    {
      "cell_type": "markdown",
      "source": [
        "##functions:"
      ],
      "metadata": {
        "id": "oBQJ81QQWii9"
      }
    },
    {
      "cell_type": "code",
      "source": [
        "s2 = {3,4,5,6,7}"
      ],
      "metadata": {
        "id": "-ahONPSwWoyH"
      },
      "execution_count": null,
      "outputs": []
    },
    {
      "cell_type": "code",
      "source": [
        "print(len(s2))"
      ],
      "metadata": {
        "colab": {
          "base_uri": "https://localhost:8080/"
        },
        "id": "wJ7QL2uoWknt",
        "outputId": "0677c717-5123-4b52-e89e-6f3a64f91449"
      },
      "execution_count": null,
      "outputs": [
        {
          "output_type": "stream",
          "name": "stdout",
          "text": [
            "5\n"
          ]
        }
      ]
    },
    {
      "cell_type": "code",
      "source": [
        "print(min(s2))"
      ],
      "metadata": {
        "colab": {
          "base_uri": "https://localhost:8080/"
        },
        "id": "VIkHQkx0Wl1K",
        "outputId": "0dab8b33-089e-4037-a964-a695ef50fd34"
      },
      "execution_count": null,
      "outputs": [
        {
          "output_type": "stream",
          "name": "stdout",
          "text": [
            "3\n"
          ]
        }
      ]
    },
    {
      "cell_type": "code",
      "source": [
        "print(max(s2))"
      ],
      "metadata": {
        "colab": {
          "base_uri": "https://localhost:8080/"
        },
        "id": "IG17ZU1EWlxl",
        "outputId": "ec0d9b82-cbb7-425b-e9ef-1da99b5b67de"
      },
      "execution_count": null,
      "outputs": [
        {
          "output_type": "stream",
          "name": "stdout",
          "text": [
            "7\n"
          ]
        }
      ]
    },
    {
      "cell_type": "code",
      "source": [
        "print(sum(s2))"
      ],
      "metadata": {
        "colab": {
          "base_uri": "https://localhost:8080/"
        },
        "id": "j9t5Jq-qWlvV",
        "outputId": "26a4f55a-e816-49fb-c818-4c3aadc3f7cd"
      },
      "execution_count": null,
      "outputs": [
        {
          "output_type": "stream",
          "name": "stdout",
          "text": [
            "25\n"
          ]
        }
      ]
    },
    {
      "cell_type": "code",
      "source": [
        "print(sorted(s2))"
      ],
      "metadata": {
        "colab": {
          "base_uri": "https://localhost:8080/"
        },
        "id": "bpsfyaKuWlsq",
        "outputId": "246108c9-d1cb-4dfc-e56d-779151b3aa55"
      },
      "execution_count": null,
      "outputs": [
        {
          "output_type": "stream",
          "name": "stdout",
          "text": [
            "[3, 4, 5, 6, 7]\n"
          ]
        }
      ]
    },
    {
      "cell_type": "code",
      "source": [
        "print(sorted(s2,reverse = True))"
      ],
      "metadata": {
        "colab": {
          "base_uri": "https://localhost:8080/"
        },
        "id": "X42YCZ9tWlpb",
        "outputId": "ad50387f-9b96-45ab-ef52-5ead92346698"
      },
      "execution_count": null,
      "outputs": [
        {
          "output_type": "stream",
          "name": "stdout",
          "text": [
            "[7, 6, 5, 4, 3]\n"
          ]
        }
      ]
    },
    {
      "cell_type": "code",
      "source": [
        "#intersection/update\n",
        "# union/update\n",
        "s1 = {1,2,3,4,5}\n",
        "s2 = {4,5,6,7,8}\n",
        "\n",
        "# s1 | s2\n",
        "s1.union(s1) # calculate unioun\n",
        "\n",
        "s1.update(s2) #calculate unioun and store in s1\n",
        "print(s1)\n",
        "print(s2)"
      ],
      "metadata": {
        "colab": {
          "base_uri": "https://localhost:8080/"
        },
        "id": "WlhQiXr_XDP3",
        "outputId": "5ca9a602-8312-46bb-a609-1b35f2575e70"
      },
      "execution_count": null,
      "outputs": [
        {
          "output_type": "stream",
          "name": "stdout",
          "text": [
            "{1, 2, 3, 4, 5, 6, 7, 8}\n",
            "{4, 5, 6, 7, 8}\n"
          ]
        }
      ]
    },
    {
      "cell_type": "code",
      "source": [
        "#intersection/intersection_update\n",
        "s1 = {1,2,3,4,5}\n",
        "s2 = {4,5,6,7,8}\n",
        "\n",
        "s1.intersection(s2) # calculate intersection\n",
        "\n",
        "s1.intersection_update(s2)#calculate intersection and store in s1\n",
        "print(s1)\n",
        "print(s2)"
      ],
      "metadata": {
        "colab": {
          "base_uri": "https://localhost:8080/"
        },
        "id": "5_L7Z8FAWlne",
        "outputId": "00ed5410-c748-4269-ff51-22c7ed196cf1"
      },
      "execution_count": null,
      "outputs": [
        {
          "output_type": "stream",
          "name": "stdout",
          "text": [
            "{4, 5}\n",
            "{4, 5, 6, 7, 8}\n"
          ]
        }
      ]
    },
    {
      "cell_type": "code",
      "source": [
        "# difference/difference_update\n",
        "s1 = {1,2,3,4,5}\n",
        "s2 = {4,5,6,7,8}\n",
        "\n",
        "s1.difference(s2) # calculate difference\n",
        "\n",
        "s1.difference_update(s2)#calculate difference and store in s1\n",
        "print(s1)\n",
        "print(s2)"
      ],
      "metadata": {
        "colab": {
          "base_uri": "https://localhost:8080/"
        },
        "id": "iIjTgu9NWlk1",
        "outputId": "77b20129-e829-4ba1-a5b7-2ac27fa78704"
      },
      "execution_count": null,
      "outputs": [
        {
          "output_type": "stream",
          "name": "stdout",
          "text": [
            "{1, 2, 3}\n",
            "{4, 5, 6, 7, 8}\n"
          ]
        }
      ]
    },
    {
      "cell_type": "code",
      "source": [
        "# symmetric_difference/symmetric_difference_update\n",
        "s1 = {1,2,3,4,5}\n",
        "s2 = {4,5,6,7,8}\n",
        "\n",
        "s1.symmetric_difference(s2)#calculate symmetric_difference\n",
        "\n",
        "s1.symmetric_difference_update(s2)#calculate symmetric_difference and store in s1\n",
        "print(s1)\n",
        "print(s2)"
      ],
      "metadata": {
        "id": "CRtkuzVxWlih"
      },
      "execution_count": null,
      "outputs": []
    },
    {
      "cell_type": "code",
      "source": [
        "# isdisjoint/issubset/issuperset/copy\n",
        "s1 = {1,2,3,4}\n",
        "s2 = {7,8,5,6}\n",
        "\n",
        "s1.isdisjoint(s2)"
      ],
      "metadata": {
        "colab": {
          "base_uri": "https://localhost:8080/"
        },
        "id": "QVqsuJBUWlfs",
        "outputId": "dafee2cb-2fbe-454d-8a61-6d16e4e7e0be"
      },
      "execution_count": null,
      "outputs": [
        {
          "output_type": "execute_result",
          "data": {
            "text/plain": [
              "True"
            ]
          },
          "metadata": {},
          "execution_count": 63
        }
      ]
    },
    {
      "cell_type": "code",
      "source": [
        "s1 = {1,2,3,4,5}\n",
        "s2 = {3,4,5}\n",
        "\n",
        "s1.issuperset(s2)"
      ],
      "metadata": {
        "colab": {
          "base_uri": "https://localhost:8080/"
        },
        "id": "BiUBGDu6WlTK",
        "outputId": "ce595463-524e-41ae-9ccd-949c06436f87"
      },
      "execution_count": null,
      "outputs": [
        {
          "output_type": "execute_result",
          "data": {
            "text/plain": [
              "True"
            ]
          },
          "metadata": {},
          "execution_count": 64
        }
      ]
    },
    {
      "cell_type": "code",
      "source": [
        "s1 = {1,2,3,4,5}\n",
        "s2 = {3,4,5}\n",
        "\n",
        "s1.issubset(s2)"
      ],
      "metadata": {
        "colab": {
          "base_uri": "https://localhost:8080/"
        },
        "id": "VV1nhpC5YSzA",
        "outputId": "6114c89a-c1c2-4072-ee8b-c1b54ac2494e"
      },
      "execution_count": null,
      "outputs": [
        {
          "output_type": "execute_result",
          "data": {
            "text/plain": [
              "False"
            ]
          },
          "metadata": {},
          "execution_count": 65
        }
      ]
    },
    {
      "cell_type": "code",
      "source": [
        "# copy\n",
        "s1 = {1,2,3}\n",
        "s2 = s1.copy()\n",
        "\n",
        "print(s1)\n",
        "print(s2)"
      ],
      "metadata": {
        "colab": {
          "base_uri": "https://localhost:8080/"
        },
        "id": "kIhgwlqTYemp",
        "outputId": "d79d85ef-ea38-4c10-f99b-7cc9d0e2a94f"
      },
      "execution_count": null,
      "outputs": [
        {
          "output_type": "stream",
          "name": "stdout",
          "text": [
            "{1, 2, 3}\n",
            "{1, 2, 3}\n"
          ]
        }
      ]
    },
    {
      "cell_type": "markdown",
      "source": [
        "##Frozen set:"
      ],
      "metadata": {
        "id": "Ku9T16g5YW2t"
      }
    },
    {
      "cell_type": "code",
      "source": [
        "#Frozen set is just an immutable version of a Python set"
      ],
      "metadata": {
        "id": "sn8UIw6KYZ1T"
      },
      "execution_count": null,
      "outputs": []
    },
    {
      "cell_type": "code",
      "source": [
        "# create frozenset\n",
        "fs1 = frozenset([1,2,3])\n",
        "fs2 = frozenset([3,4,5])\n",
        "\n",
        "fs1 | fs2"
      ],
      "metadata": {
        "colab": {
          "base_uri": "https://localhost:8080/"
        },
        "id": "VNaNq5sOYZyk",
        "outputId": "5af6a22d-8be7-4bcb-a03c-65497aed7d02"
      },
      "execution_count": null,
      "outputs": [
        {
          "output_type": "execute_result",
          "data": {
            "text/plain": [
              "frozenset({1, 2, 3, 4, 5})"
            ]
          },
          "metadata": {},
          "execution_count": 67
        }
      ]
    },
    {
      "cell_type": "code",
      "source": [
        "# what works and what does not\n",
        "# works -> all read functions\n",
        "# does't work -> write operations"
      ],
      "metadata": {
        "id": "NOsPEKsMYZwD"
      },
      "execution_count": null,
      "outputs": []
    },
    {
      "cell_type": "code",
      "source": [
        "# When to use\n",
        "# 2D sets\n",
        "fs = frozenset([1,2,frozenset([3,4])])\n",
        "fs"
      ],
      "metadata": {
        "colab": {
          "base_uri": "https://localhost:8080/"
        },
        "id": "pWVNEefvYZtp",
        "outputId": "e5d71ce9-89bb-4af5-c1c5-783c206cb9ca"
      },
      "execution_count": null,
      "outputs": [
        {
          "output_type": "execute_result",
          "data": {
            "text/plain": [
              "frozenset({1, 2, frozenset({3, 4})})"
            ]
          },
          "metadata": {},
          "execution_count": 69
        }
      ]
    },
    {
      "cell_type": "markdown",
      "source": [
        "## Set comprehension:"
      ],
      "metadata": {
        "id": "avtxY6NjYtXb"
      }
    },
    {
      "cell_type": "code",
      "source": [
        "#same as list and tuple comprehension"
      ],
      "metadata": {
        "id": "LfT4cTUIYx0T"
      },
      "execution_count": null,
      "outputs": []
    },
    {
      "cell_type": "code",
      "source": [
        "{i**2 for i in range(1,11) if i>5}"
      ],
      "metadata": {
        "colab": {
          "base_uri": "https://localhost:8080/"
        },
        "id": "Xut3A5uDYZq-",
        "outputId": "fd85c025-2c5c-474c-d3b1-a4cb678bc1a9"
      },
      "execution_count": null,
      "outputs": [
        {
          "output_type": "execute_result",
          "data": {
            "text/plain": [
              "{36, 49, 64, 81, 100}"
            ]
          },
          "metadata": {},
          "execution_count": 71
        }
      ]
    },
    {
      "cell_type": "markdown",
      "source": [
        "#Dictionary"
      ],
      "metadata": {
        "id": "O-IjaBNCY6S6"
      }
    },
    {
      "cell_type": "code",
      "source": [
        "# Dictionary\n",
        "\n",
        "# Dictionary in Python is a collection of keys values, used to store data values like a map, which, unlike other data types which hold only a single value as an element.\n",
        "\n",
        "# In some languages it is known as map or assosiative arrays.\n",
        "\n",
        "# dict = { 'name' : 'nitish' , 'age' : 33 , 'gender' : 'male' }\n",
        "\n",
        "# Characterstics:\n",
        "\n",
        "# - Mutable\n",
        "# - Indexing has no meaning\n",
        "# - keys can't be duplicated\n",
        "# - keys can't be mutable items"
      ],
      "metadata": {
        "id": "Iwncus20Y9oy"
      },
      "execution_count": null,
      "outputs": []
    },
    {
      "cell_type": "markdown",
      "source": [
        "## Creating a dictionary:"
      ],
      "metadata": {
        "id": "xhk0XZWce3_w"
      }
    },
    {
      "cell_type": "code",
      "source": [
        "# empty dictionary\n",
        "d = {}\n",
        "d"
      ],
      "metadata": {
        "colab": {
          "base_uri": "https://localhost:8080/"
        },
        "id": "oLQNyV0hYZjd",
        "outputId": "d2d769e3-2e29-4482-f20b-1e02ff953d97"
      },
      "execution_count": null,
      "outputs": [
        {
          "output_type": "execute_result",
          "data": {
            "text/plain": [
              "{}"
            ]
          },
          "metadata": {},
          "execution_count": 78
        }
      ]
    },
    {
      "cell_type": "code",
      "source": [
        "# 1D dictionary\n",
        "d1 = { 'name' : 'nitish' ,'gender' : 'male' }\n",
        "d1"
      ],
      "metadata": {
        "colab": {
          "base_uri": "https://localhost:8080/"
        },
        "id": "5-PFmvg-fnhB",
        "outputId": "67aa0fcc-fd30-475d-c8b1-aff2287f1344"
      },
      "execution_count": null,
      "outputs": [
        {
          "output_type": "execute_result",
          "data": {
            "text/plain": [
              "{'name': 'nitish', 'gender': 'male'}"
            ]
          },
          "metadata": {},
          "execution_count": 80
        }
      ]
    },
    {
      "cell_type": "code",
      "source": [
        "# with mixed keys\n",
        "d2 = {(1,2,3):1,'hello':'world'}\n",
        "d2"
      ],
      "metadata": {
        "colab": {
          "base_uri": "https://localhost:8080/"
        },
        "id": "EIjvVFzLfFoW",
        "outputId": "0138223a-1f3a-4cc3-c18b-82cff0e58d4f"
      },
      "execution_count": null,
      "outputs": [
        {
          "output_type": "execute_result",
          "data": {
            "text/plain": [
              "{(1, 2, 3): 1, 'hello': 'world'}"
            ]
          },
          "metadata": {},
          "execution_count": 83
        }
      ]
    },
    {
      "cell_type": "code",
      "source": [
        "# 2D dictionary -> JSON\n",
        "s = {\n",
        "    'name':'nitish',\n",
        "     'college':'bit',\n",
        "     'sem':4,\n",
        "     'subjects':{\n",
        "         'dsa':50,\n",
        "         'maths':67,\n",
        "         'english':34\n",
        "     }\n",
        "}\n",
        "s"
      ],
      "metadata": {
        "colab": {
          "base_uri": "https://localhost:8080/"
        },
        "id": "O6-OmtyrfFmd",
        "outputId": "7ab78fd3-63ff-4f7c-f627-da0c310c3cf3"
      },
      "execution_count": null,
      "outputs": [
        {
          "output_type": "execute_result",
          "data": {
            "text/plain": [
              "{'name': 'nitish',\n",
              " 'college': 'bit',\n",
              " 'sem': 4,\n",
              " 'subjects': {'dsa': 50, 'maths': 67, 'english': 34}}"
            ]
          },
          "metadata": {},
          "execution_count": 75
        }
      ]
    },
    {
      "cell_type": "code",
      "source": [
        "# using sequence and dict function\n",
        "d4 = dict([('name','nitish'),('age',32),(3,3)])\n",
        "d4"
      ],
      "metadata": {
        "colab": {
          "base_uri": "https://localhost:8080/"
        },
        "id": "M_StK6e2fFkL",
        "outputId": "f4b39341-c77f-44e8-cba9-3e405d04182e"
      },
      "execution_count": null,
      "outputs": [
        {
          "output_type": "execute_result",
          "data": {
            "text/plain": [
              "{'name': 'nitish', 'age': 32, 3: 3}"
            ]
          },
          "metadata": {},
          "execution_count": 76
        }
      ]
    },
    {
      "cell_type": "code",
      "source": [
        "# duplicate keys : last key wala reh jayega baki hat jeyenge\n",
        "d5 = {'name':'nitish','name':'rahul'}\n",
        "d5"
      ],
      "metadata": {
        "colab": {
          "base_uri": "https://localhost:8080/"
        },
        "id": "S6nmEKx0fFhY",
        "outputId": "5840eb9a-ad41-4bf2-dcf0-a897d49ebae4"
      },
      "execution_count": null,
      "outputs": [
        {
          "output_type": "execute_result",
          "data": {
            "text/plain": [
              "{'name': 'rahul'}"
            ]
          },
          "metadata": {},
          "execution_count": 77
        }
      ]
    },
    {
      "cell_type": "code",
      "source": [
        "# mutable items as keys\n",
        "d6 = {'name':'nitish',[1,2,3]:2}\n",
        "print(d6)"
      ],
      "metadata": {
        "colab": {
          "base_uri": "https://localhost:8080/",
          "height": 176
        },
        "id": "kBrbW0PkfFeA",
        "outputId": "192465da-48ff-4c8c-bfdf-eeeea44bdb8c"
      },
      "execution_count": null,
      "outputs": [
        {
          "output_type": "error",
          "ename": "TypeError",
          "evalue": "unhashable type: 'list'",
          "traceback": [
            "\u001b[0;31m---------------------------------------------------------------------------\u001b[0m",
            "\u001b[0;31mTypeError\u001b[0m                                 Traceback (most recent call last)",
            "\u001b[0;32m/tmp/ipython-input-1255098590.py\u001b[0m in \u001b[0;36m<cell line: 0>\u001b[0;34m()\u001b[0m\n\u001b[1;32m      1\u001b[0m \u001b[0;31m# mutable items as keys\u001b[0m\u001b[0;34m\u001b[0m\u001b[0;34m\u001b[0m\u001b[0m\n\u001b[0;32m----> 2\u001b[0;31m \u001b[0md6\u001b[0m \u001b[0;34m=\u001b[0m \u001b[0;34m{\u001b[0m\u001b[0;34m'name'\u001b[0m\u001b[0;34m:\u001b[0m\u001b[0;34m'nitish'\u001b[0m\u001b[0;34m,\u001b[0m\u001b[0;34m[\u001b[0m\u001b[0;36m1\u001b[0m\u001b[0;34m,\u001b[0m\u001b[0;36m2\u001b[0m\u001b[0;34m,\u001b[0m\u001b[0;36m3\u001b[0m\u001b[0;34m]\u001b[0m\u001b[0;34m:\u001b[0m\u001b[0;36m2\u001b[0m\u001b[0;34m}\u001b[0m\u001b[0;34m\u001b[0m\u001b[0;34m\u001b[0m\u001b[0m\n\u001b[0m\u001b[1;32m      3\u001b[0m \u001b[0mprint\u001b[0m\u001b[0;34m(\u001b[0m\u001b[0md6\u001b[0m\u001b[0;34m)\u001b[0m\u001b[0;34m\u001b[0m\u001b[0;34m\u001b[0m\u001b[0m\n",
            "\u001b[0;31mTypeError\u001b[0m: unhashable type: 'list'"
          ]
        }
      ]
    },
    {
      "cell_type": "markdown",
      "source": [
        "##Accesing items from dictionary:"
      ],
      "metadata": {
        "id": "rZWmQz7bf-_3"
      }
    },
    {
      "cell_type": "code",
      "source": [
        "my_dict = {'name': 'Jack', 'age': 26}\n",
        "# []\n",
        "my_dict['age']\n"
      ],
      "metadata": {
        "colab": {
          "base_uri": "https://localhost:8080/"
        },
        "id": "qU4WQ1Nzf-nB",
        "outputId": "47e37c38-4467-4ad0-afec-3f393209a98a"
      },
      "execution_count": null,
      "outputs": [
        {
          "output_type": "execute_result",
          "data": {
            "text/plain": [
              "26"
            ]
          },
          "metadata": {},
          "execution_count": 84
        }
      ]
    },
    {
      "cell_type": "code",
      "source": [
        "# get\n",
        "my_dict.get('age')"
      ],
      "metadata": {
        "colab": {
          "base_uri": "https://localhost:8080/"
        },
        "id": "6FOP7JIcfFbQ",
        "outputId": "6392dfd6-585d-4890-9e1e-edd76b3070bc"
      },
      "execution_count": null,
      "outputs": [
        {
          "output_type": "execute_result",
          "data": {
            "text/plain": [
              "26"
            ]
          },
          "metadata": {},
          "execution_count": 86
        }
      ]
    },
    {
      "cell_type": "code",
      "source": [
        "#how to access from nested dictionay:\n",
        "s['subjects']['maths']"
      ],
      "metadata": {
        "colab": {
          "base_uri": "https://localhost:8080/"
        },
        "id": "zAdijx94fFYn",
        "outputId": "88a2916d-216f-4e7c-9bc9-011da562d1b8"
      },
      "execution_count": null,
      "outputs": [
        {
          "output_type": "execute_result",
          "data": {
            "text/plain": [
              "67"
            ]
          },
          "metadata": {},
          "execution_count": 85
        }
      ]
    },
    {
      "cell_type": "markdown",
      "source": [
        "##Adding item in dictionary:"
      ],
      "metadata": {
        "id": "dr8wbaWFgSz0"
      }
    },
    {
      "cell_type": "code",
      "source": [
        "print(d4)"
      ],
      "metadata": {
        "colab": {
          "base_uri": "https://localhost:8080/"
        },
        "id": "eG5fLjxTglOB",
        "outputId": "b77a8090-a89b-4fa2-e902-fab8bc181bdc"
      },
      "execution_count": null,
      "outputs": [
        {
          "output_type": "stream",
          "name": "stdout",
          "text": [
            "{'name': 'nitish', 'age': 32, 3: 3, 'gender': 'male', 'weight': 72}\n"
          ]
        }
      ]
    },
    {
      "cell_type": "code",
      "source": [
        "d4['gender'] = 'male'\n",
        "d4\n",
        "d4['weight'] = 72\n",
        "d4"
      ],
      "metadata": {
        "colab": {
          "base_uri": "https://localhost:8080/"
        },
        "id": "uPVdKof6fFWP",
        "outputId": "922c33d6-73ca-4129-812a-3efdcb91a1d4"
      },
      "execution_count": null,
      "outputs": [
        {
          "output_type": "execute_result",
          "data": {
            "text/plain": [
              "{'name': 'nitish', 'age': 32, 3: 3, 'gender': 'male', 'weight': 72}"
            ]
          },
          "metadata": {},
          "execution_count": 88
        }
      ]
    },
    {
      "cell_type": "code",
      "source": [
        "print(s)"
      ],
      "metadata": {
        "colab": {
          "base_uri": "https://localhost:8080/"
        },
        "id": "giJQQgGHgnKi",
        "outputId": "7f617143-7b9b-40f1-a386-cd04019cd95d"
      },
      "execution_count": null,
      "outputs": [
        {
          "output_type": "stream",
          "name": "stdout",
          "text": [
            "{'name': 'nitish', 'college': 'bit', 'sem': 4, 'subjects': {'dsa': 50, 'maths': 67, 'english': 34, 'ds': 75}}\n"
          ]
        }
      ]
    },
    {
      "cell_type": "code",
      "source": [
        "#adding in nested dictionary:\n",
        "s['subjects']['ds'] = 75\n",
        "s"
      ],
      "metadata": {
        "colab": {
          "base_uri": "https://localhost:8080/"
        },
        "id": "jvRqDDFxfFUG",
        "outputId": "d3fe5979-b937-44ea-dbdc-b8bbaa3d59c7"
      },
      "execution_count": null,
      "outputs": [
        {
          "output_type": "execute_result",
          "data": {
            "text/plain": [
              "{'name': 'nitish',\n",
              " 'college': 'bit',\n",
              " 'sem': 4,\n",
              " 'subjects': {'dsa': 50, 'english': 34, 'ds': 75}}"
            ]
          },
          "metadata": {},
          "execution_count": 106
        }
      ]
    },
    {
      "cell_type": "markdown",
      "source": [
        "##Remove key-value pair from dict:"
      ],
      "metadata": {
        "id": "jrQVyvx3goyj"
      }
    },
    {
      "cell_type": "code",
      "source": [
        "d = {'name': 'nitish', 'age': 32, 3: 3, 'gender': 'male', 'weight': 72}\n",
        "d"
      ],
      "metadata": {
        "colab": {
          "base_uri": "https://localhost:8080/"
        },
        "id": "CKO-ibj3g9ev",
        "outputId": "624cd656-37ac-4d65-979c-017f4127efb2"
      },
      "execution_count": null,
      "outputs": [
        {
          "output_type": "execute_result",
          "data": {
            "text/plain": [
              "{'name': 'nitish', 'age': 32, 3: 3, 'gender': 'male', 'weight': 72}"
            ]
          },
          "metadata": {},
          "execution_count": 101
        }
      ]
    },
    {
      "cell_type": "code",
      "source": [
        "#pop : delete item which key we give\n",
        "d.pop(3)\n",
        "print(d)\n",
        "\n",
        "\n",
        "# clear\n",
        "d.clear()\n",
        "print(d)\n",
        "\n"
      ],
      "metadata": {
        "id": "r5JjhvBPfFR5"
      },
      "execution_count": null,
      "outputs": []
    },
    {
      "cell_type": "code",
      "source": [
        "#popitem() : remove last key value pait\n",
        "d.popitem()\n",
        "d.popitem()\n",
        "print(d)"
      ],
      "metadata": {
        "id": "gtQw1mtTfFP3"
      },
      "execution_count": null,
      "outputs": []
    },
    {
      "cell_type": "code",
      "source": [],
      "metadata": {
        "id": "luUK_MbrhobQ"
      },
      "execution_count": null,
      "outputs": []
    },
    {
      "cell_type": "code",
      "source": [
        "print(d)"
      ],
      "metadata": {
        "colab": {
          "base_uri": "https://localhost:8080/"
        },
        "id": "wHde16h7hmnj",
        "outputId": "2ed74eec-e426-4b25-cf4e-c684854fc312"
      },
      "execution_count": null,
      "outputs": [
        {
          "output_type": "stream",
          "name": "stdout",
          "text": [
            "{'name': 'nitish', 'age': 32, 3: 3, 'gender': 'male', 'weight': 72}\n"
          ]
        }
      ]
    },
    {
      "cell_type": "code",
      "source": [
        "#del : we can delete whole dict or any key-value pair also\n",
        "del d['name']\n",
        "print(d)"
      ],
      "metadata": {
        "colab": {
          "base_uri": "https://localhost:8080/"
        },
        "id": "6TbSfLUKfFN1",
        "outputId": "87bf8dbe-9569-4825-a140-fc97bba9f3a6"
      },
      "execution_count": null,
      "outputs": [
        {
          "output_type": "stream",
          "name": "stdout",
          "text": [
            "{'age': 32, 3: 3, 'gender': 'male', 'weight': 72}\n"
          ]
        }
      ]
    },
    {
      "cell_type": "code",
      "source": [
        "s={'name': 'nitish', 'college': 'bit', 'sem': 4, 'subjects': {'dsa': 50, 'maths': 67, 'english': 34, 'ds': 75}}\n",
        "\n",
        "print(s)"
      ],
      "metadata": {
        "colab": {
          "base_uri": "https://localhost:8080/"
        },
        "id": "PTTCrJdDhru-",
        "outputId": "43cd4f07-8a20-4800-89d0-e81d47707b6a"
      },
      "execution_count": null,
      "outputs": [
        {
          "output_type": "stream",
          "name": "stdout",
          "text": [
            "{'name': 'nitish', 'college': 'bit', 'sem': 4, 'subjects': {'dsa': 50, 'maths': 67, 'english': 34, 'ds': 75}}\n"
          ]
        }
      ]
    },
    {
      "cell_type": "code",
      "source": [
        "# #deleting from nested dict:\n",
        "del s['subjects']['maths']\n",
        "print(s)"
      ],
      "metadata": {
        "colab": {
          "base_uri": "https://localhost:8080/"
        },
        "id": "H3gxrM4PfFLe",
        "outputId": "0a9c6507-da2e-47c5-f56c-bcf390aa6ff0"
      },
      "execution_count": null,
      "outputs": [
        {
          "output_type": "stream",
          "name": "stdout",
          "text": [
            "{'name': 'nitish', 'college': 'bit', 'sem': 4, 'subjects': {'dsa': 50, 'english': 34, 'ds': 75}}\n"
          ]
        }
      ]
    },
    {
      "cell_type": "markdown",
      "source": [
        "## Editing key-value pair:"
      ],
      "metadata": {
        "id": "3AR6wF7gh8kW"
      }
    },
    {
      "cell_type": "code",
      "source": [
        "s"
      ],
      "metadata": {
        "colab": {
          "base_uri": "https://localhost:8080/"
        },
        "id": "ASWZd8IqiKse",
        "outputId": "aaabba8f-6a90-4ff6-bb3a-aa41e0568f81"
      },
      "execution_count": null,
      "outputs": [
        {
          "output_type": "execute_result",
          "data": {
            "text/plain": [
              "{'name': 'nitish',\n",
              " 'college': 'bit',\n",
              " 'sem': 4,\n",
              " 'subjects': {'dsa': 80, 'english': 34, 'ds': 75}}"
            ]
          },
          "metadata": {},
          "execution_count": 111
        }
      ]
    },
    {
      "cell_type": "code",
      "source": [
        "#1d\n",
        "s['name'] = 'Raj'\n",
        "s"
      ],
      "metadata": {
        "colab": {
          "base_uri": "https://localhost:8080/"
        },
        "id": "zdzHBeLrfFI0",
        "outputId": "6cccdc7e-48a9-4e68-f68b-21da1c300dea"
      },
      "execution_count": null,
      "outputs": [
        {
          "output_type": "execute_result",
          "data": {
            "text/plain": [
              "{'name': 'Raj',\n",
              " 'college': 'bit',\n",
              " 'sem': 4,\n",
              " 'subjects': {'dsa': 80, 'english': 34, 'ds': 75}}"
            ]
          },
          "metadata": {},
          "execution_count": 113
        }
      ]
    },
    {
      "cell_type": "code",
      "source": [],
      "metadata": {
        "id": "SSDzJIxciKGy"
      },
      "execution_count": null,
      "outputs": []
    },
    {
      "cell_type": "code",
      "source": [
        "#2d\n",
        "s['subjects']['dsa'] = 80\n",
        "s"
      ],
      "metadata": {
        "colab": {
          "base_uri": "https://localhost:8080/"
        },
        "id": "ORlC6NvYfE_H",
        "outputId": "e8f99615-2d1e-4f03-fe35-bceff3165079"
      },
      "execution_count": null,
      "outputs": [
        {
          "output_type": "execute_result",
          "data": {
            "text/plain": [
              "{'name': 'nitish',\n",
              " 'college': 'bit',\n",
              " 'sem': 4,\n",
              " 'subjects': {'dsa': 80, 'english': 34, 'ds': 75}}"
            ]
          },
          "metadata": {},
          "execution_count": 110
        }
      ]
    },
    {
      "cell_type": "markdown",
      "source": [
        "##Dictiory operations:"
      ],
      "metadata": {
        "id": "HJtCeJOBiSW9"
      }
    },
    {
      "cell_type": "code",
      "source": [
        "d = {'name':'nitish','gender':'male','age':33}\n",
        "print(d)\n",
        "\n",
        "'name' in d"
      ],
      "metadata": {
        "id": "otR4-Lw7YZPo",
        "colab": {
          "base_uri": "https://localhost:8080/"
        },
        "outputId": "26033755-6a46-4db6-9bb8-cd4d666d7299"
      },
      "execution_count": 4,
      "outputs": [
        {
          "output_type": "stream",
          "name": "stdout",
          "text": [
            "{'name': 'nitish', 'gender': 'male', 'age': 33}\n"
          ]
        },
        {
          "output_type": "execute_result",
          "data": {
            "text/plain": [
              "True"
            ]
          },
          "metadata": {},
          "execution_count": 4
        }
      ]
    },
    {
      "cell_type": "code",
      "source": [
        "d = {'name':'nitish','gender':'male','age':33}\n",
        "\n",
        "for i in d:\n",
        "  print(i,d[i])"
      ],
      "metadata": {
        "colab": {
          "base_uri": "https://localhost:8080/"
        },
        "id": "EnF81M9fyG6Z",
        "outputId": "d0e967a0-d957-406b-e0f1-5b73aa04f0df"
      },
      "execution_count": 2,
      "outputs": [
        {
          "output_type": "stream",
          "name": "stdout",
          "text": [
            "name nitish\n",
            "gender male\n",
            "age 33\n"
          ]
        }
      ]
    },
    {
      "cell_type": "markdown",
      "source": [
        "## Dicttionary Functions"
      ],
      "metadata": {
        "id": "hAckko-pX6cb"
      }
    },
    {
      "cell_type": "code",
      "source": [
        "d = {'name':'nitish','gender':'male','age':33}"
      ],
      "metadata": {
        "id": "sr7lFJd3ygqP"
      },
      "execution_count": 7,
      "outputs": []
    },
    {
      "cell_type": "code",
      "source": [
        "# len/sorted"
      ],
      "metadata": {
        "id": "Z-XYYtX5y4cR"
      },
      "execution_count": 13,
      "outputs": []
    },
    {
      "cell_type": "code",
      "source": [
        "# len/sorted\n",
        "len(d)"
      ],
      "metadata": {
        "id": "jHVgHVxldACz",
        "colab": {
          "base_uri": "https://localhost:8080/"
        },
        "outputId": "738740f8-01c4-4110-e960-b1ba6a73fd60"
      },
      "execution_count": 8,
      "outputs": [
        {
          "output_type": "execute_result",
          "data": {
            "text/plain": [
              "3"
            ]
          },
          "metadata": {},
          "execution_count": 8
        }
      ]
    },
    {
      "cell_type": "code",
      "source": [
        "sorted(d,reverse=True)"
      ],
      "metadata": {
        "id": "1LyckC1oc__C",
        "colab": {
          "base_uri": "https://localhost:8080/"
        },
        "outputId": "3161797b-c589-4c7e-cd31-ef48ccce3686"
      },
      "execution_count": 9,
      "outputs": [
        {
          "output_type": "execute_result",
          "data": {
            "text/plain": [
              "['name', 'gender', 'age']"
            ]
          },
          "metadata": {},
          "execution_count": 9
        }
      ]
    },
    {
      "cell_type": "code",
      "source": [
        "max(d)"
      ],
      "metadata": {
        "id": "s5d7h5s8c_8S",
        "colab": {
          "base_uri": "https://localhost:8080/",
          "height": 36
        },
        "outputId": "f590cf92-6eb3-4132-a4b8-a6c563c3743a"
      },
      "execution_count": 10,
      "outputs": [
        {
          "output_type": "execute_result",
          "data": {
            "text/plain": [
              "'name'"
            ],
            "application/vnd.google.colaboratory.intrinsic+json": {
              "type": "string"
            }
          },
          "metadata": {},
          "execution_count": 10
        }
      ]
    },
    {
      "cell_type": "code",
      "source": [
        "min(d)"
      ],
      "metadata": {
        "colab": {
          "base_uri": "https://localhost:8080/",
          "height": 36
        },
        "id": "e9dB1g6ly0ui",
        "outputId": "e22f50b8-22b9-4965-b32c-c9252083a292"
      },
      "execution_count": 14,
      "outputs": [
        {
          "output_type": "execute_result",
          "data": {
            "text/plain": [
              "'age'"
            ],
            "application/vnd.google.colaboratory.intrinsic+json": {
              "type": "string"
            }
          },
          "metadata": {},
          "execution_count": 14
        }
      ]
    },
    {
      "cell_type": "code",
      "source": [],
      "metadata": {
        "id": "ME1jkgl_y-H9"
      },
      "execution_count": null,
      "outputs": []
    },
    {
      "cell_type": "code",
      "source": [
        "# items/keys/values"
      ],
      "metadata": {
        "id": "2rK1qHlpy0f4"
      },
      "execution_count": 12,
      "outputs": []
    },
    {
      "cell_type": "code",
      "source": [
        "print(d)\n",
        "\n",
        "print(d.items())\n",
        "print(d.keys())\n",
        "print(d.values())"
      ],
      "metadata": {
        "id": "Y53y13u3c_5L",
        "colab": {
          "base_uri": "https://localhost:8080/"
        },
        "outputId": "efab7260-1759-43a7-9928-8d68a6a407ed"
      },
      "execution_count": 11,
      "outputs": [
        {
          "output_type": "stream",
          "name": "stdout",
          "text": [
            "{'name': 'nitish', 'gender': 'male', 'age': 33}\n",
            "dict_items([('name', 'nitish'), ('gender', 'male'), ('age', 33)])\n",
            "dict_keys(['name', 'gender', 'age'])\n",
            "dict_values(['nitish', 'male', 33])\n"
          ]
        }
      ]
    },
    {
      "cell_type": "code",
      "source": [
        "# update\n",
        "d1 = {1:2,3:4,4:5}\n",
        "d2 = {4:7,6:8}\n",
        "\n",
        "d1.update(d2)\n",
        "print(d1)"
      ],
      "metadata": {
        "id": "JDIbes6kc_sD",
        "colab": {
          "base_uri": "https://localhost:8080/"
        },
        "outputId": "933e975c-860f-448e-e75b-a4f7b8336b97"
      },
      "execution_count": 15,
      "outputs": [
        {
          "output_type": "stream",
          "name": "stdout",
          "text": [
            "{1: 2, 3: 4, 4: 7, 6: 8}\n"
          ]
        }
      ]
    },
    {
      "cell_type": "code",
      "source": [],
      "metadata": {
        "id": "-5gaPcqmy_Ty"
      },
      "execution_count": null,
      "outputs": []
    },
    {
      "cell_type": "markdown",
      "source": [
        "## Dictionary Comprehension"
      ],
      "metadata": {
        "id": "aiudY9QndEn7"
      }
    },
    {
      "cell_type": "code",
      "source": [
        "# print 1st 10 numbers and their squares\n",
        "{i:i**2 for i in range(1,11)}"
      ],
      "metadata": {
        "id": "lrt1HtNHdAWj",
        "colab": {
          "base_uri": "https://localhost:8080/"
        },
        "outputId": "0fd52ab2-7f41-49db-bf1f-555920700dac"
      },
      "execution_count": 16,
      "outputs": [
        {
          "output_type": "execute_result",
          "data": {
            "text/plain": [
              "{1: 1, 2: 4, 3: 9, 4: 16, 5: 25, 6: 36, 7: 49, 8: 64, 9: 81, 10: 100}"
            ]
          },
          "metadata": {},
          "execution_count": 16
        }
      ]
    },
    {
      "cell_type": "code",
      "source": [
        "distances = {'delhi':1000,'mumbai':2000,'bangalore':3000}\n",
        "print(distances.items())"
      ],
      "metadata": {
        "id": "z1tRv59qdHCD",
        "colab": {
          "base_uri": "https://localhost:8080/"
        },
        "outputId": "7d74666a-e47e-4879-9a94-c347471d4482"
      },
      "execution_count": 17,
      "outputs": [
        {
          "output_type": "stream",
          "name": "stdout",
          "text": [
            "dict_items([('delhi', 1000), ('mumbai', 2000), ('bangalore', 3000)])\n"
          ]
        }
      ]
    },
    {
      "cell_type": "code",
      "source": [
        "# using existing dict\n",
        "distances = {'delhi':1000,'mumbai':2000,'bangalore':3000}\n",
        "{key:value*0.62 for (key,value) in distances.items()}"
      ],
      "metadata": {
        "id": "zsirLH5QdG-S",
        "colab": {
          "base_uri": "https://localhost:8080/"
        },
        "outputId": "063d600b-63b8-42f6-f9b9-161f225fde6d"
      },
      "execution_count": 18,
      "outputs": [
        {
          "output_type": "execute_result",
          "data": {
            "text/plain": [
              "{'delhi': 620.0, 'mumbai': 1240.0, 'bangalore': 1860.0}"
            ]
          },
          "metadata": {},
          "execution_count": 18
        }
      ]
    },
    {
      "cell_type": "code",
      "source": [
        "# using if condition\n",
        "products = {'phone':10,'laptop':0,'charger':32,'tablet':0}\n",
        "\n",
        "{key:value for (key,value) in products.items() if value>0}"
      ],
      "metadata": {
        "id": "RRiBkWyadG7q",
        "colab": {
          "base_uri": "https://localhost:8080/"
        },
        "outputId": "7d28aae9-32a3-44f1-8442-8659f9a3f902"
      },
      "execution_count": 20,
      "outputs": [
        {
          "output_type": "execute_result",
          "data": {
            "text/plain": [
              "{'phone': 10, 'charger': 32}"
            ]
          },
          "metadata": {},
          "execution_count": 20
        }
      ]
    },
    {
      "cell_type": "code",
      "source": [
        "# Nested Comprehension\n",
        "# print tables of number from 2 to 4\n",
        "{i:{j:i*j for j in range(1,11)} for i in range(2,5)}"
      ],
      "metadata": {
        "colab": {
          "base_uri": "https://localhost:8080/"
        },
        "id": "HWFAjf1yzbgq",
        "outputId": "39564b0c-32d9-486a-f93c-bff5afb8deba"
      },
      "execution_count": 21,
      "outputs": [
        {
          "output_type": "execute_result",
          "data": {
            "text/plain": [
              "{2: {1: 2, 2: 4, 3: 6, 4: 8, 5: 10, 6: 12, 7: 14, 8: 16, 9: 18, 10: 20},\n",
              " 3: {1: 3, 2: 6, 3: 9, 4: 12, 5: 15, 6: 18, 7: 21, 8: 24, 9: 27, 10: 30},\n",
              " 4: {1: 4, 2: 8, 3: 12, 4: 16, 5: 20, 6: 24, 7: 28, 8: 32, 9: 36, 10: 40}}"
            ]
          },
          "metadata": {},
          "execution_count": 21
        }
      ]
    },
    {
      "cell_type": "markdown",
      "source": [
        "## Zip function"
      ],
      "metadata": {
        "id": "aLWf_ZBedHg7"
      }
    },
    {
      "cell_type": "code",
      "source": [
        "# using zip\n",
        "days = [\"Sunday\", \"Monday\",\"Tuesday\",\"Wednesday\",\"Thursday\",\"Friday\",\"Saturday\"]\n",
        "temp_C = [30.5,32.6,31.8,33.4,29.8,30.2,29.9]\n",
        "\n",
        "{i:j for (i,j) in zip(days,temp_C)}"
      ],
      "metadata": {
        "id": "EzAqcJJMdQcD",
        "colab": {
          "base_uri": "https://localhost:8080/"
        },
        "outputId": "32f1b9bb-7e19-4c8b-ebe5-02e437b4f4fa"
      },
      "execution_count": 19,
      "outputs": [
        {
          "output_type": "execute_result",
          "data": {
            "text/plain": [
              "{'Sunday': 30.5,\n",
              " 'Monday': 32.6,\n",
              " 'Tuesday': 31.8,\n",
              " 'Wednesday': 33.4,\n",
              " 'Thursday': 29.8,\n",
              " 'Friday': 30.2,\n",
              " 'Saturday': 29.9}"
            ]
          },
          "metadata": {},
          "execution_count": 19
        }
      ]
    },
    {
      "cell_type": "markdown",
      "source": [
        "## Special Syntax"
      ],
      "metadata": {
        "id": "MR0HvIIHdKbr"
      }
    },
    {
      "cell_type": "code",
      "source": [],
      "metadata": {
        "id": "rycLpg1udRxj"
      },
      "execution_count": null,
      "outputs": []
    },
    {
      "cell_type": "code",
      "source": [],
      "metadata": {
        "id": "g9NDrdundRuy"
      },
      "execution_count": null,
      "outputs": []
    },
    {
      "cell_type": "code",
      "source": [],
      "metadata": {
        "id": "nfU7ifm8dRqq"
      },
      "execution_count": null,
      "outputs": []
    },
    {
      "cell_type": "code",
      "source": [],
      "metadata": {
        "id": "FNWFqWKpdRoc"
      },
      "execution_count": null,
      "outputs": []
    },
    {
      "cell_type": "code",
      "source": [],
      "metadata": {
        "id": "Qv4lmscVdRl7"
      },
      "execution_count": null,
      "outputs": []
    }
  ]
}