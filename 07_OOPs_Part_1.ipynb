{
  "cells": [
    {
      "cell_type": "markdown",
      "metadata": {
        "id": "view-in-github",
        "colab_type": "text"
      },
      "source": [
        "<a href=\"https://colab.research.google.com/github/Precipitation-Rain/Python/blob/main/07_OOPs_Part_1.ipynb\" target=\"_parent\"><img src=\"https://colab.research.google.com/assets/colab-badge.svg\" alt=\"Open In Colab\"/></a>"
      ]
    },
    {
      "cell_type": "markdown",
      "id": "285732a2-9904-430f-9657-545d2a9f2975",
      "metadata": {
        "id": "285732a2-9904-430f-9657-545d2a9f2975"
      },
      "source": [
        "## Overview What is class and object"
      ]
    },
    {
      "cell_type": "code",
      "execution_count": 1,
      "id": "9a74984e-09e7-429b-9a61-5020e2844ad2",
      "metadata": {
        "colab": {
          "base_uri": "https://localhost:8080/"
        },
        "id": "9a74984e-09e7-429b-9a61-5020e2844ad2",
        "outputId": "9f442b6b-8739-4cdf-8be0-154e66db45a9"
      },
      "outputs": [
        {
          "output_type": "stream",
          "name": "stdout",
          "text": [
            "Hello\n"
          ]
        }
      ],
      "source": [
        "print(\"Hello\")"
      ]
    },
    {
      "cell_type": "code",
      "execution_count": 2,
      "id": "1345c2ad-aba5-4a6a-84cc-10239367a261",
      "metadata": {
        "colab": {
          "base_uri": "https://localhost:8080/"
        },
        "id": "1345c2ad-aba5-4a6a-84cc-10239367a261",
        "outputId": "18a8303e-8338-4d0a-e4d8-eeb611ddc003"
      },
      "outputs": [
        {
          "output_type": "execute_result",
          "data": {
            "text/plain": [
              "list"
            ]
          },
          "metadata": {},
          "execution_count": 2
        }
      ],
      "source": [
        "l = [1,2,3,4]\n",
        "type(l)"
      ]
    },
    {
      "cell_type": "code",
      "execution_count": 3,
      "id": "8ee44414-bd20-4e37-988b-06b71fafb6aa",
      "metadata": {
        "colab": {
          "base_uri": "https://localhost:8080/",
          "height": 141
        },
        "id": "8ee44414-bd20-4e37-988b-06b71fafb6aa",
        "outputId": "6914c6b5-fe72-4d30-f7b3-b53b3a54ad01"
      },
      "outputs": [
        {
          "output_type": "error",
          "ename": "AttributeError",
          "evalue": "'list' object has no attribute 'upper'",
          "traceback": [
            "\u001b[0;31m---------------------------------------------------------------------------\u001b[0m",
            "\u001b[0;31mAttributeError\u001b[0m                            Traceback (most recent call last)",
            "\u001b[0;32m/tmp/ipython-input-447581512.py\u001b[0m in \u001b[0;36m<cell line: 0>\u001b[0;34m()\u001b[0m\n\u001b[0;32m----> 1\u001b[0;31m \u001b[0ml\u001b[0m\u001b[0;34m.\u001b[0m\u001b[0mupper\u001b[0m\u001b[0;34m(\u001b[0m\u001b[0;34m)\u001b[0m\u001b[0;34m\u001b[0m\u001b[0;34m\u001b[0m\u001b[0m\n\u001b[0m",
            "\u001b[0;31mAttributeError\u001b[0m: 'list' object has no attribute 'upper'"
          ]
        }
      ],
      "source": [
        "l.upper()"
      ]
    },
    {
      "cell_type": "code",
      "execution_count": null,
      "id": "abcd2cd0-64c1-4801-822f-84ca6cc55d00",
      "metadata": {
        "id": "abcd2cd0-64c1-4801-822f-84ca6cc55d00"
      },
      "outputs": [],
      "source": []
    },
    {
      "cell_type": "markdown",
      "id": "3b9fa637-791f-47aa-9b6a-4277d0edcfe4",
      "metadata": {
        "id": "3b9fa637-791f-47aa-9b6a-4277d0edcfe4"
      },
      "source": [
        "## Class and object"
      ]
    },
    {
      "cell_type": "code",
      "execution_count": 4,
      "id": "483a7710-adef-4a5b-b4f9-74ba2e1db96b",
      "metadata": {
        "id": "483a7710-adef-4a5b-b4f9-74ba2e1db96b"
      },
      "outputs": [],
      "source": [
        "#OOPs:\n",
        "#Used to build Real world application\n",
        "#Highly practical\n",
        "#By using oops you can create your own data type"
      ]
    },
    {
      "cell_type": "code",
      "execution_count": 5,
      "id": "76260b81-f869-4911-8a4f-3a92397f167a",
      "metadata": {
        "id": "76260b81-f869-4911-8a4f-3a92397f167a"
      },
      "outputs": [],
      "source": [
        "#Class:\n",
        "#blueprint\n",
        "#define rules how object will behave\n",
        "#Don't take any space in memory\n",
        "#Two types of class\n",
        "#1]Built in classes : all datatypes like int float string tuple list\n",
        "#2]user defined classes"
      ]
    },
    {
      "cell_type": "code",
      "execution_count": 6,
      "id": "eca43fbb-d21e-4b27-9c9a-66bf191a08f5",
      "metadata": {
        "id": "eca43fbb-d21e-4b27-9c9a-66bf191a08f5"
      },
      "outputs": [],
      "source": [
        "#Object\n",
        "#Instance of classs\n",
        "#Can acsess all things of class"
      ]
    },
    {
      "cell_type": "code",
      "execution_count": null,
      "id": "bdf16fae-08b6-418d-b211-8e44c23a97d3",
      "metadata": {
        "id": "bdf16fae-08b6-418d-b211-8e44c23a97d3"
      },
      "outputs": [],
      "source": []
    },
    {
      "cell_type": "code",
      "execution_count": 7,
      "id": "a3001394-45e6-47a6-8bd5-206b8f5ba622",
      "metadata": {
        "id": "a3001394-45e6-47a6-8bd5-206b8f5ba622"
      },
      "outputs": [],
      "source": [
        "class Atm:\n",
        "\n",
        "    #constructor\n",
        "    def __init__(self):\n",
        "        self.pin=''\n",
        "        self.balance=0\n",
        "        # print(\"Kya baat hain!\")\n",
        "        self.menu()\n",
        "\n",
        "    def menu(self):\n",
        "        user_input=input(\"\"\"\n",
        "\n",
        "        Enter Your Choice:\n",
        "        1.Press 1 To Set New Pin\n",
        "        2.Press 2 To Change Pin\n",
        "        3.Press 3 To Check Balance\n",
        "        4.Press 4 To Withdraw Cash\n",
        "        5.Anything else to exit\n",
        "\n",
        "        \"\"\")\n",
        "\n",
        "        if(user_input == '1'):\n",
        "            self.Create_pin()\n",
        "            self.menu()\n",
        "\n",
        "        elif(user_input == '2'):\n",
        "            self.change_pin()\n",
        "            self.menu()\n",
        "\n",
        "        elif user_input == '3' :\n",
        "            self.check_balance()\n",
        "            self.menu()\n",
        "\n",
        "        elif user_input == '4' :\n",
        "            self.withdrawal()\n",
        "            self.menu()\n",
        "\n",
        "        else:\n",
        "            False#To exit from loop you can use break\n",
        "\n",
        "\n",
        "\n",
        "\n",
        "\n",
        "\n",
        "    def Create_pin(self):\n",
        "        user_pin= input(\"Enter your pin\")\n",
        "        recheck_pin = input(\"Enter pin again\")\n",
        "\n",
        "        if (recheck_pin == user_pin):\n",
        "            self.pin=user_pin\n",
        "            print(\"Pin created succesfully\")\n",
        "\n",
        "            user_balance = int(input(\"Enter balance\"))\n",
        "            self.balance = user_balance\n",
        "            print(\"Balance entered succesfully!\")\n",
        "        else:\n",
        "            print(\"Pin is not created\")\n",
        "\n",
        "\n",
        "\n",
        "\n",
        "    def change_pin(self):\n",
        "        if self.pin:\n",
        "            old_pin = input(\"Enter your existing pin\")\n",
        "            if(old_pin == self.pin):\n",
        "                new_pin = input(\"Enter new pin\")\n",
        "                self.pin = new_pin\n",
        "                print(\"Pin changes Succesfully!\")\n",
        "            else:\n",
        "                print(\"Nai karne de sakta re baba!\")\n",
        "\n",
        "        else:\n",
        "             print(\"Beta pehle pin to banalo!\")\n",
        "\n",
        "\n",
        "    def check_balance(self):\n",
        "        if self.pin:\n",
        "            user_pins = input(\"Enter your pin\")\n",
        "            if (user_pins == self.pin):\n",
        "                print(\"Your balance is :\",self.balance)\n",
        "            else:\n",
        "                print(\"Nikal yaha se!\")\n",
        "        else:\n",
        "            print(\"Beta pehle pin to banalo!\")\n",
        "\n",
        "\n",
        "    def withdrawal(self):\n",
        "        if self.pin:\n",
        "            user_pin = input(\"Enter pin\")\n",
        "            if user_pin == self.pin:\n",
        "                amount = int(input(\"Enter the amount of withdrwal!\"))\n",
        "                if amount >= self.balance:\n",
        "                    print(\"Abe garib!\")\n",
        "                else:\n",
        "                    self.balance = self.balance-amount\n",
        "                    print(\"Amount withdrwas succesfully!.Remaining amount = \",self.balance)\n",
        "            else:\n",
        "                print(\"Abe chor!\")\n",
        "        else:\n",
        "            print(\"Pin to create karle beta!\")\n",
        ""
      ]
    },
    {
      "cell_type": "code",
      "execution_count": 8,
      "id": "caffb056-6ba1-4c66-b3f6-db44e8516f00",
      "metadata": {
        "colab": {
          "base_uri": "https://localhost:8080/"
        },
        "id": "caffb056-6ba1-4c66-b3f6-db44e8516f00",
        "outputId": "a0f68f16-76a8-4ca3-8e99-3c087cba7798"
      },
      "outputs": [
        {
          "name": "stdout",
          "output_type": "stream",
          "text": [
            "\n",
            "        \n",
            "        Enter Your Choice:\n",
            "        1.Press 1 To Set New Pin\n",
            "        2.Press 2 To Change Pin\n",
            "        3.Press 3 To Check Balance\n",
            "        4.Press 4 To Withdraw Cash\n",
            "        5.Anything else to exit\n",
            "        \n",
            "        1\n",
            "Enter your pin100\n",
            "Enter pin again100\n",
            "Pin created succesfully\n",
            "Enter balance20000\n",
            "Balance entered succesfully!\n",
            "\n",
            "        \n",
            "        Enter Your Choice:\n",
            "        1.Press 1 To Set New Pin\n",
            "        2.Press 2 To Change Pin\n",
            "        3.Press 3 To Check Balance\n",
            "        4.Press 4 To Withdraw Cash\n",
            "        5.Anything else to exit\n",
            "        \n",
            "        0\n"
          ]
        }
      ],
      "source": [
        "obj = Atm()\n",
        "#objectName = Classname() ->Syntax to create objects"
      ]
    },
    {
      "cell_type": "code",
      "execution_count": null,
      "id": "be50af62-2572-4443-9c35-370c9d37ad1b",
      "metadata": {
        "id": "be50af62-2572-4443-9c35-370c9d37ad1b"
      },
      "outputs": [],
      "source": []
    },
    {
      "cell_type": "markdown",
      "id": "5b96d029-f64a-4448-a89d-6308b6b7bce0",
      "metadata": {
        "id": "5b96d029-f64a-4448-a89d-6308b6b7bce0"
      },
      "source": [
        "## constructor"
      ]
    },
    {
      "cell_type": "code",
      "execution_count": 9,
      "id": "8b79782e-1492-4b54-ae5d-08bc56c1ad42",
      "metadata": {
        "id": "8b79782e-1492-4b54-ae5d-08bc56c1ad42"
      },
      "outputs": [],
      "source": [
        "#Constructor:\n",
        "#1.It is special function -> it has superpower ->we dont need to call it explicitally -> it automatically calls when object is created"
      ]
    },
    {
      "cell_type": "code",
      "execution_count": null,
      "id": "e61e364c-c75c-4ff6-b8e6-50a1695d89b7",
      "metadata": {
        "id": "e61e364c-c75c-4ff6-b8e6-50a1695d89b7"
      },
      "outputs": [],
      "source": []
    },
    {
      "cell_type": "markdown",
      "id": "66e9c746-4937-4890-9f55-b68b943d9c37",
      "metadata": {
        "id": "66e9c746-4937-4890-9f55-b68b943d9c37"
      },
      "source": [
        "## method vs function"
      ]
    },
    {
      "cell_type": "code",
      "execution_count": 10,
      "id": "787bdb08-4006-46e4-99ad-0c193c9f8191",
      "metadata": {
        "id": "787bdb08-4006-46e4-99ad-0c193c9f8191"
      },
      "outputs": [],
      "source": [
        "#Method vs Function:\n",
        "#Method -> Function written inside class\n",
        "#Function -> Function written outside the class"
      ]
    },
    {
      "cell_type": "code",
      "execution_count": 11,
      "id": "133e2232-abaa-415d-a2b1-2f6749c70202",
      "metadata": {
        "id": "133e2232-abaa-415d-a2b1-2f6749c70202"
      },
      "outputs": [],
      "source": [
        "i = [1,2,3,4]\n",
        "len(i) # len is function becaz it is outside the class\n",
        "i.append(5) # append is method becaz it is inside the list class"
      ]
    },
    {
      "cell_type": "code",
      "execution_count": null,
      "id": "b19d0d1a-423f-4408-9a2f-dd3b540b8c17",
      "metadata": {
        "id": "b19d0d1a-423f-4408-9a2f-dd3b540b8c17"
      },
      "outputs": [],
      "source": [
        "i"
      ]
    },
    {
      "cell_type": "code",
      "execution_count": null,
      "id": "e771142b-d26d-489e-8c95-a8e904bc887e",
      "metadata": {
        "id": "e771142b-d26d-489e-8c95-a8e904bc887e"
      },
      "outputs": [],
      "source": []
    },
    {
      "cell_type": "markdown",
      "id": "c2d1bf49-4139-4062-8461-85c7d1b3b952",
      "metadata": {
        "id": "c2d1bf49-4139-4062-8461-85c7d1b3b952"
      },
      "source": [
        "## Magic methods"
      ]
    },
    {
      "cell_type": "code",
      "execution_count": 12,
      "id": "2413e31e-f8a1-47b2-8cac-0b005b6f75bb",
      "metadata": {
        "id": "2413e31e-f8a1-47b2-8cac-0b005b6f75bb"
      },
      "outputs": [],
      "source": [
        "#Magic Methods:\n",
        "\n",
        "# Magic methods -> special functions written inside class -> has superpower\n",
        "# syntax : __init__(self) -> aage and piche double underscore laga hoga!\n",
        "\n",
        "#Constructor:\n",
        "#special method\n",
        "#we dont need to call it explicitelt -> it activates or executes as we create object of class\n",
        "# only single constructor\n",
        "# name and syntax is fixed : __init__(self):\n",
        "#aisa kya hain constructor ke pass which make him special:\n",
        "#We write configuration code inside constructor\n",
        "#ex] as user insert pin (create obj -> in coding language ) we have to connect to database so we can acces balance ,pin and other thing and this thing control\n",
        "#we cant put into hand of user this is constructor superpower and that's why it executes without any call()\n",
        "#Kuch chijo ka control user ke haat me nahi dena and kuch chize kam shuru hote hi execute karana iske liye hum constructor banate hain!\n",
        "\n",
        "# god ,earth, Human\n"
      ]
    },
    {
      "cell_type": "code",
      "execution_count": null,
      "id": "bee0f058-f55b-4e89-a600-c3dced74976d",
      "metadata": {
        "id": "bee0f058-f55b-4e89-a600-c3dced74976d"
      },
      "outputs": [],
      "source": []
    },
    {
      "cell_type": "markdown",
      "id": "494eb995-fd15-4932-8f19-1e480a94790b",
      "metadata": {
        "id": "494eb995-fd15-4932-8f19-1e480a94790b"
      },
      "source": [
        "## self"
      ]
    },
    {
      "cell_type": "code",
      "execution_count": 13,
      "id": "620a6e99-2ef9-4824-b421-9be7693e5ce5",
      "metadata": {
        "id": "620a6e99-2ef9-4824-b421-9be7693e5ce5"
      },
      "outputs": [],
      "source": [
        "#self\n",
        "#1.Instance of class / object of class / gangadhar hi shaktiman hain / objcet inside class = self\n",
        "\n",
        "# golden rule of programming:\n",
        "# Methods and data of class is accesible by only and only object of the class\n",
        "\n",
        "# what if the one method of class needs to call/talk to another method.\n",
        "# in above ex] constructor calls menu. it uses self beacaz a method can't tal/call another method of class.It is applies on data also\n",
        "\n",
        "# To solve above problem obj itself goes into class by becoming self\n",
        "#when we create object of the class, we are indireclty sending that object into class by name of self(you can take nay name ). It is hidden code"
      ]
    },
    {
      "cell_type": "code",
      "execution_count": 14,
      "id": "e233da17-5d38-42b9-be99-ef73be54bba1",
      "metadata": {
        "colab": {
          "base_uri": "https://localhost:8080/"
        },
        "id": "e233da17-5d38-42b9-be99-ef73be54bba1",
        "outputId": "890fcb3e-2109-491c-eea3-439558cc1056"
      },
      "outputs": [
        {
          "name": "stdout",
          "output_type": "stream",
          "text": [
            "\n",
            "        \n",
            "        Enter Your Choice:\n",
            "        1.Press 1 To Set New Pin\n",
            "        2.Press 2 To Change Pin\n",
            "        3.Press 3 To Check Balance\n",
            "        4.Press 4 To Withdraw Cash\n",
            "        5.Anything else to exit\n",
            "        \n",
            "        0\n"
          ]
        }
      ],
      "source": [
        "obj1=Atm()"
      ]
    },
    {
      "cell_type": "code",
      "execution_count": null,
      "id": "5cbb48d0-0247-473b-9c5c-577d1d319806",
      "metadata": {
        "id": "5cbb48d0-0247-473b-9c5c-577d1d319806"
      },
      "outputs": [],
      "source": [
        "#Proving object goes by name of self"
      ]
    },
    {
      "cell_type": "code",
      "execution_count": 15,
      "id": "202dc0f1-e38f-4fd9-b6cb-64dbffb4aca9",
      "metadata": {
        "colab": {
          "base_uri": "https://localhost:8080/"
        },
        "id": "202dc0f1-e38f-4fd9-b6cb-64dbffb4aca9",
        "outputId": "d28e5a35-88ad-4c6f-f11b-b575896e1dad"
      },
      "outputs": [
        {
          "output_type": "stream",
          "name": "stdout",
          "text": [
            "Beta pehle pin to banalo!\n"
          ]
        }
      ],
      "source": [
        "obj1.check_balance()"
      ]
    },
    {
      "cell_type": "code",
      "execution_count": 16,
      "id": "d4560d50-f3e3-40c7-9171-5e99950bcdcf",
      "metadata": {
        "id": "d4560d50-f3e3-40c7-9171-5e99950bcdcf"
      },
      "outputs": [],
      "source": [
        "#In above we try to call check_balace method it says \"Atm.check_balance() takes 0 positional arguments but 1 was given\" but we dont pass any argument\"obj1.check_balance()\".\n",
        "#That's i am telling when we create object.It itself goes into class by becoming argment."
      ]
    },
    {
      "cell_type": "code",
      "execution_count": null,
      "id": "9b13e03e-97e6-4ccb-a4ad-18182b542188",
      "metadata": {
        "id": "9b13e03e-97e6-4ccb-a4ad-18182b542188"
      },
      "outputs": [],
      "source": []
    },
    {
      "cell_type": "code",
      "execution_count": 17,
      "id": "6c1675be-0ce0-477f-a42b-4570314c5d98",
      "metadata": {
        "id": "6c1675be-0ce0-477f-a42b-4570314c5d98"
      },
      "outputs": [],
      "source": [
        "#Proving object goes by name of self 2"
      ]
    },
    {
      "cell_type": "code",
      "execution_count": null,
      "id": "d9411897-9ddf-4d57-9e90-5bddd575270c",
      "metadata": {
        "id": "d9411897-9ddf-4d57-9e90-5bddd575270c",
        "outputId": "14dfd791-baa3-4c9d-dd18-82978a8b4235"
      },
      "outputs": [
        {
          "ename": "NameError",
          "evalue": "name 'self' is not defined",
          "output_type": "error",
          "traceback": [
            "\u001b[1;31m---------------------------------------------------------------------------\u001b[0m",
            "\u001b[1;31mNameError\u001b[0m                                 Traceback (most recent call last)",
            "Cell \u001b[1;32mIn[16], line 1\u001b[0m\n\u001b[1;32m----> 1\u001b[0m \u001b[38;5;28mprint\u001b[39m(\u001b[38;5;28mid\u001b[39m(\u001b[38;5;28mself\u001b[39m))\n",
            "\u001b[1;31mNameError\u001b[0m: name 'self' is not defined"
          ]
        }
      ],
      "source": [
        "print(id(self)) # Check below code"
      ]
    },
    {
      "cell_type": "raw",
      "id": "cd5dcc39-4471-4193-bccd-545ff5f53c5d",
      "metadata": {
        "id": "cd5dcc39-4471-4193-bccd-545ff5f53c5d"
      },
      "source": [
        "print(id(obj))"
      ]
    },
    {
      "cell_type": "code",
      "execution_count": null,
      "id": "9fb165a2-e524-44ac-959b-b3046d3d05f0",
      "metadata": {
        "id": "9fb165a2-e524-44ac-959b-b3046d3d05f0"
      },
      "outputs": [],
      "source": []
    },
    {
      "cell_type": "markdown",
      "id": "84098ac4-8708-42f4-a9df-5b0345ddc5cc",
      "metadata": {
        "id": "84098ac4-8708-42f4-a9df-5b0345ddc5cc"
      },
      "source": [
        "## How to create own data type"
      ]
    },
    {
      "cell_type": "code",
      "execution_count": 18,
      "id": "82e492db-872d-4f7e-802a-239f4a611ae2",
      "metadata": {
        "id": "82e492db-872d-4f7e-802a-239f4a611ae2"
      },
      "outputs": [],
      "source": [
        "class Fraction:\n",
        "    def __init__(self,x,y): # The constructor which take input known as parameterized constructor\n",
        "        self.num = x\n",
        "        self.den = y\n",
        "        # print(id(self))\n",
        "\n",
        "    def __str__(self): # Returns a string\n",
        "        return '{}/{}'.format(self.num,self.den)\n",
        "\n",
        "    def __add__(self,other):\n",
        "        new_num = self.num*other.den + other.num*self.den\n",
        "        new_den = self.den*other.den\n",
        "        return '{}/{}'.format(new_num,new_den)\n",
        "\n",
        "    def __sub__(self,other):\n",
        "        new_num = self.num*other.den - other.num*self.den\n",
        "        new_den = self.den*other.den\n",
        "        return '{}/{}'.format(new_num,new_den)\n",
        "\n",
        "    def __mul__(self,other):\n",
        "        new_num = self.num*other.num\n",
        "        new_den = self.den*other.den\n",
        "        return '{}/{}'.format(new_num,new_den)\n",
        "\n",
        "    def __truediv__(self,other):\n",
        "        new_num = self.num*other.den\n",
        "        new_den = self.den*other.num\n",
        "        return '{}/{}'.format(new_num,new_den)\n",
        "\n",
        "    def To_decimal(self):\n",
        "        return self.num/self.den"
      ]
    },
    {
      "cell_type": "code",
      "execution_count": 20,
      "id": "c4e5152f-6c5c-4d22-be71-2eec6295dd51",
      "metadata": {
        "id": "c4e5152f-6c5c-4d22-be71-2eec6295dd51"
      },
      "outputs": [],
      "source": [
        "obj = Fraction(3,4)"
      ]
    },
    {
      "cell_type": "code",
      "execution_count": null,
      "id": "c826b086-5c1c-444c-962b-7ab3ce18fbd6",
      "metadata": {
        "id": "c826b086-5c1c-444c-962b-7ab3ce18fbd6"
      },
      "outputs": [],
      "source": [
        "# print(id(obj)) # obj = self"
      ]
    },
    {
      "cell_type": "code",
      "execution_count": null,
      "id": "75104416-f282-4363-9925-16ccc1fded19",
      "metadata": {
        "id": "75104416-f282-4363-9925-16ccc1fded19",
        "outputId": "5c66a31b-ba54-4329-a77f-848d6af899f8"
      },
      "outputs": [
        {
          "name": "stdout",
          "output_type": "stream",
          "text": [
            "3/4\n"
          ]
        }
      ],
      "source": [
        "print(obj) # we want 3/4 like this\n",
        "# when we want to print object python automatically/by default execute __str__(self) block"
      ]
    },
    {
      "cell_type": "code",
      "execution_count": 21,
      "id": "056b22ec-9e5a-4c70-b1f1-36b2d150c2f8",
      "metadata": {
        "id": "056b22ec-9e5a-4c70-b1f1-36b2d150c2f8"
      },
      "outputs": [],
      "source": [
        "obj2 = Fraction(1,2)"
      ]
    },
    {
      "cell_type": "code",
      "execution_count": null,
      "id": "f7be525a-f891-43dd-a3c0-3ecf97b18f10",
      "metadata": {
        "id": "f7be525a-f891-43dd-a3c0-3ecf97b18f10",
        "outputId": "eb1ee47e-ee78-4dee-deb9-672959e5a3f6"
      },
      "outputs": [
        {
          "name": "stdout",
          "output_type": "stream",
          "text": [
            "1/2\n"
          ]
        }
      ],
      "source": [
        "print(obj2)"
      ]
    },
    {
      "cell_type": "code",
      "execution_count": null,
      "id": "c1d75e40-12f2-41ae-8dd7-b647f7e20c14",
      "metadata": {
        "id": "c1d75e40-12f2-41ae-8dd7-b647f7e20c14"
      },
      "outputs": [],
      "source": []
    },
    {
      "cell_type": "code",
      "execution_count": 22,
      "id": "0fc3cc74-3807-4336-aa7a-fa1312e7c0bf",
      "metadata": {
        "colab": {
          "base_uri": "https://localhost:8080/",
          "height": 36
        },
        "id": "0fc3cc74-3807-4336-aa7a-fa1312e7c0bf",
        "outputId": "6f0b1f08-02bc-4980-8679-8000729c7402"
      },
      "outputs": [
        {
          "output_type": "execute_result",
          "data": {
            "text/plain": [
              "'10/8'"
            ],
            "application/vnd.google.colaboratory.intrinsic+json": {
              "type": "string"
            }
          },
          "metadata": {},
          "execution_count": 22
        }
      ],
      "source": [
        "(obj + obj2)"
      ]
    },
    {
      "cell_type": "code",
      "execution_count": 23,
      "id": "dc230514-a34d-4702-a491-d7b56a3e3e95",
      "metadata": {
        "colab": {
          "base_uri": "https://localhost:8080/",
          "height": 36
        },
        "id": "dc230514-a34d-4702-a491-d7b56a3e3e95",
        "outputId": "f5b35d16-d08d-4db9-c3f2-2686c11ef242"
      },
      "outputs": [
        {
          "output_type": "execute_result",
          "data": {
            "text/plain": [
              "'2/8'"
            ],
            "application/vnd.google.colaboratory.intrinsic+json": {
              "type": "string"
            }
          },
          "metadata": {},
          "execution_count": 23
        }
      ],
      "source": [
        "(obj - obj2)"
      ]
    },
    {
      "cell_type": "code",
      "execution_count": 24,
      "id": "41f731fa-daf7-454c-be0e-b7100f2297a9",
      "metadata": {
        "colab": {
          "base_uri": "https://localhost:8080/",
          "height": 36
        },
        "id": "41f731fa-daf7-454c-be0e-b7100f2297a9",
        "outputId": "bb91f1f4-b141-4944-8c44-4f280aaefced"
      },
      "outputs": [
        {
          "output_type": "execute_result",
          "data": {
            "text/plain": [
              "'3/8'"
            ],
            "application/vnd.google.colaboratory.intrinsic+json": {
              "type": "string"
            }
          },
          "metadata": {},
          "execution_count": 24
        }
      ],
      "source": [
        "(obj * obj2)"
      ]
    },
    {
      "cell_type": "code",
      "execution_count": 25,
      "id": "dd7d1903-a4b8-4703-abeb-a980b8fe7f99",
      "metadata": {
        "colab": {
          "base_uri": "https://localhost:8080/",
          "height": 36
        },
        "id": "dd7d1903-a4b8-4703-abeb-a980b8fe7f99",
        "outputId": "b7fcf273-9ed3-4adc-848d-5c76e812727c"
      },
      "outputs": [
        {
          "output_type": "execute_result",
          "data": {
            "text/plain": [
              "'6/4'"
            ],
            "application/vnd.google.colaboratory.intrinsic+json": {
              "type": "string"
            }
          },
          "metadata": {},
          "execution_count": 25
        }
      ],
      "source": [
        "(obj / obj2)"
      ]
    },
    {
      "cell_type": "code",
      "execution_count": 26,
      "id": "0100edd9-e2b3-42a1-b24e-95af31ccc597",
      "metadata": {
        "colab": {
          "base_uri": "https://localhost:8080/"
        },
        "id": "0100edd9-e2b3-42a1-b24e-95af31ccc597",
        "outputId": "c67c8aae-736b-43e3-f519-bb53d1f0fc8e"
      },
      "outputs": [
        {
          "output_type": "execute_result",
          "data": {
            "text/plain": [
              "0.75"
            ]
          },
          "metadata": {},
          "execution_count": 26
        }
      ],
      "source": [
        "obj.To_decimal()"
      ]
    },
    {
      "cell_type": "code",
      "execution_count": null,
      "id": "d1209e59-bace-4904-a81a-2d538252c444",
      "metadata": {
        "id": "d1209e59-bace-4904-a81a-2d538252c444"
      },
      "outputs": [],
      "source": []
    }
  ],
  "metadata": {
    "kernelspec": {
      "display_name": "Python 3",
      "name": "python3"
    },
    "language_info": {
      "codemirror_mode": {
        "name": "ipython",
        "version": 3
      },
      "file_extension": ".py",
      "mimetype": "text/x-python",
      "name": "python",
      "nbconvert_exporter": "python",
      "pygments_lexer": "ipython3",
      "version": "3.13.5"
    },
    "colab": {
      "provenance": [],
      "gpuType": "T4",
      "include_colab_link": true
    },
    "accelerator": "GPU"
  },
  "nbformat": 4,
  "nbformat_minor": 5
}