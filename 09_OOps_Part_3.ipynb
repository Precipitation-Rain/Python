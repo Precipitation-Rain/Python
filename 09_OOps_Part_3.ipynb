{
  "cells": [
    {
      "cell_type": "markdown",
      "metadata": {
        "id": "view-in-github",
        "colab_type": "text"
      },
      "source": [
        "<a href=\"https://colab.research.google.com/github/Precipitation-Rain/Python/blob/main/09_OOps_Part_3.ipynb\" target=\"_parent\"><img src=\"https://colab.research.google.com/assets/colab-badge.svg\" alt=\"Open In Colab\"/></a>"
      ]
    },
    {
      "cell_type": "code",
      "execution_count": null,
      "id": "f805bed6-335c-4de6-b6e2-39ec55f28bd8",
      "metadata": {
        "id": "f805bed6-335c-4de6-b6e2-39ec55f28bd8"
      },
      "outputs": [],
      "source": [
        "## Relationships\n",
        "# 1.Aggregation\n",
        "# 2.Inheritance"
      ]
    },
    {
      "cell_type": "markdown",
      "id": "c4d0753c-3bda-42e1-a500-5251bb3a37a4",
      "metadata": {
        "id": "c4d0753c-3bda-42e1-a500-5251bb3a37a4"
      },
      "source": [
        "## Aggregation:"
      ]
    },
    {
      "cell_type": "code",
      "execution_count": null,
      "id": "77d17188-8967-429f-9ae2-2518cde4ddde",
      "metadata": {
        "id": "77d17188-8967-429f-9ae2-2518cde4ddde"
      },
      "outputs": [],
      "source": [
        "#A class owns another class\n",
        "#Ek owner hoga and second uski property hoga.\n",
        "#Has a relationship = aggregation -> customer has address\n",
        "#Owner class can't acess private attributes of owned class\n",
        "#Owner class ke obj me owned class ka object bhej dena."
      ]
    },
    {
      "cell_type": "code",
      "execution_count": null,
      "id": "32f7e2c4-55eb-4d33-9179-0d03d53925bd",
      "metadata": {
        "id": "32f7e2c4-55eb-4d33-9179-0d03d53925bd"
      },
      "outputs": [],
      "source": [
        "class Person:\n",
        "    def __init__(self,name,gender,address):\n",
        "        self.name = name\n",
        "        self.gender = gender\n",
        "        self.address = address\n",
        "\n",
        "\n",
        "    def print_address(self):\n",
        "        print(self.address.state,self.address.get_pincode(),self.address.city)\n",
        "\n",
        "    def edit_profile(self,new_name,new_city,new_pin,new_state):\n",
        "        self.name = new_name\n",
        "        self.address.edit_address(new_city,new_pin,new_state)\n",
        "\n",
        "\n",
        "class Address:\n",
        "    def __init__(self,state,pincode,city):\n",
        "        self.state = state\n",
        "        self.__pincode = pincode\n",
        "        self.city = city\n",
        "\n",
        "    def edit_address(self,new_city,new_pin,new_state):\n",
        "        self.city=new_city\n",
        "        self.__pin = new_pin\n",
        "        self.state = new_state\n",
        "\n",
        "\n",
        "    def get_pincode(self):\n",
        "          return self.__pin"
      ]
    },
    {
      "cell_type": "code",
      "execution_count": null,
      "id": "86589b80-1d77-42cc-beed-f1b114426954",
      "metadata": {
        "id": "86589b80-1d77-42cc-beed-f1b114426954"
      },
      "outputs": [],
      "source": [
        "add = Address('up',415111,'Delhi')\n",
        "p = Person('Raj','Male',add)"
      ]
    },
    {
      "cell_type": "code",
      "execution_count": null,
      "id": "eb5d0289-8b27-4e57-9d35-31bcb5febd5c",
      "metadata": {
        "id": "eb5d0289-8b27-4e57-9d35-31bcb5febd5c",
        "outputId": "37fe7c6c-7aaf-4227-90a0-fbae5a2bdb86"
      },
      "outputs": [
        {
          "name": "stdout",
          "output_type": "stream",
          "text": [
            "Mh 411111 Karad\n"
          ]
        }
      ],
      "source": [
        "p.print_address() # how to get address by using get method"
      ]
    },
    {
      "cell_type": "code",
      "execution_count": null,
      "id": "f427ad74-2ae4-4936-b444-f4df517945cd",
      "metadata": {
        "id": "f427ad74-2ae4-4936-b444-f4df517945cd"
      },
      "outputs": [],
      "source": [
        "p.edit_profile('Vardan','Karad',411111,'Mh')"
      ]
    },
    {
      "cell_type": "code",
      "execution_count": null,
      "id": "020b7544-44cc-4cb9-bc11-a14043236e40",
      "metadata": {
        "id": "020b7544-44cc-4cb9-bc11-a14043236e40"
      },
      "outputs": [],
      "source": []
    },
    {
      "cell_type": "markdown",
      "id": "82f0d75e-ba33-4ca1-ba83-8c4a111b40e0",
      "metadata": {
        "id": "82f0d75e-ba33-4ca1-ba83-8c4a111b40e0"
      },
      "source": [
        "## Inheritance"
      ]
    },
    {
      "cell_type": "code",
      "execution_count": null,
      "id": "233372a8-6b54-4477-a157-4afdb20add07",
      "metadata": {
        "id": "233372a8-6b54-4477-a157-4afdb20add07"
      },
      "outputs": [],
      "source": [
        "# Jo baap ka vo bete ka\n",
        "# ek child class hoga and ek parent class hoga and child class parent class ke sare attributes and objects ko access kar sakta hain!\n",
        "#Benifit = Code reusability\n",
        "#Don't violate dry(don't repeat yourselve principle)\n",
        "#ek baar likho bar bar use karo!"
      ]
    },
    {
      "cell_type": "code",
      "execution_count": null,
      "id": "b0903aa3-09d8-4c4d-b975-ca269d0a5565",
      "metadata": {
        "id": "b0903aa3-09d8-4c4d-b975-ca269d0a5565"
      },
      "outputs": [],
      "source": [
        "class User:\n",
        "\n",
        "    def __init__(self):\n",
        "        self.name = \"Raj\"\n",
        "\n",
        "    def login(self):\n",
        "        print(\"Login\")\n",
        "\n",
        "class Student(User):\n",
        "\n",
        "    # def __init__(self):\n",
        "    #     self.rollNo = 2317061\n",
        "\n",
        "    def enroll(self):\n",
        "        print(\"Tumhara bhi catega!\")\n"
      ]
    },
    {
      "cell_type": "code",
      "execution_count": null,
      "id": "6c03b71f-802f-4d10-b40b-01256965ed5d",
      "metadata": {
        "id": "6c03b71f-802f-4d10-b40b-01256965ed5d"
      },
      "outputs": [],
      "source": [
        "u = User()\n",
        "s = Student()"
      ]
    },
    {
      "cell_type": "code",
      "execution_count": null,
      "id": "fe414a4b-88aa-46d1-be8d-3e0315242874",
      "metadata": {
        "id": "fe414a4b-88aa-46d1-be8d-3e0315242874",
        "outputId": "7efb428e-9087-47cb-d1ed-233f362ebe87"
      },
      "outputs": [
        {
          "data": {
            "text/plain": [
              "'Raj'"
            ]
          },
          "execution_count": 97,
          "metadata": {},
          "output_type": "execute_result"
        }
      ],
      "source": [
        "s.name"
      ]
    },
    {
      "cell_type": "code",
      "execution_count": null,
      "id": "418e900a-7823-440e-aa36-92959cf51ca8",
      "metadata": {
        "id": "418e900a-7823-440e-aa36-92959cf51ca8"
      },
      "outputs": [],
      "source": [
        "# Why above error:\n",
        "# jab child class ka object banta hain to automatically constructor execute hota hain.to is case me bhi constructor execute hua.\n",
        "# jab s.name execute karne ja rahin to vo apne costructor mr dhundh raha hain ,ha bhai kaha hain name jo use nahi mila ,use error diya\n",
        "\n",
        "# jab child ka constructor execute hoga to vo parent ka dekhega bhi nahi agar uska constructor hain hi nahi tabhi vo papa ka constructor dekhega"
      ]
    },
    {
      "cell_type": "code",
      "execution_count": null,
      "id": "b6d8700e-de87-4595-96e0-f1b1911e58ae",
      "metadata": {
        "id": "b6d8700e-de87-4595-96e0-f1b1911e58ae",
        "outputId": "93f871ff-f746-4fb0-9857-ecc6a45004db"
      },
      "outputs": [
        {
          "name": "stdout",
          "output_type": "stream",
          "text": [
            "Login\n"
          ]
        }
      ],
      "source": [
        "s.login()"
      ]
    },
    {
      "cell_type": "code",
      "execution_count": null,
      "id": "77aca82d-aa13-42fc-9538-9c5baa510bde",
      "metadata": {
        "id": "77aca82d-aa13-42fc-9538-9c5baa510bde"
      },
      "outputs": [],
      "source": [
        "# s.rollNo"
      ]
    },
    {
      "cell_type": "code",
      "execution_count": null,
      "id": "bea95528-0ef8-469d-8ac9-5a8d647f5900",
      "metadata": {
        "id": "bea95528-0ef8-469d-8ac9-5a8d647f5900",
        "outputId": "46ea08f5-869c-4bf5-99f0-6bc4b0568ae0"
      },
      "outputs": [
        {
          "name": "stdout",
          "output_type": "stream",
          "text": [
            "Tumhara bhi catega!\n"
          ]
        }
      ],
      "source": [
        "s.enroll()"
      ]
    },
    {
      "cell_type": "code",
      "execution_count": null,
      "id": "900cef0c-7001-4e5c-913b-b9030208567c",
      "metadata": {
        "id": "900cef0c-7001-4e5c-913b-b9030208567c"
      },
      "outputs": [],
      "source": []
    },
    {
      "cell_type": "code",
      "execution_count": null,
      "id": "866acf60-e3d6-4c2d-8475-c7e9c7239d8d",
      "metadata": {
        "id": "866acf60-e3d6-4c2d-8475-c7e9c7239d8d"
      },
      "outputs": [],
      "source": [
        "# Inheritance and it's benefits"
      ]
    },
    {
      "cell_type": "code",
      "execution_count": null,
      "id": "1474e792-6a81-4486-b75d-fc70849b3cb9",
      "metadata": {
        "id": "1474e792-6a81-4486-b75d-fc70849b3cb9",
        "outputId": "306c1e30-3262-4c37-a4aa-4354b458ce25"
      },
      "outputs": [
        {
          "name": "stdout",
          "output_type": "stream",
          "text": [
            "login\n",
            "enroll into the course\n"
          ]
        }
      ],
      "source": [
        "# Example\n",
        "\n",
        "# parent\n",
        "class User:\n",
        "\n",
        "  def __init__(self):\n",
        "    self.name = 'nitish'\n",
        "    self.gender = 'male'\n",
        "\n",
        "  def login(self):\n",
        "    print('login')\n",
        "\n",
        "# child\n",
        "class Student(User):\n",
        "\n",
        "  def __init__(self):\n",
        "    self.rollno = 100\n",
        "\n",
        "  def enroll(self):\n",
        "    print('enroll into the course')\n",
        "\n",
        "u = User()\n",
        "s = Student()\n",
        "\n",
        "# print(s.name) # Kyunki u ka constructor call hi nahi hua\n",
        "s.login()\n",
        "s.enroll()"
      ]
    },
    {
      "cell_type": "code",
      "execution_count": null,
      "id": "5f5ec894-60b4-43f1-8a83-b42cd9b5cd88",
      "metadata": {
        "id": "5f5ec894-60b4-43f1-8a83-b42cd9b5cd88"
      },
      "outputs": [],
      "source": [
        "# Class diagram"
      ]
    },
    {
      "cell_type": "code",
      "execution_count": null,
      "id": "8ffb17b4-dc17-4f86-904b-38332ab7053e",
      "metadata": {
        "id": "8ffb17b4-dc17-4f86-904b-38332ab7053e"
      },
      "outputs": [],
      "source": []
    },
    {
      "cell_type": "code",
      "execution_count": null,
      "id": "38603027-5ac7-4ec1-95e2-eba65d938272",
      "metadata": {
        "id": "38603027-5ac7-4ec1-95e2-eba65d938272"
      },
      "outputs": [],
      "source": []
    },
    {
      "cell_type": "code",
      "execution_count": null,
      "id": "c993c324-1884-4eb7-98ed-d593237155d7",
      "metadata": {
        "id": "c993c324-1884-4eb7-98ed-d593237155d7"
      },
      "outputs": [],
      "source": []
    },
    {
      "cell_type": "code",
      "execution_count": null,
      "id": "54f57ed7-bf0a-476c-b21c-098efbb8cff3",
      "metadata": {
        "id": "54f57ed7-bf0a-476c-b21c-098efbb8cff3"
      },
      "outputs": [],
      "source": []
    },
    {
      "cell_type": "code",
      "execution_count": null,
      "id": "588b3074-8a8a-41c3-9311-8542178586eb",
      "metadata": {
        "id": "588b3074-8a8a-41c3-9311-8542178586eb"
      },
      "outputs": [],
      "source": []
    },
    {
      "cell_type": "code",
      "execution_count": null,
      "id": "f60add3c-b1a5-4be4-a294-badf3d3d84fb",
      "metadata": {
        "id": "f60add3c-b1a5-4be4-a294-badf3d3d84fb"
      },
      "outputs": [],
      "source": []
    },
    {
      "cell_type": "code",
      "execution_count": null,
      "id": "39b84391-e91a-40be-b44a-78f982217c69",
      "metadata": {
        "id": "39b84391-e91a-40be-b44a-78f982217c69"
      },
      "outputs": [],
      "source": []
    },
    {
      "cell_type": "code",
      "execution_count": null,
      "id": "e711476a-98ba-41a8-81ee-115ad35ca25a",
      "metadata": {
        "id": "e711476a-98ba-41a8-81ee-115ad35ca25a"
      },
      "outputs": [],
      "source": [
        "##Whats are inherited?"
      ]
    },
    {
      "cell_type": "code",
      "execution_count": null,
      "id": "f054a5ef-38eb-4b56-b42d-9d2ef38924af",
      "metadata": {
        "id": "f054a5ef-38eb-4b56-b42d-9d2ef38924af"
      },
      "outputs": [],
      "source": [
        "\n",
        "# - Constructor\n",
        "# - Non Private Attributes\n",
        "# - Non Private Methods"
      ]
    },
    {
      "cell_type": "code",
      "execution_count": null,
      "id": "b63a562e-fde5-4f71-8003-1cf938ca5045",
      "metadata": {
        "id": "b63a562e-fde5-4f71-8003-1cf938ca5045"
      },
      "outputs": [],
      "source": [
        "# 1]constructor\n",
        "\n",
        "# 1.agar child ke padd khud ka constructor nahi hain to parent ka constructor call hoga\n",
        "# 2.agar child ka constructor hain to parent ka call hoga bhi nahi , agar call nahi hua to uske under ke varaibles initialize hi nahi honge,\n",
        "# agar initialize hi nahi huye to child class unhe access nahi kar sakta\n",
        "#3.Can't acces private members(attributes/methods) of parent class"
      ]
    },
    {
      "cell_type": "code",
      "execution_count": null,
      "id": "38b81796-f022-4d47-9945-eb518f4b004b",
      "metadata": {
        "id": "38b81796-f022-4d47-9945-eb518f4b004b",
        "outputId": "767f1b6a-d246-41db-8b50-47899ad184c2"
      },
      "outputs": [
        {
          "name": "stdout",
          "output_type": "stream",
          "text": [
            "Inside phone constructor\n",
            "Buying a phone\n"
          ]
        }
      ],
      "source": [
        "# constructor example\n",
        "\n",
        "class Phone:\n",
        "    def __init__(self, price, brand, camera):\n",
        "        print (\"Inside phone constructor\")\n",
        "        self.price = price\n",
        "        self.brand = brand\n",
        "        self.camera = camera\n",
        "\n",
        "    def buy(self):\n",
        "        print (\"Buying a phone\")\n",
        "\n",
        "class SmartPhone(Phone):\n",
        "    pass\n",
        "\n",
        "s=SmartPhone(20000, \"Apple\", 13)\n",
        "s.buy()"
      ]
    },
    {
      "cell_type": "code",
      "execution_count": null,
      "id": "1f8cd2b3-614d-4bfa-884e-1172ae8fe194",
      "metadata": {
        "id": "1f8cd2b3-614d-4bfa-884e-1172ae8fe194",
        "outputId": "c3570ef9-cf18-4c23-d080-397a2e0dbbab"
      },
      "outputs": [
        {
          "name": "stdout",
          "output_type": "stream",
          "text": [
            "Inside SmartPhone constructor\n"
          ]
        },
        {
          "ename": "AttributeError",
          "evalue": "'SmartPhone' object has no attribute 'brand'",
          "output_type": "error",
          "traceback": [
            "\u001b[1;31m---------------------------------------------------------------------------\u001b[0m",
            "\u001b[1;31mAttributeError\u001b[0m                            Traceback (most recent call last)",
            "Cell \u001b[1;32mIn[8], line 17\u001b[0m\n\u001b[0;32m     14\u001b[0m         \u001b[38;5;28mprint\u001b[39m (\u001b[38;5;124m\"\u001b[39m\u001b[38;5;124mInside SmartPhone constructor\u001b[39m\u001b[38;5;124m\"\u001b[39m)\n\u001b[0;32m     16\u001b[0m s\u001b[38;5;241m=\u001b[39mSmartPhone(\u001b[38;5;124m\"\u001b[39m\u001b[38;5;124mAndroid\u001b[39m\u001b[38;5;124m\"\u001b[39m, \u001b[38;5;241m2\u001b[39m)\n\u001b[1;32m---> 17\u001b[0m s\u001b[38;5;241m.\u001b[39mbrand\n",
            "\u001b[1;31mAttributeError\u001b[0m: 'SmartPhone' object has no attribute 'brand'"
          ]
        }
      ],
      "source": [
        "# constructor example 2\n",
        "\n",
        "class Phone:\n",
        "    def __init__(self, price, brand, camera):\n",
        "        print (\"Inside phone constructor\")\n",
        "        self.__price = price\n",
        "        self.brand = brand\n",
        "        self.camera = camera\n",
        "\n",
        "class SmartPhone(Phone):\n",
        "    def __init__(self, os, ram):\n",
        "        self.os = os\n",
        "        self.ram = ram\n",
        "        print (\"Inside SmartPhone constructor\")\n",
        "\n",
        "s=SmartPhone(\"Android\", 2)\n",
        "s.brand"
      ]
    },
    {
      "cell_type": "code",
      "execution_count": null,
      "id": "3a7fcaa6-4222-4c9f-a2e5-c7edc0cb8150",
      "metadata": {
        "id": "3a7fcaa6-4222-4c9f-a2e5-c7edc0cb8150",
        "outputId": "6d2773f9-ee3e-4cef-831b-433d6aa4ec8a"
      },
      "outputs": [
        {
          "name": "stdout",
          "output_type": "stream",
          "text": [
            "Inside phone constructor\n",
            "20000\n"
          ]
        }
      ],
      "source": [
        "# child can't access private members of the class\n",
        "\n",
        "class Phone:\n",
        "    def __init__(self, price, brand, camera):\n",
        "        print (\"Inside phone constructor\")\n",
        "        self.__price = price\n",
        "        self.brand = brand\n",
        "        self.camera = camera\n",
        "\n",
        "    #getter\n",
        "    def show(self):\n",
        "        print (self.__price)\n",
        "\n",
        "class SmartPhone(Phone):\n",
        "    def check(self):\n",
        "        print(self.__price)\n",
        "\n",
        "s=SmartPhone(20000, \"Apple\", 13)\n",
        "s.show()"
      ]
    },
    {
      "cell_type": "code",
      "execution_count": null,
      "id": "51c83893-b7e1-426f-b476-dd8fa4e6c191",
      "metadata": {
        "id": "51c83893-b7e1-426f-b476-dd8fa4e6c191",
        "outputId": "5124d648-5d0e-46d8-dea3-0307de928ef5"
      },
      "outputs": [
        {
          "name": "stdout",
          "output_type": "stream",
          "text": [
            "100\n",
            "This is in child class\n"
          ]
        }
      ],
      "source": [
        "class Parent:\n",
        "\n",
        "    def __init__(self,num):\n",
        "        self.__num=num\n",
        "\n",
        "    def get_num(self):\n",
        "        return self.__num\n",
        "\n",
        "class Child(Parent):\n",
        "\n",
        "    def show(self):\n",
        "        print(\"This is in child class\")\n",
        "\n",
        "son=Child(100)\n",
        "print(son.get_num())\n",
        "son.show()"
      ]
    },
    {
      "cell_type": "code",
      "execution_count": null,
      "id": "27accfff-28f5-4774-b655-208dc7571e3b",
      "metadata": {
        "id": "27accfff-28f5-4774-b655-208dc7571e3b",
        "outputId": "aa5e95b4-ba02-444f-b995-262cb27ea107"
      },
      "outputs": [
        {
          "ename": "AttributeError",
          "evalue": "'Child' object has no attribute '_Parent__num'",
          "output_type": "error",
          "traceback": [
            "\u001b[1;31m---------------------------------------------------------------------------\u001b[0m",
            "\u001b[1;31mAttributeError\u001b[0m                            Traceback (most recent call last)",
            "Cell \u001b[1;32mIn[11], line 18\u001b[0m\n\u001b[0;32m     15\u001b[0m         \u001b[38;5;28;01mreturn\u001b[39;00m \u001b[38;5;28mself\u001b[39m\u001b[38;5;241m.\u001b[39m__val\n\u001b[0;32m     17\u001b[0m son\u001b[38;5;241m=\u001b[39mChild(\u001b[38;5;241m100\u001b[39m,\u001b[38;5;241m10\u001b[39m)\n\u001b[1;32m---> 18\u001b[0m \u001b[38;5;28mprint\u001b[39m(\u001b[38;5;124m\"\u001b[39m\u001b[38;5;124mParent: Num:\u001b[39m\u001b[38;5;124m\"\u001b[39m,son\u001b[38;5;241m.\u001b[39mget_num())\n\u001b[0;32m     19\u001b[0m \u001b[38;5;28mprint\u001b[39m(\u001b[38;5;124m\"\u001b[39m\u001b[38;5;124mChild: Val:\u001b[39m\u001b[38;5;124m\"\u001b[39m,son\u001b[38;5;241m.\u001b[39mget_val())\n",
            "Cell \u001b[1;32mIn[11], line 7\u001b[0m, in \u001b[0;36mParent.get_num\u001b[1;34m(self)\u001b[0m\n\u001b[0;32m      6\u001b[0m \u001b[38;5;28;01mdef\u001b[39;00m\u001b[38;5;250m \u001b[39m\u001b[38;5;21mget_num\u001b[39m(\u001b[38;5;28mself\u001b[39m):\n\u001b[1;32m----> 7\u001b[0m     \u001b[38;5;28;01mreturn\u001b[39;00m \u001b[38;5;28mself\u001b[39m\u001b[38;5;241m.\u001b[39m__num\n",
            "\u001b[1;31mAttributeError\u001b[0m: 'Child' object has no attribute '_Parent__num'"
          ]
        }
      ],
      "source": [
        "class Parent:\n",
        "\n",
        "    def __init__(self,num):\n",
        "        self.__num=num\n",
        "\n",
        "    def get_num(self):\n",
        "        return self.__num\n",
        "\n",
        "class Child(Parent):\n",
        "\n",
        "    def __init__(self,val,num):\n",
        "        self.__val=val\n",
        "\n",
        "    def get_val(self):\n",
        "        return self.__val\n",
        "\n",
        "son=Child(100,10)\n",
        "print(\"Parent: Num:\",son.get_num())\n",
        "print(\"Child: Val:\",son.get_val())"
      ]
    },
    {
      "cell_type": "code",
      "execution_count": null,
      "id": "7d41fe81-f2f8-4229-ae20-c324b0ae4f2d",
      "metadata": {
        "id": "7d41fe81-f2f8-4229-ae20-c324b0ae4f2d",
        "outputId": "a0827bec-b048-46fc-a683-b29a22d69664"
      },
      "outputs": [
        {
          "name": "stdout",
          "output_type": "stream",
          "text": [
            "class A : 100\n"
          ]
        }
      ],
      "source": [
        "class A:\n",
        "    def __init__(self):\n",
        "        self.var1=100\n",
        "\n",
        "    def display1(self,var1):\n",
        "        print(\"class A :\", self.var1)\n",
        "class B(A):\n",
        "\n",
        "    def display2(self,var1):\n",
        "        print(\"class B :\", self.var1)\n",
        "\n",
        "obj=B()\n",
        "obj.display1(200)"
      ]
    },
    {
      "cell_type": "code",
      "execution_count": null,
      "id": "4f2a0c09-0039-402c-a020-cd6ba394eeb8",
      "metadata": {
        "id": "4f2a0c09-0039-402c-a020-cd6ba394eeb8"
      },
      "outputs": [],
      "source": []
    },
    {
      "cell_type": "markdown",
      "id": "f4a2cae6-e9cd-4bee-a03c-0d6095e67766",
      "metadata": {
        "id": "f4a2cae6-e9cd-4bee-a03c-0d6095e67766"
      },
      "source": [
        "## Method Overloading"
      ]
    },
    {
      "cell_type": "code",
      "execution_count": null,
      "id": "fb5eeddf-dd91-4da8-8def-c559d5f9d43f",
      "metadata": {
        "id": "fb5eeddf-dd91-4da8-8def-c559d5f9d43f"
      },
      "outputs": [],
      "source": [
        "#If in both parent and child class contain method with same name then child class method will execute that's known as method overloading"
      ]
    },
    {
      "cell_type": "code",
      "execution_count": null,
      "id": "9d00a22e-2438-46ad-a032-1d1c2daf60ed",
      "metadata": {
        "id": "9d00a22e-2438-46ad-a032-1d1c2daf60ed",
        "outputId": "cf0ab594-6346-49f7-f3d8-54c0e17a9f29"
      },
      "outputs": [
        {
          "name": "stdout",
          "output_type": "stream",
          "text": [
            "Inside phone constructor\n",
            "Buying a smartphone\n"
          ]
        }
      ],
      "source": [
        "# Method Overriding\n",
        "class Phone:\n",
        "    def __init__(self, price, brand, camera):\n",
        "        print (\"Inside phone constructor\")\n",
        "        self.__price = price\n",
        "        self.brand = brand\n",
        "        self.camera = camera\n",
        "\n",
        "    def buy(self):\n",
        "        print (\"Buying a phone\")\n",
        "\n",
        "class SmartPhone(Phone):\n",
        "    def buy(self):\n",
        "        print (\"Buying a smartphone\")\n",
        "\n",
        "s=SmartPhone(20000, \"Apple\", 13)\n",
        "\n",
        "s.buy()"
      ]
    },
    {
      "cell_type": "code",
      "execution_count": null,
      "id": "69850bdd-9231-4eab-a6f7-0227648153a1",
      "metadata": {
        "id": "69850bdd-9231-4eab-a6f7-0227648153a1"
      },
      "outputs": [],
      "source": []
    },
    {
      "cell_type": "markdown",
      "id": "31d3f97f-4ff6-4592-9905-a2377be6713c",
      "metadata": {
        "id": "31d3f97f-4ff6-4592-9905-a2377be6713c"
      },
      "source": [
        "## Super Keyword"
      ]
    },
    {
      "cell_type": "code",
      "execution_count": null,
      "id": "32e32842-2215-4d3e-a45f-48d3a3d8741f",
      "metadata": {
        "id": "32e32842-2215-4d3e-a45f-48d3a3d8741f"
      },
      "outputs": [],
      "source": [
        "# 1) self,2)static 3)super -> most imp words in python\n",
        "\n",
        "# #super() is the way to access parenet ke methods\n",
        "# super() is always written inside the class specially child class -> bahar se call nahi hoga\n",
        "# super can't access sttributes"
      ]
    },
    {
      "cell_type": "code",
      "execution_count": null,
      "id": "89d8559a-6e70-447e-97df-d04fa6d7698a",
      "metadata": {
        "id": "89d8559a-6e70-447e-97df-d04fa6d7698a",
        "outputId": "0ed44d34-4841-456d-c1dd-e2d9f7ae25c6"
      },
      "outputs": [
        {
          "name": "stdout",
          "output_type": "stream",
          "text": [
            "Inside phone constructor\n",
            "Buying a smartphone\n",
            "Buying a phone\n"
          ]
        }
      ],
      "source": [
        "class Phone:\n",
        "    def __init__(self, price, brand, camera):\n",
        "        print (\"Inside phone constructor\")\n",
        "        self.__price = price\n",
        "        self.brand = brand\n",
        "        self.camera = camera\n",
        "\n",
        "    def buy(self):\n",
        "        print (\"Buying a phone\")\n",
        "\n",
        "class SmartPhone(Phone):\n",
        "    def buy(self):\n",
        "        print (\"Buying a smartphone\")\n",
        "        # syntax to call parent ka buy method\n",
        "        super().buy()\n",
        "\n",
        "s=SmartPhone(20000, \"Apple\", 13)\n",
        "\n",
        "s.buy()"
      ]
    },
    {
      "cell_type": "code",
      "execution_count": null,
      "id": "97c8411b-b840-40bb-9b1a-df3dd40de509",
      "metadata": {
        "id": "97c8411b-b840-40bb-9b1a-df3dd40de509",
        "outputId": "f1aa6829-b556-4a41-ec9f-cae3b72f8344"
      },
      "outputs": [
        {
          "name": "stdout",
          "output_type": "stream",
          "text": [
            "Inside phone constructor\n",
            "Buying a smartphone\n",
            "Buying a phone\n"
          ]
        }
      ],
      "source": [
        "# using super outside the class\n",
        "class Phone:\n",
        "    def __init__(self, price, brand, camera):\n",
        "        print (\"Inside phone constructor\")\n",
        "        self.__price = price\n",
        "        self.brand = brand\n",
        "        self.camera = camera\n",
        "\n",
        "    def buy(self):\n",
        "        print (\"Buying a phone\")\n",
        "\n",
        "class SmartPhone(Phone):\n",
        "    def buy(self):\n",
        "        print (\"Buying a smartphone\")\n",
        "        # syntax to call parent ka buy method\n",
        "        super().buy()\n",
        "\n",
        "s=SmartPhone(20000, \"Apple\", 13)\n",
        "\n",
        "s.buy()"
      ]
    },
    {
      "cell_type": "code",
      "execution_count": null,
      "id": "db379b00-3305-4452-8af8-bfada616d14f",
      "metadata": {
        "id": "db379b00-3305-4452-8af8-bfada616d14f",
        "outputId": "b085f502-feaf-411f-f4f8-62cc0289cbfc"
      },
      "outputs": [
        {
          "name": "stdout",
          "output_type": "stream",
          "text": [
            "Inside phone constructor\n",
            "Buying a smartphone\n"
          ]
        },
        {
          "ename": "AttributeError",
          "evalue": "'super' object has no attribute 'brand'",
          "output_type": "error",
          "traceback": [
            "\u001b[1;31m---------------------------------------------------------------------------\u001b[0m",
            "\u001b[1;31mAttributeError\u001b[0m                            Traceback (most recent call last)",
            "Cell \u001b[1;32mIn[18], line 21\u001b[0m\n\u001b[0;32m     17\u001b[0m         \u001b[38;5;28mprint\u001b[39m(\u001b[38;5;28msuper\u001b[39m()\u001b[38;5;241m.\u001b[39mbrand)\n\u001b[0;32m     19\u001b[0m s\u001b[38;5;241m=\u001b[39mSmartPhone(\u001b[38;5;241m20000\u001b[39m, \u001b[38;5;124m\"\u001b[39m\u001b[38;5;124mApple\u001b[39m\u001b[38;5;124m\"\u001b[39m, \u001b[38;5;241m13\u001b[39m)\n\u001b[1;32m---> 21\u001b[0m s\u001b[38;5;241m.\u001b[39mbuy()\n",
            "Cell \u001b[1;32mIn[18], line 17\u001b[0m, in \u001b[0;36mSmartPhone.buy\u001b[1;34m(self)\u001b[0m\n\u001b[0;32m     15\u001b[0m \u001b[38;5;28mprint\u001b[39m (\u001b[38;5;124m\"\u001b[39m\u001b[38;5;124mBuying a smartphone\u001b[39m\u001b[38;5;124m\"\u001b[39m)\n\u001b[0;32m     16\u001b[0m \u001b[38;5;66;03m# syntax to call parent ka buy method\u001b[39;00m\n\u001b[1;32m---> 17\u001b[0m \u001b[38;5;28mprint\u001b[39m(\u001b[38;5;28msuper\u001b[39m()\u001b[38;5;241m.\u001b[39mbrand)\n",
            "\u001b[1;31mAttributeError\u001b[0m: 'super' object has no attribute 'brand'"
          ]
        }
      ],
      "source": [
        "# can super access parent ka data?\n",
        "# using super outside the class\n",
        "class Phone:\n",
        "    def __init__(self, price, brand, camera):\n",
        "        print (\"Inside phone constructor\")\n",
        "        self.__price = price\n",
        "        self.brand = brand\n",
        "        self.camera = camera\n",
        "\n",
        "    def buy(self):\n",
        "        print (\"Buying a phone\")\n",
        "\n",
        "class SmartPhone(Phone):\n",
        "    def buy(self):\n",
        "        print (\"Buying a smartphone\")\n",
        "        # syntax to call parent ka buy method\n",
        "        print(super().brand)\n",
        "\n",
        "s=SmartPhone(20000, \"Apple\", 13)\n",
        "\n",
        "s.buy()"
      ]
    },
    {
      "cell_type": "code",
      "execution_count": null,
      "id": "a5a96fed-2470-4035-ba04-441873c5e73f",
      "metadata": {
        "id": "a5a96fed-2470-4035-ba04-441873c5e73f",
        "outputId": "cdab6b14-a615-40d2-ef71-d0e47369951c"
      },
      "outputs": [
        {
          "name": "stdout",
          "output_type": "stream",
          "text": [
            "Inside smartphone constructor\n",
            "Inside phone constructor\n",
            "Inside smartphone constructor\n",
            "Android\n",
            "Samsung\n"
          ]
        }
      ],
      "source": [
        "# super -> constuctor\n",
        "class Phone:\n",
        "    def __init__(self, price, brand, camera):\n",
        "        print (\"Inside phone constructor\")\n",
        "        self.__price = price\n",
        "        self.brand = brand\n",
        "        self.camera = camera\n",
        "\n",
        "class SmartPhone(Phone):\n",
        "    def __init__(self, price, brand, camera, os, ram):\n",
        "        print('Inside smartphone constructor')\n",
        "        super().__init__(price, brand, camera)\n",
        "        self.os = os\n",
        "        self.ram = ram\n",
        "        print (\"Inside smartphone constructor\")\n",
        "\n",
        "s=SmartPhone(20000, \"Samsung\", 12, \"Android\", 2)\n",
        "\n",
        "print(s.os)\n",
        "print(s.brand)"
      ]
    },
    {
      "cell_type": "code",
      "execution_count": null,
      "id": "f53652c4-9658-4f77-b8a8-3e21eadf4a4b",
      "metadata": {
        "id": "f53652c4-9658-4f77-b8a8-3e21eadf4a4b"
      },
      "outputs": [],
      "source": []
    },
    {
      "cell_type": "code",
      "execution_count": null,
      "id": "ba7d04f5-207f-4965-a5ee-21f7eb8fd09f",
      "metadata": {
        "id": "ba7d04f5-207f-4965-a5ee-21f7eb8fd09f"
      },
      "outputs": [],
      "source": [
        "# ##### Inheritance in summary\n",
        "\n",
        "# - A class can inherit from another class.\n",
        "\n",
        "# - Inheritance improves code reuse\n",
        "\n",
        "# - Constructor, attributes, methods get inherited to the child class\n",
        "\n",
        "# - The parent has no access to the child class\n",
        "\n",
        "# - Private properties of parent are not accessible directly in child class\n",
        "\n",
        "# - Child class can override the attributes or methods. This is called method overriding\n",
        "\n",
        "# - super() is an inbuilt function which is used to invoke the parent class methods and constructor"
      ]
    },
    {
      "cell_type": "code",
      "execution_count": null,
      "id": "dca057d4-dc08-4569-b6a5-1d7b3999c733",
      "metadata": {
        "id": "dca057d4-dc08-4569-b6a5-1d7b3999c733"
      },
      "outputs": [],
      "source": [
        "#Exampales"
      ]
    },
    {
      "cell_type": "code",
      "execution_count": null,
      "id": "eff7cc5b-f91b-4dbd-a789-df101a970e82",
      "metadata": {
        "id": "eff7cc5b-f91b-4dbd-a789-df101a970e82",
        "outputId": "c3ac577b-83f4-4afd-c5ab-04b77183ac57"
      },
      "outputs": [
        {
          "name": "stdout",
          "output_type": "stream",
          "text": [
            "100\n",
            "200\n"
          ]
        }
      ],
      "source": [
        "class Parent:\n",
        "\n",
        "    def __init__(self,num):\n",
        "      self.__num=num\n",
        "\n",
        "    def get_num(self):\n",
        "      return self.__num\n",
        "\n",
        "class Child(Parent):\n",
        "\n",
        "    def __init__(self,num,val):\n",
        "      super().__init__(num)\n",
        "      self.__val=val\n",
        "\n",
        "    def get_val(self):\n",
        "      return self.__val\n",
        "\n",
        "son=Child(100,200)\n",
        "print(son.get_num())\n",
        "print(son.get_val())"
      ]
    },
    {
      "cell_type": "code",
      "execution_count": null,
      "id": "9c9b23d8-76e9-4e45-8dbb-b2d17d29c930",
      "metadata": {
        "id": "9c9b23d8-76e9-4e45-8dbb-b2d17d29c930",
        "outputId": "add989ec-42d5-43a3-d8f8-6025b71bf1f1"
      },
      "outputs": [
        {
          "name": "stdout",
          "output_type": "stream",
          "text": [
            "100\n",
            "200\n"
          ]
        }
      ],
      "source": [
        "class Parent:\n",
        "    def __init__(self):\n",
        "        self.num=100\n",
        "\n",
        "class Child(Parent):\n",
        "\n",
        "    def __init__(self):\n",
        "        super().__init__()\n",
        "        self.var=200\n",
        "\n",
        "    def show(self):\n",
        "        print(self.num)\n",
        "        print(self.var)\n",
        "\n",
        "son=Child()\n",
        "son.show()"
      ]
    },
    {
      "cell_type": "code",
      "execution_count": null,
      "id": "9da0d0de-0429-4e93-b199-429834c92f5c",
      "metadata": {
        "id": "9da0d0de-0429-4e93-b199-429834c92f5c",
        "outputId": "a12431ed-e974-413b-d31f-6440a8d899d2"
      },
      "outputs": [
        {
          "name": "stdout",
          "output_type": "stream",
          "text": [
            "Child: 10\n"
          ]
        }
      ],
      "source": [
        "class Parent:\n",
        "    def __init__(self):\n",
        "        self.__num=100\n",
        "\n",
        "    def show(self):\n",
        "        print(\"Parent:\",self.__num)\n",
        "\n",
        "class Child(Parent):\n",
        "    def __init__(self):\n",
        "        super().__init__()\n",
        "        self.__var=10\n",
        "\n",
        "    def show(self):\n",
        "        print(\"Child:\",self.__var)\n",
        "\n",
        "obj=Child()\n",
        "obj.show()"
      ]
    },
    {
      "cell_type": "code",
      "execution_count": null,
      "id": "ddd897eb-68f3-44d4-a76b-d6b8fe565e15",
      "metadata": {
        "id": "ddd897eb-68f3-44d4-a76b-d6b8fe565e15",
        "outputId": "ae17b20e-fa8a-499d-dba0-7398a3c0d8c0"
      },
      "outputs": [
        {
          "name": "stdout",
          "output_type": "stream",
          "text": [
            "Child: 10\n"
          ]
        }
      ],
      "source": [
        "class Parent:\n",
        "    def __init__(self):\n",
        "        self.__num=100\n",
        "\n",
        "    def show(self):\n",
        "        print(\"Parent:\",self.__num)\n",
        "\n",
        "class Child(Parent):\n",
        "    def __init__(self):\n",
        "        super().__init__()\n",
        "        self.__var=10\n",
        "\n",
        "    def show(self):\n",
        "        print(\"Child:\",self.__var)\n",
        "\n",
        "obj=Child()\n",
        "obj.show()"
      ]
    },
    {
      "cell_type": "code",
      "execution_count": null,
      "id": "d4a6afb4-cef3-4c3b-9e98-d15409f4db1c",
      "metadata": {
        "id": "d4a6afb4-cef3-4c3b-9e98-d15409f4db1c"
      },
      "outputs": [],
      "source": []
    },
    {
      "cell_type": "code",
      "execution_count": null,
      "id": "edfdf4d2-1dff-46ca-b08b-8803ea6c1a00",
      "metadata": {
        "id": "edfdf4d2-1dff-46ca-b08b-8803ea6c1a00"
      },
      "outputs": [],
      "source": [
        "# # Types of Inheritance\n",
        "\n",
        "# - Single Inheritance\n",
        "# - Multilevel Inheritance\n",
        "# - Hierarchical Inheritance\n",
        "# - Multiple Inheritance(Diamond Problem)\n",
        "# - Hybrid Inheritance"
      ]
    },
    {
      "cell_type": "code",
      "execution_count": null,
      "id": "5c1a8965-3d49-4c2b-b8ef-1688c937b57d",
      "metadata": {
        "id": "5c1a8965-3d49-4c2b-b8ef-1688c937b57d",
        "outputId": "69d3549a-6b55-4a99-d8e4-06fb55116310"
      },
      "outputs": [
        {
          "name": "stdout",
          "output_type": "stream",
          "text": [
            "Inside phone constructor\n",
            "Buying a phone\n"
          ]
        }
      ],
      "source": [
        "# single inheritance\n",
        "class Phone:\n",
        "    def __init__(self, price, brand, camera):\n",
        "        print (\"Inside phone constructor\")\n",
        "        self.__price = price\n",
        "        self.brand = brand\n",
        "        self.camera = camera\n",
        "\n",
        "    def buy(self):\n",
        "        print (\"Buying a phone\")\n",
        "\n",
        "class SmartPhone(Phone):\n",
        "    pass\n",
        "\n",
        "SmartPhone(1000,\"Apple\",\"13px\").buy()"
      ]
    },
    {
      "cell_type": "code",
      "execution_count": null,
      "id": "a0edbbb3-2b75-4803-a345-e3518cad7d19",
      "metadata": {
        "id": "a0edbbb3-2b75-4803-a345-e3518cad7d19",
        "outputId": "42d74228-9f92-4298-8b61-c41e39dbe581"
      },
      "outputs": [
        {
          "name": "stdout",
          "output_type": "stream",
          "text": [
            "Inside phone constructor\n",
            "Buying a phone\n",
            "Product customer review\n"
          ]
        }
      ],
      "source": [
        "# multilevel\n",
        "class Product:\n",
        "    def review(self):\n",
        "        print (\"Product customer review\")\n",
        "\n",
        "class Phone(Product):\n",
        "    def __init__(self, price, brand, camera):\n",
        "        print (\"Inside phone constructor\")\n",
        "        self.__price = price\n",
        "        self.brand = brand\n",
        "        self.camera = camera\n",
        "\n",
        "    def buy(self):\n",
        "        print (\"Buying a phone\")\n",
        "\n",
        "class SmartPhone(Phone):\n",
        "    pass\n",
        "\n",
        "s=SmartPhone(20000, \"Apple\", 12)\n",
        "\n",
        "s.buy()\n",
        "s.review()"
      ]
    },
    {
      "cell_type": "code",
      "execution_count": null,
      "id": "2074f3b4-da75-4b3c-8360-b02439ed733b",
      "metadata": {
        "id": "2074f3b4-da75-4b3c-8360-b02439ed733b",
        "outputId": "dcfa7743-a710-4089-aa4b-734398d60bdc"
      },
      "outputs": [
        {
          "name": "stdout",
          "output_type": "stream",
          "text": [
            "Inside phone constructor\n",
            "Buying a phone\n",
            "Inside phone constructor\n",
            "Buying a phone\n"
          ]
        }
      ],
      "source": [
        "# Hierarchical\n",
        "class Phone:\n",
        "    def __init__(self, price, brand, camera):\n",
        "        print (\"Inside phone constructor\")\n",
        "        self.__price = price\n",
        "        self.brand = brand\n",
        "        self.camera = camera\n",
        "\n",
        "    def buy(self):\n",
        "        print (\"Buying a phone\")\n",
        "\n",
        "class SmartPhone(Phone):\n",
        "    pass\n",
        "\n",
        "class FeaturePhone(Phone):\n",
        "    pass\n",
        "\n",
        "SmartPhone(1000,\"Apple\",\"13px\").buy()\n",
        "FeaturePhone(10,\"Lava\",\"1px\").buy()"
      ]
    },
    {
      "cell_type": "code",
      "execution_count": null,
      "id": "55cb10d0-ac9e-4600-8f93-31dc88339da3",
      "metadata": {
        "id": "55cb10d0-ac9e-4600-8f93-31dc88339da3",
        "outputId": "d558961f-2bd8-4f86-ba99-fd465375136e"
      },
      "outputs": [
        {
          "name": "stdout",
          "output_type": "stream",
          "text": [
            "Inside phone constructor\n",
            "Buying a phone\n",
            "Customer review\n"
          ]
        }
      ],
      "source": [
        "# Multiple\n",
        "class Phone:\n",
        "    def __init__(self, price, brand, camera):\n",
        "        print (\"Inside phone constructor\")\n",
        "        self.__price = price\n",
        "        self.brand = brand\n",
        "        self.camera = camera\n",
        "\n",
        "    def buy(self):\n",
        "        print (\"Buying a phone\")\n",
        "\n",
        "class Product:\n",
        "    def review(self):\n",
        "        print (\"Customer review\")\n",
        "\n",
        "class SmartPhone(Phone, Product):\n",
        "    pass\n",
        "\n",
        "s=SmartPhone(20000, \"Apple\", 12)\n",
        "\n",
        "s.buy()\n",
        "s.review()\n"
      ]
    },
    {
      "cell_type": "code",
      "execution_count": null,
      "id": "661a3d10-b0a5-4e12-94d8-d3daf34cd011",
      "metadata": {
        "id": "661a3d10-b0a5-4e12-94d8-d3daf34cd011",
        "outputId": "df054900-4108-4508-dd0b-b0ac5c83ac98"
      },
      "outputs": [
        {
          "name": "stdout",
          "output_type": "stream",
          "text": [
            "Inside phone constructor\n",
            "Buying a phone\n"
          ]
        }
      ],
      "source": [
        "# the diamond problem\n",
        "# https://stackoverflow.com/questions/56361048/what-is-the-diamond-problem-in-python-and-why-its-not-appear-in-python2\n",
        "class Phone:\n",
        "    def __init__(self, price, brand, camera):\n",
        "        print (\"Inside phone constructor\")\n",
        "        self.__price = price\n",
        "        self.brand = brand\n",
        "        self.camera = camera\n",
        "\n",
        "    def buy(self):\n",
        "        print (\"Buying a phone\")\n",
        "\n",
        "class Product:\n",
        "    def buy(self):\n",
        "        print (\"Product buy method\")\n",
        "\n",
        "# Method resolution order\n",
        "class SmartPhone(Phone,Product): # jo pehle likha hua hain uska method execute hoga\n",
        "    pass\n",
        "\n",
        "s=SmartPhone(20000, \"Apple\", 12)\n",
        "\n",
        "s.buy()"
      ]
    },
    {
      "cell_type": "code",
      "execution_count": null,
      "id": "40715ff0-0c89-4f99-aa39-dd3cf1d26362",
      "metadata": {
        "id": "40715ff0-0c89-4f99-aa39-dd3cf1d26362",
        "outputId": "289a626f-8ed0-4d55-af1e-79c29ca6023e"
      },
      "outputs": [
        {
          "name": "stdout",
          "output_type": "stream",
          "text": [
            "70\n"
          ]
        }
      ],
      "source": [
        "class A:\n",
        "\n",
        "    def m1(self):\n",
        "        return 20\n",
        "\n",
        "class B(A):\n",
        "\n",
        "    def m1(self):\n",
        "        return 30\n",
        "\n",
        "    def m2(self):\n",
        "        return 40\n",
        "\n",
        "class C(B):\n",
        "\n",
        "    def m2(self):\n",
        "        return 20\n",
        "obj1=A()\n",
        "obj2=B()\n",
        "obj3=C()\n",
        "print(obj1.m1() + obj3.m1()+ obj3.m2())"
      ]
    },
    {
      "cell_type": "code",
      "execution_count": null,
      "id": "aef4ae1e-ef8f-44bb-94e8-d3ca3254189e",
      "metadata": {
        "id": "aef4ae1e-ef8f-44bb-94e8-d3ca3254189e"
      },
      "outputs": [],
      "source": [
        "class A:\n",
        "\n",
        "    def m1(self):\n",
        "        return 20\n",
        "\n",
        "class B(A):\n",
        "\n",
        "    def m1(self):\n",
        "        val=super().m1()+30\n",
        "        return val\n",
        "\n",
        "class C(B):\n",
        "\n",
        "    def m1(self):\n",
        "        val=self.m1()+20\n",
        "        return val\n",
        "obj=C()\n",
        "# print(obj.m1()) recursion hoga"
      ]
    },
    {
      "cell_type": "code",
      "execution_count": null,
      "id": "2e43392d-04e7-4240-b007-28b16f79802a",
      "metadata": {
        "id": "2e43392d-04e7-4240-b007-28b16f79802a"
      },
      "outputs": [],
      "source": []
    },
    {
      "cell_type": "markdown",
      "id": "fe2aee49-66ee-4b8e-9af5-e79f328f6c38",
      "metadata": {
        "id": "fe2aee49-66ee-4b8e-9af5-e79f328f6c38"
      },
      "source": [
        "## Polymorphism"
      ]
    },
    {
      "cell_type": "code",
      "execution_count": null,
      "id": "ff8f63bc-b92e-49e8-97f5-551033263077",
      "metadata": {
        "id": "ff8f63bc-b92e-49e8-97f5-551033263077"
      },
      "outputs": [],
      "source": [
        "# ### Polymorphism\n",
        "\n",
        "# - Method Overriding\n",
        "# - Method Overloading\n",
        "# - Operator Overloading"
      ]
    },
    {
      "cell_type": "code",
      "execution_count": null,
      "id": "d019a62a-f379-43d4-95aa-e1d6feb87bc6",
      "metadata": {
        "id": "d019a62a-f379-43d4-95aa-e1d6feb87bc6",
        "outputId": "d68c9b8d-716b-4855-8a1f-bb9e4bca17d4"
      },
      "outputs": [
        {
          "name": "stdout",
          "output_type": "stream",
          "text": [
            "12.56\n",
            "12\n"
          ]
        }
      ],
      "source": [
        "class Shape:\n",
        "\n",
        "  def area(self,a,b=0):\n",
        "    if b == 0:\n",
        "      return 3.14*a*a\n",
        "    else:\n",
        "      return a*b\n",
        "\n",
        "s = Shape()\n",
        "\n",
        "print(s.area(2))\n",
        "print(s.area(3,4))"
      ]
    },
    {
      "cell_type": "code",
      "execution_count": null,
      "id": "66c13cc5-d945-4be7-a4e4-4c0cac495dc8",
      "metadata": {
        "id": "66c13cc5-d945-4be7-a4e4-4c0cac495dc8",
        "outputId": "b9f29e15-0836-4311-dcc4-8c22295aa237"
      },
      "outputs": [
        {
          "data": {
            "text/plain": [
              "'helloworld'"
            ]
          },
          "execution_count": 37,
          "metadata": {},
          "output_type": "execute_result"
        }
      ],
      "source": [
        "'hello' + 'world'"
      ]
    },
    {
      "cell_type": "code",
      "execution_count": null,
      "id": "6a16a2ca-81a2-4fba-b71e-70abfb58d3b7",
      "metadata": {
        "id": "6a16a2ca-81a2-4fba-b71e-70abfb58d3b7",
        "outputId": "e5ce1994-7e36-4f3b-823d-5a4e8e4c135c"
      },
      "outputs": [
        {
          "data": {
            "text/plain": [
              "9"
            ]
          },
          "execution_count": 38,
          "metadata": {},
          "output_type": "execute_result"
        }
      ],
      "source": [
        "4 + 5"
      ]
    },
    {
      "cell_type": "code",
      "execution_count": null,
      "id": "d1167656-622d-4f6f-823a-979533f9b591",
      "metadata": {
        "id": "d1167656-622d-4f6f-823a-979533f9b591",
        "outputId": "604ad3eb-52d1-4c4b-c876-83b3b75db005"
      },
      "outputs": [
        {
          "data": {
            "text/plain": [
              "[1, 2, 3, 4, 5]"
            ]
          },
          "execution_count": 39,
          "metadata": {},
          "output_type": "execute_result"
        }
      ],
      "source": [
        "[1,2,3] + [4,5]"
      ]
    },
    {
      "cell_type": "code",
      "execution_count": null,
      "id": "166f511c-595b-48b1-ae48-a9616ae454b4",
      "metadata": {
        "id": "166f511c-595b-48b1-ae48-a9616ae454b4"
      },
      "outputs": [],
      "source": []
    },
    {
      "cell_type": "code",
      "execution_count": null,
      "id": "f573dcec-d4ba-4f70-838d-9baed38d9092",
      "metadata": {
        "id": "f573dcec-d4ba-4f70-838d-9baed38d9092"
      },
      "outputs": [],
      "source": [
        "from abc import ABC,abstractmethod\n",
        "class BankApp(ABC):\n",
        "\n",
        "  def database(self):\n",
        "    print('connected to database')\n",
        "\n",
        "  @abstractmethod\n",
        "  def security(self):\n",
        "    pass\n",
        "\n",
        "  @abstractmethod\n",
        "  def display(self):\n",
        "    pass"
      ]
    },
    {
      "cell_type": "code",
      "execution_count": null,
      "id": "bf0ef902-8046-4123-bf4d-bb2af19d0a8b",
      "metadata": {
        "id": "bf0ef902-8046-4123-bf4d-bb2af19d0a8b"
      },
      "outputs": [],
      "source": [
        "class MobileApp(BankApp):\n",
        "\n",
        "  def mobile_login(self):\n",
        "    print('login into mobile')\n",
        "\n",
        "  def security(self):\n",
        "    print('mobile security')\n",
        "\n",
        "  def display(self):\n",
        "    print('display')"
      ]
    },
    {
      "cell_type": "code",
      "execution_count": null,
      "id": "b41cbbda-d7b6-4b66-88fb-980c69805e97",
      "metadata": {
        "id": "b41cbbda-d7b6-4b66-88fb-980c69805e97"
      },
      "outputs": [],
      "source": [
        "mob = MobileApp()"
      ]
    },
    {
      "cell_type": "code",
      "execution_count": null,
      "id": "5baed518-5f82-41b8-8249-913eab61ad3f",
      "metadata": {
        "id": "5baed518-5f82-41b8-8249-913eab61ad3f",
        "outputId": "c55071e2-e70b-4ed5-c998-907e1248a1c7"
      },
      "outputs": [
        {
          "name": "stdout",
          "output_type": "stream",
          "text": [
            "mobile security\n"
          ]
        }
      ],
      "source": [
        "mob.security()"
      ]
    },
    {
      "cell_type": "code",
      "execution_count": null,
      "id": "652651f6-5c33-4ab7-9e5f-b2fa2ecfcd76",
      "metadata": {
        "id": "652651f6-5c33-4ab7-9e5f-b2fa2ecfcd76",
        "outputId": "9dabf984-2dcc-4cdf-fe01-b383ab8369f6"
      },
      "outputs": [
        {
          "ename": "TypeError",
          "evalue": "Can't instantiate abstract class BankApp without an implementation for abstract methods 'display', 'security'",
          "output_type": "error",
          "traceback": [
            "\u001b[1;31m---------------------------------------------------------------------------\u001b[0m",
            "\u001b[1;31mTypeError\u001b[0m                                 Traceback (most recent call last)",
            "Cell \u001b[1;32mIn[44], line 1\u001b[0m\n\u001b[1;32m----> 1\u001b[0m obj \u001b[38;5;241m=\u001b[39m BankApp()\n",
            "\u001b[1;31mTypeError\u001b[0m: Can't instantiate abstract class BankApp without an implementation for abstract methods 'display', 'security'"
          ]
        }
      ],
      "source": [
        "obj = BankApp()"
      ]
    },
    {
      "cell_type": "code",
      "execution_count": null,
      "id": "fa60e9e5-bf35-4360-9eb7-bf4bbcee3454",
      "metadata": {
        "id": "fa60e9e5-bf35-4360-9eb7-bf4bbcee3454"
      },
      "outputs": [],
      "source": []
    }
  ],
  "metadata": {
    "kernelspec": {
      "display_name": "Python 3 (ipykernel)",
      "language": "python",
      "name": "python3"
    },
    "language_info": {
      "codemirror_mode": {
        "name": "ipython",
        "version": 3
      },
      "file_extension": ".py",
      "mimetype": "text/x-python",
      "name": "python",
      "nbconvert_exporter": "python",
      "pygments_lexer": "ipython3",
      "version": "3.13.5"
    },
    "colab": {
      "provenance": [],
      "include_colab_link": true
    }
  },
  "nbformat": 4,
  "nbformat_minor": 5
}