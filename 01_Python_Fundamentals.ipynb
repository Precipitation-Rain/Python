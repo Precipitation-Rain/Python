{
  "nbformat": 4,
  "nbformat_minor": 0,
  "metadata": {
    "colab": {
      "provenance": []
    },
    "kernelspec": {
      "name": "python3",
      "display_name": "Python 3"
    },
    "language_info": {
      "name": "python"
    }
  },
  "cells": [
    {
      "cell_type": "markdown",
      "source": [
        "# Print Functionality\n"
      ],
      "metadata": {
        "id": "1g_NJH2L08_-"
      }
    },
    {
      "cell_type": "code",
      "source": [
        "print('Hello world')"
      ],
      "metadata": {
        "colab": {
          "base_uri": "https://localhost:8080/"
        },
        "id": "--scSrSf1Dkh",
        "outputId": "5873a6f7-cf66-4ba1-bbc0-9842905d3b11"
      },
      "execution_count": null,
      "outputs": [
        {
          "output_type": "stream",
          "name": "stdout",
          "text": [
            "Hello world\n"
          ]
        }
      ]
    },
    {
      "cell_type": "code",
      "source": [
        "print(\"K k menon\")"
      ],
      "metadata": {
        "colab": {
          "base_uri": "https://localhost:8080/"
        },
        "id": "a9g9Ycah1Gtj",
        "outputId": "676249b9-8a8b-4940-a583-ee88cee531d8"
      },
      "execution_count": null,
      "outputs": [
        {
          "output_type": "stream",
          "name": "stdout",
          "text": [
            "K k menon\n"
          ]
        }
      ]
    },
    {
      "cell_type": "code",
      "source": [
        "print(salman khan)"
      ],
      "metadata": {
        "colab": {
          "base_uri": "https://localhost:8080/",
          "height": 106
        },
        "id": "0JcYMdOb1KD9",
        "outputId": "835084c3-ccb9-4d77-efb0-c511a265c5b1"
      },
      "execution_count": null,
      "outputs": [
        {
          "output_type": "error",
          "ename": "SyntaxError",
          "evalue": "invalid syntax. Perhaps you forgot a comma? (ipython-input-1115953987.py, line 1)",
          "traceback": [
            "\u001b[0;36m  File \u001b[0;32m\"/tmp/ipython-input-1115953987.py\"\u001b[0;36m, line \u001b[0;32m1\u001b[0m\n\u001b[0;31m    print(salman khan)\u001b[0m\n\u001b[0m          ^\u001b[0m\n\u001b[0;31mSyntaxError\u001b[0m\u001b[0;31m:\u001b[0m invalid syntax. Perhaps you forgot a comma?\n"
          ]
        }
      ]
    },
    {
      "cell_type": "code",
      "source": [
        "print(7)"
      ],
      "metadata": {
        "colab": {
          "base_uri": "https://localhost:8080/"
        },
        "id": "9iMNEDg71NIZ",
        "outputId": "7a16cf10-2315-4a4f-a4d2-0505ea014136"
      },
      "execution_count": null,
      "outputs": [
        {
          "output_type": "stream",
          "name": "stdout",
          "text": [
            "7\n"
          ]
        }
      ]
    },
    {
      "cell_type": "code",
      "source": [
        "print(7.7)"
      ],
      "metadata": {
        "colab": {
          "base_uri": "https://localhost:8080/"
        },
        "id": "ascvfV5O1O-I",
        "outputId": "50e39500-4e8a-4a2e-fe60-202e216e9d2d"
      },
      "execution_count": null,
      "outputs": [
        {
          "output_type": "stream",
          "name": "stdout",
          "text": [
            "7.7\n"
          ]
        }
      ]
    },
    {
      "cell_type": "code",
      "source": [
        "print(True)"
      ],
      "metadata": {
        "colab": {
          "base_uri": "https://localhost:8080/"
        },
        "id": "wush3Qhp1QVf",
        "outputId": "a070bd3a-e8bb-45cb-edd6-4832349900f5"
      },
      "execution_count": null,
      "outputs": [
        {
          "output_type": "stream",
          "name": "stdout",
          "text": [
            "True\n"
          ]
        }
      ]
    },
    {
      "cell_type": "code",
      "source": [
        "print('Hello',2,4.4,True)"
      ],
      "metadata": {
        "colab": {
          "base_uri": "https://localhost:8080/"
        },
        "id": "sdEVGay81SdD",
        "outputId": "2680eb9e-1657-4b22-bffd-edbab29c9985"
      },
      "execution_count": null,
      "outputs": [
        {
          "output_type": "stream",
          "name": "stdout",
          "text": [
            "Hello 2 4.4 True\n"
          ]
        }
      ]
    },
    {
      "cell_type": "code",
      "source": [
        "print('Hello',2,4.4,True,sep='/')"
      ],
      "metadata": {
        "colab": {
          "base_uri": "https://localhost:8080/"
        },
        "id": "KgGnfQEV2nJT",
        "outputId": "8ba56352-1e79-4dee-c994-824840070261"
      },
      "execution_count": null,
      "outputs": [
        {
          "output_type": "stream",
          "name": "stdout",
          "text": [
            "Hello/2/4.4/True\n"
          ]
        }
      ]
    },
    {
      "cell_type": "code",
      "source": [
        "print('Hello',2,4.4,True,sep=' ')"
      ],
      "metadata": {
        "colab": {
          "base_uri": "https://localhost:8080/"
        },
        "id": "qCpayoyd2xFu",
        "outputId": "f6ac88fb-4654-4ebb-bc24-54d55e84f7dc"
      },
      "execution_count": null,
      "outputs": [
        {
          "output_type": "stream",
          "name": "stdout",
          "text": [
            "Hello 2 4.4 True\n"
          ]
        }
      ]
    },
    {
      "cell_type": "code",
      "source": [
        "print('hello',end=' ')\n",
        "print('World')"
      ],
      "metadata": {
        "colab": {
          "base_uri": "https://localhost:8080/"
        },
        "id": "oN66ViCg225G",
        "outputId": "f2402173-5d1f-4e49-df6b-ebf2c61f5729"
      },
      "execution_count": null,
      "outputs": [
        {
          "output_type": "stream",
          "name": "stdout",
          "text": [
            "hello World\n"
          ]
        }
      ]
    },
    {
      "cell_type": "code",
      "source": [
        "print('hello')\n",
        "print('World')"
      ],
      "metadata": {
        "colab": {
          "base_uri": "https://localhost:8080/",
          "height": 106
        },
        "id": "4J5V17Tc36cV",
        "outputId": "0a4db660-b288-45e2-b7a6-af1ac46fed6f"
      },
      "execution_count": null,
      "outputs": [
        {
          "output_type": "error",
          "ename": "SyntaxError",
          "evalue": "invalid syntax (ipython-input-1208904164.py, line 1)",
          "traceback": [
            "\u001b[0;36m  File \u001b[0;32m\"/tmp/ipython-input-1208904164.py\"\u001b[0;36m, line \u001b[0;32m1\u001b[0m\n\u001b[0;31m    print('hello')print('World')\u001b[0m\n\u001b[0m                  ^\u001b[0m\n\u001b[0;31mSyntaxError\u001b[0m\u001b[0;31m:\u001b[0m invalid syntax\n"
          ]
        }
      ]
    },
    {
      "cell_type": "code",
      "source": [],
      "metadata": {
        "id": "cNamEN3M75JN"
      },
      "execution_count": null,
      "outputs": []
    },
    {
      "cell_type": "markdown",
      "source": [
        "# Data Types(Dtypes)"
      ],
      "metadata": {
        "id": "7_OjjXgd96up"
      }
    },
    {
      "cell_type": "code",
      "source": [
        "# Integer\n",
        "print(8)"
      ],
      "metadata": {
        "colab": {
          "base_uri": "https://localhost:8080/"
        },
        "id": "-2d-cSsV-HLV",
        "outputId": "83eef070-3412-4e94-d3f5-73beefddf26f"
      },
      "execution_count": null,
      "outputs": [
        {
          "output_type": "stream",
          "name": "stdout",
          "text": [
            "8\n"
          ]
        }
      ]
    },
    {
      "cell_type": "code",
      "source": [
        "#Float/Decimal\n",
        "print(8.8)"
      ],
      "metadata": {
        "colab": {
          "base_uri": "https://localhost:8080/"
        },
        "id": "kMRLDVAR-KrU",
        "outputId": "5b7be6cb-e8c3-4354-a674-f72aab6f6d92"
      },
      "execution_count": null,
      "outputs": [
        {
          "output_type": "stream",
          "name": "stdout",
          "text": [
            "8.8\n"
          ]
        }
      ]
    },
    {
      "cell_type": "code",
      "source": [
        "#String/Text\n",
        "print(\"Hello World\")"
      ],
      "metadata": {
        "colab": {
          "base_uri": "https://localhost:8080/"
        },
        "id": "iwl2lUGj-OmG",
        "outputId": "1430936e-d981-416e-db2e-b2b339680cc6"
      },
      "execution_count": null,
      "outputs": [
        {
          "output_type": "stream",
          "name": "stdout",
          "text": [
            "Hello World\n"
          ]
        }
      ]
    },
    {
      "cell_type": "code",
      "source": [
        "#Boolean\n",
        "print(True)\n",
        "print(False)"
      ],
      "metadata": {
        "colab": {
          "base_uri": "https://localhost:8080/"
        },
        "id": "9Zc37gfg-TQr",
        "outputId": "0be8c598-9a0f-4db7-fd86-d701fa357f94"
      },
      "execution_count": null,
      "outputs": [
        {
          "output_type": "stream",
          "name": "stdout",
          "text": [
            "True\n",
            "False\n"
          ]
        }
      ]
    },
    {
      "cell_type": "code",
      "source": [
        "#Complex\n",
        "print(3+4j)"
      ],
      "metadata": {
        "colab": {
          "base_uri": "https://localhost:8080/"
        },
        "id": "5Nyxvdqz-XdY",
        "outputId": "e1be9e97-84b2-4b85-ccc1-33e6976a5b43"
      },
      "execution_count": null,
      "outputs": [
        {
          "output_type": "stream",
          "name": "stdout",
          "text": [
            "(3+4j)\n"
          ]
        }
      ]
    },
    {
      "cell_type": "code",
      "source": [
        "#List\n",
        "print([1,2,3,4,5])"
      ],
      "metadata": {
        "colab": {
          "base_uri": "https://localhost:8080/"
        },
        "id": "JYezjDHA-a9X",
        "outputId": "10a2aa78-7988-4ebc-9bbf-cf06147bda2b"
      },
      "execution_count": null,
      "outputs": [
        {
          "output_type": "stream",
          "name": "stdout",
          "text": [
            "[1, 2, 3, 4, 5]\n"
          ]
        }
      ]
    },
    {
      "cell_type": "code",
      "source": [
        "#Tuple\n",
        "print((1,2,3,4,5))"
      ],
      "metadata": {
        "colab": {
          "base_uri": "https://localhost:8080/"
        },
        "id": "fY-m7GPH-gX3",
        "outputId": "e03a6e1d-a523-4156-9e55-36ae1274ae59"
      },
      "execution_count": null,
      "outputs": [
        {
          "output_type": "stream",
          "name": "stdout",
          "text": [
            "(1, 2, 3, 4, 5)\n"
          ]
        }
      ]
    },
    {
      "cell_type": "code",
      "source": [
        "#Sets\n",
        "print({1,2,3,4,5})"
      ],
      "metadata": {
        "colab": {
          "base_uri": "https://localhost:8080/"
        },
        "id": "Osmxfh2K-jAY",
        "outputId": "effd31fb-13c4-4dbb-db6f-70cf58a7dfc9"
      },
      "execution_count": null,
      "outputs": [
        {
          "output_type": "stream",
          "name": "stdout",
          "text": [
            "{1, 2, 3, 4, 5}\n"
          ]
        }
      ]
    },
    {
      "cell_type": "code",
      "source": [
        "#Dictionary\n",
        "print({'name':'Rajvardhan','Gender':'Male'})"
      ],
      "metadata": {
        "colab": {
          "base_uri": "https://localhost:8080/"
        },
        "id": "E0rHQAIg-oVz",
        "outputId": "225fce10-d4e4-4ea8-93a3-f93ad2f4678b"
      },
      "execution_count": null,
      "outputs": [
        {
          "output_type": "stream",
          "name": "stdout",
          "text": [
            "{'name': 'Rajvardhan', 'Gender': 'Male'}\n"
          ]
        }
      ]
    },
    {
      "cell_type": "code",
      "source": [
        "#type Function -> Tells datatype of any data\n",
        "type(8)"
      ],
      "metadata": {
        "colab": {
          "base_uri": "https://localhost:8080/"
        },
        "id": "BhAK_ANl-wtF",
        "outputId": "e0fa4d6c-affc-4276-89dd-a92aa697632c"
      },
      "execution_count": null,
      "outputs": [
        {
          "output_type": "execute_result",
          "data": {
            "text/plain": [
              "int"
            ]
          },
          "metadata": {},
          "execution_count": 29
        }
      ]
    },
    {
      "cell_type": "code",
      "source": [
        "type(\"Helo\")"
      ],
      "metadata": {
        "colab": {
          "base_uri": "https://localhost:8080/"
        },
        "id": "kn7rJxPaAqWm",
        "outputId": "18307169-9694-42bb-b069-7b97a56724b9"
      },
      "execution_count": null,
      "outputs": [
        {
          "output_type": "execute_result",
          "data": {
            "text/plain": [
              "str"
            ]
          },
          "metadata": {},
          "execution_count": 30
        }
      ]
    },
    {
      "cell_type": "code",
      "source": [
        "type({1,2,3})"
      ],
      "metadata": {
        "colab": {
          "base_uri": "https://localhost:8080/"
        },
        "id": "PW9zzDh4AtaT",
        "outputId": "cf1ffe13-01cd-4f9f-82c5-57221c4e5611"
      },
      "execution_count": null,
      "outputs": [
        {
          "output_type": "execute_result",
          "data": {
            "text/plain": [
              "set"
            ]
          },
          "metadata": {},
          "execution_count": 31
        }
      ]
    },
    {
      "cell_type": "code",
      "source": [
        "type(3+4j)"
      ],
      "metadata": {
        "colab": {
          "base_uri": "https://localhost:8080/"
        },
        "id": "qGL5PofGAvee",
        "outputId": "77ab5ddd-cd47-4397-a4be-133a37d64a37"
      },
      "execution_count": null,
      "outputs": [
        {
          "output_type": "execute_result",
          "data": {
            "text/plain": [
              "complex"
            ]
          },
          "metadata": {},
          "execution_count": 32
        }
      ]
    },
    {
      "cell_type": "markdown",
      "source": [
        "# Varaibles"
      ],
      "metadata": {
        "id": "-KtdJwvWHXMY"
      }
    },
    {
      "cell_type": "code",
      "source": [
        "name = \"Raj\"\n",
        "print(name)"
      ],
      "metadata": {
        "colab": {
          "base_uri": "https://localhost:8080/"
        },
        "id": "HmnG6s9yAxhl",
        "outputId": "eff72514-8b52-4cb1-b46e-fd078f4236ca"
      },
      "execution_count": null,
      "outputs": [
        {
          "output_type": "stream",
          "name": "stdout",
          "text": [
            "Raj\n"
          ]
        }
      ]
    },
    {
      "cell_type": "code",
      "source": [
        "name =5\n",
        "print(name)"
      ],
      "metadata": {
        "colab": {
          "base_uri": "https://localhost:8080/"
        },
        "id": "_0ztsHsmHjh4",
        "outputId": "60a7f8fe-a11b-4755-8c73-3c2c0263e5d7"
      },
      "execution_count": null,
      "outputs": [
        {
          "output_type": "stream",
          "name": "stdout",
          "text": [
            "5\n"
          ]
        }
      ]
    },
    {
      "cell_type": "code",
      "source": [
        "#dynamic typing\n",
        "value = 50000\n",
        "\n",
        "#Static typing\n",
        "int value = 50000"
      ],
      "metadata": {
        "id": "sw6XaHssHmnh"
      },
      "execution_count": null,
      "outputs": []
    },
    {
      "cell_type": "code",
      "source": [
        "#Dynamic binding\n",
        "name = 5\n",
        "print(name)\n",
        "name = \"Rajvardhan\"\n",
        "print(name)"
      ],
      "metadata": {
        "colab": {
          "base_uri": "https://localhost:8080/"
        },
        "id": "-c9louvtH2Rr",
        "outputId": "88fb06b3-439e-4ee8-f3de-348d7df1ba8f"
      },
      "execution_count": null,
      "outputs": [
        {
          "output_type": "stream",
          "name": "stdout",
          "text": [
            "5\n",
            "Rajvardhan\n"
          ]
        }
      ]
    },
    {
      "cell_type": "code",
      "source": [
        "#Static binding\n",
        "int c = 10\n",
        "int c = \"Raj\""
      ],
      "metadata": {
        "id": "aKsBHMIJH96z"
      },
      "execution_count": null,
      "outputs": []
    },
    {
      "cell_type": "code",
      "source": [
        "#stylish techniques of varaible declaring\n",
        "#normal\n",
        "a = 4\n",
        "b=5\n",
        "c=6\n",
        "print(a+b+c)\n",
        "print(a,b,c)"
      ],
      "metadata": {
        "colab": {
          "base_uri": "https://localhost:8080/"
        },
        "id": "xHbnnw8YInIu",
        "outputId": "90610b1e-9cc4-444e-e86d-e9fa61034bff"
      },
      "execution_count": null,
      "outputs": [
        {
          "output_type": "stream",
          "name": "stdout",
          "text": [
            "15\n",
            "4 5 6\n"
          ]
        }
      ]
    },
    {
      "cell_type": "code",
      "source": [
        "a,b,c = 1,2,3\n",
        "print(a,b,c)"
      ],
      "metadata": {
        "colab": {
          "base_uri": "https://localhost:8080/"
        },
        "id": "U01KlTBXIx4i",
        "outputId": "bf79441c-a7c7-4bfa-931b-b82c96fa02a8"
      },
      "execution_count": null,
      "outputs": [
        {
          "output_type": "stream",
          "name": "stdout",
          "text": [
            "1 2 3\n"
          ]
        }
      ]
    },
    {
      "cell_type": "code",
      "source": [
        "a=b=c=5\n",
        "print(a,b,c)"
      ],
      "metadata": {
        "colab": {
          "base_uri": "https://localhost:8080/"
        },
        "id": "1h6yQoTnI2co",
        "outputId": "a1d85ae6-eef8-4179-f0aa-ad1b714b5409"
      },
      "execution_count": null,
      "outputs": [
        {
          "output_type": "stream",
          "name": "stdout",
          "text": [
            "5 5 5\n"
          ]
        }
      ]
    },
    {
      "cell_type": "code",
      "source": [
        "# Commnets\n",
        "#This is commnt\n",
        "#This is single line commnet\n"
      ],
      "metadata": {
        "id": "sXtMdSP7I5Ss"
      },
      "execution_count": null,
      "outputs": []
    },
    {
      "cell_type": "code",
      "source": [],
      "metadata": {
        "id": "vRSit5jxNvhW"
      },
      "execution_count": null,
      "outputs": []
    },
    {
      "cell_type": "markdown",
      "source": [
        "# Keywords and Identifiers"
      ],
      "metadata": {
        "id": "vaGJRnoSN4L7"
      }
    },
    {
      "cell_type": "code",
      "source": [
        "#Keywords are reserved words\n",
        "#pythin uses interpretor\n",
        "#Interpretor = high level language to low leval language(binary)\n",
        "#Keyword dont used as normal words"
      ],
      "metadata": {
        "id": "eo2lU3ABN7AV"
      },
      "execution_count": null,
      "outputs": []
    },
    {
      "cell_type": "code",
      "source": [
        "#identifiers = Names [varaible,function,class]\n",
        "#1} Can't start with digit\n",
        "#2]Cant use keyword\n",
        "#3]Special character '_' underscore is allowed\n",
        "\n",
        "# All allowed ->name ,first_name , _, name1_king\n",
        "# Not aloowed -> 1name"
      ],
      "metadata": {
        "id": "j2ZW4UapONmM"
      },
      "execution_count": null,
      "outputs": []
    },
    {
      "cell_type": "markdown",
      "source": [
        "## Input Function"
      ],
      "metadata": {
        "id": "ufCSc_ovyXxx"
      }
    },
    {
      "cell_type": "code",
      "source": [
        "input()"
      ],
      "metadata": {
        "id": "wWR--7ouPrfh",
        "colab": {
          "base_uri": "https://localhost:8080/",
          "height": 53
        },
        "outputId": "4176317a-f6ee-4eb9-da06-fba9623316b2"
      },
      "execution_count": null,
      "outputs": [
        {
          "name": "stdout",
          "output_type": "stream",
          "text": [
            "Rajvardhan\n"
          ]
        },
        {
          "output_type": "execute_result",
          "data": {
            "text/plain": [
              "'Rajvardhan'"
            ],
            "application/vnd.google.colaboratory.intrinsic+json": {
              "type": "string"
            }
          },
          "metadata": {},
          "execution_count": 1
        }
      ]
    },
    {
      "cell_type": "code",
      "source": [
        "input(\"Enter your name \")"
      ],
      "metadata": {
        "colab": {
          "base_uri": "https://localhost:8080/",
          "height": 53
        },
        "id": "Y4zXmKh4ybhT",
        "outputId": "34580bc1-d0d8-4e55-80a9-657fd94ec7d0"
      },
      "execution_count": null,
      "outputs": [
        {
          "name": "stdout",
          "output_type": "stream",
          "text": [
            "Enter your name Rajvardhan\n"
          ]
        },
        {
          "output_type": "execute_result",
          "data": {
            "text/plain": [
              "'Rajvardhan'"
            ],
            "application/vnd.google.colaboratory.intrinsic+json": {
              "type": "string"
            }
          },
          "metadata": {},
          "execution_count": 44
        }
      ]
    },
    {
      "cell_type": "code",
      "source": [
        "# Static vs Dynamic software\n",
        "# Static = no user input -> ex]calender,clock,blog -> 1% softwares of the world\n",
        "#Dynamic = user input -> ex] Zomato,Youtube , Chrome ->99% of world sofwares are dynamic"
      ],
      "metadata": {
        "id": "0wDlRTfbyoBu"
      },
      "execution_count": null,
      "outputs": []
    },
    {
      "cell_type": "code",
      "source": [
        "#Getting inputs from user\n",
        "first = input('Enter first number ')\n",
        "second = input('Enter second number ')\n",
        "#Addting both inputs and store in varaible\n",
        "sum = int(first) + int(second)\n",
        "#display result\n",
        "print(sum)"
      ],
      "metadata": {
        "colab": {
          "base_uri": "https://localhost:8080/"
        },
        "id": "1jjgpY_uzUbS",
        "outputId": "0e4b9174-51c2-4101-a019-d5a2840e2ea6"
      },
      "execution_count": null,
      "outputs": [
        {
          "output_type": "stream",
          "name": "stdout",
          "text": [
            "Enter first number 10\n",
            "Enter second number 20\n",
            "30\n"
          ]
        }
      ]
    },
    {
      "cell_type": "code",
      "source": [
        "#Getting inputs from user\n",
        "first = int(input('Enter first number ')) # This will change the datatype becaz you are storing the variable with converted datatype\n",
        "second = int(input('Enter second number '))\n",
        "#Addting both inputs and store in varaible\n",
        "sum = int(first) + int(second)\n",
        "#display result\n",
        "print(sum)\n",
        "type(first)"
      ],
      "metadata": {
        "colab": {
          "base_uri": "https://localhost:8080/"
        },
        "id": "a6yNvnSNSjlA",
        "outputId": "27edadaf-96bb-4111-cbf1-4468f6897c60"
      },
      "execution_count": null,
      "outputs": [
        {
          "output_type": "stream",
          "name": "stdout",
          "text": [
            "Enter first number 20\n",
            "Enter second number 20\n",
            "40\n"
          ]
        },
        {
          "output_type": "execute_result",
          "data": {
            "text/plain": [
              "int"
            ]
          },
          "metadata": {},
          "execution_count": 18
        }
      ]
    },
    {
      "cell_type": "code",
      "source": [
        "# why ans is like 1020\n",
        "#beacause python bydeafult take input as \"String\"\n",
        "# why string = String is universal fomat , you can store any other type of data in string"
      ],
      "metadata": {
        "id": "x6sArnzh1tJE"
      },
      "execution_count": null,
      "outputs": []
    },
    {
      "cell_type": "markdown",
      "source": [
        "## Type conversion"
      ],
      "metadata": {
        "id": "SIaO_bU449Yw"
      }
    },
    {
      "cell_type": "code",
      "source": [
        "#Implicit and explicit\n",
        "#Type conversion -> From one data type to another"
      ],
      "metadata": {
        "id": "2zrA1g-U2APd"
      },
      "execution_count": null,
      "outputs": []
    },
    {
      "cell_type": "code",
      "source": [
        "#Implicit\n",
        "#Python selfly do conversion\n",
        "print(5 + 5.6)"
      ],
      "metadata": {
        "colab": {
          "base_uri": "https://localhost:8080/"
        },
        "id": "r4n0KQmEOciZ",
        "outputId": "7fb65c94-ffa8-49e5-d074-29241890ffcc"
      },
      "execution_count": null,
      "outputs": [
        {
          "output_type": "stream",
          "name": "stdout",
          "text": [
            "10.6\n"
          ]
        }
      ]
    },
    {
      "cell_type": "code",
      "source": [
        "print(type(5),type(5.6))"
      ],
      "metadata": {
        "colab": {
          "base_uri": "https://localhost:8080/"
        },
        "id": "6UyXcx7EOlV-",
        "outputId": "2b6b57fd-7688-4baa-8e19-17d208b11a01"
      },
      "execution_count": null,
      "outputs": [
        {
          "output_type": "stream",
          "name": "stdout",
          "text": [
            "<class 'int'> <class 'float'>\n"
          ]
        }
      ]
    },
    {
      "cell_type": "code",
      "source": [
        "print(4 +'4')"
      ],
      "metadata": {
        "colab": {
          "base_uri": "https://localhost:8080/",
          "height": 141
        },
        "id": "zGrcdnVZOqW4",
        "outputId": "6b38a85d-00a0-4704-82ad-5564f58039bf"
      },
      "execution_count": null,
      "outputs": [
        {
          "output_type": "error",
          "ename": "TypeError",
          "evalue": "unsupported operand type(s) for +: 'int' and 'str'",
          "traceback": [
            "\u001b[0;31m---------------------------------------------------------------------------\u001b[0m",
            "\u001b[0;31mTypeError\u001b[0m                                 Traceback (most recent call last)",
            "\u001b[0;32m/tmp/ipython-input-2658417670.py\u001b[0m in \u001b[0;36m<cell line: 0>\u001b[0;34m()\u001b[0m\n\u001b[0;32m----> 1\u001b[0;31m \u001b[0mprint\u001b[0m\u001b[0;34m(\u001b[0m\u001b[0;36m4\u001b[0m \u001b[0;34m+\u001b[0m\u001b[0;34m'4'\u001b[0m\u001b[0;34m)\u001b[0m\u001b[0;34m\u001b[0m\u001b[0;34m\u001b[0m\u001b[0m\n\u001b[0m",
            "\u001b[0;31mTypeError\u001b[0m: unsupported operand type(s) for +: 'int' and 'str'"
          ]
        }
      ]
    },
    {
      "cell_type": "code",
      "source": [
        "#Explicit\n",
        "#We told pyhon to please change dtype"
      ],
      "metadata": {
        "id": "aufVDKZdOySP"
      },
      "execution_count": null,
      "outputs": []
    },
    {
      "cell_type": "code",
      "source": [
        "# str -> int\n",
        "type(int('4'))"
      ],
      "metadata": {
        "colab": {
          "base_uri": "https://localhost:8080/"
        },
        "id": "p_gM_lXrO8TC",
        "outputId": "d43ce834-b85b-4dfe-e5d2-fb8925c37392"
      },
      "execution_count": null,
      "outputs": [
        {
          "output_type": "execute_result",
          "data": {
            "text/plain": [
              "int"
            ]
          },
          "metadata": {},
          "execution_count": 9
        }
      ]
    },
    {
      "cell_type": "code",
      "source": [
        "# int -> str\n",
        "type(str(4))"
      ],
      "metadata": {
        "colab": {
          "base_uri": "https://localhost:8080/"
        },
        "id": "6Gr4ywxIQAq-",
        "outputId": "de34665c-17cc-45b2-a701-3e9e4c30dc0a"
      },
      "execution_count": null,
      "outputs": [
        {
          "output_type": "execute_result",
          "data": {
            "text/plain": [
              "str"
            ]
          },
          "metadata": {},
          "execution_count": 11
        }
      ]
    },
    {
      "cell_type": "code",
      "source": [
        "# before doing explicit convertion think about it is possible or not\n",
        "# complex -> int\n",
        "\n",
        "int((4+5j))"
      ],
      "metadata": {
        "colab": {
          "base_uri": "https://localhost:8080/",
          "height": 176
        },
        "id": "BQ_4uZC7QLBc",
        "outputId": "d280e9af-9f1f-4623-cfd2-2f7a4a5c7f5f"
      },
      "execution_count": null,
      "outputs": [
        {
          "output_type": "error",
          "ename": "TypeError",
          "evalue": "int() argument must be a string, a bytes-like object or a real number, not 'complex'",
          "traceback": [
            "\u001b[0;31m---------------------------------------------------------------------------\u001b[0m",
            "\u001b[0;31mTypeError\u001b[0m                                 Traceback (most recent call last)",
            "\u001b[0;32m/tmp/ipython-input-6285869.py\u001b[0m in \u001b[0;36m<cell line: 0>\u001b[0;34m()\u001b[0m\n\u001b[1;32m      2\u001b[0m \u001b[0;31m# complex -> int\u001b[0m\u001b[0;34m\u001b[0m\u001b[0;34m\u001b[0m\u001b[0m\n\u001b[1;32m      3\u001b[0m \u001b[0;34m\u001b[0m\u001b[0m\n\u001b[0;32m----> 4\u001b[0;31m \u001b[0mint\u001b[0m\u001b[0;34m(\u001b[0m\u001b[0;34m(\u001b[0m\u001b[0;36m4\u001b[0m\u001b[0;34m+\u001b[0m\u001b[0;36m5j\u001b[0m\u001b[0;34m)\u001b[0m\u001b[0;34m)\u001b[0m\u001b[0;34m\u001b[0m\u001b[0;34m\u001b[0m\u001b[0m\n\u001b[0m",
            "\u001b[0;31mTypeError\u001b[0m: int() argument must be a string, a bytes-like object or a real number, not 'complex'"
          ]
        }
      ]
    },
    {
      "cell_type": "code",
      "source": [
        "## Python interview aspect:\n",
        "# Python type conversion dont make any changes in original data it create completely new object in memory and we perform operations on it\n",
        "#You may give the code snippet and ask about output"
      ],
      "metadata": {
        "id": "CKgqvA1SQe5o"
      },
      "execution_count": null,
      "outputs": []
    },
    {
      "cell_type": "markdown",
      "source": [
        "## **Literal**"
      ],
      "metadata": {
        "id": "EKJAfgT1TGDs"
      }
    },
    {
      "cell_type": "code",
      "source": [
        "# Literal = value of varaible\n",
        "# sum = 15 -> sum is varaible, = is operator , 15 is literal ,dtype is type of literal\n",
        "#1]\n",
        "# INT LITERAL\n",
        "a = 0b1010 # Binary literal. Represented using 0b at begining\n",
        "b = 1010 # Decimal(normal) literal.\n",
        "c = 0o1010 # Octal literal. Represented using 0o at begining\n",
        "d = 0x1010 # Hexadecimal literal. Represented using 0x at begining"
      ],
      "metadata": {
        "id": "wvibEfHeSGVQ"
      },
      "execution_count": null,
      "outputs": []
    },
    {
      "cell_type": "code",
      "source": [
        "print(a,b,c,d,sep='\\n')"
      ],
      "metadata": {
        "colab": {
          "base_uri": "https://localhost:8080/"
        },
        "id": "yVm7L9m8VpTT",
        "outputId": "5711f6a3-ca06-428d-a6f9-87f5df029c1e"
      },
      "execution_count": null,
      "outputs": [
        {
          "output_type": "stream",
          "name": "stdout",
          "text": [
            "10\n",
            "1010\n",
            "520\n",
            "4112\n"
          ]
        }
      ]
    },
    {
      "cell_type": "code",
      "source": [
        "#2]FLOAT LITERAL\n",
        "float_1 = 23.45 # Manually defining literal\n",
        "float_2 = 1.5e3 #scientifically defiend(positive) -> 1.5e2= 1.5*10^2\n",
        "float_3 = 1.5e-3 #scientifically defiend(Negative) -> 1.5e2= 1.5*10^-3"
      ],
      "metadata": {
        "id": "LDwmpTVRVrsU"
      },
      "execution_count": null,
      "outputs": []
    },
    {
      "cell_type": "code",
      "source": [
        "print(float_1,float_2,float_3)"
      ],
      "metadata": {
        "colab": {
          "base_uri": "https://localhost:8080/"
        },
        "id": "jUtamq0VWMlH",
        "outputId": "008479c0-9726-4289-8dea-e025beadbc0e"
      },
      "execution_count": null,
      "outputs": [
        {
          "output_type": "stream",
          "name": "stdout",
          "text": [
            "23.45 150.0 0.0015\n"
          ]
        }
      ]
    },
    {
      "cell_type": "code",
      "source": [
        "#3]COMPLEX LITERAL\n",
        "comp = 4+5j\n",
        "comp2 = 4.5j\n",
        "\n",
        "print(comp.real,comp.imag,sep=',')"
      ],
      "metadata": {
        "colab": {
          "base_uri": "https://localhost:8080/"
        },
        "id": "ilE-TxkmWREk",
        "outputId": "a1036ee8-1fd5-4884-c5f2-409dcafc569d"
      },
      "execution_count": null,
      "outputs": [
        {
          "output_type": "stream",
          "name": "stdout",
          "text": [
            "4.0,5.0\n"
          ]
        }
      ]
    },
    {
      "cell_type": "code",
      "source": [
        "#3]STRING LITERAL\n",
        "a = 'This is python'\n",
        "b = \"This is python\"\n",
        "c = \"\"\"This is also string \"\"\"\n",
        "d = u'\\U0001f600'\n",
        "e = r'\\n,\\t these all are raw strings'"
      ],
      "metadata": {
        "id": "QfHm6KUKWwsl"
      },
      "execution_count": null,
      "outputs": []
    },
    {
      "cell_type": "code",
      "source": [
        "print(a,b,c,d,e,sep='\\n')"
      ],
      "metadata": {
        "colab": {
          "base_uri": "https://localhost:8080/"
        },
        "id": "lgO95hUjYCHL",
        "outputId": "3a5103b8-c7cf-4c53-b742-b6565eac2ccf"
      },
      "execution_count": null,
      "outputs": [
        {
          "output_type": "stream",
          "name": "stdout",
          "text": [
            "This is python\n",
            "This is python\n",
            "This is also string \n",
            "😀\n",
            "\\n,\\t these all are raw strings\n"
          ]
        }
      ]
    },
    {
      "cell_type": "code",
      "source": [
        "#4]BOOLEAN LITERAL\n",
        "#Python treats boolean exp's as the numbers in mathematical exp's -> thismay be asked in interviws as code snippet\n",
        "A = True + 4\n",
        "B = False + 20\n",
        "print(A,B,sep='\\n')"
      ],
      "metadata": {
        "colab": {
          "base_uri": "https://localhost:8080/"
        },
        "id": "WoKkMbAdYGcO",
        "outputId": "f3ed07f8-244e-4276-c483-482a215818b0"
      },
      "execution_count": null,
      "outputs": [
        {
          "output_type": "stream",
          "name": "stdout",
          "text": [
            "5\n",
            "20\n"
          ]
        }
      ]
    },
    {
      "cell_type": "markdown",
      "source": [
        "Literal"
      ],
      "metadata": {
        "id": "DRMORuCaeVeo"
      }
    },
    {
      "cell_type": "code",
      "source": [
        "#Used to decleare varaible in python\n",
        "#As we know we cant declare varaible initially in python so assigine value 'None ' is a way to decleare a varaible"
      ],
      "metadata": {
        "id": "qyWBUWcDZI46"
      },
      "execution_count": null,
      "outputs": []
    },
    {
      "cell_type": "code",
      "source": [
        "aman = None\n",
        "b = 40\n",
        "c = 80\n",
        "print(b+c)"
      ],
      "metadata": {
        "colab": {
          "base_uri": "https://localhost:8080/"
        },
        "id": "I5Rs2QJdelLK",
        "outputId": "b8fa0260-d7bb-48ad-9626-e29baaa16b0b"
      },
      "execution_count": null,
      "outputs": [
        {
          "output_type": "stream",
          "name": "stdout",
          "text": [
            "120\n"
          ]
        }
      ]
    },
    {
      "cell_type": "code",
      "source": [],
      "metadata": {
        "id": "k3ec6Pjhey-f"
      },
      "execution_count": null,
      "outputs": []
    }
  ]
}